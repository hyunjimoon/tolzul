{
 "cells": [
  {
   "cell_type": "markdown",
   "id": "461cf37b",
   "metadata": {},
   "source": [
    "# Recitation 1 - Formulations\n",
    "In today's recitation, we will formulation logical variables for scheduling\n",
    "\n",
    "# amoon summary\n",
    "\n",
    "## 1. Polyhedral theory review\n",
    "vector in convex cone or there exist hyperplane that separates vector from convex cone\n",
    "either \\exist x >=0 \\in \\R^n s.t. {x: Ax= b} or \\exist p \\in R^m s.t. {p'b <0 <= p'A}\n",
    "either \\exist x \\in \\R^n s.t. {x: Ax <=b} or \\exist p \\in R^m s.t. {p'b < 0 = p'A}\n",
    "\n",
    "C(p) = {0}\n",
    "if extreme ray of polyhedron is 0, proj_x(P) = R^n\n",
    "\n",
    "farkas + NA technique: translate primal's inf to dual's ubd or inf (but has feas) hence ubd\n",
    "WV thm: every polyhedron can be finitely generated with conic combination of ext ray\n",
    "\n",
    "linear: $\\Sigma \\lambda_i x_i$\n",
    "affine: $\\Sigma \\lambda_i x_i, \\lambda_i \\geq 0$\n",
    "conic: $\\lambda_i \\geq 0$\n",
    "convex: $\\Sigma \\lambda_i x_i, \\Sigma \\lambda_i = 1$ (line segment)\n",
    "\n",
    "Projection P: {(x,y) \\in R^n \\cross R^p: Ax + By < b}\n",
    "proj_x(P) = {x \\in R^n, }\n",
    "primal is inf -> dual is inf or ubd but as p = 0 is feasible as we set the primal's obj function as 0. there exists p'(b-Ax) <0, pB = 0, p>0"
   ]
  },
  {
   "cell_type": "markdown",
   "id": "turkish-thought",
   "metadata": {},
   "source": [
    "## 2. Course schedule\n",
    "### Problem Statement\n",
    "\n",
    "You are planning the course schedule at the Sloan School for next Semester. To simplify the\n",
    "problem, you make the following assumptions.\n",
    "\n",
    "On the operations side, Sloan offers 30 courses. Most are offered only once, but some are repeated\n",
    "in several sessions (for a total of 55 sessions). Each session has the same schedule on Mondays/Tuesdays and Wednesdays/Thursdays; hence, we consider the problem over two days (e.g., Mondays\n",
    "and Tuesdays). Each day has six 90-minute time slots (two morning slots, three afternoon slots\n",
    "and one evening slot). Sloan has access to 30 classrooms, each with limited seating capacity.\n",
    "\n",
    "On the demand side, we consider five groups of students: (i) first-year MBA students, (ii) first-year\n",
    "MBAN students; (iii) first-year ORC SM students; (iv) first-year ORC PhD students; and (v) other\n",
    "students. We divide students into smaller cohorts, for two reasons. First, due to the large size of\n",
    "the program, first-year MBA students are divided into “oceans” of 60 students each, who take core\n",
    "courses together. Second, other students have different interests in electives, and cohorts designate\n",
    "smaller groups with similar interests (these can be calibrated from historical course selections, for\n",
    "instance). Ultimately, we consider 57 cohorts: 6 MBA cohorts of 60 students each, 7 MBAN cohorts\n",
    "of 10 students each, 2 ORC SM cohorts of 5 students each, 2 ORC PhD cohorts of 10 students\n",
    "each, and 40 cohorts of 12 students each, capturing students in other programs.\n",
    "\n",
    "You define the following inputs, decision variables and constraints:\n",
    "\n",
    "#### Sets\n",
    "\n",
    "$$\\begin{aligned}\n",
    "    \\mathcal{S}    &:   \\ \\text{set of student cohorts} \\\\\n",
    "    \\mathcal{C}    &:   \\ \\text{set of courses}         \\\\\n",
    "    \\mathcal{M}_s  &:   \\ \\text{subset of mandatory courses for cohort $s\\in\\mathcal{S}$} \\\\\n",
    "    \\mathcal{J}    &:   \\ \\text{set of course sessions} \\\\\n",
    "    \\mathcal{J}_c  &:   \\ \\text{subset of course sessions belonging to course $c\\in\\mathcal{C}$} \\\\\n",
    "    \\mathcal{D}    &:   \\ \\text{set of days} \\\\\n",
    "    \\mathcal{T}    &:   \\ \\text{set of time blocks within a day} \\\\\n",
    "    \\mathcal{R}    &:   \\ \\text{set of classrooms}  \\end{aligned}$$\n",
    "\n",
    "#### Parameters\n",
    "\n",
    "$$\\begin{aligned}\n",
    "    N_s            &:   \\ \\text{number of students in cohort $s\\in\\mathcal{S}$} \\\\\n",
    "    Q_r            &:   \\ \\text{capacity of room $r\\in\\mathcal{R}$} \\\\\n",
    "    U_c            &:   \\ \\text{number of units of course $c\\in\\mathcal{C}$} \\\\\n",
    "    m_s            &:   \\ \\text{minimum number of units of cohort $s\\in\\mathcal{S}$} \\\\\n",
    "    M_s            &:   \\ \\text{maximum number of units of cohort $s\\in\\mathcal{S}$} \\end{aligned}$$\n",
    "\n",
    "#### Decision variables\n",
    "\n",
    "$$\\begin{aligned}\n",
    "        x_{jdtr}&=  \\begin{cases}\n",
    "                    1   &   \\text{if session $j\\in\\mathcal{J}$ is offered on day $d\\in\\mathcal{D}$ at time $t\\in\\mathcal{T}$ in room $r\\in\\mathcal{R}$}  \\\\\n",
    "                    0   &   \\text{otherwise}    \\\\\n",
    "                    \\end{cases}    \\\\\n",
    "        z_{sjdt}&=  \\begin{cases}\n",
    "                    1   &   \\text{if student group $s\\in\\mathcal{S}$ takes session $j\\in\\mathcal{J}$ on day $d\\in\\mathcal{D}$ at time $t\\in\\mathcal{T}$}  \\\\\n",
    "                    0   &   \\text{otherwise}    \\\\\n",
    "                    \\end{cases}    \n",
    "    \\end{aligned}$$"
   ]
  },
  {
   "cell_type": "markdown",
   "id": "incorrect-cisco",
   "metadata": {},
   "source": [
    "# Load the Data\n",
    "\n",
    "We first need to bring in the problem data. "
   ]
  },
  {
   "cell_type": "code",
   "execution_count": 1,
   "id": "toxic-dividend",
   "metadata": {},
   "outputs": [
    {
     "name": "stderr",
     "output_type": "stream",
     "text": [
      "\u001b[32m\u001b[1m    Updating\u001b[22m\u001b[39m registry at `~/.julia/registries/General.toml`\n",
      "\u001b[32m\u001b[1m   Installed\u001b[22m\u001b[39m GR_jll ────────────────── v0.71.8+0\n",
      "\u001b[32m\u001b[1m   Installed\u001b[22m\u001b[39m HypergeometricFunctions ─ v0.3.15\n",
      "\u001b[32m\u001b[1m   Installed\u001b[22m\u001b[39m StatsFuns ─────────────── v1.3.0\n",
      "\u001b[32m\u001b[1m   Installed\u001b[22m\u001b[39m FFTW ──────────────────── v1.6.0\n",
      "\u001b[32m\u001b[1m   Installed\u001b[22m\u001b[39m MutableArithmetics ────── v1.2.3\n",
      "\u001b[32m\u001b[1m   Installed\u001b[22m\u001b[39m PDMats ────────────────── v0.11.17\n",
      "\u001b[32m\u001b[1m   Installed\u001b[22m\u001b[39m StaticArrays ──────────── v1.5.21\n",
      "\u001b[32m\u001b[1m   Installed\u001b[22m\u001b[39m IntelOpenMP_jll ───────── v2023.1.0+0\n",
      "\u001b[32m\u001b[1m   Installed\u001b[22m\u001b[39m InvertedIndices ───────── v1.3.0\n",
      "\u001b[32m\u001b[1m   Installed\u001b[22m\u001b[39m OpenSSL ───────────────── v1.3.5\n",
      "\u001b[32m\u001b[1m   Installed\u001b[22m\u001b[39m IrrationalConstants ───── v0.2.2\n",
      "\u001b[32m\u001b[1m   Installed\u001b[22m\u001b[39m JSON ──────────────────── v0.21.4\n",
      "\u001b[32m\u001b[1m   Installed\u001b[22m\u001b[39m SentinelArrays ────────── v1.3.18\n",
      "\u001b[32m\u001b[1m   Installed\u001b[22m\u001b[39m NaNMath ───────────────── v1.0.2\n",
      "\u001b[32m\u001b[1m   Installed\u001b[22m\u001b[39m SpecialFunctions ──────── v2.2.0\n",
      "\u001b[32m\u001b[1m   Installed\u001b[22m\u001b[39m TranscodingStreams ────── v0.9.12\n",
      "\u001b[32m\u001b[1m   Installed\u001b[22m\u001b[39m StatsAPI ──────────────── v1.6.0\n",
      "\u001b[32m\u001b[1m   Installed\u001b[22m\u001b[39m Compat ────────────────── v4.6.1\n",
      "\u001b[32m\u001b[1m   Installed\u001b[22m\u001b[39m MathOptInterface ──────── v1.15.0\n",
      "\u001b[32m\u001b[1m   Installed\u001b[22m\u001b[39m DiffRules ─────────────── v1.13.0\n",
      "\u001b[32m\u001b[1m   Installed\u001b[22m\u001b[39m Scratch ───────────────── v1.2.0\n",
      "\u001b[32m\u001b[1m   Installed\u001b[22m\u001b[39m Zstd_jll ──────────────── v1.5.5+0\n",
      "\u001b[32m\u001b[1m   Installed\u001b[22m\u001b[39m Parsers ───────────────── v2.5.8\n",
      "\u001b[32m\u001b[1m   Installed\u001b[22m\u001b[39m OrderedCollections ────── v1.6.0\n",
      "\u001b[32m\u001b[1m   Installed\u001b[22m\u001b[39m AbstractFFTs ──────────── v1.3.1\n",
      "\u001b[32m\u001b[1m   Installed\u001b[22m\u001b[39m LogExpFunctions ───────── v0.3.23\n",
      "\u001b[32m\u001b[1m   Installed\u001b[22m\u001b[39m JuMP ──────────────────── v1.10.0\n",
      "\u001b[32m\u001b[1m   Installed\u001b[22m\u001b[39m Adapt ─────────────────── v3.6.1\n",
      "\u001b[32m\u001b[1m   Installed\u001b[22m\u001b[39m FillArrays ────────────── v0.13.11\n",
      "\u001b[32m\u001b[1m   Installed\u001b[22m\u001b[39m QuadGK ────────────────── v2.8.2\n",
      "\u001b[32m\u001b[1m   Installed\u001b[22m\u001b[39m ForwardDiff ───────────── v0.10.35\n",
      "\u001b[32m\u001b[1m   Installed\u001b[22m\u001b[39m Latexify ──────────────── v0.15.19\n",
      "\u001b[32m\u001b[1m   Installed\u001b[22m\u001b[39m ChangesOfVariables ────── v0.1.6\n",
      "\u001b[32m\u001b[1m   Installed\u001b[22m\u001b[39m Clustering ────────────── v0.14.4\n",
      "\u001b[32m\u001b[1m   Installed\u001b[22m\u001b[39m PrettyTables ──────────── v2.2.3\n",
      "\u001b[32m\u001b[1m   Installed\u001b[22m\u001b[39m GR ────────────────────── v0.71.8\n",
      "\u001b[32m\u001b[1m    Updating\u001b[22m\u001b[39m `~/.julia/environments/v1.8/Project.toml`\n",
      " \u001b[90m [4076af6c] \u001b[39m\u001b[93m↑ JuMP v1.7.0 ⇒ v1.10.0\u001b[39m\n",
      "\u001b[32m\u001b[1m    Updating\u001b[22m\u001b[39m `~/.julia/environments/v1.8/Manifest.toml`\n",
      " \u001b[90m [621f4979] \u001b[39m\u001b[93m↑ AbstractFFTs v1.2.1 ⇒ v1.3.1\u001b[39m\n",
      " \u001b[90m [79e6a3ab] \u001b[39m\u001b[93m↑ Adapt v3.5.0 ⇒ v3.6.1\u001b[39m\n",
      " \u001b[90m [9e997f8a] \u001b[39m\u001b[93m↑ ChangesOfVariables v0.1.5 ⇒ v0.1.6\u001b[39m\n",
      "\u001b[33m⌅\u001b[39m\u001b[90m [aaaa29a8] \u001b[39m\u001b[93m↑ Clustering v0.14.3 ⇒ v0.14.4\u001b[39m\n",
      " \u001b[90m [34da2185] \u001b[39m\u001b[93m↑ Compat v4.6.0 ⇒ v4.6.1\u001b[39m\n",
      " \u001b[90m [b552c78f] \u001b[39m\u001b[93m↑ DiffRules v1.12.2 ⇒ v1.13.0\u001b[39m\n",
      " \u001b[90m [7a1cc6ca] \u001b[39m\u001b[93m↑ FFTW v1.5.0 ⇒ v1.6.0\u001b[39m\n",
      "\u001b[33m⌅\u001b[39m\u001b[90m [1a297f60] \u001b[39m\u001b[93m↑ FillArrays v0.13.7 ⇒ v0.13.11\u001b[39m\n",
      " \u001b[90m [f6369f11] \u001b[39m\u001b[93m↑ ForwardDiff v0.10.34 ⇒ v0.10.35\u001b[39m\n",
      "\u001b[33m⌅\u001b[39m\u001b[90m [28b8d3ca] \u001b[39m\u001b[93m↑ GR v0.71.7 ⇒ v0.71.8\u001b[39m\n",
      " \u001b[90m [34004b35] \u001b[39m\u001b[93m↑ HypergeometricFunctions v0.3.11 ⇒ v0.3.15\u001b[39m\n",
      " \u001b[90m [41ab1584] \u001b[39m\u001b[93m↑ InvertedIndices v1.2.0 ⇒ v1.3.0\u001b[39m\n",
      " \u001b[90m [92d709cd] \u001b[39m\u001b[93m↑ IrrationalConstants v0.1.1 ⇒ v0.2.2\u001b[39m\n",
      " \u001b[90m [682c06a0] \u001b[39m\u001b[93m↑ JSON v0.21.3 ⇒ v0.21.4\u001b[39m\n",
      " \u001b[90m [4076af6c] \u001b[39m\u001b[93m↑ JuMP v1.7.0 ⇒ v1.10.0\u001b[39m\n",
      " \u001b[90m [23fbe1c1] \u001b[39m\u001b[93m↑ Latexify v0.15.18 ⇒ v0.15.19\u001b[39m\n",
      " \u001b[90m [2ab3a3ac] \u001b[39m\u001b[93m↑ LogExpFunctions v0.3.21 ⇒ v0.3.23\u001b[39m\n",
      " \u001b[90m [b8f27783] \u001b[39m\u001b[93m↑ MathOptInterface v1.12.0 ⇒ v1.15.0\u001b[39m\n",
      " \u001b[90m [d8a4904e] \u001b[39m\u001b[93m↑ MutableArithmetics v1.2.1 ⇒ v1.2.3\u001b[39m\n",
      " \u001b[90m [77ba4419] \u001b[39m\u001b[93m↑ NaNMath v1.0.1 ⇒ v1.0.2\u001b[39m\n",
      " \u001b[90m [4d8831e6] \u001b[39m\u001b[93m↑ OpenSSL v1.3.3 ⇒ v1.3.5\u001b[39m\n",
      " \u001b[90m [bac558e1] \u001b[39m\u001b[93m↑ OrderedCollections v1.4.1 ⇒ v1.6.0\u001b[39m\n",
      " \u001b[90m [90014a1f] \u001b[39m\u001b[93m↑ PDMats v0.11.16 ⇒ v0.11.17\u001b[39m\n",
      " \u001b[90m [69de0a69] \u001b[39m\u001b[93m↑ Parsers v2.5.7 ⇒ v2.5.8\u001b[39m\n",
      " \u001b[90m [08abe8d2] \u001b[39m\u001b[93m↑ PrettyTables v2.2.2 ⇒ v2.2.3\u001b[39m\n",
      " \u001b[90m [1fd47b50] \u001b[39m\u001b[93m↑ QuadGK v2.8.1 ⇒ v2.8.2\u001b[39m\n",
      " \u001b[90m [6c6a2e73] \u001b[39m\u001b[93m↑ Scratch v1.1.1 ⇒ v1.2.0\u001b[39m\n",
      " \u001b[90m [91c51154] \u001b[39m\u001b[93m↑ SentinelArrays v1.3.17 ⇒ v1.3.18\u001b[39m\n",
      " \u001b[90m [276daf66] \u001b[39m\u001b[93m↑ SpecialFunctions v2.1.7 ⇒ v2.2.0\u001b[39m\n",
      " \u001b[90m [90137ffa] \u001b[39m\u001b[93m↑ StaticArrays v1.5.15 ⇒ v1.5.21\u001b[39m\n",
      " \u001b[90m [82ae8749] \u001b[39m\u001b[93m↑ StatsAPI v1.5.0 ⇒ v1.6.0\u001b[39m\n",
      " \u001b[90m [4c63d2b9] \u001b[39m\u001b[93m↑ StatsFuns v1.1.1 ⇒ v1.3.0\u001b[39m\n",
      " \u001b[90m [3bb67fe8] \u001b[39m\u001b[93m↑ TranscodingStreams v0.9.11 ⇒ v0.9.12\u001b[39m\n",
      "\u001b[33m⌅\u001b[39m\u001b[90m [d2c73de3] \u001b[39m\u001b[93m↑ GR_jll v0.71.7+0 ⇒ v0.71.8+0\u001b[39m\n",
      " \u001b[90m [1d5cc7b8] \u001b[39m\u001b[93m↑ IntelOpenMP_jll v2018.0.3+2 ⇒ v2023.1.0+0\u001b[39m\n",
      " \u001b[90m [3161d3a3] \u001b[39m\u001b[93m↑ Zstd_jll v1.5.4+0 ⇒ v1.5.5+0\u001b[39m\n",
      "\u001b[36m\u001b[1m        Info\u001b[22m\u001b[39m Packages marked with \u001b[33m⌅\u001b[39m have new versions available but compatibility constraints restrict them from upgrading. To see why use `status --outdated -m`\n",
      "\u001b[32m\u001b[1mPrecompiling\u001b[22m\u001b[39m project...\n",
      "\u001b[32m  ✓ \u001b[39m\u001b[90mStatsAPI\u001b[39m\n",
      "\u001b[32m  ✓ \u001b[39m\u001b[90mCompat\u001b[39m\n",
      "\u001b[32m  ✓ \u001b[39m\u001b[90mOrderedCollections\u001b[39m\n",
      "\u001b[32m  ✓ \u001b[39m\u001b[90mPDMats\u001b[39m\n",
      "\u001b[32m  ✓ \u001b[39m\u001b[90mNaNMath\u001b[39m\n",
      "\u001b[32m  ✓ \u001b[39m\u001b[90mInvertedIndices\u001b[39m\n",
      "\u001b[32m  ✓ \u001b[39m\u001b[90mSentinelArrays\u001b[39m\n",
      "\u001b[32m  ✓ \u001b[39m\u001b[90mIrrationalConstants\u001b[39m\n",
      "\u001b[32m  ✓ \u001b[39m\u001b[90mFillArrays\u001b[39m\n",
      "\u001b[32m  ✓ \u001b[39m\u001b[90mTranscodingStreams\u001b[39m\n",
      "\u001b[32m  ✓ \u001b[39m\u001b[90mScratch\u001b[39m\n",
      "\u001b[32m  ✓ \u001b[39m\u001b[90mAdapt\u001b[39m\n",
      "\u001b[32m  ✓ \u001b[39m\u001b[90mIntelOpenMP_jll\u001b[39m\n",
      "\u001b[32m  ✓ \u001b[39m\u001b[90mZstd_jll\u001b[39m\n",
      "\u001b[32m  ✓ \u001b[39mDistances\n",
      "\u001b[32m  ✓ \u001b[39m\u001b[90mFilePathsBase\u001b[39m\n",
      "\u001b[32m  ✓ \u001b[39m\u001b[90mOpenSSL\u001b[39m\n",
      "\u001b[32m  ✓ \u001b[39m\u001b[90mChainRulesCore\u001b[39m\n",
      "\u001b[32m  ✓ \u001b[39mTables\n",
      "\u001b[32m  ✓ \u001b[39m\u001b[90mWidgets\u001b[39m\n",
      "\u001b[32m  ✓ \u001b[39m\u001b[90mCodecZlib\u001b[39m\n",
      "\u001b[32m  ✓ \u001b[39m\u001b[90mMutableArithmetics\u001b[39m\n",
      "\u001b[32m  ✓ \u001b[39m\u001b[90mRelocatableFolders\u001b[39m\n",
      "\u001b[32m  ✓ \u001b[39m\u001b[90mCodecBzip2\u001b[39m\n",
      "\u001b[32m  ✓ \u001b[39m\u001b[90mDataStructures\u001b[39m\n",
      "\u001b[32m  ✓ \u001b[39m\u001b[90mMKL_jll\u001b[39m\n",
      "\u001b[32m  ✓ \u001b[39m\u001b[90mLatexify\u001b[39m\n",
      "\u001b[32m  ✓ \u001b[39m\u001b[90mChangesOfVariables\u001b[39m\n",
      "\u001b[32m  ✓ \u001b[39m\u001b[90mLibtiff_jll\u001b[39m\n",
      "\u001b[32m  ✓ \u001b[39m\u001b[90mOffsetArrays\u001b[39m\n",
      "\u001b[32m  ✓ \u001b[39m\u001b[90mAbstractFFTs\u001b[39m\n",
      "\u001b[32m  ✓ \u001b[39m\u001b[90mTableOperations\u001b[39m\n",
      "\u001b[32m  ✓ \u001b[39m\u001b[90mSortingAlgorithms\u001b[39m\n",
      "\u001b[32m  ✓ \u001b[39m\u001b[90mQuadGK\u001b[39m\n",
      "\u001b[32m  ✓ \u001b[39m\u001b[90mLogExpFunctions\u001b[39m\n",
      "\u001b[32m  ✓ \u001b[39m\u001b[90mStaticArrays\u001b[39m\n",
      "\u001b[32m  ✓ \u001b[39m\u001b[90mGR_jll\u001b[39m\n",
      "\u001b[32m  ✓ \u001b[39m\u001b[90mHTTP\u001b[39m\n",
      "\u001b[32m  ✓ \u001b[39mStatsBase\n",
      "\u001b[32m  ✓ \u001b[39m\u001b[90mPrettyTables\u001b[39m\n",
      "\u001b[32m  ✓ \u001b[39m\u001b[90mNearestNeighbors\u001b[39m\n",
      "\u001b[32m  ✓ \u001b[39m\u001b[90mFFTW\u001b[39m\n",
      "\u001b[32m  ✓ \u001b[39m\u001b[90mMultivariateStats\u001b[39m\n",
      "\u001b[32m  ✓ \u001b[39m\u001b[90mSpecialFunctions\u001b[39m\n",
      "\u001b[32m  ✓ \u001b[39m\u001b[90mInterpolations\u001b[39m\n",
      "\u001b[32m  ✓ \u001b[39m\u001b[90mDiffRules\u001b[39m\n",
      "\u001b[32m  ✓ \u001b[39m\u001b[90mClustering\u001b[39m\n",
      "\u001b[32m  ✓ \u001b[39m\u001b[90mDualNumbers\u001b[39m\n",
      "\u001b[32m  ✓ \u001b[39m\u001b[90mParsers\u001b[39m\n",
      "\u001b[32m  ✓ \u001b[39m\u001b[90mHypergeometricFunctions\u001b[39m\n",
      "\u001b[32m  ✓ \u001b[39m\u001b[90mColorVectorSpace\u001b[39m\n",
      "\u001b[32m  ✓ \u001b[39m\u001b[90mJSON\u001b[39m\n",
      "\u001b[32m  ✓ \u001b[39m\u001b[90mInlineStrings\u001b[39m\n",
      "\u001b[32m  ✓ \u001b[39m\u001b[90mWeakRefStrings\u001b[39m\n",
      "\u001b[32m  ✓ \u001b[39m\u001b[90mBenchmarkTools\u001b[39m\n",
      "\u001b[32m  ✓ \u001b[39m\u001b[90mStatsFuns\u001b[39m\n",
      "\u001b[32m  ✓ \u001b[39m\u001b[90mForwardDiff\u001b[39m\n",
      "\u001b[32m  ✓ \u001b[39m\u001b[90mGR\u001b[39m\n",
      "\u001b[32m  ✓ \u001b[39m\u001b[90mColorSchemes\u001b[39m\n",
      "\u001b[32m  ✓ \u001b[39mDistributions\n",
      "\u001b[32m  ✓ \u001b[39mCSV\n",
      "\u001b[32m  ✓ \u001b[39m\u001b[90mKernelDensity\u001b[39m\n",
      "\u001b[32m  ✓ \u001b[39m\u001b[90mPlotUtils\u001b[39m\n",
      "\u001b[32m  ✓ \u001b[39m\u001b[90mRecipesPipeline\u001b[39m\n",
      "\u001b[32m  ✓ \u001b[39m\u001b[90mPlotThemes\u001b[39m\n",
      "\u001b[32m  ✓ \u001b[39mDataFrames\n",
      "\u001b[32m  ✓ \u001b[39m\u001b[90mMathOptInterface\u001b[39m\n",
      "\u001b[32m  ✓ \u001b[39mPlots\n",
      "\u001b[32m  ✓ \u001b[39mGurobi\n",
      "\u001b[32m  ✓ \u001b[39mHiGHS\n",
      "\u001b[32m  ✓ \u001b[39mClp\n",
      "\u001b[32m  ✓ \u001b[39mStatsPlots\n",
      "\u001b[32m  ✓ \u001b[39mJuMP\n",
      "  73 dependencies successfully precompiled in 47 seconds. 135 already precompiled.\n",
      "┌ Info: We haven't cleaned this depot up for a bit, running Pkg.gc()...\n",
      "└ @ Pkg /Users/julia/.julia/scratchspaces/a66863c6-20e8-4ff4-8a62-49f30b1f605e/agent-cache/default-macmini-aarch64-4.0/build/default-macmini-aarch64-4-0/julialang/julia-release-1-dot-8/usr/share/julia/stdlib/v1.8/Pkg/src/Pkg.jl:719\n",
      "\u001b[32m\u001b[1m      Active\u001b[22m\u001b[39m manifest files: 1 found\n",
      "\u001b[32m\u001b[1m      Active\u001b[22m\u001b[39m artifact files: 82 found\n",
      "\u001b[32m\u001b[1m      Active\u001b[22m\u001b[39m scratchspaces: 1 found\n"
     ]
    },
    {
     "name": "stderr",
     "output_type": "stream",
     "text": [
      "\u001b[32m\u001b[1m     Deleted\u001b[22m\u001b[39m 6 package installations (5.663 MiB)\n",
      "\u001b[32m\u001b[1m    Building\u001b[22m\u001b[39m Gurobi → `~/.julia/scratchspaces/44cfe95a-1eb2-52ea-b672-e2afdf69b78f/82a44a86f4dc4fa4510c9d49b0a74d3d73914d5c/build.log`\n",
      "\u001b[32m\u001b[1m   Resolving\u001b[22m\u001b[39m package versions...\n",
      "\u001b[32m\u001b[1m  No Changes\u001b[22m\u001b[39m to `~/.julia/environments/v1.8/Project.toml`\n",
      "\u001b[32m\u001b[1m  No Changes\u001b[22m\u001b[39m to `~/.julia/environments/v1.8/Manifest.toml`\n"
     ]
    }
   ],
   "source": [
    "import Pkg\n",
    "Pkg.update(\"JuMP\")\n",
    "Pkg.build(\"Gurobi\")\n",
    "Pkg.add(\"Gurobi\")"
   ]
  },
  {
   "cell_type": "code",
   "execution_count": 2,
   "id": "7168994f",
   "metadata": {},
   "outputs": [],
   "source": [
    "using JuMP, Gurobi, Distances, Distributions, DataFrames, CSV"
   ]
  },
  {
   "cell_type": "markdown",
   "id": "piano-graduate",
   "metadata": {},
   "source": [
    "If you have not previously installed some or all of the packages above, do so with the code below (it may take a minute to install)."
   ]
  },
  {
   "cell_type": "code",
   "execution_count": 3,
   "id": "polar-shape",
   "metadata": {},
   "outputs": [
    {
     "name": "stderr",
     "output_type": "stream",
     "text": [
      "\u001b[32m\u001b[1m   Resolving\u001b[22m\u001b[39m package versions...\n",
      "\u001b[32m\u001b[1m  No Changes\u001b[22m\u001b[39m to `~/.julia/environments/v1.8/Project.toml`\n",
      "\u001b[32m\u001b[1m  No Changes\u001b[22m\u001b[39m to `~/.julia/environments/v1.8/Manifest.toml`\n",
      "\u001b[32m\u001b[1m   Resolving\u001b[22m\u001b[39m package versions...\n",
      "\u001b[32m\u001b[1m  No Changes\u001b[22m\u001b[39m to `~/.julia/environments/v1.8/Project.toml`\n",
      "\u001b[32m\u001b[1m  No Changes\u001b[22m\u001b[39m to `~/.julia/environments/v1.8/Manifest.toml`\n",
      "\u001b[32m\u001b[1m   Resolving\u001b[22m\u001b[39m package versions...\n",
      "\u001b[32m\u001b[1m  No Changes\u001b[22m\u001b[39m to `~/.julia/environments/v1.8/Project.toml`\n",
      "\u001b[32m\u001b[1m  No Changes\u001b[22m\u001b[39m to `~/.julia/environments/v1.8/Manifest.toml`\n",
      "\u001b[32m\u001b[1m   Resolving\u001b[22m\u001b[39m package versions...\n",
      "\u001b[32m\u001b[1m  No Changes\u001b[22m\u001b[39m to `~/.julia/environments/v1.8/Project.toml`\n",
      "\u001b[32m\u001b[1m  No Changes\u001b[22m\u001b[39m to `~/.julia/environments/v1.8/Manifest.toml`\n"
     ]
    }
   ],
   "source": [
    "using Pkg\n",
    "Pkg.add(\"Distances\")\n",
    "Pkg.add(\"Distributions\")\n",
    "Pkg.add(\"DataFrames\")\n",
    "Pkg.add(\"CSV\")\n",
    "using JuMP, Gurobi, Distances, Distributions, DataFrames, CSV"
   ]
  },
  {
   "cell_type": "markdown",
   "id": "optional-technology",
   "metadata": {},
   "source": [
    "Now we will read in the data that was included in the zip file for today's recitation."
   ]
  },
  {
   "cell_type": "code",
   "execution_count": 4,
   "id": "sixth-dryer",
   "metadata": {},
   "outputs": [],
   "source": [
    "sessions = CSV.read(\"data/sessions.csv\", DataFrame);\n",
    "courses = CSV.read(\"data/courses.csv\", DataFrame);\n",
    "rooms = CSV.read(\"data/rooms.csv\", DataFrame);\n",
    "preferences = CSV.read(\"data/preferences.csv\", DataFrame);\n",
    "cohorts = CSV.read(\"data/cohorts.csv\", DataFrame);"
   ]
  },
  {
   "cell_type": "code",
   "execution_count": 5,
   "id": "66e2424a",
   "metadata": {},
   "outputs": [
    {
     "data": {
      "text/html": [
       "<div><div style = \"float: left;\"><span>55×2 DataFrame</span></div><div style = \"float: right;\"><span style = \"font-style: italic;\">30 rows omitted</span></div><div style = \"clear: both;\"></div></div><div class = \"data-frame\" style = \"overflow-x: scroll;\"><table class = \"data-frame\" style = \"margin-bottom: 6px;\"><thead><tr class = \"header\"><th class = \"rowNumber\" style = \"font-weight: bold; text-align: right;\">Row</th><th style = \"text-align: left;\">session</th><th style = \"text-align: left;\">course</th></tr><tr class = \"subheader headerLastRow\"><th class = \"rowNumber\" style = \"font-weight: bold; text-align: right;\"></th><th title = \"Int64\" style = \"text-align: left;\">Int64</th><th title = \"Int64\" style = \"text-align: left;\">Int64</th></tr></thead><tbody><tr><td class = \"rowNumber\" style = \"font-weight: bold; text-align: right;\">1</td><td style = \"text-align: right;\">1</td><td style = \"text-align: right;\">1</td></tr><tr><td class = \"rowNumber\" style = \"font-weight: bold; text-align: right;\">2</td><td style = \"text-align: right;\">2</td><td style = \"text-align: right;\">1</td></tr><tr><td class = \"rowNumber\" style = \"font-weight: bold; text-align: right;\">3</td><td style = \"text-align: right;\">3</td><td style = \"text-align: right;\">1</td></tr><tr><td class = \"rowNumber\" style = \"font-weight: bold; text-align: right;\">4</td><td style = \"text-align: right;\">4</td><td style = \"text-align: right;\">1</td></tr><tr><td class = \"rowNumber\" style = \"font-weight: bold; text-align: right;\">5</td><td style = \"text-align: right;\">5</td><td style = \"text-align: right;\">1</td></tr><tr><td class = \"rowNumber\" style = \"font-weight: bold; text-align: right;\">6</td><td style = \"text-align: right;\">6</td><td style = \"text-align: right;\">1</td></tr><tr><td class = \"rowNumber\" style = \"font-weight: bold; text-align: right;\">7</td><td style = \"text-align: right;\">7</td><td style = \"text-align: right;\">2</td></tr><tr><td class = \"rowNumber\" style = \"font-weight: bold; text-align: right;\">8</td><td style = \"text-align: right;\">8</td><td style = \"text-align: right;\">2</td></tr><tr><td class = \"rowNumber\" style = \"font-weight: bold; text-align: right;\">9</td><td style = \"text-align: right;\">9</td><td style = \"text-align: right;\">2</td></tr><tr><td class = \"rowNumber\" style = \"font-weight: bold; text-align: right;\">10</td><td style = \"text-align: right;\">10</td><td style = \"text-align: right;\">2</td></tr><tr><td class = \"rowNumber\" style = \"font-weight: bold; text-align: right;\">11</td><td style = \"text-align: right;\">11</td><td style = \"text-align: right;\">2</td></tr><tr><td class = \"rowNumber\" style = \"font-weight: bold; text-align: right;\">12</td><td style = \"text-align: right;\">12</td><td style = \"text-align: right;\">2</td></tr><tr><td class = \"rowNumber\" style = \"font-weight: bold; text-align: right;\">13</td><td style = \"text-align: right;\">13</td><td style = \"text-align: right;\">3</td></tr><tr><td style = \"text-align: right;\">&vellip;</td><td style = \"text-align: right;\">&vellip;</td><td style = \"text-align: right;\">&vellip;</td></tr><tr><td class = \"rowNumber\" style = \"font-weight: bold; text-align: right;\">44</td><td style = \"text-align: right;\">44</td><td style = \"text-align: right;\">19</td></tr><tr><td class = \"rowNumber\" style = \"font-weight: bold; text-align: right;\">45</td><td style = \"text-align: right;\">45</td><td style = \"text-align: right;\">20</td></tr><tr><td class = \"rowNumber\" style = \"font-weight: bold; text-align: right;\">46</td><td style = \"text-align: right;\">46</td><td style = \"text-align: right;\">21</td></tr><tr><td class = \"rowNumber\" style = \"font-weight: bold; text-align: right;\">47</td><td style = \"text-align: right;\">47</td><td style = \"text-align: right;\">22</td></tr><tr><td class = \"rowNumber\" style = \"font-weight: bold; text-align: right;\">48</td><td style = \"text-align: right;\">48</td><td style = \"text-align: right;\">23</td></tr><tr><td class = \"rowNumber\" style = \"font-weight: bold; text-align: right;\">49</td><td style = \"text-align: right;\">49</td><td style = \"text-align: right;\">24</td></tr><tr><td class = \"rowNumber\" style = \"font-weight: bold; text-align: right;\">50</td><td style = \"text-align: right;\">50</td><td style = \"text-align: right;\">25</td></tr><tr><td class = \"rowNumber\" style = \"font-weight: bold; text-align: right;\">51</td><td style = \"text-align: right;\">51</td><td style = \"text-align: right;\">26</td></tr><tr><td class = \"rowNumber\" style = \"font-weight: bold; text-align: right;\">52</td><td style = \"text-align: right;\">52</td><td style = \"text-align: right;\">27</td></tr><tr><td class = \"rowNumber\" style = \"font-weight: bold; text-align: right;\">53</td><td style = \"text-align: right;\">53</td><td style = \"text-align: right;\">28</td></tr><tr><td class = \"rowNumber\" style = \"font-weight: bold; text-align: right;\">54</td><td style = \"text-align: right;\">54</td><td style = \"text-align: right;\">29</td></tr><tr><td class = \"rowNumber\" style = \"font-weight: bold; text-align: right;\">55</td><td style = \"text-align: right;\">55</td><td style = \"text-align: right;\">30</td></tr></tbody></table></div>"
      ],
      "text/latex": [
       "\\begin{tabular}{r|cc}\n",
       "\t& session & course\\\\\n",
       "\t\\hline\n",
       "\t& Int64 & Int64\\\\\n",
       "\t\\hline\n",
       "\t1 & 1 & 1 \\\\\n",
       "\t2 & 2 & 1 \\\\\n",
       "\t3 & 3 & 1 \\\\\n",
       "\t4 & 4 & 1 \\\\\n",
       "\t5 & 5 & 1 \\\\\n",
       "\t6 & 6 & 1 \\\\\n",
       "\t7 & 7 & 2 \\\\\n",
       "\t8 & 8 & 2 \\\\\n",
       "\t9 & 9 & 2 \\\\\n",
       "\t10 & 10 & 2 \\\\\n",
       "\t11 & 11 & 2 \\\\\n",
       "\t12 & 12 & 2 \\\\\n",
       "\t13 & 13 & 3 \\\\\n",
       "\t14 & 14 & 3 \\\\\n",
       "\t15 & 15 & 3 \\\\\n",
       "\t16 & 16 & 3 \\\\\n",
       "\t17 & 17 & 3 \\\\\n",
       "\t18 & 18 & 3 \\\\\n",
       "\t19 & 19 & 4 \\\\\n",
       "\t20 & 20 & 4 \\\\\n",
       "\t21 & 21 & 4 \\\\\n",
       "\t22 & 22 & 4 \\\\\n",
       "\t23 & 23 & 4 \\\\\n",
       "\t24 & 24 & 4 \\\\\n",
       "\t$\\dots$ & $\\dots$ & $\\dots$ \\\\\n",
       "\\end{tabular}\n"
      ],
      "text/plain": [
       "\u001b[1m55×2 DataFrame\u001b[0m\n",
       "\u001b[1m Row \u001b[0m│\u001b[1m session \u001b[0m\u001b[1m course \u001b[0m\n",
       "     │\u001b[90m Int64   \u001b[0m\u001b[90m Int64  \u001b[0m\n",
       "─────┼─────────────────\n",
       "   1 │       1       1\n",
       "   2 │       2       1\n",
       "   3 │       3       1\n",
       "   4 │       4       1\n",
       "   5 │       5       1\n",
       "   6 │       6       1\n",
       "   7 │       7       2\n",
       "   8 │       8       2\n",
       "  ⋮  │    ⋮       ⋮\n",
       "  49 │      49      24\n",
       "  50 │      50      25\n",
       "  51 │      51      26\n",
       "  52 │      52      27\n",
       "  53 │      53      28\n",
       "  54 │      54      29\n",
       "  55 │      55      30\n",
       "\u001b[36m        40 rows omitted\u001b[0m"
      ]
     },
     "metadata": {},
     "output_type": "display_data"
    }
   ],
   "source": [
    "sessions"
   ]
  },
  {
   "cell_type": "markdown",
   "id": "organized-convergence",
   "metadata": {},
   "source": [
    "Let's look at the data!"
   ]
  },
  {
   "cell_type": "code",
   "execution_count": 3,
   "id": "591dd2dc",
   "metadata": {},
   "outputs": [
    {
     "data": {
      "text/html": [
       "<div><div style = \"float: left;\"><span>30×3 DataFrame</span></div><div style = \"float: right;\"><span style = \"font-style: italic;\">5 rows omitted</span></div><div style = \"clear: both;\"></div></div><div class = \"data-frame\" style = \"overflow-x: scroll;\"><table class = \"data-frame\" style = \"margin-bottom: 6px;\"><thead><tr class = \"header\"><th class = \"rowNumber\" style = \"font-weight: bold; text-align: right;\">Row</th><th style = \"text-align: left;\">course</th><th style = \"text-align: left;\">units</th><th style = \"text-align: left;\">comments</th></tr><tr class = \"subheader headerLastRow\"><th class = \"rowNumber\" style = \"font-weight: bold; text-align: right;\"></th><th title = \"Int64\" style = \"text-align: left;\">Int64</th><th title = \"Int64\" style = \"text-align: left;\">Int64</th><th title = \"Union{Missing, String}\" style = \"text-align: left;\">String?</th></tr></thead><tbody><tr><td class = \"rowNumber\" style = \"font-weight: bold; text-align: right;\">1</td><td style = \"text-align: right;\">1</td><td style = \"text-align: right;\">9</td><td style = \"text-align: left;\">mandatory for cohort 1 through 6 (MBA)</td></tr><tr><td class = \"rowNumber\" style = \"font-weight: bold; text-align: right;\">2</td><td style = \"text-align: right;\">2</td><td style = \"text-align: right;\">9</td><td style = \"text-align: left;\">mandatory for cohort 1 through 6 (MBA)</td></tr><tr><td class = \"rowNumber\" style = \"font-weight: bold; text-align: right;\">3</td><td style = \"text-align: right;\">3</td><td style = \"text-align: right;\">9</td><td style = \"text-align: left;\">mandatory for cohort 1 through 6 (MBA)</td></tr><tr><td class = \"rowNumber\" style = \"font-weight: bold; text-align: right;\">4</td><td style = \"text-align: right;\">4</td><td style = \"text-align: right;\">9</td><td style = \"text-align: left;\">mandatory for cohort 1 through 6 (MBA)</td></tr><tr><td class = \"rowNumber\" style = \"font-weight: bold; text-align: right;\">5</td><td style = \"text-align: right;\">5</td><td style = \"text-align: right;\">9</td><td style = \"text-align: left;\">mandatory for cohort 1 through 6 (MBA)</td></tr><tr><td class = \"rowNumber\" style = \"font-weight: bold; text-align: right;\">6</td><td style = \"text-align: right;\">6</td><td style = \"text-align: right;\">12</td><td style = \"text-align: left;\">mandatory for cohort 7 through 13 (MBAN)</td></tr><tr><td class = \"rowNumber\" style = \"font-weight: bold; text-align: right;\">7</td><td style = \"text-align: right;\">7</td><td style = \"text-align: right;\">12</td><td style = \"text-align: left;\">mandatory for cohort 7 through 13 (MBAN)</td></tr><tr><td class = \"rowNumber\" style = \"font-weight: bold; text-align: right;\">8</td><td style = \"text-align: right;\">8</td><td style = \"text-align: right;\">9</td><td style = \"text-align: left;\">mandatory for cohort 7 through 13 (MBAN)</td></tr><tr><td class = \"rowNumber\" style = \"font-weight: bold; text-align: right;\">9</td><td style = \"text-align: right;\">9</td><td style = \"text-align: right;\">6</td><td style = \"text-align: left;\">mandatory for cohort 7 through 13 (MBAN)</td></tr><tr><td class = \"rowNumber\" style = \"font-weight: bold; text-align: right;\">10</td><td style = \"text-align: right;\">10</td><td style = \"text-align: right;\">12</td><td style = \"text-align: left;\">mandatory for cohort 14 and 15 (ORC SM)</td></tr><tr><td class = \"rowNumber\" style = \"font-weight: bold; text-align: right;\">11</td><td style = \"text-align: right;\">11</td><td style = \"text-align: right;\">12</td><td style = \"text-align: left;\">mandatory for cohort 14 and 15 (ORC SM)</td></tr><tr><td class = \"rowNumber\" style = \"font-weight: bold; text-align: right;\">12</td><td style = \"text-align: right;\">12</td><td style = \"text-align: right;\">12</td><td style = \"text-align: left;\">mandatory for cohort 16 and 17 (ORC PhD)</td></tr><tr><td class = \"rowNumber\" style = \"font-weight: bold; text-align: right;\">13</td><td style = \"text-align: right;\">13</td><td style = \"text-align: right;\">12</td><td style = \"text-align: left;\">mandatory for cohort 16 and 17 (ORC PhD)</td></tr><tr><td style = \"text-align: right;\">&vellip;</td><td style = \"text-align: right;\">&vellip;</td><td style = \"text-align: right;\">&vellip;</td><td style = \"text-align: right;\">&vellip;</td></tr><tr><td class = \"rowNumber\" style = \"font-weight: bold; text-align: right;\">19</td><td style = \"text-align: right;\">19</td><td style = \"text-align: right;\">12</td><td style = \"font-style: italic; text-align: left;\">missing</td></tr><tr><td class = \"rowNumber\" style = \"font-weight: bold; text-align: right;\">20</td><td style = \"text-align: right;\">20</td><td style = \"text-align: right;\">9</td><td style = \"font-style: italic; text-align: left;\">missing</td></tr><tr><td class = \"rowNumber\" style = \"font-weight: bold; text-align: right;\">21</td><td style = \"text-align: right;\">21</td><td style = \"text-align: right;\">12</td><td style = \"font-style: italic; text-align: left;\">missing</td></tr><tr><td class = \"rowNumber\" style = \"font-weight: bold; text-align: right;\">22</td><td style = \"text-align: right;\">22</td><td style = \"text-align: right;\">12</td><td style = \"font-style: italic; text-align: left;\">missing</td></tr><tr><td class = \"rowNumber\" style = \"font-weight: bold; text-align: right;\">23</td><td style = \"text-align: right;\">23</td><td style = \"text-align: right;\">12</td><td style = \"font-style: italic; text-align: left;\">missing</td></tr><tr><td class = \"rowNumber\" style = \"font-weight: bold; text-align: right;\">24</td><td style = \"text-align: right;\">24</td><td style = \"text-align: right;\">9</td><td style = \"font-style: italic; text-align: left;\">missing</td></tr><tr><td class = \"rowNumber\" style = \"font-weight: bold; text-align: right;\">25</td><td style = \"text-align: right;\">25</td><td style = \"text-align: right;\">12</td><td style = \"font-style: italic; text-align: left;\">missing</td></tr><tr><td class = \"rowNumber\" style = \"font-weight: bold; text-align: right;\">26</td><td style = \"text-align: right;\">26</td><td style = \"text-align: right;\">12</td><td style = \"font-style: italic; text-align: left;\">missing</td></tr><tr><td class = \"rowNumber\" style = \"font-weight: bold; text-align: right;\">27</td><td style = \"text-align: right;\">27</td><td style = \"text-align: right;\">9</td><td style = \"font-style: italic; text-align: left;\">missing</td></tr><tr><td class = \"rowNumber\" style = \"font-weight: bold; text-align: right;\">28</td><td style = \"text-align: right;\">28</td><td style = \"text-align: right;\">12</td><td style = \"font-style: italic; text-align: left;\">missing</td></tr><tr><td class = \"rowNumber\" style = \"font-weight: bold; text-align: right;\">29</td><td style = \"text-align: right;\">29</td><td style = \"text-align: right;\">12</td><td style = \"font-style: italic; text-align: left;\">missing</td></tr><tr><td class = \"rowNumber\" style = \"font-weight: bold; text-align: right;\">30</td><td style = \"text-align: right;\">30</td><td style = \"text-align: right;\">12</td><td style = \"font-style: italic; text-align: left;\">missing</td></tr></tbody></table></div>"
      ],
      "text/latex": [
       "\\begin{tabular}{r|ccc}\n",
       "\t& course & units & comments\\\\\n",
       "\t\\hline\n",
       "\t& Int64 & Int64 & String?\\\\\n",
       "\t\\hline\n",
       "\t1 & 1 & 9 & mandatory for cohort 1 through 6 (MBA) \\\\\n",
       "\t2 & 2 & 9 & mandatory for cohort 1 through 6 (MBA) \\\\\n",
       "\t3 & 3 & 9 & mandatory for cohort 1 through 6 (MBA) \\\\\n",
       "\t4 & 4 & 9 & mandatory for cohort 1 through 6 (MBA) \\\\\n",
       "\t5 & 5 & 9 & mandatory for cohort 1 through 6 (MBA) \\\\\n",
       "\t6 & 6 & 12 & mandatory for cohort 7 through 13 (MBAN) \\\\\n",
       "\t7 & 7 & 12 & mandatory for cohort 7 through 13 (MBAN) \\\\\n",
       "\t8 & 8 & 9 & mandatory for cohort 7 through 13 (MBAN) \\\\\n",
       "\t9 & 9 & 6 & mandatory for cohort 7 through 13 (MBAN) \\\\\n",
       "\t10 & 10 & 12 & mandatory for cohort 14 and 15 (ORC SM) \\\\\n",
       "\t11 & 11 & 12 & mandatory for cohort 14 and 15 (ORC SM) \\\\\n",
       "\t12 & 12 & 12 & mandatory for cohort 16 and 17 (ORC PhD) \\\\\n",
       "\t13 & 13 & 12 & mandatory for cohort 16 and 17 (ORC PhD) \\\\\n",
       "\t14 & 14 & 9 & \\emph{missing} \\\\\n",
       "\t15 & 15 & 12 & \\emph{missing} \\\\\n",
       "\t16 & 16 & 12 & \\emph{missing} \\\\\n",
       "\t17 & 17 & 12 & \\emph{missing} \\\\\n",
       "\t18 & 18 & 9 & \\emph{missing} \\\\\n",
       "\t19 & 19 & 12 & \\emph{missing} \\\\\n",
       "\t20 & 20 & 9 & \\emph{missing} \\\\\n",
       "\t21 & 21 & 12 & \\emph{missing} \\\\\n",
       "\t22 & 22 & 12 & \\emph{missing} \\\\\n",
       "\t23 & 23 & 12 & \\emph{missing} \\\\\n",
       "\t24 & 24 & 9 & \\emph{missing} \\\\\n",
       "\t$\\dots$ & $\\dots$ & $\\dots$ & $\\dots$ \\\\\n",
       "\\end{tabular}\n"
      ],
      "text/plain": [
       "\u001b[1m30×3 DataFrame\u001b[0m\n",
       "\u001b[1m Row \u001b[0m│\u001b[1m course \u001b[0m\u001b[1m units \u001b[0m\u001b[1m comments                          \u001b[0m\n",
       "     │\u001b[90m Int64  \u001b[0m\u001b[90m Int64 \u001b[0m\u001b[90m String?                           \u001b[0m\n",
       "─────┼──────────────────────────────────────────────────\n",
       "   1 │      1      9  mandatory for cohort 1 through 6…\n",
       "   2 │      2      9  mandatory for cohort 1 through 6…\n",
       "   3 │      3      9  mandatory for cohort 1 through 6…\n",
       "   4 │      4      9  mandatory for cohort 1 through 6…\n",
       "   5 │      5      9  mandatory for cohort 1 through 6…\n",
       "   6 │      6     12  mandatory for cohort 7 through 1…\n",
       "   7 │      7     12  mandatory for cohort 7 through 1…\n",
       "   8 │      8      9  mandatory for cohort 7 through 1…\n",
       "  ⋮  │   ⋮       ⋮                    ⋮\n",
       "  24 │     24      9 \u001b[90m missing                           \u001b[0m\n",
       "  25 │     25     12 \u001b[90m missing                           \u001b[0m\n",
       "  26 │     26     12 \u001b[90m missing                           \u001b[0m\n",
       "  27 │     27      9 \u001b[90m missing                           \u001b[0m\n",
       "  28 │     28     12 \u001b[90m missing                           \u001b[0m\n",
       "  29 │     29     12 \u001b[90m missing                           \u001b[0m\n",
       "  30 │     30     12 \u001b[90m missing                           \u001b[0m\n",
       "\u001b[36m                                         15 rows omitted\u001b[0m"
      ]
     },
     "metadata": {},
     "output_type": "display_data"
    }
   ],
   "source": [
    "courses"
   ]
  },
  {
   "cell_type": "code",
   "execution_count": 4,
   "id": "american-association",
   "metadata": {},
   "outputs": [
    {
     "name": "stdout",
     "output_type": "stream",
     "text": [
      "nrow(sessions) = 55\n",
      "nrow(courses) = 30\n",
      "nrow(rooms) = 20\n",
      "nrow(preferences) = 57\n",
      "nrow(cohorts) = 57\n"
     ]
    },
    {
     "data": {
      "text/html": [
       "<div><div style = \"float: left;\"><span>5×2 DataFrame</span></div><div style = \"clear: both;\"></div></div><div class = \"data-frame\" style = \"overflow-x: scroll;\"><table class = \"data-frame\" style = \"margin-bottom: 6px;\"><thead><tr class = \"header\"><th class = \"rowNumber\" style = \"font-weight: bold; text-align: right;\">Row</th><th style = \"text-align: left;\">session</th><th style = \"text-align: left;\">course</th></tr><tr class = \"subheader headerLastRow\"><th class = \"rowNumber\" style = \"font-weight: bold; text-align: right;\"></th><th title = \"Int64\" style = \"text-align: left;\">Int64</th><th title = \"Int64\" style = \"text-align: left;\">Int64</th></tr></thead><tbody><tr><td class = \"rowNumber\" style = \"font-weight: bold; text-align: right;\">1</td><td style = \"text-align: right;\">1</td><td style = \"text-align: right;\">1</td></tr><tr><td class = \"rowNumber\" style = \"font-weight: bold; text-align: right;\">2</td><td style = \"text-align: right;\">2</td><td style = \"text-align: right;\">1</td></tr><tr><td class = \"rowNumber\" style = \"font-weight: bold; text-align: right;\">3</td><td style = \"text-align: right;\">3</td><td style = \"text-align: right;\">1</td></tr><tr><td class = \"rowNumber\" style = \"font-weight: bold; text-align: right;\">4</td><td style = \"text-align: right;\">4</td><td style = \"text-align: right;\">1</td></tr><tr><td class = \"rowNumber\" style = \"font-weight: bold; text-align: right;\">5</td><td style = \"text-align: right;\">5</td><td style = \"text-align: right;\">1</td></tr></tbody></table></div>"
      ],
      "text/latex": [
       "\\begin{tabular}{r|cc}\n",
       "\t& session & course\\\\\n",
       "\t\\hline\n",
       "\t& Int64 & Int64\\\\\n",
       "\t\\hline\n",
       "\t1 & 1 & 1 \\\\\n",
       "\t2 & 2 & 1 \\\\\n",
       "\t3 & 3 & 1 \\\\\n",
       "\t4 & 4 & 1 \\\\\n",
       "\t5 & 5 & 1 \\\\\n",
       "\\end{tabular}\n"
      ],
      "text/plain": [
       "\u001b[1m5×2 DataFrame\u001b[0m\n",
       "\u001b[1m Row \u001b[0m│\u001b[1m session \u001b[0m\u001b[1m course \u001b[0m\n",
       "     │\u001b[90m Int64   \u001b[0m\u001b[90m Int64  \u001b[0m\n",
       "─────┼─────────────────\n",
       "   1 │       1       1\n",
       "   2 │       2       1\n",
       "   3 │       3       1\n",
       "   4 │       4       1\n",
       "   5 │       5       1"
      ]
     },
     "metadata": {},
     "output_type": "display_data"
    }
   ],
   "source": [
    "@show nrow(sessions)\n",
    "@show nrow(courses)\n",
    "@show nrow(rooms)\n",
    "@show nrow(preferences)\n",
    "@show nrow(cohorts)\n",
    "\n",
    "first(sessions, 5)"
   ]
  },
  {
   "cell_type": "markdown",
   "id": "identical-contractor",
   "metadata": {},
   "source": [
    "Convert the data to matrices for easy use in the optimization model"
   ]
  },
  {
   "cell_type": "code",
   "execution_count": 5,
   "id": "proud-massachusetts",
   "metadata": {},
   "outputs": [],
   "source": [
    "sessions = Matrix(sessions);\n",
    "courses = Matrix(courses);\n",
    "rooms = Matrix(rooms);\n",
    "preferences = Matrix(preferences);\n",
    "cohorts = Matrix(cohorts);"
   ]
  },
  {
   "cell_type": "code",
   "execution_count": 6,
   "id": "b635ab89",
   "metadata": {},
   "outputs": [
    {
     "data": {
      "text/html": [
       "<div><div style = \"float: left;\"><span>55×2 DataFrame</span></div><div style = \"float: right;\"><span style = \"font-style: italic;\">30 rows omitted</span></div><div style = \"clear: both;\"></div></div><div class = \"data-frame\" style = \"overflow-x: scroll;\"><table class = \"data-frame\" style = \"margin-bottom: 6px;\"><thead><tr class = \"header\"><th class = \"rowNumber\" style = \"font-weight: bold; text-align: right;\">Row</th><th style = \"text-align: left;\">session</th><th style = \"text-align: left;\">course</th></tr><tr class = \"subheader headerLastRow\"><th class = \"rowNumber\" style = \"font-weight: bold; text-align: right;\"></th><th title = \"Int64\" style = \"text-align: left;\">Int64</th><th title = \"Int64\" style = \"text-align: left;\">Int64</th></tr></thead><tbody><tr><td class = \"rowNumber\" style = \"font-weight: bold; text-align: right;\">1</td><td style = \"text-align: right;\">1</td><td style = \"text-align: right;\">1</td></tr><tr><td class = \"rowNumber\" style = \"font-weight: bold; text-align: right;\">2</td><td style = \"text-align: right;\">2</td><td style = \"text-align: right;\">1</td></tr><tr><td class = \"rowNumber\" style = \"font-weight: bold; text-align: right;\">3</td><td style = \"text-align: right;\">3</td><td style = \"text-align: right;\">1</td></tr><tr><td class = \"rowNumber\" style = \"font-weight: bold; text-align: right;\">4</td><td style = \"text-align: right;\">4</td><td style = \"text-align: right;\">1</td></tr><tr><td class = \"rowNumber\" style = \"font-weight: bold; text-align: right;\">5</td><td style = \"text-align: right;\">5</td><td style = \"text-align: right;\">1</td></tr><tr><td class = \"rowNumber\" style = \"font-weight: bold; text-align: right;\">6</td><td style = \"text-align: right;\">6</td><td style = \"text-align: right;\">1</td></tr><tr><td class = \"rowNumber\" style = \"font-weight: bold; text-align: right;\">7</td><td style = \"text-align: right;\">7</td><td style = \"text-align: right;\">2</td></tr><tr><td class = \"rowNumber\" style = \"font-weight: bold; text-align: right;\">8</td><td style = \"text-align: right;\">8</td><td style = \"text-align: right;\">2</td></tr><tr><td class = \"rowNumber\" style = \"font-weight: bold; text-align: right;\">9</td><td style = \"text-align: right;\">9</td><td style = \"text-align: right;\">2</td></tr><tr><td class = \"rowNumber\" style = \"font-weight: bold; text-align: right;\">10</td><td style = \"text-align: right;\">10</td><td style = \"text-align: right;\">2</td></tr><tr><td class = \"rowNumber\" style = \"font-weight: bold; text-align: right;\">11</td><td style = \"text-align: right;\">11</td><td style = \"text-align: right;\">2</td></tr><tr><td class = \"rowNumber\" style = \"font-weight: bold; text-align: right;\">12</td><td style = \"text-align: right;\">12</td><td style = \"text-align: right;\">2</td></tr><tr><td class = \"rowNumber\" style = \"font-weight: bold; text-align: right;\">13</td><td style = \"text-align: right;\">13</td><td style = \"text-align: right;\">3</td></tr><tr><td style = \"text-align: right;\">&vellip;</td><td style = \"text-align: right;\">&vellip;</td><td style = \"text-align: right;\">&vellip;</td></tr><tr><td class = \"rowNumber\" style = \"font-weight: bold; text-align: right;\">44</td><td style = \"text-align: right;\">44</td><td style = \"text-align: right;\">19</td></tr><tr><td class = \"rowNumber\" style = \"font-weight: bold; text-align: right;\">45</td><td style = \"text-align: right;\">45</td><td style = \"text-align: right;\">20</td></tr><tr><td class = \"rowNumber\" style = \"font-weight: bold; text-align: right;\">46</td><td style = \"text-align: right;\">46</td><td style = \"text-align: right;\">21</td></tr><tr><td class = \"rowNumber\" style = \"font-weight: bold; text-align: right;\">47</td><td style = \"text-align: right;\">47</td><td style = \"text-align: right;\">22</td></tr><tr><td class = \"rowNumber\" style = \"font-weight: bold; text-align: right;\">48</td><td style = \"text-align: right;\">48</td><td style = \"text-align: right;\">23</td></tr><tr><td class = \"rowNumber\" style = \"font-weight: bold; text-align: right;\">49</td><td style = \"text-align: right;\">49</td><td style = \"text-align: right;\">24</td></tr><tr><td class = \"rowNumber\" style = \"font-weight: bold; text-align: right;\">50</td><td style = \"text-align: right;\">50</td><td style = \"text-align: right;\">25</td></tr><tr><td class = \"rowNumber\" style = \"font-weight: bold; text-align: right;\">51</td><td style = \"text-align: right;\">51</td><td style = \"text-align: right;\">26</td></tr><tr><td class = \"rowNumber\" style = \"font-weight: bold; text-align: right;\">52</td><td style = \"text-align: right;\">52</td><td style = \"text-align: right;\">27</td></tr><tr><td class = \"rowNumber\" style = \"font-weight: bold; text-align: right;\">53</td><td style = \"text-align: right;\">53</td><td style = \"text-align: right;\">28</td></tr><tr><td class = \"rowNumber\" style = \"font-weight: bold; text-align: right;\">54</td><td style = \"text-align: right;\">54</td><td style = \"text-align: right;\">29</td></tr><tr><td class = \"rowNumber\" style = \"font-weight: bold; text-align: right;\">55</td><td style = \"text-align: right;\">55</td><td style = \"text-align: right;\">30</td></tr></tbody></table></div>"
      ],
      "text/latex": [
       "\\begin{tabular}{r|cc}\n",
       "\t& session & course\\\\\n",
       "\t\\hline\n",
       "\t& Int64 & Int64\\\\\n",
       "\t\\hline\n",
       "\t1 & 1 & 1 \\\\\n",
       "\t2 & 2 & 1 \\\\\n",
       "\t3 & 3 & 1 \\\\\n",
       "\t4 & 4 & 1 \\\\\n",
       "\t5 & 5 & 1 \\\\\n",
       "\t6 & 6 & 1 \\\\\n",
       "\t7 & 7 & 2 \\\\\n",
       "\t8 & 8 & 2 \\\\\n",
       "\t9 & 9 & 2 \\\\\n",
       "\t10 & 10 & 2 \\\\\n",
       "\t11 & 11 & 2 \\\\\n",
       "\t12 & 12 & 2 \\\\\n",
       "\t13 & 13 & 3 \\\\\n",
       "\t14 & 14 & 3 \\\\\n",
       "\t15 & 15 & 3 \\\\\n",
       "\t16 & 16 & 3 \\\\\n",
       "\t17 & 17 & 3 \\\\\n",
       "\t18 & 18 & 3 \\\\\n",
       "\t19 & 19 & 4 \\\\\n",
       "\t20 & 20 & 4 \\\\\n",
       "\t21 & 21 & 4 \\\\\n",
       "\t22 & 22 & 4 \\\\\n",
       "\t23 & 23 & 4 \\\\\n",
       "\t24 & 24 & 4 \\\\\n",
       "\t$\\dots$ & $\\dots$ & $\\dots$ \\\\\n",
       "\\end{tabular}\n"
      ],
      "text/plain": [
       "\u001b[1m55×2 DataFrame\u001b[0m\n",
       "\u001b[1m Row \u001b[0m│\u001b[1m session \u001b[0m\u001b[1m course \u001b[0m\n",
       "     │\u001b[90m Int64   \u001b[0m\u001b[90m Int64  \u001b[0m\n",
       "─────┼─────────────────\n",
       "   1 │       1       1\n",
       "   2 │       2       1\n",
       "   3 │       3       1\n",
       "   4 │       4       1\n",
       "   5 │       5       1\n",
       "   6 │       6       1\n",
       "   7 │       7       2\n",
       "   8 │       8       2\n",
       "  ⋮  │    ⋮       ⋮\n",
       "  49 │      49      24\n",
       "  50 │      50      25\n",
       "  51 │      51      26\n",
       "  52 │      52      27\n",
       "  53 │      53      28\n",
       "  54 │      54      29\n",
       "  55 │      55      30\n",
       "\u001b[36m        40 rows omitted\u001b[0m"
      ]
     },
     "metadata": {},
     "output_type": "display_data"
    }
   ],
   "source": [
    "sessions"
   ]
  },
  {
   "cell_type": "markdown",
   "id": "rental-letters",
   "metadata": {},
   "source": [
    "# Optimization Model\n",
    "\n",
    "We'll first bring in some helpful sets and notation:"
   ]
  },
  {
   "cell_type": "code",
   "execution_count": 6,
   "id": "earlier-intermediate",
   "metadata": {},
   "outputs": [],
   "source": [
    "J = size(sessions,1);\n",
    "C = size(courses,1);\n",
    "R = size(rooms,1);\n",
    "S = size(cohorts,1);\n",
    "D = 2;\n",
    "T = 6;\n",
    "Q = rooms[:,2];\n",
    "units = courses[:,2];\n",
    "N = cohorts[:,2];\n",
    "min_units = cohorts[:,3];\n",
    "max_units = cohorts[:,4];\n",
    "\n",
    "#Manually loading the mandatory courses, \n",
    "#using the third column of the courses matrix - where does 6, 14, 16 comes from?\n",
    "mandatory = zeros(S,C);\n",
    "mandatory[1:6,1:5] .= 1;\n",
    "mandatory[7:13,6:9] .= 1;\n",
    "mandatory[14:15,10:11] .= 1;\n",
    "mandatory[16:17,12:13] .= 1;"
   ]
  },
  {
   "cell_type": "markdown",
   "id": "cardiac-tracy",
   "metadata": {},
   "source": [
    "We'll now create the model using Gurobi optimizer and setting a time limit of 60 seconds"
   ]
  },
  {
   "cell_type": "code",
   "execution_count": 7,
   "id": "failing-reaction",
   "metadata": {},
   "outputs": [
    {
     "name": "stdout",
     "output_type": "stream",
     "text": [
      "Set parameter Username\n",
      "Academic license - for non-commercial use only - expires 2024-02-11\n",
      "Set parameter TimeLimit to value 60\n"
     ]
    }
   ],
   "source": [
    "model = Model(Gurobi.Optimizer)\n",
    "set_optimizer_attribute(model, \"TimeLimit\", 60);"
   ]
  },
  {
   "cell_type": "markdown",
   "id": "supported-istanbul",
   "metadata": {},
   "source": [
    "## Decision Variables"
   ]
  },
  {
   "cell_type": "code",
   "execution_count": 8,
   "id": "realistic-shirt",
   "metadata": {},
   "outputs": [],
   "source": [
    "@variable(model, z[1:S,1:J,1:D,1:T], Bin)\n",
    "@variable(model, x[1:J,1:D,1:T,1:R], Bin) ; "
   ]
  },
  {
   "cell_type": "markdown",
   "id": "frequent-plant",
   "metadata": {},
   "source": [
    "## Constraints\n",
    "\n",
    "Let's write some!\n",
    "\n",
    "#### 1. Every session $j$ is assigned to exactly one room $r$, one day $d$, and one time $t$\n",
    "\n",
    "$$\\begin{aligned}\n",
    "                &   \\quad   \\sum_{r\\in\\mathcal{R}}\\sum_{d\\in\\mathcal{D}}\\sum_{t\\in\\mathcal{T}}x_{jdtr}=1,                &  \\forall j\\in\\mathcal{J}  \\\\\n",
    "\\end{aligned}$$"
   ]
  },
  {
   "cell_type": "code",
   "execution_count": 9,
   "id": "alien-establishment",
   "metadata": {},
   "outputs": [],
   "source": [
    "@constraint(model, sessionassignment[j in 1:J], sum(x[j,d,t,r] for r in 1:R, d in 1:D, t in 1:T) == 1); #why name if not used after?"
   ]
  },
  {
   "cell_type": "markdown",
   "id": "stuck-forward",
   "metadata": {},
   "source": [
    "#### 2. Each student group $s$ must be assigned a session of all of their required courses\n",
    "$$\\begin{aligned}\n",
    "             &   \\quad   \\sum_{d\\in\\mathcal{D}}\\sum_{t\\in\\mathcal{T}}\\sum_{j\\in\\mathcal{J}_c}z_{sjdt}\\geq 1,                &  \\forall s\\in\\mathcal{S},\\ \\forall c\\in\\mathcal{M}_s   \\\\\n",
    "\\end{aligned}$$"
   ]
  },
  {
   "cell_type": "code",
   "execution_count": 12,
   "id": "interim-subsection",
   "metadata": {},
   "outputs": [],
   "source": [
    "for s in 1:S\n",
    "    mandatory_s = findall(x -> x==1, mandatory[s, :]);\n",
    "    for c in mandatory_s\n",
    "        @constraint(\n",
    "            model, \n",
    "            sum(\n",
    "                z[s,j,d,t] \n",
    "                for d in 1:D, \n",
    "                    t in 1:T, \n",
    "                    j in sessions[findall(x -> x==c,sessions[:,2]),1]\n",
    "            ) >= 1\n",
    "        )\n",
    "    end\n",
    "end"
   ]
  },
  {
   "cell_type": "markdown",
   "id": "useful-nitrogen",
   "metadata": {},
   "source": [
    "#### 3. *What is this constraint?*\n",
    "$$\\begin{aligned}\n",
    "                &   \\quad   \\sum_{j\\in\\mathcal{J}}z_{sjdt}\\leq 1,                &  \\forall s\\in\\mathcal{S},\\ \\forall d\\in\\mathcal{D},\\ \\forall t\\in\\mathcal{T}   \\\\\n",
    "\\end{aligned}$$\n",
    "\n",
    "Notation reminder: $z_{sjdt}$ assigns student group $s$ to take session $j$ on day $d$ at time $t$"
   ]
  },
  {
   "cell_type": "code",
   "execution_count": 13,
   "id": "complicated-skating",
   "metadata": {},
   "outputs": [
    {
     "ename": "ErrorException",
     "evalue": "An object of name mysteryconstraint is already attached to this model. If this\n    is intended, consider using the anonymous construction syntax, e.g.,\n    `x = @variable(model, [1:N], ...)` where the name of the object does\n    not appear inside the macro.\n\n    Alternatively, use `unregister(model, :mysteryconstraint)` to first unregister\n    the existing name from the model. Note that this will not delete the\n    object; it will just remove the reference at `model[:mysteryconstraint]`.\n",
     "output_type": "error",
     "traceback": [
      "An object of name mysteryconstraint is already attached to this model. If this\n",
      "    is intended, consider using the anonymous construction syntax, e.g.,\n",
      "    `x = @variable(model, [1:N], ...)` where the name of the object does\n",
      "    not appear inside the macro.\n",
      "\n",
      "    Alternatively, use `unregister(model, :mysteryconstraint)` to first unregister\n",
      "    the existing name from the model. Note that this will not delete the\n",
      "    object; it will just remove the reference at `model[:mysteryconstraint]`.\n",
      "\n",
      "\n",
      "Stacktrace:\n",
      " [1] error(s::String)\n",
      "   @ Base ./error.jl:35\n",
      " [2] _error_if_cannot_register(model::Model, name::Symbol)\n",
      "   @ JuMP ~/.julia/packages/JuMP/yYfHy/src/macros.jl:98\n",
      " [3] macro expansion\n",
      "   @ ~/.julia/packages/JuMP/yYfHy/src/macros.jl:128 [inlined]\n",
      " [4] top-level scope\n",
      "   @ ~/Dropbox/tolzul/BayesSD/code/pipeline/IP/Recitation 1 - Course Scheduling - Complete.ipynb:1"
     ]
    }
   ],
   "source": [
    "@constraint(\n",
    "    model, \n",
    "    mysteryconstraint[s in 1:S, d in 1:D, t in 1:T],\n",
    "    sum(z[s,j,d,t] for j in 1:J) <= 1\n",
    ");"
   ]
  },
  {
   "cell_type": "markdown",
   "id": "severe-tactics",
   "metadata": {},
   "source": [
    "<span style=\"color:red\">**ANSWER:**</span> **Each student group $s$ can be assigned to at most one session during\n",
    "each time slot (i.e. at time $t$ on day $d$).**\n"
   ]
  },
  {
   "cell_type": "markdown",
   "id": "perceived-stream",
   "metadata": {},
   "source": [
    "#### 4. *What is this constraint?*\n",
    "$$\\begin{aligned}\n",
    "                &   \\quad   \\sum_{d\\in\\mathcal{D}}\\sum_{t\\in\\mathcal{T}}\\sum_{j\\in\\mathcal{J}_c}z_{sjdt}\\leq 1,                &  \\forall s\\in\\mathcal{S},\\ \\forall c\\in\\mathcal{C}    \\\\\n",
    "\\end{aligned}$$\n",
    "\n",
    "Notation reminders: \n",
    " - $z_{sjdt}$ assigns student group $s$ to take session $j$ on day $d$ at time $t$\n",
    " - $\\mathcal{J}_c$ is the set of sessions that correspond to course $c$"
   ]
  },
  {
   "cell_type": "code",
   "execution_count": 14,
   "id": "loved-indonesia",
   "metadata": {},
   "outputs": [],
   "source": [
    "for c in 1:C\n",
    "    @constraint(\n",
    "        model, \n",
    "        [s in 1:S], #can't use c in 1:C here? \n",
    "        sum(\n",
    "            z[s,j,d,t] \n",
    "            for d in 1:D, \n",
    "                t in 1:T, \n",
    "                j in sessions[findall(x -> x==c, sessions[:,2]),1]\n",
    "        ) <= 1\n",
    "    );\n",
    "end"
   ]
  },
  {
   "cell_type": "markdown",
   "id": "proved-night",
   "metadata": {},
   "source": [
    "<span style=\"color:red\">**ANSWER:**</span> **Each student group $s$ should only be assigned at most one session of\n",
    "any course (cannot take two sessions of the same course).** "
   ]
  },
  {
   "cell_type": "markdown",
   "id": "modern-pathology",
   "metadata": {},
   "source": [
    "#### 5.  *What is this constraint?*\n",
    "\n",
    "\n",
    "$$\\begin{aligned}\n",
    "                &   \\quad   \\sum_{j\\in\\mathcal{J}}x_{jdtr}\\leq 1,                \n",
    "                &  \\forall r\\in\\mathcal{R},\\ \\forall d\\in\\mathcal{D},\\ \\forall t\\in\\mathcal{T}   \\\\\n",
    "\\end{aligned}$$\n",
    "\n",
    "Notation reminder: $x_{jdtr}$ assigns session $j$ to room $r$ on day $d$ at time $t$"
   ]
  },
  {
   "cell_type": "code",
   "execution_count": 15,
   "id": "governmental-armenia",
   "metadata": {},
   "outputs": [],
   "source": [
    "@constraint( #+ confused about the order of for loop\n",
    "    model, \n",
    "    mysteryconstraint2[r in 1:R, d in 1:D, t in 1:T], \n",
    "    sum(x[j,d,t,r] for j in 1:J) <= 1\n",
    ");"
   ]
  },
  {
   "cell_type": "markdown",
   "id": "devoted-present",
   "metadata": {},
   "source": [
    "<span style=\"color:red\">**ANSWER:**</span>  **For every room $r$, at most one session can be assigned during each time $t$ and day $d$.** "
   ]
  },
  {
   "cell_type": "code",
   "execution_count": null,
   "id": "69496af5",
   "metadata": {},
   "outputs": [],
   "source": []
  },
  {
   "cell_type": "markdown",
   "id": "prospective-teddy",
   "metadata": {},
   "source": [
    "#### 6. / 7. *What are these constraints?*\n",
    "\n",
    "$$\\begin{aligned}\n",
    "                \\sum_{d\\in\\mathcal{D}} \\sum_{t\\in\\mathcal{T}} \\sum_{c\\in\\mathcal{C}} \\sum_{j\\in\\mathcal{J}_c}  U_c z_{sjdt} \\leq M_s \\quad \\forall s \\in \\mathcal{S} \\\\\n",
    "                \\sum_{d\\in\\mathcal{D}} \\sum_{t\\in\\mathcal{T}} \\sum_{c\\in\\mathcal{C}} \\sum_{j\\in\\mathcal{J}_c}  U_c z_{sjdt} \\geq m_s \\quad \\forall s \\in \\mathcal{S} \\\\\n",
    "\\end{aligned}$$\n",
    "\n",
    "Notation reminders: \n",
    " - $U_c$ is the number of units for course $c$\n",
    " - $m_s$ and $M_s$ are the minimum and maximum number of units taken for student group $s$\n",
    " - $\\mathcal{J}_c$ is the set of sessions that correspond to course $c$"
   ]
  },
  {
   "cell_type": "code",
   "execution_count": 16,
   "id": "understanding-completion",
   "metadata": {},
   "outputs": [],
   "source": [
    "@constraint(\n",
    "    model, \n",
    "    mysteryconstraint3[s in 1:S],\n",
    "    sum(\n",
    "        units[c] * z[s,j,d,t] \n",
    "        for c in 1:C, \n",
    "            d in 1:D, \n",
    "            t in 1:T, \n",
    "            j in sessions[findall(x -> x==c,sessions[:,2]),1]\n",
    "    ) <= max_units[s]\n",
    ");\n",
    "\n",
    "@constraint(\n",
    "    model, \n",
    "    mysteryconstraint4[s in 1:S],\n",
    "    sum(\n",
    "        units[c] * z[s,j,d,t] \n",
    "        for c in 1:C, \n",
    "            d in 1:D, \n",
    "            t in 1:T, \n",
    "            j in sessions[findall(x -> x==c,sessions[:,2]),1]\n",
    "    ) >= min_units[s]\n",
    ");"
   ]
  },
  {
   "cell_type": "markdown",
   "id": "private-spring",
   "metadata": {},
   "source": [
    "<span style=\"color:red\">**ANSWER:**</span> \n",
    "\n",
    "**6. Each student cohort $s \\in \\mathcal{S}$ must take no more than their maximum numbers of units $M_s$.**\n",
    "\n",
    "**7. Each  student cohort $s \\in \\mathcal{S}$ must take no fewer than their minimum numbers of units $m_s$.** "
   ]
  },
  {
   "cell_type": "markdown",
   "id": "czech-wings",
   "metadata": {},
   "source": [
    "### We now have the following constraints:\n",
    "\n",
    "1. Every session $j$ is assigned to exactly one room $r$, one day $d$, and one time $t$\n",
    "2. Each student group $s$ must be assigned a session of all of their required courses\n",
    "3. Each student group $s$ can be assigned to at most one session during each time slot (i.e. at time $t$ on day $d$)\n",
    "4. Each student group $s$ should only be assigned at most one session of any course (cannot take two sessions of the same course)\n",
    "5. For every room $r$, at most one session can be assigned during each time $t$ and day $d$\n",
    "6. Each student cohort $s \\in \\mathcal{S}$ must take no more than their maximum numbers of units $M_s$.\n",
    "7. Each  student cohort $s \\in \\mathcal{S}$ must take no fewer than their minimum numbers of units $m_s$.\n",
    "\n",
    "### What's missing? "
   ]
  },
  {
   "cell_type": "markdown",
   "id": "conventional-account",
   "metadata": {},
   "source": [
    "<span style=\"color:red\">**ANSWER:**</span> **Linking constraints between $x$ and $z$**"
   ]
  },
  {
   "cell_type": "markdown",
   "id": "impossible-efficiency",
   "metadata": {},
   "source": [
    "#### 7. Student group $s$ can only be assigned to session $j$ on day $d$ at time $t$ if session $j$ has been assigned to a room during that time slot.\n",
    "\n",
    "*Try writing this constraint yourself, first on paper then in code below*\n",
    "\n",
    "\n",
    "\n",
    "Notation reminder: \n",
    "- $x_{jdtr}$ assigns session $j$ to room $r$ on day $d$ at time $t$\n",
    "- $z_{sjdt}$ assigns student group $s$ to take session $j$ on day $d$ at time $t$"
   ]
  },
  {
   "cell_type": "code",
   "execution_count": 17,
   "id": "downtown-dublin",
   "metadata": {},
   "outputs": [],
   "source": [
    "# ADD CONSTRAINT CODE HERE\n",
    "@constraint(\n",
    "    model, \n",
    "    xzlink[s in 1:S, j in 1:J, d in 1:D, t in 1:T], \n",
    "    z[s,j,d,t] <= sum(x[j,d,t,r] for r in 1:R)\n",
    ");"
   ]
  },
  {
   "cell_type": "markdown",
   "id": "considered-bennett",
   "metadata": {},
   "source": [
    "<span style=\"color:red\">**ANSWER:**</span> \n",
    "$$\\begin{aligned}\n",
    "                &   \\quad   z_{sjdt}\\leq \\sum_{r\\in\\mathcal{R}}x_{jdtr},               &  \\forall s\\in\\mathcal{S},\\ \\forall j\\in\\mathcal{J},\\ \\forall d\\in\\mathcal{D},\\ \\forall t\\in\\mathcal{T} \\\\\n",
    "\\end{aligned}$$"
   ]
  },
  {
   "cell_type": "markdown",
   "id": "veterinary-screen",
   "metadata": {},
   "source": [
    "#### 8.  The number of students assigned to take session $j$ must not exceed the capacity $Q_r$ of room $r$ to which session $j$ has been assigned.\n",
    "\n",
    "*Try writing this constraint yourself, first on paper then in code below*\n",
    "\n",
    "\n",
    "\n",
    "Notation reminder: \n",
    "- $x_{jdtr}$ assigns session $j$ to room $r$ on day $d$ at time $t$\n",
    "- $z_{sjdt}$ assigns student group $s$ to take session $j$ on day $d$ at time $t$\n",
    "- $Q_{r}$ is the capacity of room $r$ (in code: Q[r])\n",
    "- $N_{s}$ is the size of student group $s$ (in code: N[s])"
   ]
  },
  {
   "cell_type": "markdown",
   "id": "encouraging-booking",
   "metadata": {},
   "source": [
    "<span style=\"color:red\">**ANSWER:**</span> \n",
    "$$\\begin{aligned}\n",
    "               &   \\quad   \\sum_{s\\in\\mathcal{S}}N_sz_{sjdt}\\leq \\sum_{r\\in\\mathcal{R}}Q_rx_{jdtr},                &  \\forall j\\in\\mathcal{J},\\ \\forall d\\in\\mathcal{D},\\ \\forall t\\in\\mathcal{T}    \\\\\n",
    "\\end{aligned}$$"
   ]
  },
  {
   "cell_type": "code",
   "execution_count": 18,
   "id": "early-bulletin",
   "metadata": {},
   "outputs": [],
   "source": [
    "# ADD CONSTRAINT CODE HERE\n",
    "@constraint(\n",
    "    model, \n",
    "    roomcapacity[j in 1:J, d in 1:D, t in 1:T], \n",
    "    sum(N[s] * z[s,j,d,t] for s in 1:S) <= sum(Q[r] * x[j,d,t,r] for r in 1:R)\n",
    ");"
   ]
  },
  {
   "cell_type": "markdown",
   "id": "proof-minute",
   "metadata": {},
   "source": [
    "## Objective\n",
    "\n",
    "The objective of the problem is to create many course options but also to prioritize attractive ones. Denote by $\\mathcal{P}_s$ the subset of courses that are \"preferred\" by cohort $s\\in\\mathcal{S}$. Formulate the objective of maximizing, first, the total number of \"preferred\" courses taken across the university, and, second, the number of \"non-preferred\" courses. You can weight the number of \"non-preferred\" courses by $\\lambda=0.1$. For instance, if cohort $s\\in\\mathcal{S}$ takes 3 \"preferred\" courses and 2 \"non-preferred\" ones, it contributes $3.2N_s$ to the objective.\n",
    "\n",
    "$$\\begin{aligned}\n",
    "                \\max &  \\sum_{d\\in\\mathcal{D}} \\sum_{t\\in\\mathcal{T}} \\sum_{s\\in\\mathcal{S}} \\sum_{c\\in\\mathcal{P}_s} \\sum_{j\\in\\mathcal{J}_c}  N_s z_{sjdt} + 0.1 \\sum_{d\\in\\mathcal{D}} \\sum_{t\\in\\mathcal{T}} \\sum_{s\\in\\mathcal{S}} \\sum_{c\\in\\mathcal{C} \\setminus \\mathcal{P}_s} \\sum_{j\\in\\mathcal{J}_c}  N_s z_{sjdt} \\\\\n",
    "\\end{aligned}$$\n",
    "\n"
   ]
  },
  {
   "cell_type": "code",
   "execution_count": 19,
   "id": "imposed-english",
   "metadata": {},
   "outputs": [],
   "source": [
    "@objective(\n",
    "    model, \n",
    "    Max,\n",
    "    sum(\n",
    "        N[s] * z[s,j,d,t]\n",
    "        for s in 1:S,\n",
    "            c in findall(x -> x==1,preferences[s,:]),\n",
    "            j in sessions[findall(x -> x==c,sessions[:,2]),1],\n",
    "            d in 1:D,\n",
    "            t in 1:T\n",
    "    )\n",
    "    + 0.1 * sum(N[s]*z[s,j,d,t]\n",
    "        for s in 1:S,\n",
    "            c in findall(x -> x==0,preferences[s,:]),\n",
    "            j in sessions[findall(x -> x==c,sessions[:,2]),1],\n",
    "            d in 1:D,\n",
    "            t in 1:T\n",
    "    )\n",
    ");"
   ]
  },
  {
   "cell_type": "markdown",
   "id": "featured-drama",
   "metadata": {},
   "source": [
    "# Solve!\n",
    "\n",
    "We'll now solve the model and look at the objective value."
   ]
  },
  {
   "cell_type": "code",
   "execution_count": 20,
   "id": "distinct-james",
   "metadata": {},
   "outputs": [
    {
     "name": "stdout",
     "output_type": "stream",
     "text": [
      "Set parameter TimeLimit to value 60\n",
      "Gurobi Optimizer version 10.0.1 build v10.0.1rc0 (mac64[arm])\n",
      "\n",
      "CPU model: Apple M1\n",
      "Thread count: 8 physical cores, 8 logical processors, using up to 8 threads\n",
      "\n",
      "Optimize a model with 41215 rows, 50820 columns and 1022904 nonzeros\n",
      "Model fingerprint: 0xc165639b\n",
      "Variable types: 0 continuous, 50820 integer (50820 binary)\n",
      "Coefficient statistics:\n",
      "  Matrix range     [1e+00, 1e+02]\n",
      "  Objective range  [5e-01, 6e+01]\n",
      "  Bounds range     [0e+00, 0e+00]\n",
      "  RHS range        [1e+00, 5e+01]\n",
      "Presolve removed 1823 rows and 1296 columns\n",
      "Presolve time: 1.51s\n",
      "Presolved: 39392 rows, 49524 columns, 971334 nonzeros\n",
      "Variable types: 0 continuous, 49524 integer (49524 binary)\n",
      "Deterministic concurrent LP optimizer: primal simplex, dual simplex, and barrier\n",
      "Showing barrier log only...\n",
      "\n",
      "Root barrier log...\n",
      "\n",
      "Ordering time: 0.01s\n",
      "\n",
      "Barrier statistics:\n",
      " AA' NZ     : 1.736e+05\n",
      " Factor NZ  : 6.878e+05 (roughly 10 MB of memory)\n",
      " Factor Ops : 1.383e+08 (less than 1 second per iteration)\n",
      " Threads    : 5\n",
      "\n",
      "Barrier performed 0 iterations in 2.68 seconds (5.94 work units)\n",
      "Barrier solve interrupted - model solved by another algorithm\n",
      "\n",
      "Concurrent spin time: 0.01s\n",
      "\n",
      "Solved with dual simplex\n",
      "\n",
      "Use crossover to convert LP symmetric solution to basic solution...\n",
      "\n",
      "Root relaxation: objective 4.831300e+03, 10145 iterations, 0.57 seconds (0.86 work units)\n",
      "Total elapsed time = 5.04s\n",
      "\n",
      "    Nodes    |    Current Node    |     Objective Bounds      |     Work\n",
      " Expl Unexpl |  Obj  Depth IntInf | Incumbent    BestBd   Gap | It/Node Time\n",
      "\n",
      "     0     0 4831.30000    0   50          - 4831.30000      -     -    5s\n",
      "H    0     0                    4697.6000000 4831.30000  2.85%     -    5s\n",
      "H    0     0                    4734.8000085 4831.30000  2.04%     -    6s\n",
      "     0     0 4776.30000    0  172 4734.80001 4776.30000  0.88%     -    7s\n",
      "H    0     0                    4746.8000000 4776.30000  0.62%     -    8s\n",
      "     0     0 4776.30000    0  183 4746.80000 4776.30000  0.62%     -    9s\n",
      "     0     0 4772.90000    0  280 4746.80000 4772.90000  0.55%     -   10s\n",
      "     0     0 4772.90000    0  207 4746.80000 4772.90000  0.55%     -   12s\n",
      "     0     0 4770.80000    0  386 4746.80000 4770.80000  0.51%     -   14s\n",
      "     0     0 4770.80000    0  343 4746.80000 4770.80000  0.51%     -   18s\n",
      "     0     0 4766.30000    0  332 4746.80000 4766.30000  0.41%     -   20s\n",
      "     0     0 4766.30000    0  417 4746.80000 4766.30000  0.41%     -   21s\n",
      "     0     0 4766.30000    0  416 4746.80000 4766.30000  0.41%     -   21s\n",
      "     0     0 4766.30000    0  364 4746.80000 4766.30000  0.41%     -   23s\n",
      "     0     0 4766.30000    0  229 4746.80000 4766.30000  0.41%     -   25s\n",
      "     0     0 4766.30000    0   52 4746.80000 4766.30000  0.41%     -   27s\n",
      "     0     0 4766.30000    0  138 4746.80000 4766.30000  0.41%     -   28s\n",
      "     0     0 4766.30000    0   11 4746.80000 4766.30000  0.41%     -   30s\n",
      "     0     0 4766.30000    0   70 4746.80000 4766.30000  0.41%     -   31s\n",
      "     0     0 4766.30000    0   31 4746.80000 4766.30000  0.41%     -   32s\n",
      "     0     0 4766.30000    0  132 4746.80000 4766.30000  0.41%     -   32s\n",
      "     0     0 4766.30000    0  120 4746.80000 4766.30000  0.41%     -   33s\n",
      "     0     0 4766.30000    0   32 4746.80000 4766.30000  0.41%     -   34s\n",
      "     0     0 4765.80000    0   89 4746.80000 4765.80000  0.40%     -   34s\n",
      "     0     0 4765.00000    0   90 4746.80000 4765.00000  0.38%     -   35s\n",
      "     0     0 4765.00000    0   86 4746.80000 4765.00000  0.38%     -   35s\n",
      "     0     0 4761.60000    0  122 4746.80000 4761.60000  0.31%     -   36s\n",
      "     0     0 4761.60000    0  121 4746.80000 4761.60000  0.31%     -   36s\n",
      "     0     0 4761.40000    0  161 4746.80000 4761.40000  0.31%     -   39s\n",
      "     0     0 4761.40000    0  190 4746.80000 4761.40000  0.31%     -   39s\n",
      "     0     0 4761.00799    0  492 4746.80000 4761.00799  0.30%     -   39s\n",
      "     0     0 4761.00799    0  491 4746.80000 4761.00799  0.30%     -   39s\n",
      "     0     0 4760.95198    0  478 4746.80000 4760.95198  0.30%     -   42s\n",
      "     0     0 4760.95198    0  472 4746.80000 4760.95198  0.30%     -   42s\n",
      "     0     0 4760.94107    0  521 4746.80000 4760.94107  0.30%     -   43s\n",
      "     0     0 4760.94107    0  509 4746.80000 4760.94107  0.30%     -   44s\n",
      "     0     0 4760.77576    0  525 4746.80000 4760.77576  0.29%     -   44s\n",
      "     0     0 4760.77576    0  548 4746.80000 4760.77576  0.29%     -   47s\n",
      "     0     0 4760.70284    0  755 4746.80000 4760.70284  0.29%     -   48s\n",
      "     0     0 4760.70284    0  735 4746.80000 4760.70284  0.29%     -   48s\n",
      "     0     0 4760.70284    0  725 4746.80000 4760.70284  0.29%     -   49s\n",
      "     0     0 4759.20890    0  706 4746.80000 4759.20890  0.26%     -   50s\n",
      "     0     0 4759.07003    0  619 4746.80000 4759.07003  0.26%     -   53s\n",
      "     0     0 4759.07003    0  610 4746.80000 4759.07003  0.26%     -   53s\n",
      "     0     0 4759.07003    0  604 4746.80000 4759.07003  0.26%     -   53s\n",
      "     0     0 4757.58020    0  525 4746.80000 4757.58020  0.23%     -   55s\n",
      "     0     0 4757.58020    0  527 4746.80000 4757.58020  0.23%     -   55s\n",
      "     0     0 4754.84687    0  609 4746.80000 4754.84687  0.17%     -   56s\n",
      "     0     0 4754.84687    0  608 4746.80000 4754.84687  0.17%     -   56s\n",
      "     0     0 4754.84687    0  576 4746.80000 4754.84687  0.17%     -   57s\n",
      "     0     0 4754.84687    0  572 4746.80000 4754.84687  0.17%     -   58s\n",
      "     0     0          -    0      4746.80000 4754.84687  0.17%     -   60s\n",
      "\n",
      "Explored 1 nodes (153066 simplex iterations) in 60.01 seconds (95.82 work units)\n",
      "Thread count was 8 (of 8 available processors)\n",
      "\n",
      "Solution count 3: 4746.8 4734.8 4697.6 \n",
      "\n",
      "Time limit reached\n",
      "Best objective 4.746800000000e+03, best bound 4.754800000000e+03, gap 0.1685%\n",
      "\n",
      "User-callback calls 14338, time in user-callback 0.01 sec\n"
     ]
    }
   ],
   "source": [
    "optimize!(model)"
   ]
  },
  {
   "cell_type": "markdown",
   "id": "latest-edinburgh",
   "metadata": {},
   "source": [
    "#### Breakdown of the output:\n",
    "\n",
    "Usually Gurobi starts with solves the LP relaxation and reports back:\n",
    "\n",
    "`Root relaxation: objective 5.853400e+03, 107976 iterations, 188.45 seconds`"
   ]
  },
  {
   "cell_type": "markdown",
   "id": "isolated-times",
   "metadata": {},
   "source": [
    "Now it explores the branch-and-bound tree, and updates us as it goes along. Let's look at just the first line:\n",
    "\n",
    "    Nodes    |    Current Node    |     Objective Bounds      |     Work         \n",
    " Expl Unexpl |  Obj  Depth IntInf | Incumbent    BestBd   Gap | It/Node Time\n",
    "\n",
    "     0     0 5853.40000    0   61 2974.80000 5853.40000  96.8%     -  211s"
   ]
  },
  {
   "cell_type": "markdown",
   "id": "comprehensive-token",
   "metadata": {},
   "source": [
    "We see that the information is broken down into four main columns:\n",
    "\n",
    "**Nodes**: \n",
    "- Global node information  \n",
    "- How many branch-and-bound nodes have we looked at  \n",
    "- How many do we have in our queue  \n",
    "\n",
    "**Current Node**\n",
    "- Objective\n",
    "- Depth in the tree\n",
    "- Number of noninteger variables in the solution\n",
    "\n",
    "**Objective Bounds**\n",
    "- Best incumbent solution\n",
    "- Bound at the node (by solving the relaxation)\n",
    "- The gap between the two\n",
    "\n",
    "**Work**\n",
    "- Sverage simplex iterations per node\n",
    "- Total elapsed time"
   ]
  },
  {
   "cell_type": "markdown",
   "id": "healthy-dayton",
   "metadata": {},
   "source": [
    "As Gurobi continues to work on this problem, the log looks like this:\n",
    "\n",
    "    Nodes    |    Current Node    |     Objective Bounds      |     Work\n",
    " Expl Unexpl |  Obj  Depth IntInf | Incumbent    BestBd   Gap | It/Node Time\n",
    "\n",
    "     0     0 5853.40000    0   61 2974.80000 5853.40000  96.8%     -  211s  \n",
    "H    0     0                    5774.4000000 5853.40000  1.37%     -  211s                                                     \n",
    "H    0     0                    5783.0000000 5853.40000  1.22%     -  212s                                                     \n",
    "     0     0 5853.40000    0  941 5783.00000 5853.40000  1.22%     -  220s  \n",
    "     0     0 5853.40000    0 1089 5783.00000 5853.40000  1.22%     -  251s  \n",
    "     0     0 5853.40000    0  162 5783.00000 5853.40000  1.22%     -  275s  \n",
    "     0     0 5853.40000    0  555 5783.00000 5853.40000  1.22%     -  280s  \n",
    "     0     0 5853.40000    0  294 5783.00000 5853.40000  1.22%     -  300s  \n",
    "     0     0 5853.40000    0  871 5783.00000 5853.40000  1.22%     -  316s  \n",
    "     0     0 5853.40000    0  321 5783.00000 5853.40000  1.22%     -  338s  \n",
    "     0     0 5853.40000    0  727 5783.00000 5853.40000  1.22%     -  344s  \n",
    "     0     0 5853.40000    0  139 5783.00000 5853.40000  1.22%     -  357s  \n",
    "     0     0 5853.40000    0  128 5783.00000 5853.40000  1.22%     -  362s  \n",
    "     0     2 5853.40000    0  128 5783.00000 5853.40000  1.22%     -  388s  \n",
    "     1     4 5853.40000    1  156 5783.00000 5853.40000  1.22%  6362  408s  \n",
    "     3     8 5853.40000    2  587 5783.00000 5853.40000  1.22%  7207  473s  \n",
    "     7    14 5853.40000    3  515 5783.00000 5853.40000  1.22%  7150  525s  \n",
    "    13    20 5853.40000    4  680 5783.00000 5853.40000  1.22%  7047  559s  \n",
    "    19    26 5853.40000    5  680 5783.00000 5853.40000  1.22%  7396  575s  \n",
    "    31    38 5853.40000    6  557 5783.00000 5853.40000  1.22%  5211  600s  \n"
   ]
  },
  {
   "cell_type": "markdown",
   "id": "frozen-cornell",
   "metadata": {},
   "source": [
    "- Any time there is an 'H' in the first column, Gurobi has used a heuristic to get a new feasible solution. In other logs, you'll sometimes see a '\\*' as the first line, indicating a feasible solution was found by branching.\n",
    "- The first several lines are all exploring the root node using cutting planes\n",
    "- The last iterations begin exploring the branch and bound tree, trying to find better solutions by improving the upper and lower bounds"
   ]
  },
  {
   "cell_type": "code",
   "execution_count": 19,
   "id": "painted-criticism",
   "metadata": {},
   "outputs": [
    {
     "data": {
      "text/plain": [
       "4746.800001306979"
      ]
     },
     "metadata": {},
     "output_type": "display_data"
    }
   ],
   "source": [
    "objective_value(model)"
   ]
  },
  {
   "cell_type": "markdown",
   "id": "separated-kenya",
   "metadata": {},
   "source": [
    "# Look at the solution"
   ]
  },
  {
   "cell_type": "markdown",
   "id": "living-origin",
   "metadata": {},
   "source": [
    "We'll look at the schedule for a few groups of students."
   ]
  },
  {
   "cell_type": "code",
   "execution_count": null,
   "id": "20c7d3ae",
   "metadata": {},
   "outputs": [],
   "source": [
    "s = 1\n",
    "\n",
    "println(\"======= SCHEDULE FOR GROUP $s =======\")\n",
    "for d in 1:D, t in 1:T, j in 1:J\n",
    "    if value(z[s,j,d,t]) > 0.001\n",
    "        println(\"Session $j on day $d at time $t = \", value(z[s,j,d,t]))\n",
    "    end\n",
    "end"
   ]
  },
  {
   "cell_type": "markdown",
   "id": "typical-coating",
   "metadata": {},
   "source": [
    "# Wrap up: Decomposing the problem\n",
    "\n",
    "To increase the model's scalability and reduce computational times, we want to propose a **decomposition heuristic** that breaks\n",
    "down the problem into two (or more) smaller sub-problems. \n",
    "- What is attractive about your approach?\n",
    "- Are you guaranteed to find an optimal solution of the overall problem? \n",
    "- Are you guaranteed to find a feasible solution? \n",
    "\n",
    "*Take 5 minutes to think about how you would break up the problem into smaller decisions then \"glue\" the pieces together*"
   ]
  },
  {
   "cell_type": "markdown",
   "id": "graphic-rehabilitation",
   "metadata": {},
   "source": [
    "<span style=\"color:red\">**POSSIBLE ANSWERS:**</span> \n",
    "\n",
    "- One option is to treat the decisions one at a time. In a first step, we optimize course timetabling, ignoring classroom assignments. In a second step, we optimize the assignment of courses to classrooms, treating the course schedule as fixed. This approach mirrors the sequential decision-making processes in place in practice. It can perform relatively well if room capacities are not the main constraints. It is obviously not guaranteed to find the optimal solution, because the first step ignores the impact of timetabling on classroom assignment. It is not even guaranteed to find a feasible solution because the timetabling outcome can lead to too many courses, or too large sessions, being scheduled at the same time (note that this does not occur if some sessions are allowed to move online, which is beyond the scope of this problem). One way to restore feasibility is to limit the number of students taking courses at the same time and the number of simultaneous sessions in the first-step timetabling problem.\n",
    "- Another option is to treat one student cohort, or a set of cohorts, at a time. For instance, we could first schedule the core courses of first-year MBA students. Then, we fix the schedule of these courses, adjust the inputs accordingly (e.g., classroom availability, remaining classroom capacity) and optimize MBAN classes. We proceed until all cohorts have been considered. This solution can perform well if it starts with the larger cohorts, which exhibits less flexibility and thus impose the strongest constraints into the problem. This solution approach is again not guaranteed to find the optimal solution or even a feasible solution. Moreover, it can result in inequitable outcomes for the cohorts that are treated last."
   ]
  }
 ],
 "metadata": {
  "kernelspec": {
   "display_name": "Python 3 (ipykernel)",
   "language": "python",
   "name": "python3"
  },
  "language_info": {
   "file_extension": ".jl",
   "mimetype": "application/julia",
   "name": "julia",
   "version": "1.8.5"
  }
 },
 "nbformat": 4,
 "nbformat_minor": 5
}
