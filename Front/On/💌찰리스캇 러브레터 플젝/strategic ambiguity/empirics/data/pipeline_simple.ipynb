{
 "cells": [
  {
   "cell_type": "markdown",
   "metadata": {},
   "source": [
    "# Pipeline 간단 버전 - 무엇을 하는가?\n",
    "\n",
    "**목표**: AI/ML 스타트업의 약속 애매모호함(vagueness)이 펀딩 성공에 미치는 영향 분석"
   ]
  },
  {
   "cell_type": "code",
   "execution_count": null,
   "metadata": {},
   "outputs": [],
   "source": "import pandas as pd\nimport numpy as np\nimport sys\nfrom pathlib import Path\n\n# Setup paths\nBASE_DIR = Path(\"..\").resolve()  # Go up from 'data' to 'empirics'\nRAW_DATA_DIR = BASE_DIR / \"data\" / \"raw\"\nPROCESSED_DATA_DIR = BASE_DIR / \"data\" / \"processed\"\n\nprint(f\"Base directory: {BASE_DIR}\")\nprint(f\"Raw data directory: {RAW_DATA_DIR}\")\nprint(f\"Processed data directory: {PROCESSED_DATA_DIR}\")\n\n# Check if processed data exists (from pipeline)\nPANEL_FILE = PROCESSED_DATA_DIR / \"analysis_panel.csv\"\nif PANEL_FILE.exists():\n    print(f\"\\n✅ Found processed panel data: {PANEL_FILE}\")\n    USE_PROCESSED = True\nelse:\n    print(f\"\\n⚠️  No processed panel data found\")\n    print(f\"   Run pipeline first: python ../code/pipeline_xarray.py\")\n    USE_PROCESSED = False"
  },
  {
   "cell_type": "markdown",
   "metadata": {},
   "source": "## 데이터 로드 옵션\n\n**Option 1**: Pipeline으로 생성된 processed data 사용 (권장)  \n**Option 2**: Raw data에서 직접 로드 (파일이 있을 경우만)"
  },
  {
   "cell_type": "markdown",
   "source": "## Option 1: Pipeline으로 생성된 Analysis Panel 사용 (권장)\n\n이미 모든 전처리가 완료된 데이터를 사용합니다.",
   "metadata": {}
  },
  {
   "cell_type": "code",
   "source": "if USE_PROCESSED:\n    # Load processed analysis panel from pipeline\n    panel = pd.read_csv(PANEL_FILE)\n    \n    print(f\"✅ Loaded analysis panel: {len(panel)} observations\")\n    print(f\"   Columns: {list(panel.columns)}\")\n    print(f\"\\n   Unique companies: {panel['company_id'].nunique()}\")\n    print(f\"   Series A: {sum(panel['round'] == 'Series A')}\")\n    print(f\"   Series B: {sum(panel['round'] == 'Series B')}\")\n    \n    # Display sample\n    display_cols = ['company_id', 'round', 'vagueness', 'high_integration_cost', \n                    'funding_success', 'deal_size']\n    if 'company_name' in panel.columns:\n        display_cols.insert(1, 'company_name')\n    \n    print(\"\\n   Sample data:\")\n    print(panel[display_cols].head(10))\nelse:\n    print(\"⚠️  No processed data available. Please run pipeline first:\")\n    print(\"   cd ../code\")\n    print(\"   python pipeline_xarray.py\")",
   "metadata": {},
   "execution_count": null,
   "outputs": []
  },
  {
   "cell_type": "markdown",
   "source": "## Option 2: Raw Data에서 직접 로드 (참고용)\n\n⚠️ **이 방법은 Deal*.dat 파일이 있어야 합니다**  \n현재 데이터가 없으면 작동하지 않습니다. Pipeline 사용을 권장합니다.\n\n---\n\n### 데이터 파일 확인",
   "metadata": {}
  },
  {
   "cell_type": "code",
   "source": "# Check for raw data files\nimport os\n\nprint(\"📂 Checking raw data directory:\")\nprint(f\"   Location: {RAW_DATA_DIR}\\n\")\n\ncompany_files = list(RAW_DATA_DIR.glob(\"Company*.dat\"))\ndeal_files = list(RAW_DATA_DIR.glob(\"Deal*.dat\"))\n\nprint(f\"Company files: {len(company_files)}\")\nfor f in company_files:\n    print(f\"  - {f.name}\")\n\nprint(f\"\\nDeal files: {len(deal_files)}\")\nfor f in deal_files:\n    print(f\"  - {f.name}\")\n\nif len(deal_files) == 0:\n    print(\"\\n❌ No Deal*.dat files found!\")\n    print(\"   See DATA_REQUIREMENTS.md for instructions on getting deal data\")\nelse:\n    print(f\"\\n✅ Found {len(deal_files)} Deal file(s)\")",
   "metadata": {},
   "execution_count": null,
   "outputs": []
  },
  {
   "cell_type": "code",
   "execution_count": 10,
   "metadata": {},
   "outputs": [
    {
     "name": "stdout",
     "output_type": "stream",
     "text": [
      "전체 회사: 1000개\n",
      "AI/ML 회사: 349개\n"
     ]
    },
    {
     "data": {
      "text/html": [
       "<div>\n",
       "<style scoped>\n",
       "    .dataframe tbody tr th:only-of-type {\n",
       "        vertical-align: middle;\n",
       "    }\n",
       "\n",
       "    .dataframe tbody tr th {\n",
       "        vertical-align: top;\n",
       "    }\n",
       "\n",
       "    .dataframe thead th {\n",
       "        text-align: right;\n",
       "    }\n",
       "</style>\n",
       "<table border=\"1\" class=\"dataframe\">\n",
       "  <thead>\n",
       "    <tr style=\"text-align: right;\">\n",
       "      <th></th>\n",
       "      <th>CompanyID</th>\n",
       "      <th>CompanyName</th>\n",
       "      <th>Description</th>\n",
       "    </tr>\n",
       "  </thead>\n",
       "  <tbody>\n",
       "    <tr>\n",
       "      <th>4</th>\n",
       "      <td>100001-71</td>\n",
       "      <td>Pollo Regio</td>\n",
       "      <td>Operator of a chain of restaurants intended to...</td>\n",
       "    </tr>\n",
       "    <tr>\n",
       "      <th>6</th>\n",
       "      <td>100002-07</td>\n",
       "      <td>Pequeno Mexico Operating Company</td>\n",
       "      <td>Operator of an entertainment and commercial ve...</td>\n",
       "    </tr>\n",
       "    <tr>\n",
       "      <th>7</th>\n",
       "      <td>100002-25</td>\n",
       "      <td>Yogurtland Franchising</td>\n",
       "      <td>Operator of a chain of frozen yogurt restauran...</td>\n",
       "    </tr>\n",
       "    <tr>\n",
       "      <th>8</th>\n",
       "      <td>100002-52</td>\n",
       "      <td>Inova US</td>\n",
       "      <td>Operator of a product marketing company with a...</td>\n",
       "    </tr>\n",
       "    <tr>\n",
       "      <th>11</th>\n",
       "      <td>100002-97</td>\n",
       "      <td>Career Educational Services</td>\n",
       "      <td>Provider of vocational career training service...</td>\n",
       "    </tr>\n",
       "  </tbody>\n",
       "</table>\n",
       "</div>"
      ],
      "text/plain": [
       "    CompanyID                       CompanyName  \\\n",
       "4   100001-71                       Pollo Regio   \n",
       "6   100002-07  Pequeno Mexico Operating Company   \n",
       "7   100002-25            Yogurtland Franchising   \n",
       "8   100002-52                          Inova US   \n",
       "11  100002-97       Career Educational Services   \n",
       "\n",
       "                                          Description  \n",
       "4   Operator of a chain of restaurants intended to...  \n",
       "6   Operator of an entertainment and commercial ve...  \n",
       "7   Operator of a chain of frozen yogurt restauran...  \n",
       "8   Operator of a product marketing company with a...  \n",
       "11  Provider of vocational career training service...  "
      ]
     },
     "execution_count": 10,
     "metadata": {},
     "output_type": "execute_result"
    }
   ],
   "source": [
    "# 회사 데이터 로드\n",
    "company = pd.read_csv(f\"{DATA_DIR}/Company20230501.dat\", sep='|', nrows=SAMPLE, low_memory=False)\n",
    "print(f\"전체 회사: {len(company)}개\")\n",
    "\n",
    "# AI/ML 회사만 필터링\n",
    "ai_keywords = ['AI', 'ML', 'machine learning', 'artificial intelligence']\n",
    "company['is_ai_ml'] = company.apply(\n",
    "    lambda row: any(kw.lower() in str(row.get('Description', '')).lower() \n",
    "                    for kw in ai_keywords), axis=1\n",
    ")\n",
    "ai_companies = company[company['is_ai_ml']].copy()\n",
    "\n",
    "print(f\"AI/ML 회사: {len(ai_companies)}개\")\n",
    "ai_companies[['CompanyID', 'CompanyName', 'Description']].head()"
   ]
  },
  {
   "cell_type": "markdown",
   "metadata": {},
   "source": [
    "## Step 2: 애매모호함(Vagueness) 계산\n",
    "\n",
    "Description에서 애매한 단어 vs 명확한 단어 비율"
   ]
  },
  {
   "cell_type": "code",
   "execution_count": 11,
   "metadata": {},
   "outputs": [
    {
     "name": "stdout",
     "output_type": "stream",
     "text": [
      "평균 vagueness: 50.1\n"
     ]
    },
    {
     "data": {
      "text/html": [
       "<div>\n",
       "<style scoped>\n",
       "    .dataframe tbody tr th:only-of-type {\n",
       "        vertical-align: middle;\n",
       "    }\n",
       "\n",
       "    .dataframe tbody tr th {\n",
       "        vertical-align: top;\n",
       "    }\n",
       "\n",
       "    .dataframe thead th {\n",
       "        text-align: right;\n",
       "    }\n",
       "</style>\n",
       "<table border=\"1\" class=\"dataframe\">\n",
       "  <thead>\n",
       "    <tr style=\"text-align: right;\">\n",
       "      <th></th>\n",
       "      <th>CompanyName</th>\n",
       "      <th>vagueness</th>\n",
       "    </tr>\n",
       "  </thead>\n",
       "  <tbody>\n",
       "    <tr>\n",
       "      <th>4</th>\n",
       "      <td>Pollo Regio</td>\n",
       "      <td>50</td>\n",
       "    </tr>\n",
       "    <tr>\n",
       "      <th>6</th>\n",
       "      <td>Pequeno Mexico Operating Company</td>\n",
       "      <td>50</td>\n",
       "    </tr>\n",
       "    <tr>\n",
       "      <th>7</th>\n",
       "      <td>Yogurtland Franchising</td>\n",
       "      <td>50</td>\n",
       "    </tr>\n",
       "    <tr>\n",
       "      <th>8</th>\n",
       "      <td>Inova US</td>\n",
       "      <td>50</td>\n",
       "    </tr>\n",
       "    <tr>\n",
       "      <th>11</th>\n",
       "      <td>Career Educational Services</td>\n",
       "      <td>50</td>\n",
       "    </tr>\n",
       "    <tr>\n",
       "      <th>16</th>\n",
       "      <td>G2See</td>\n",
       "      <td>50</td>\n",
       "    </tr>\n",
       "    <tr>\n",
       "      <th>18</th>\n",
       "      <td>ChainSync</td>\n",
       "      <td>50</td>\n",
       "    </tr>\n",
       "    <tr>\n",
       "      <th>25</th>\n",
       "      <td>Craft Equipment Company</td>\n",
       "      <td>50</td>\n",
       "    </tr>\n",
       "    <tr>\n",
       "      <th>26</th>\n",
       "      <td>Woodham Mortimer</td>\n",
       "      <td>50</td>\n",
       "    </tr>\n",
       "    <tr>\n",
       "      <th>28</th>\n",
       "      <td>ImPress Systems</td>\n",
       "      <td>50</td>\n",
       "    </tr>\n",
       "  </tbody>\n",
       "</table>\n",
       "</div>"
      ],
      "text/plain": [
       "                         CompanyName  vagueness\n",
       "4                        Pollo Regio         50\n",
       "6   Pequeno Mexico Operating Company         50\n",
       "7             Yogurtland Franchising         50\n",
       "8                           Inova US         50\n",
       "11       Career Educational Services         50\n",
       "16                             G2See         50\n",
       "18                         ChainSync         50\n",
       "25           Craft Equipment Company         50\n",
       "26                  Woodham Mortimer         50\n",
       "28                   ImPress Systems         50"
      ]
     },
     "execution_count": 11,
     "metadata": {},
     "output_type": "execute_result"
    }
   ],
   "source": [
    "def calc_vagueness(desc):\n",
    "    if pd.isna(desc):\n",
    "        return 50\n",
    "    text = str(desc).lower()\n",
    "    vague_words = ['approximately', 'around', 'flexible', 'scalable']\n",
    "    precise_words = ['precisely', 'exactly', 'guaranteed', 'specific']\n",
    "    \n",
    "    vague_count = sum(text.count(w) for w in vague_words)\n",
    "    precise_count = sum(text.count(w) for w in precise_words)\n",
    "    \n",
    "    return max(0, min(100, 50 + 10 * (vague_count - precise_count)))\n",
    "\n",
    "ai_companies['vagueness'] = ai_companies['Description'].apply(calc_vagueness)\n",
    "\n",
    "print(f\"평균 vagueness: {ai_companies['vagueness'].mean():.1f}\")\n",
    "ai_companies[['CompanyName', 'vagueness']].head(10)"
   ]
  },
  {
   "cell_type": "markdown",
   "metadata": {},
   "source": [
    "## Step 3: Deal 데이터 - VC 투자 찾기"
   ]
  },
  {
   "cell_type": "code",
   "execution_count": 12,
   "metadata": {},
   "outputs": [
    {
     "name": "stdout",
     "output_type": "stream",
     "text": [
      "전체 딜: 1000개\n",
      "VC 딜: 258개\n",
      "Series A: 127개\n",
      "Series B: 100개\n"
     ]
    },
    {
     "data": {
      "text/html": [
       "<div>\n",
       "<style scoped>\n",
       "    .dataframe tbody tr th:only-of-type {\n",
       "        vertical-align: middle;\n",
       "    }\n",
       "\n",
       "    .dataframe tbody tr th {\n",
       "        vertical-align: top;\n",
       "    }\n",
       "\n",
       "    .dataframe thead th {\n",
       "        text-align: right;\n",
       "    }\n",
       "</style>\n",
       "<table border=\"1\" class=\"dataframe\">\n",
       "  <thead>\n",
       "    <tr style=\"text-align: right;\">\n",
       "      <th></th>\n",
       "      <th>CompanyID</th>\n",
       "      <th>CompanyName</th>\n",
       "      <th>round</th>\n",
       "      <th>DealSize</th>\n",
       "    </tr>\n",
       "  </thead>\n",
       "  <tbody>\n",
       "    <tr>\n",
       "      <th>3</th>\n",
       "      <td>100001-08</td>\n",
       "      <td>Zana</td>\n",
       "      <td>Series A</td>\n",
       "      <td>NaN</td>\n",
       "    </tr>\n",
       "    <tr>\n",
       "      <th>26</th>\n",
       "      <td>100003-15</td>\n",
       "      <td>Premama</td>\n",
       "      <td>Series A</td>\n",
       "      <td>1.399999</td>\n",
       "    </tr>\n",
       "    <tr>\n",
       "      <th>27</th>\n",
       "      <td>100003-15</td>\n",
       "      <td>Premama</td>\n",
       "      <td>Series B</td>\n",
       "      <td>3.250000</td>\n",
       "    </tr>\n",
       "    <tr>\n",
       "      <th>29</th>\n",
       "      <td>100003-15</td>\n",
       "      <td>Premama</td>\n",
       "      <td>Series B</td>\n",
       "      <td>3.500001</td>\n",
       "    </tr>\n",
       "    <tr>\n",
       "      <th>30</th>\n",
       "      <td>100003-15</td>\n",
       "      <td>Premama</td>\n",
       "      <td>Series B</td>\n",
       "      <td>5.900000</td>\n",
       "    </tr>\n",
       "  </tbody>\n",
       "</table>\n",
       "</div>"
      ],
      "text/plain": [
       "    CompanyID CompanyName     round  DealSize\n",
       "3   100001-08        Zana  Series A       NaN\n",
       "26  100003-15     Premama  Series A  1.399999\n",
       "27  100003-15     Premama  Series B  3.250000\n",
       "29  100003-15     Premama  Series B  3.500001\n",
       "30  100003-15     Premama  Series B  5.900000"
      ]
     },
     "execution_count": 12,
     "metadata": {},
     "output_type": "execute_result"
    }
   ],
   "source": [
    "# Deal 데이터 로드\n",
    "deal = pd.read_csv(f\"{DATA_DIR}/Deal20230501.dat\", sep='|', nrows=SAMPLE, low_memory=False)\n",
    "print(f\"전체 딜: {len(deal)}개\")\n",
    "\n",
    "# VC 투자만 필터링\n",
    "vc_deals = deal[deal['DealType'].str.contains('VC', case=False, na=False)].copy()\n",
    "print(f\"VC 딜: {len(vc_deals)}개\")\n",
    "\n",
    "# Series A (초기) vs Series B (후기) 분류\n",
    "early_rounds = ['1st Round', 'Seed Round', 'Angel']\n",
    "later_rounds = ['2nd Round', '3rd Round', '4th Round']\n",
    "\n",
    "vc_deals['round'] = np.where(\n",
    "    vc_deals['VCRound'].isin(early_rounds), 'Series A',\n",
    "    np.where(vc_deals['VCRound'].isin(later_rounds), 'Series B', None)\n",
    ")\n",
    "\n",
    "vc_deals = vc_deals[vc_deals['round'].notna()]\n",
    "print(f\"Series A: {sum(vc_deals['round'] == 'Series A')}개\")\n",
    "print(f\"Series B: {sum(vc_deals['round'] == 'Series B')}개\")\n",
    "\n",
    "vc_deals[['CompanyID', 'CompanyName', 'round', 'DealSize']].head()"
   ]
  },
  {
   "cell_type": "markdown",
   "metadata": {},
   "source": [
    "## Step 4: 펀딩 성공 정의"
   ]
  },
  {
   "cell_type": "code",
   "execution_count": 13,
   "metadata": {},
   "outputs": [
    {
     "name": "stdout",
     "output_type": "stream",
     "text": [
      "성공한 딜: 123개\n",
      "성공률: 54.2%\n"
     ]
    }
   ],
   "source": [
    "# 성공 = 딜 완료 & 금액 > 0\n",
    "vc_deals['DealSize'] = pd.to_numeric(vc_deals['DealSize'], errors='coerce').fillna(0)\n",
    "vc_deals['funding_success'] = (\n",
    "    (vc_deals['DealSize'] > 0) & \n",
    "    (vc_deals['DealStatus'].str.contains('Completed', case=False, na=False))\n",
    ").astype(int)\n",
    "\n",
    "print(f\"성공한 딜: {vc_deals['funding_success'].sum()}개\")\n",
    "print(f\"성공률: {vc_deals['funding_success'].mean():.1%}\")"
   ]
  },
  {
   "cell_type": "markdown",
   "metadata": {},
   "source": [
    "## Step 5: Company + Deal 조인 - 분석 패널 생성"
   ]
  },
  {
   "cell_type": "code",
   "execution_count": 14,
   "metadata": {},
   "outputs": [
    {
     "name": "stdout",
     "output_type": "stream",
     "text": [
      "\n",
      "분석 패널: 65개 관측치\n",
      "Series A: 28개\n",
      "Series B: 37개\n"
     ]
    },
    {
     "data": {
      "text/html": [
       "<div>\n",
       "<style scoped>\n",
       "    .dataframe tbody tr th:only-of-type {\n",
       "        vertical-align: middle;\n",
       "    }\n",
       "\n",
       "    .dataframe tbody tr th {\n",
       "        vertical-align: top;\n",
       "    }\n",
       "\n",
       "    .dataframe thead th {\n",
       "        text-align: right;\n",
       "    }\n",
       "</style>\n",
       "<table border=\"1\" class=\"dataframe\">\n",
       "  <thead>\n",
       "    <tr style=\"text-align: right;\">\n",
       "      <th></th>\n",
       "      <th>CompanyName</th>\n",
       "      <th>round</th>\n",
       "      <th>vagueness</th>\n",
       "      <th>funding_success</th>\n",
       "    </tr>\n",
       "  </thead>\n",
       "  <tbody>\n",
       "    <tr>\n",
       "      <th>39</th>\n",
       "      <td>G2See</td>\n",
       "      <td>Series A</td>\n",
       "      <td>50</td>\n",
       "      <td>0</td>\n",
       "    </tr>\n",
       "    <tr>\n",
       "      <th>67</th>\n",
       "      <td>ImPress Systems</td>\n",
       "      <td>Series A</td>\n",
       "      <td>50</td>\n",
       "      <td>1</td>\n",
       "    </tr>\n",
       "    <tr>\n",
       "      <th>127</th>\n",
       "      <td>UOKO</td>\n",
       "      <td>Series A</td>\n",
       "      <td>50</td>\n",
       "      <td>1</td>\n",
       "    </tr>\n",
       "    <tr>\n",
       "      <th>128</th>\n",
       "      <td>UOKO</td>\n",
       "      <td>Series B</td>\n",
       "      <td>50</td>\n",
       "      <td>1</td>\n",
       "    </tr>\n",
       "    <tr>\n",
       "      <th>129</th>\n",
       "      <td>UOKO</td>\n",
       "      <td>Series B</td>\n",
       "      <td>50</td>\n",
       "      <td>1</td>\n",
       "    </tr>\n",
       "    <tr>\n",
       "      <th>130</th>\n",
       "      <td>UOKO</td>\n",
       "      <td>Series B</td>\n",
       "      <td>50</td>\n",
       "      <td>1</td>\n",
       "    </tr>\n",
       "    <tr>\n",
       "      <th>194</th>\n",
       "      <td>Hyakusenrenma</td>\n",
       "      <td>Series B</td>\n",
       "      <td>50</td>\n",
       "      <td>0</td>\n",
       "    </tr>\n",
       "    <tr>\n",
       "      <th>195</th>\n",
       "      <td>Hyakusenrenma</td>\n",
       "      <td>Series B</td>\n",
       "      <td>50</td>\n",
       "      <td>1</td>\n",
       "    </tr>\n",
       "    <tr>\n",
       "      <th>196</th>\n",
       "      <td>Hyakusenrenma</td>\n",
       "      <td>Series B</td>\n",
       "      <td>50</td>\n",
       "      <td>1</td>\n",
       "    </tr>\n",
       "    <tr>\n",
       "      <th>207</th>\n",
       "      <td>Maven</td>\n",
       "      <td>Series B</td>\n",
       "      <td>50</td>\n",
       "      <td>1</td>\n",
       "    </tr>\n",
       "  </tbody>\n",
       "</table>\n",
       "</div>"
      ],
      "text/plain": [
       "         CompanyName     round  vagueness  funding_success\n",
       "39             G2See  Series A         50                0\n",
       "67   ImPress Systems  Series A         50                1\n",
       "127             UOKO  Series A         50                1\n",
       "128             UOKO  Series B         50                1\n",
       "129             UOKO  Series B         50                1\n",
       "130             UOKO  Series B         50                1\n",
       "194    Hyakusenrenma  Series B         50                0\n",
       "195    Hyakusenrenma  Series B         50                1\n",
       "196    Hyakusenrenma  Series B         50                1\n",
       "207            Maven  Series B         50                1"
      ]
     },
     "execution_count": 14,
     "metadata": {},
     "output_type": "execute_result"
    }
   ],
   "source": [
    "# CompanyID로 조인\n",
    "ai_companies_indexed = ai_companies.set_index('CompanyID')\n",
    "\n",
    "panel = vc_deals.merge(\n",
    "    ai_companies_indexed[['vagueness']],\n",
    "    left_on='CompanyID',\n",
    "    right_index=True,\n",
    "    how='inner'\n",
    ")\n",
    "\n",
    "print(f\"\\n분석 패널: {len(panel)}개 관측치\")\n",
    "print(f\"Series A: {sum(panel['round'] == 'Series A')}개\")\n",
    "print(f\"Series B: {sum(panel['round'] == 'Series B')}개\")\n",
    "\n",
    "panel[['CompanyName', 'round', 'vagueness', 'funding_success']].head(10)"
   ]
  },
  {
   "cell_type": "markdown",
   "metadata": {},
   "source": [
    "## Step 6: 핵심 질문 - Vagueness가 펀딩 성공에 미치는 영향은?\n",
    "\n",
    "**가설**: 초기(Series A)에는 애매한 약속이 좋지만, 후기(Series B)에는 명확한 약속이 좋다"
   ]
  },
  {
   "cell_type": "code",
   "execution_count": 15,
   "metadata": {},
   "outputs": [
    {
     "name": "stdout",
     "output_type": "stream",
     "text": [
      "\n",
      "성공률 by Round & Vagueness:\n",
      "                    Count  Successes  Success_Rate\n",
      "round    vagueness                                \n",
      "Series A Low           28         12         0.429\n",
      "         High           0          0           NaN\n",
      "Series B Low           37         27         0.730\n",
      "         High           0          0           NaN\n"
     ]
    }
   ],
   "source": [
    "# 라운드별 성공률 비교\n",
    "summary = panel.groupby(['round', pd.cut(panel['vagueness'], bins=[0, 50, 100], labels=['Low', 'High'])]).agg({\n",
    "    'funding_success': ['count', 'sum', 'mean']\n",
    "}).round(3)\n",
    "\n",
    "summary.columns = ['Count', 'Successes', 'Success_Rate']\n",
    "print(\"\\n성공률 by Round & Vagueness:\")\n",
    "print(summary)"
   ]
  },
  {
   "cell_type": "markdown",
   "metadata": {},
   "source": [
    "## Step 7: 회귀 분석 - 통계적 검증"
   ]
  },
  {
   "cell_type": "code",
   "execution_count": 16,
   "metadata": {},
   "outputs": [
    {
     "name": "stdout",
     "output_type": "stream",
     "text": [
      "\n",
      "회귀 분석 결과:\n",
      "                            OLS Regression Results                            \n",
      "==============================================================================\n",
      "Dep. Variable:        funding_success   R-squared:                       0.093\n",
      "Model:                            OLS   Adj. R-squared:                  0.078\n",
      "Method:                 Least Squares   F-statistic:                     6.434\n",
      "Date:                Wed, 22 Oct 2025   Prob (F-statistic):             0.0137\n",
      "Time:                        14:17:56   Log-Likelihood:                -42.689\n",
      "No. Observations:                  65   AIC:                             89.38\n",
      "Df Residuals:                      63   BIC:                             93.73\n",
      "Df Model:                           1                                         \n",
      "Covariance Type:            nonrobust                                         \n",
      "===================================================================================================\n",
      "                                      coef    std err          t      P>|t|      [0.025      0.975]\n",
      "---------------------------------------------------------------------------------------------------\n",
      "Intercept                           0.3429      0.072      4.784      0.000       0.200       0.486\n",
      "vagueness_scaled                    0.1714      0.036      4.784      0.000       0.100       0.243\n",
      "series_b_dummy                      0.2409      0.095      2.537      0.014       0.051       0.431\n",
      "vagueness_scaled:series_b_dummy     0.1205      0.047      2.537      0.014       0.026       0.215\n",
      "==============================================================================\n",
      "Omnibus:                       55.012   Durbin-Watson:                   2.096\n",
      "Prob(Omnibus):                  0.000   Jarque-Bera (JB):                7.038\n",
      "Skew:                          -0.359   Prob(JB):                       0.0296\n",
      "Kurtosis:                       1.557   Cond. No.                     1.18e+17\n",
      "==============================================================================\n",
      "\n",
      "Notes:\n",
      "[1] Standard Errors assume that the covariance matrix of the errors is correctly specified.\n",
      "[2] The smallest eigenvalue is 8.19e-33. This might indicate that there are\n",
      "strong multicollinearity problems or that the design matrix is singular.\n"
     ]
    }
   ],
   "source": [
    "import statsmodels.formula.api as smf\n",
    "\n",
    "# 변수 준비\n",
    "panel['vagueness_scaled'] = panel['vagueness'] / 100\n",
    "panel['series_b_dummy'] = (panel['round'] == 'Series B').astype(int)\n",
    "\n",
    "# 회귀식: funding_success ~ vagueness + round + interaction\n",
    "formula = 'funding_success ~ vagueness_scaled + series_b_dummy + vagueness_scaled:series_b_dummy'\n",
    "\n",
    "try:\n",
    "    model = smf.logit(formula, data=panel).fit(disp=False)\n",
    "except:\n",
    "    model = smf.ols(formula, data=panel).fit()\n",
    "\n",
    "print(\"\\n회귀 분석 결과:\")\n",
    "print(model.summary())"
   ]
  },
  {
   "cell_type": "markdown",
   "metadata": {},
   "source": [
    "## 핵심 해석\n",
    "\n",
    "- **vagueness_scaled**: Series A에서 vagueness 1단위 증가 시 성공 확률 변화\n",
    "- **vagueness_scaled:series_b_dummy**: Series B에서는 효과가 반대로 (reversal)\n",
    "- p < 0.05이면 통계적으로 유의미"
   ]
  }
 ],
 "metadata": {
  "kernelspec": {
   "display_name": "Python 3",
   "language": "python",
   "name": "python3"
  },
  "language_info": {
   "codemirror_mode": {
    "name": "ipython",
    "version": 3
   },
   "file_extension": ".py",
   "mimetype": "text/x-python",
   "name": "python",
   "nbconvert_exporter": "python",
   "pygments_lexer": "ipython3",
   "version": "3.9.6"
  }
 },
 "nbformat": 4,
 "nbformat_minor": 4
}