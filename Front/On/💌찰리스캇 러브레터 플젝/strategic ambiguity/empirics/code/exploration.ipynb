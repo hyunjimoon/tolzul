{
 "cells": [
  {
   "cell_type": "markdown",
   "metadata": {},
   "source": [
    "# Strategic Ambiguity Data Exploration with xarray\n",
    "\n",
    "This notebook provides a complete tutorial on exploring your strategic ambiguity empirics data using xarray.\n",
    "\n",
    "## What is xarray?\n",
    "\n",
    "xarray is a powerful library for working with labeled multi-dimensional arrays. It brings the power of pandas to multi-dimensional data.\n",
    "\n",
    "**Key concepts:**\n",
    "- **Dataset**: Container for multiple DataArrays with shared dimensions\n",
    "- **DataArray**: Single variable with labeled dimensions and coordinates\n",
    "- **Dimensions**: Names for axes (e.g., 'company', 'deal', 'observation')\n",
    "- **Coordinates**: Labels along dimensions (e.g., company IDs)\n",
    "- **Attributes**: Metadata about the dataset\n",
    "\n",
    "**Why use xarray for this project?**\n",
    "- Store all data (company, deals, panel) in one file\n",
    "- Track provenance with git metadata in attributes\n",
    "- Query data efficiently with labeled indexing\n",
    "- Convert to pandas DataFrame when needed\n",
    "- Reproducible: checkpoint file includes all processing steps"
   ]
  },
  {
   "cell_type": "markdown",
   "metadata": {},
   "source": [
    "## Setup"
   ]
  },
  {
   "cell_type": "code",
   "execution_count": 4,
   "metadata": {},
   "outputs": [
    {
     "name": "stdout",
     "output_type": "stream",
     "text": [
      "✅ Setup complete\n"
     ]
    }
   ],
   "source": [
    "import xarray as xr\n",
    "import pandas as pd\n",
    "import numpy as np\n",
    "import matplotlib.pyplot as plt\n",
    "import seaborn as sns\n",
    "import pickle\n",
    "from pathlib import Path\n",
    "\n",
    "# Set up plotting\n",
    "sns.set_style(\"whitegrid\")\n",
    "plt.rcParams['figure.figsize'] = (10, 6)\n",
    "\n",
    "# Add code directory to path to import pipeline\n",
    "import sys\n",
    "sys.path.insert(0, str(Path.cwd()))\n",
    "\n",
    "print(\"✅ Setup complete\")"
   ]
  },
  {
   "cell_type": "markdown",
   "metadata": {},
   "source": [
    "## 1. Loading the Data\n",
    "\n",
    "After running the pipeline, data is saved as a pickle file. Let's load it."
   ]
  },
  {
   "cell_type": "code",
   "execution_count": 5,
   "metadata": {},
   "outputs": [
    {
     "name": "stdout",
     "output_type": "stream",
     "text": [
      "✅ Loaded dataset from ../output/pipeline_checkpoint.pkl\n",
      "\n",
      "Dataset overview:\n",
      "<xarray.Dataset> Size: 98MB\n",
      "Dimensions:                        (company: 1320702, deal: 29715)\n",
      "Coordinates:\n",
      "  * company                        (company) object 11MB '100000-90' ... '999...\n",
      "  * deal                           (deal) int64 238kB 0 1 2 ... 29713 29714\n",
      "Data variables: (12/18)\n",
      "    company_company_name           (company) object 11MB 'JB Education (Prima...\n",
      "    company_description            (company) object 11MB 'Provider of educati...\n",
      "    company_keywords               (company) object 11MB 'educational trainin...\n",
      "    company_vagueness              (company) int64 11MB 50 50 50 50 ... 50 50 60\n",
      "    company_high_integration_cost  (company) int64 11MB 0 0 0 0 0 ... 0 0 0 0 0\n",
      "    company_total_raised           (company) float64 11MB 0.0 0.0 ... 1.8 0.25\n",
      "    ...                             ...\n",
      "    deal_vc_round                  (deal) object 238kB 'Series A' ... 'Series A'\n",
      "    deal_deal_date                 (deal) datetime64[ns] 238kB 2022-08-01 ......\n",
      "    deal_deal_size                 (deal) float64 238kB 0.0 1.8 ... 3.4 62.25\n",
      "    deal_funding_success           (deal) int64 238kB 0 1 1 1 1 1 ... 0 1 0 1 1\n",
      "    deal_investors                 (deal) float64 238kB 1.0 nan nan ... 1.0 3.0\n",
      "    deal_post_valuation            (deal) float64 238kB nan nan ... 13.95 nan\n",
      "Attributes: (12/21)\n",
      "    pipeline_version:     3.0_modular_xarray\n",
      "    created_at:           2025-10-22T20:36:44.536336\n",
      "    last_updated:         2025-10-22T20:45:08.511757\n",
      "    data_source:          Pitchbook\n",
      "    pipeline_status:      initialized\n",
      "    git_commit_id:        2fd1818ea4bc7362cd30ab457160d729fd98ce20\n",
      "    ...                   ...\n",
      "    step_05_status:       pending\n",
      "    n_companies:          1320702\n",
      "    last_completed_step:  02_process_deal\n",
      "    step_01_timestamp:    2025-10-22T20:44:03.447009\n",
      "    n_deals:              29715\n",
      "    step_02_timestamp:    2025-10-22T20:45:08.511780\n"
     ]
    }
   ],
   "source": [
    "# Load the checkpoint file\n",
    "checkpoint_file = Path('../output/pipeline_checkpoint.pkl')\n",
    "\n",
    "if checkpoint_file.exists():\n",
    "    with open(checkpoint_file, 'rb') as f:\n",
    "        ds = pickle.load(f)\n",
    "    print(f\"✅ Loaded dataset from {checkpoint_file}\")\n",
    "    print(f\"\\nDataset overview:\")\n",
    "    print(ds)\n",
    "else:\n",
    "    print(f\"❌ Checkpoint file not found at {checkpoint_file}\")\n",
    "    print(\"💡 Run the pipeline first: python pipeline_xarray.py\")"
   ]
  },
  {
   "cell_type": "markdown",
   "metadata": {},
   "source": [
    "## 2. Understanding Dimensions\n",
    "\n",
    "Dimensions are the axes of your data. Think of them as the rows in a pandas DataFrame index."
   ]
  },
  {
   "cell_type": "code",
   "execution_count": 6,
   "metadata": {},
   "outputs": [
    {
     "name": "stdout",
     "output_type": "stream",
     "text": [
      "📊 Dimensions:\n",
      "FrozenMappingWarningOnValuesAccess({'company': 1320702, 'deal': 29715})\n",
      "\n",
      "   company: 1320702 AI/ML firms\n",
      "   deal: 29715 Series A/B deals\n"
     ]
    },
    {
     "name": "stderr",
     "output_type": "stream",
     "text": [
      "/var/folders/9z/bf6qfjvd695cjkj7s4ss1cxh0000gn/T/ipykernel_40043/3875753128.py:7: FutureWarning: The return type of `Dataset.dims` will be changed to return a set of dimension names in future, in order to be more consistent with `DataArray.dims`. To access a mapping from dimension names to lengths, please use `Dataset.sizes`.\n",
      "  print(f\"   company: {ds.dims['company']} AI/ML firms\")\n",
      "/var/folders/9z/bf6qfjvd695cjkj7s4ss1cxh0000gn/T/ipykernel_40043/3875753128.py:9: FutureWarning: The return type of `Dataset.dims` will be changed to return a set of dimension names in future, in order to be more consistent with `DataArray.dims`. To access a mapping from dimension names to lengths, please use `Dataset.sizes`.\n",
      "  print(f\"   deal: {ds.dims['deal']} Series A/B deals\")\n"
     ]
    }
   ],
   "source": [
    "# View dimensions\n",
    "print(\"📊 Dimensions:\")\n",
    "print(ds.dims)\n",
    "print()\n",
    "\n",
    "if 'company' in ds.dims:\n",
    "    print(f\"   company: {ds.dims['company']} AI/ML firms\")\n",
    "if 'deal' in ds.dims:\n",
    "    print(f\"   deal: {ds.dims['deal']} Series A/B deals\")\n",
    "if 'observation' in ds.dims:\n",
    "    print(f\"   observation: {ds.dims['observation']} panel observations\")"
   ]
  },
  {
   "cell_type": "markdown",
   "metadata": {},
   "source": [
    "## 3. Exploring Coordinates\n",
    "\n",
    "Coordinates are the labels along each dimension. They allow you to select data by meaningful labels instead of integer indices."
   ]
  },
  {
   "cell_type": "code",
   "execution_count": 7,
   "metadata": {},
   "outputs": [
    {
     "name": "stdout",
     "output_type": "stream",
     "text": [
      "🏷️ Coordinates:\n",
      "\n",
      "Company IDs (first 5): ['100000-90' '1000006-93' '100001-08' '100001-71' '100002-07']\n",
      "\n",
      "Deal IDs (first 5): [0 1 2 3 4]\n",
      "\n"
     ]
    }
   ],
   "source": [
    "# View coordinates\n",
    "print(\"🏷️ Coordinates:\")\n",
    "print()\n",
    "\n",
    "if 'company' in ds.coords:\n",
    "    company_ids = ds.coords['company'].values\n",
    "    print(f\"Company IDs (first 5): {company_ids[:5]}\")\n",
    "    print()\n",
    "\n",
    "if 'deal' in ds.coords:\n",
    "    deal_ids = ds.coords['deal'].values\n",
    "    print(f\"Deal IDs (first 5): {deal_ids[:5]}\")\n",
    "    print()\n",
    "\n",
    "if 'observation' in ds.coords:\n",
    "    obs_ids = ds.coords['observation'].values\n",
    "    print(f\"Observation IDs (first 5): {obs_ids[:5]}\")"
   ]
  },
  {
   "cell_type": "markdown",
   "metadata": {},
   "source": [
    "## 4. Data Variables\n",
    "\n",
    "Data variables are the actual measurements stored in the dataset. Our pipeline stores:\n",
    "- `company_*`: Company-level variables (vagueness, integration cost, etc.)\n",
    "- `deal_*`: Deal-level variables (deal size, funding success, etc.)\n",
    "- `panel_*`: Analysis panel (merged company + deal data)"
   ]
  },
  {
   "cell_type": "code",
   "execution_count": 8,
   "metadata": {},
   "outputs": [
    {
     "name": "stdout",
     "output_type": "stream",
     "text": [
      "📈 Data Variables:\n",
      "\n",
      "Company variables (8):\n",
      "   - company_company_name\n",
      "   - company_description\n",
      "   - company_keywords\n",
      "   - company_vagueness\n",
      "   - company_high_integration_cost\n",
      "   - company_total_raised\n",
      "   - company_employees\n",
      "   - company_year_founded\n",
      "\n",
      "Deal variables (10):\n",
      "   - deal_company_id\n",
      "   - deal_company_name\n",
      "   - deal_round\n",
      "   - deal_deal_type\n",
      "   - deal_vc_round\n",
      "   - deal_deal_date\n",
      "   - deal_deal_size\n",
      "   - deal_funding_success\n",
      "   - deal_investors\n",
      "   - deal_post_valuation\n",
      "\n",
      "Panel variables (0):\n"
     ]
    }
   ],
   "source": [
    "# List all data variables\n",
    "print(\"📈 Data Variables:\")\n",
    "print()\n",
    "\n",
    "company_vars = [v for v in ds.data_vars if v.startswith('company_')]\n",
    "print(f\"Company variables ({len(company_vars)}):\")\n",
    "for v in company_vars[:10]:  # Show first 10\n",
    "    print(f\"   - {v}\")\n",
    "if len(company_vars) > 10:\n",
    "    print(f\"   ... and {len(company_vars) - 10} more\")\n",
    "print()\n",
    "\n",
    "deal_vars = [v for v in ds.data_vars if v.startswith('deal_')]\n",
    "print(f\"Deal variables ({len(deal_vars)}):\")\n",
    "for v in deal_vars[:10]:\n",
    "    print(f\"   - {v}\")\n",
    "if len(deal_vars) > 10:\n",
    "    print(f\"   ... and {len(deal_vars) - 10} more\")\n",
    "print()\n",
    "\n",
    "panel_vars = [v for v in ds.data_vars if v.startswith('panel_')]\n",
    "print(f\"Panel variables ({len(panel_vars)}):\")\n",
    "for v in panel_vars[:10]:\n",
    "    print(f\"   - {v}\")\n",
    "if len(panel_vars) > 10:\n",
    "    print(f\"   ... and {len(panel_vars) - 10} more\")"
   ]
  },
  {
   "cell_type": "markdown",
   "metadata": {},
   "source": [
    "## 5. Accessing Data\n",
    "\n",
    "There are several ways to access data in xarray:\n",
    "- **Direct access**: `ds.variable_name` or `ds['variable_name']`\n",
    "- **Selection**: `ds.variable_name.sel(dimension=value)`\n",
    "- **Filtering**: `ds.where(condition, drop=True)`\n",
    "- **To pandas**: `ds.to_dataframe()` or `ds.variable_name.to_pandas()`"
   ]
  },
  {
   "cell_type": "code",
   "execution_count": 14,
   "metadata": {},
   "outputs": [
    {
     "name": "stdout",
     "output_type": "stream",
     "text": [
      "Created 150 observations (75 firms)\n",
      "\n",
      "Series A: 75\n",
      "Series B: 75 (119 funded)\n",
      "\n",
      "Vagueness: 53.5 ± 12.4\n"
     ]
    }
   ],
   "source": [
    "# Dummy Data Generation for Testing\n",
    "import pandas as pd\n",
    "import numpy as np\n",
    "\n",
    "np.random.seed(42)\n",
    "n_firms = 75\n",
    "\n",
    "# Create panel: each firm has Series A and B\n",
    "data = []\n",
    "for firm_id in range(n_firms):\n",
    "    vagueness = np.random.uniform(35, 75)\n",
    "    employees = np.random.randint(10, 200)\n",
    "    integration = np.random.choice([0, 1], p=[0.7, 0.3])\n",
    "    \n",
    "    # Series A\n",
    "    amount_A = np.random.lognormal(15.5, 0.5)  # ~$5M\n",
    "    amount_A *= (1 - 0.3 * (vagueness - 50) / 50)  # Vague → less at A\n",
    "    \n",
    "    data.append({\n",
    "        'company_id': f'firm_{firm_id:03d}',\n",
    "        'series': 'A',\n",
    "        'vagueness': vagueness,\n",
    "        'deal_size': amount_A,\n",
    "        'employees': employees,\n",
    "        'high_integration_cost': integration\n",
    "    })\n",
    "    \n",
    "    # Series B\n",
    "    got_B = np.random.random() > 0.4\n",
    "    amount_B = np.random.lognormal(16.5, 0.7) if got_B else 0\n",
    "    if got_B:\n",
    "        amount_B *= (1 + 0.4 * (vagueness - 50) / 50)  # Vague → more at B\n",
    "    \n",
    "    data.append({\n",
    "        'company_id': f'firm_{firm_id:03d}',\n",
    "        'series': 'B',\n",
    "        'vagueness': vagueness,\n",
    "        'deal_size': amount_B,\n",
    "        'employees': employees + np.random.randint(0, 50),\n",
    "        'high_integration_cost': integration\n",
    "    })\n",
    "\n",
    "df = pd.DataFrame(data)\n",
    "\n",
    "# Prepare for analysis\n",
    "df['log_amount'] = np.log(df['deal_size'] + 1)\n",
    "df['funded'] = (df['deal_size'] > 0).astype(int)\n",
    "\n",
    "print(f\"Created {len(df)} observations ({n_firms} firms)\")\n",
    "print(f\"\\nSeries A: {(df['series']=='A').sum()}\")\n",
    "print(f\"Series B: {(df['series']=='B').sum()} ({df['funded'].sum()} funded)\")\n",
    "print(f\"\\nVagueness: {df['vagueness'].mean():.1f} ± {df['vagueness'].std():.1f}\")"
   ]
  },
  {
   "cell_type": "markdown",
   "metadata": {},
   "source": [
    "# 더미데이터로 플랏"
   ]
  },
  {
   "cell_type": "code",
   "execution_count": 15,
   "metadata": {},
   "outputs": [
    {
     "data": {
      "image/png": "[encoded data removed]",
      "text/plain": [
       "<Figure size 1000x600 with 1 Axes>"
      ]
     },
     "metadata": {},
     "output_type": "display_data"
    },
    {
     "data": {
      "image/png": "[encoded data removed]",
      "text/plain": [
       "<Figure size 800x600 with 1 Axes>"
      ]
     },
     "metadata": {},
     "output_type": "display_data"
    },
    {
     "data": {
      "image/png": "[encoded data removed]",
      "text/plain": [
       "<Figure size 800x600 with 1 Axes>"
      ]
     },
     "metadata": {},
     "output_type": "display_data"
    }
   ],
   "source": [
    "# ========== PLOT CODE FOR DUMMY DATA ==========\n",
    "import matplotlib.pyplot as plt\n",
    "import seaborn as sns\n",
    "\n",
    "# Split by series\n",
    "df_A = df[df['series'] == 'A'].copy()\n",
    "df_B = df[df['series'] == 'B'].copy()\n",
    "\n",
    "# Plot 1: Basic Reversal Check (친구 조언)\n",
    "fig, ax = plt.subplots(figsize=(10, 6))\n",
    "sns.scatterplot(data=df_A, x='vagueness', y='log_amount', alpha=0.3, label='Series A', color='red', ax=ax)\n",
    "sns.scatterplot(data=df_B[df_B['funded']==1], x='vagueness', y='log_amount', alpha=0.3, label='Series B', color='blue', ax=ax)\n",
    "sns.regplot(data=df_A, x='vagueness', y='log_amount', scatter=False, color='red', line_kws={'linewidth': 2}, ax=ax)\n",
    "sns.regplot(data=df_B[df_B['funded']==1], x='vagueness', y='log_amount', scatter=False, color='blue', line_kws={'linewidth': 2}, ax=ax)\n",
    "ax.set_xlabel('Vagueness Score', fontsize=12)\n",
    "ax.set_ylabel('log(Funding Amount)', fontsize=12)\n",
    "ax.set_title('Reversal Pattern: Vagueness Effect by Stage', fontsize=14)\n",
    "ax.legend()\n",
    "plt.tight_layout()\n",
    "plt.show()\n",
    "\n",
    "# Plot 2: Median Split (친구 제안)\n",
    "df['vague_group'] = pd.cut(df['vagueness'], bins=2, labels=['Low Vague', 'High Vague'])\n",
    "grouped = df.groupby(['vague_group', 'series'])['deal_size'].mean()\n",
    "\n",
    "fig, ax = plt.subplots(figsize=(8, 6))\n",
    "grouped.unstack().plot(kind='bar', ax=ax, color=['red', 'blue'])\n",
    "ax.set_xlabel('Vagueness Group', fontsize=12)\n",
    "ax.set_ylabel('Mean Funding Amount ($)', fontsize=12)\n",
    "ax.set_title('Average Funding: High vs. Low Vagueness at Each Stage', fontsize=14)\n",
    "ax.set_xticklabels(ax.get_xticklabels(), rotation=0)\n",
    "ax.legend(title='Series')\n",
    "plt.tight_layout()\n",
    "plt.show()\n",
    "\n",
    "# Plot 3: Funding Probability at B\n",
    "prob_funded = df[df['series']=='B'].groupby(pd.cut(df['vagueness'], bins=5))['funded'].mean()\n",
    "\n",
    "fig, ax = plt.subplots(figsize=(8, 6))\n",
    "prob_funded.plot(kind='bar', ax=ax, color='steelblue')\n",
    "ax.set_xlabel('Vagueness Quintile', fontsize=12)\n",
    "ax.set_ylabel('Pr(Series B Funding)', fontsize=12)\n",
    "ax.set_title('Series B Funding Probability by Vagueness Level', fontsize=14)\n",
    "ax.axhline(y=0.5, color='red', linestyle='--', alpha=0.5)\n",
    "plt.tight_layout()\n",
    "plt.show()"
   ]
  },
  {
   "cell_type": "markdown",
   "metadata": {},
   "source": [
    "# 실제 데이터 플랏"
   ]
  },
  {
   "cell_type": "code",
   "execution_count": 16,
   "metadata": {},
   "outputs": [
    {
     "name": "stdout",
     "output_type": "stream",
     "text": [
      "⚠️  Real data not found at /Users/hyunjimoon/MIT Dropbox/Angie.H Moon/tolzul/Front/On/strategic ambiguity/empirics/data/processed/analysis_panel.csv\n",
      "Run pipeline first: python code/pipeline_xarray.py --from 1 --force\n"
     ]
    }
   ],
   "source": [
    "# ========== PLOT CODE FOR REAL DATA ==========\n",
    "# Load real data (once pipeline completes)\n",
    "from pathlib import Path\n",
    "\n",
    "data_path = Path.cwd().parent / \"data\" / \"processed\" / \"analysis_panel.csv\"\n",
    "\n",
    "if data_path.exists():\n",
    "    df_real = pd.read_csv(data_path)\n",
    "    \n",
    "    # Prepare variables\n",
    "    df_real['log_amount'] = np.log(df_real['deal_size'] + 1)\n",
    "    df_real['funded'] = (df_real['deal_size'] > 0).astype(int)\n",
    "    \n",
    "    # Split\n",
    "    df_A_real = df_real[df_real['series'] == 'A'].copy()\n",
    "    df_B_real = df_real[df_real['series'] == 'B'].copy()\n",
    "    \n",
    "    # Same plots with real data\n",
    "    fig, ax = plt.subplots(figsize=(10, 6))\n",
    "    sns.scatterplot(data=df_A_real, x='vagueness', y='log_amount', alpha=0.3, label='Series A', color='red')\n",
    "    sns.scatterplot(data=df_B_real[df_B_real['funded']==1], x='vagueness', y='log_amount', alpha=0.3, label='Series B', color='blue')\n",
    "    sns.regplot(data=df_A_real, x='vagueness', y='log_amount', scatter=False, color='red', line_kws={'linewidth': 2})\n",
    "    sns.regplot(data=df_B_real[df_B_real['funded']==1], x='vagueness', y='log_amount', scatter=False, color='blue', line_kws={'linewidth': 2})\n",
    "    ax.set_xlabel('Vagueness (LIWC: 100 - Certitude)')\n",
    "    ax.set_ylabel('log(Deal Size)')\n",
    "    ax.set_title('Real Data: Reversal Test')\n",
    "    plt.tight_layout()\n",
    "    plt.show()\n",
    "    \n",
    "    print(f\"\\nReal data loaded: {len(df_real)} observations\")\n",
    "    print(f\"  Series A: {len(df_A_real)}, Series B: {len(df_B_real)}\")\n",
    "else:\n",
    "    print(f\"⚠️  Real data not found at {data_path}\")\n",
    "    print(\"Run pipeline first: python code/pipeline_xarray.py --from 1 --force\")"
   ]
  },
  {
   "cell_type": "code",
   "execution_count": 9,
   "metadata": {},
   "outputs": [
    {
     "name": "stdout",
     "output_type": "stream",
     "text": [
      "Example 1: Company Vagueness Scores\n",
      "   Type: <class 'xarray.core.dataarray.DataArray'>\n",
      "   Shape: (1320702,)\n",
      "   Mean: 52.97\n",
      "   Std: 6.59\n",
      "\n",
      "Example 2: First Company (ID: 100000-90)\n",
      "   Name: ['JB Education (Primary & Secondary Schools)'\n",
      " 'JB Education (Primary & Secondary Schools)'\n",
      " 'JB Education (Primary & Secondary Schools)'\n",
      " 'JB Education (Primary & Secondary Schools)'\n",
      " 'JB Education (Primary & Secondary Schools)'\n",
      " 'JB Education (Primary & Secondary Schools)']\n"
     ]
    },
    {
     "ename": "TypeError",
     "evalue": "unsupported format string passed to numpy.ndarray.__format__",
     "output_type": "error",
     "traceback": [
      "\u001b[0;31m---------------------------------------------------------------------------\u001b[0m",
      "\u001b[0;31mTypeError\u001b[0m                                 Traceback (most recent call last)",
      "Cell \u001b[0;32mIn[9], line 18\u001b[0m\n\u001b[1;32m     16\u001b[0m     \u001b[38;5;28mprint\u001b[39m(\u001b[38;5;124mf\u001b[39m\u001b[38;5;124m\"\u001b[39m\u001b[38;5;124m   Name: \u001b[39m\u001b[38;5;132;01m{\u001b[39;00mds\u001b[38;5;241m.\u001b[39mcompany_company_name\u001b[38;5;241m.\u001b[39msel(company\u001b[38;5;241m=\u001b[39mfirst_company_id)\u001b[38;5;241m.\u001b[39mvalues\u001b[38;5;132;01m}\u001b[39;00m\u001b[38;5;124m\"\u001b[39m)\n\u001b[1;32m     17\u001b[0m \u001b[38;5;28;01mif\u001b[39;00m \u001b[38;5;124m'\u001b[39m\u001b[38;5;124mcompany_vagueness\u001b[39m\u001b[38;5;124m'\u001b[39m \u001b[38;5;129;01min\u001b[39;00m ds:\n\u001b[0;32m---> 18\u001b[0m     \u001b[38;5;28mprint\u001b[39m(\u001b[38;5;124mf\u001b[39m\u001b[38;5;124m\"\u001b[39m\u001b[38;5;124m   Vagueness: \u001b[39m\u001b[38;5;132;01m{\u001b[39;00mds\u001b[38;5;241m.\u001b[39mcompany_vagueness\u001b[38;5;241m.\u001b[39msel(company\u001b[38;5;241m=\u001b[39mfirst_company_id)\u001b[38;5;241m.\u001b[39mvalues\u001b[38;5;132;01m:\u001b[39;00m\u001b[38;5;124m.1f\u001b[39m\u001b[38;5;132;01m}\u001b[39;00m\u001b[38;5;124m\"\u001b[39m)\n\u001b[1;32m     19\u001b[0m \u001b[38;5;28;01mif\u001b[39;00m \u001b[38;5;124m'\u001b[39m\u001b[38;5;124mcompany_high_integration_cost\u001b[39m\u001b[38;5;124m'\u001b[39m \u001b[38;5;129;01min\u001b[39;00m ds:\n\u001b[1;32m     20\u001b[0m     cost \u001b[38;5;241m=\u001b[39m ds\u001b[38;5;241m.\u001b[39mcompany_high_integration_cost\u001b[38;5;241m.\u001b[39msel(company\u001b[38;5;241m=\u001b[39mfirst_company_id)\u001b[38;5;241m.\u001b[39mvalues\n",
      "\u001b[0;31mTypeError\u001b[0m: unsupported format string passed to numpy.ndarray.__format__"
     ]
    }
   ],
   "source": [
    "# Example 1: Direct access to a variable\n",
    "if 'company_vagueness' in ds:\n",
    "    vagueness = ds.company_vagueness\n",
    "    print(\"Example 1: Company Vagueness Scores\")\n",
    "    print(f\"   Type: {type(vagueness)}\")\n",
    "    print(f\"   Shape: {vagueness.shape}\")\n",
    "    print(f\"   Mean: {vagueness.values.mean():.2f}\")\n",
    "    print(f\"   Std: {vagueness.values.std():.2f}\")\n",
    "    print()\n",
    "\n",
    "# Example 2: Access specific company\n",
    "if 'company' in ds.coords:\n",
    "    first_company_id = ds.coords['company'].values[0]\n",
    "    print(f\"Example 2: First Company (ID: {first_company_id})\")\n",
    "    if 'company_company_name' in ds:\n",
    "        print(f\"   Name: {ds.company_company_name.sel(company=first_company_id).values}\")\n",
    "    if 'company_vagueness' in ds:\n",
    "        print(f\"   Vagueness: {ds.company_vagueness.sel(company=first_company_id).values:.1f}\")\n",
    "    if 'company_high_integration_cost' in ds:\n",
    "        cost = ds.company_high_integration_cost.sel(company=first_company_id).values\n",
    "        print(f\"   Integration Cost: {'High' if cost == 1 else 'Low'}\")\n",
    "    print()\n",
    "\n",
    "# Example 3: Filter companies with high vagueness\n",
    "if 'company_vagueness' in ds:\n",
    "    high_vague = ds.where(ds.company_vagueness > 60, drop=True)\n",
    "    print(f\"Example 3: High Vagueness Companies (>60)\")\n",
    "    print(f\"   Count: {high_vague.dims.get('company', 0)}\")\n",
    "    print()"
   ]
  },
  {
   "cell_type": "code",
   "execution_count": null,
   "metadata": {},
   "outputs": [],
   "source": [
    "# X축: Vagueness, Y축: Funding amount (log)\n",
    "# 두 개의 선: Series A (빨강), Series B (파랑)\n",
    "sns.scatterplot(data=df_A, x='vagueness', y='log_deal_size', alpha=0.3, label='Series A')\n",
    "sns.scatterplot(data=df_B, x='vagueness', y='log_deal_size', alpha=0.3, label='Series B')\n",
    "sns.regplot(data=df_A, x='vagueness', y='log_deal_size', scatter=False, color='red')\n",
    "sns.regplot(data=df_B, x='vagueness', y='log_deal_size', scatter=False, color='blue')\n",
    "# 만약 빨강선이 음의 기울기, 파랑선이 양의 기울기면 → reversal 존재"
   ]
  },
  {
   "cell_type": "markdown",
   "metadata": {},
   "source": [
    "## 6. Attributes (Metadata)\n",
    "\n",
    "Attributes store metadata about the dataset, including:\n",
    "- Git commit information for reproducibility\n",
    "- Pipeline execution timestamps\n",
    "- Data summary statistics\n",
    "- Date filtering ranges"
   ]
  },
  {
   "cell_type": "code",
   "execution_count": 10,
   "metadata": {},
   "outputs": [
    {
     "name": "stdout",
     "output_type": "stream",
     "text": [
      "📝 Dataset Metadata:\n",
      "\n",
      "   pipeline_version: 3.0_modular_xarray\n",
      "   created_at: 2025-10-22T20:36:44.536336\n",
      "   last_updated: 2025-10-22T20:45:08.511757\n",
      "   last_completed_step: 02_process_deal\n",
      "   git_commit_url: https://github.com/hyunjimoon/tolzul/commit/2fd1818ea4bc7362cd30ab457160d729fd98ce20\n",
      "   git_branch: master\n",
      "   series_a_date_range: 2021-01-01 to 2022-10-31\n",
      "   series_b_date_range: 2023-05-01 to 2025-10-31\n",
      "   n_companies: 1320702\n",
      "   n_deals: 29715\n"
     ]
    }
   ],
   "source": [
    "# View important attributes\n",
    "print(\"📝 Dataset Metadata:\")\n",
    "print()\n",
    "\n",
    "important_attrs = [\n",
    "    'pipeline_version',\n",
    "    'created_at',\n",
    "    'last_updated',\n",
    "    'last_completed_step',\n",
    "    'git_commit_url',\n",
    "    'git_branch',\n",
    "    'series_a_date_range',\n",
    "    'series_b_date_range',\n",
    "    'n_companies',\n",
    "    'n_deals',\n",
    "    'n_observations'\n",
    "]\n",
    "\n",
    "for attr in important_attrs:\n",
    "    if attr in ds.attrs:\n",
    "        value = ds.attrs[attr]\n",
    "        print(f\"   {attr}: {value}\")"
   ]
  },
  {
   "cell_type": "markdown",
   "metadata": {},
   "source": [
    "## 7. Converting to pandas DataFrame\n",
    "\n",
    "For analysis tasks, you might want to work with familiar pandas DataFrames."
   ]
  },
  {
   "cell_type": "code",
   "execution_count": 11,
   "metadata": {},
   "outputs": [
    {
     "name": "stdout",
     "output_type": "stream",
     "text": [
      "No panel data found. Run the pipeline first.\n"
     ]
    }
   ],
   "source": [
    "# Convert panel data to DataFrame\n",
    "if any(v.startswith('panel_') for v in ds.data_vars):\n",
    "    panel_cols = [v.replace('panel_', '') for v in ds.data_vars if v.startswith('panel_')]\n",
    "    panel_data = {col: ds[f'panel_{col}'].values for col in panel_cols}\n",
    "    panel_df = pd.DataFrame(panel_data)\n",
    "    \n",
    "    print(\"📊 Panel DataFrame:\")\n",
    "    print(f\"   Shape: {panel_df.shape}\")\n",
    "    print()\n",
    "    print(\"First 5 rows:\")\n",
    "    display(panel_df.head())\n",
    "else:\n",
    "    print(\"No panel data found. Run the pipeline first.\")"
   ]
  },
  {
   "cell_type": "markdown",
   "metadata": {},
   "source": [
    "## 8. Query Patterns\n",
    "\n",
    "Common query patterns for analysis:\n",
    "- `ds.where()`: Filter based on conditions\n",
    "- `ds.sel()`: Select specific coordinates\n",
    "- `ds.isel()`: Select by integer index\n",
    "- Arithmetic operations work element-wise"
   ]
  },
  {
   "cell_type": "code",
   "execution_count": 12,
   "metadata": {},
   "outputs": [],
   "source": [
    "# Query Pattern 1: Filter panel by round\n",
    "if 'panel_round' in ds:\n",
    "    # Get Series A observations\n",
    "    series_a_mask = ds.panel_round.values == 'Series A'\n",
    "    print(f\"Query 1: Series A observations\")\n",
    "    print(f\"   Count: {series_a_mask.sum()}\")\n",
    "    \n",
    "    if 'panel_funding_success' in ds:\n",
    "        series_a_success = ds.panel_funding_success.values[series_a_mask]\n",
    "        print(f\"   Success rate: {series_a_success.mean():.1%}\")\n",
    "    print()\n",
    "\n",
    "# Query Pattern 2: Compare success rates by round\n",
    "if 'panel_round' in ds and 'panel_funding_success' in ds:\n",
    "    rounds = ds.panel_round.values\n",
    "    success = ds.panel_funding_success.values\n",
    "    \n",
    "    print(\"Query 2: Success rates by round\")\n",
    "    for round_name in ['Series A', 'Series B']:\n",
    "        mask = rounds == round_name\n",
    "        if mask.sum() > 0:\n",
    "            rate = success[mask].mean()\n",
    "            print(f\"   {round_name}: {rate:.1%} ({mask.sum()} observations)\")\n",
    "    print()\n",
    "\n",
    "# Query Pattern 3: Vagueness by integration cost\n",
    "if 'panel_vagueness' in ds and 'panel_high_integration_cost' in ds:\n",
    "    vagueness = ds.panel_vagueness.values\n",
    "    high_i = ds.panel_high_integration_cost.values\n",
    "    \n",
    "    print(\"Query 3: Average vagueness by integration cost\")\n",
    "    print(f\"   High integration cost: {vagueness[high_i == 1].mean():.1f}\")\n",
    "    print(f\"   Low integration cost: {vagueness[high_i == 0].mean():.1f}\")"
   ]
  },
  {
   "cell_type": "markdown",
   "metadata": {},
   "source": [
    "## 9. Analysis Workflow Example\n",
    "\n",
    "Let's analyze the key hypothesis: Does vagueness have opposite effects on Series A vs B funding?"
   ]
  },
  {
   "cell_type": "code",
   "execution_count": null,
   "metadata": {},
   "outputs": [],
   "source": [
    "if all(v in ds for v in ['panel_vagueness', 'panel_round', 'panel_funding_success']):\n",
    "    # Create analysis DataFrame\n",
    "    df = pd.DataFrame({\n",
    "        'vagueness': ds.panel_vagueness.values,\n",
    "        'round': ds.panel_round.values,\n",
    "        'success': ds.panel_funding_success.values\n",
    "    })\n",
    "    \n",
    "    # Create vagueness categories\n",
    "    df['vagueness_category'] = pd.cut(\n",
    "        df['vagueness'],\n",
    "        bins=[0, 50, 100],\n",
    "        labels=['Precise', 'Vague']\n",
    "    )\n",
    "    \n",
    "    # Calculate success rates\n",
    "    success_rates = df.groupby(['vagueness_category', 'round'])['success'].agg(['mean', 'count'])\n",
    "    success_rates.columns = ['Success Rate', 'N']\n",
    "    \n",
    "    print(\"🎯 Hypothesis Test: Vagueness Reversal Pattern\")\n",
    "    print()\n",
    "    print(success_rates)\n",
    "    print()\n",
    "    \n",
    "    # Visualize\n",
    "    success_pivot = success_rates['Success Rate'].unstack()\n",
    "    \n",
    "    fig, ax = plt.subplots(figsize=(10, 6))\n",
    "    \n",
    "    x = np.arange(len(success_pivot.index))\n",
    "    width = 0.35\n",
    "    \n",
    "    ax.bar(x - width/2, success_pivot['Series A'], width, \n",
    "           label='Series A', color='steelblue', alpha=0.8)\n",
    "    ax.bar(x + width/2, success_pivot['Series B'], width, \n",
    "           label='Series B', color='coral', alpha=0.8)\n",
    "    \n",
    "    ax.set_xlabel('Promise Type', fontsize=12, fontweight='bold')\n",
    "    ax.set_ylabel('Funding Success Rate', fontsize=12, fontweight='bold')\n",
    "    ax.set_title('Strategic Ambiguity: Reversal Pattern', fontsize=14, fontweight='bold')\n",
    "    ax.set_xticks(x)\n",
    "    ax.set_xticklabels(success_pivot.index)\n",
    "    ax.legend()\n",
    "    ax.set_ylim(0, 1.1)\n",
    "    ax.grid(axis='y', alpha=0.3)\n",
    "    \n",
    "    # Add value labels\n",
    "    for i, cat in enumerate(success_pivot.index):\n",
    "        for j, round_name in enumerate(['Series A', 'Series B']):\n",
    "            value = success_pivot.loc[cat, round_name]\n",
    "            x_pos = i + (j - 0.5) * width\n",
    "            ax.text(x_pos, value, f'{value:.1%}', \n",
    "                   ha='center', va='bottom', fontsize=10)\n",
    "    \n",
    "    plt.tight_layout()\n",
    "    plt.show()\n",
    "    \n",
    "    # Interpretation\n",
    "    print(\"\\n📈 Interpretation:\")\n",
    "    if len(success_pivot.index) >= 2:\n",
    "        precise_a = success_pivot.loc['Precise', 'Series A']\n",
    "        vague_a = success_pivot.loc['Vague', 'Series A']\n",
    "        precise_b = success_pivot.loc['Precise', 'Series B']\n",
    "        vague_b = success_pivot.loc['Vague', 'Series B']\n",
    "        \n",
    "        if precise_a > vague_a and vague_b > precise_b:\n",
    "            print(\"   ✅ REVERSAL PATTERN CONFIRMED!\")\n",
    "            print(f\"   - Series A: Precise ({precise_a:.1%}) > Vague ({vague_a:.1%})\")\n",
    "            print(f\"   - Series B: Vague ({vague_b:.1%}) > Precise ({precise_b:.1%})\")\n",
    "        else:\n",
    "            print(\"   Pattern not as expected. Further investigation needed.\")\n",
    "else:\n",
    "    print(\"Panel data not available. Run the pipeline first.\")"
   ]
  },
  {
   "cell_type": "markdown",
   "metadata": {},
   "source": [
    "## 10. Advanced: Three-Way Interaction\n",
    "\n",
    "Explore how the reversal pattern varies by integration cost."
   ]
  },
  {
   "cell_type": "code",
   "execution_count": null,
   "metadata": {},
   "outputs": [],
   "source": [
    "required_vars = ['panel_vagueness', 'panel_round', 'panel_funding_success', 'panel_high_integration_cost']\n",
    "\n",
    "if all(v in ds for v in required_vars):\n",
    "    # Create analysis DataFrame\n",
    "    df = pd.DataFrame({\n",
    "        'vagueness': ds.panel_vagueness.values,\n",
    "        'round': ds.panel_round.values,\n",
    "        'success': ds.panel_funding_success.values,\n",
    "        'high_i': ds.panel_high_integration_cost.values\n",
    "    })\n",
    "    \n",
    "    df['vagueness_category'] = pd.cut(df['vagueness'], bins=[0, 50, 100], labels=['Precise', 'Vague'])\n",
    "    df['integration_cost'] = df['high_i'].map({0: 'Low-i (API/SaaS)', 1: 'High-i (Hardware)'})\n",
    "    \n",
    "    # Calculate success rates\n",
    "    success_3way = df.groupby(['integration_cost', 'vagueness_category', 'round'])['success'].mean()\n",
    "    \n",
    "    print(\"🎯 Three-Way Interaction: Vagueness × Round × Integration Cost\")\n",
    "    print()\n",
    "    print(success_3way.unstack())\n",
    "    print()\n",
    "    \n",
    "    # Visualize\n",
    "    fig, ax = plt.subplots(figsize=(12, 7))\n",
    "    \n",
    "    colors = {\n",
    "        ('High-i (Hardware)', 'Precise'): '#d62728',\n",
    "        ('High-i (Hardware)', 'Vague'): '#ff7f0e',\n",
    "        ('Low-i (API/SaaS)', 'Precise'): '#1f77b4',\n",
    "        ('Low-i (API/SaaS)', 'Vague'): '#2ca02c'\n",
    "    }\n",
    "    \n",
    "    for int_cost in df['integration_cost'].unique():\n",
    "        for vague in ['Precise', 'Vague']:\n",
    "            subset = df[(df['integration_cost'] == int_cost) & (df['vagueness_category'] == vague)]\n",
    "            \n",
    "            if len(subset) > 0:\n",
    "                rates = subset.groupby('round')['success'].mean()\n",
    "                \n",
    "                x_vals = [0 if r == 'Series A' else 1 for r in rates.index]\n",
    "                y_vals = rates.values\n",
    "                \n",
    "                label = f\"{int_cost}, {vague}\"\n",
    "                color = colors.get((int_cost, vague), 'gray')\n",
    "                marker = 'o' if vague == 'Precise' else 's'\n",
    "                linestyle = '-' if vague == 'Precise' else '--'\n",
    "                \n",
    "                ax.plot(x_vals, y_vals, marker=marker, linewidth=2.5, markersize=10,\n",
    "                       label=label, color=color, linestyle=linestyle, alpha=0.85)\n",
    "    \n",
    "    ax.set_xlabel('Funding Round', fontsize=13, fontweight='bold')\n",
    "    ax.set_ylabel('Funding Success Rate', fontsize=13, fontweight='bold')\n",
    "    ax.set_title('Three-Way Interaction: Vagueness × Round × Integration Cost', \n",
    "                fontsize=14, fontweight='bold')\n",
    "    ax.set_xticks([0, 1])\n",
    "    ax.set_xticklabels(['Series A', 'Series B'])\n",
    "    ax.legend(fontsize=10, loc='best')\n",
    "    ax.grid(alpha=0.3)\n",
    "    ax.set_ylim(0, 1.15)\n",
    "    \n",
    "    plt.tight_layout()\n",
    "    plt.show()\n",
    "else:\n",
    "    print(\"Required variables not found. Run the pipeline first.\")"
   ]
  },
  {
   "cell_type": "markdown",
   "metadata": {},
   "source": [
    "## 11. Saving Your Work\n",
    "\n",
    "Export to various formats for further analysis or sharing."
   ]
  },
  {
   "cell_type": "code",
   "execution_count": null,
   "metadata": {},
   "outputs": [],
   "source": [
    "# Export panel data to CSV\n",
    "if any(v.startswith('panel_') for v in ds.data_vars):\n",
    "    panel_cols = [v.replace('panel_', '') for v in ds.data_vars if v.startswith('panel_')]\n",
    "    panel_data = {col: ds[f'panel_{col}'].values for col in panel_cols}\n",
    "    panel_df = pd.DataFrame(panel_data)\n",
    "    \n",
    "    output_file = '../output/panel_export.csv'\n",
    "    panel_df.to_csv(output_file, index=False)\n",
    "    print(f\"✅ Exported panel data to {output_file}\")\n",
    "    print(f\"   Shape: {panel_df.shape}\")\n",
    "    print(f\"   Size: {Path(output_file).stat().st_size / 1024:.1f} KB\")"
   ]
  },
  {
   "cell_type": "markdown",
   "metadata": {},
   "source": [
    "## 12. Summary\n",
    "\n",
    "### Key xarray Concepts Learned\n",
    "\n",
    "1. **Dataset**: Container holding multiple related DataArrays\n",
    "2. **Dimensions**: Named axes (company, deal, observation)\n",
    "3. **Coordinates**: Labels along dimensions (company IDs, deal IDs)\n",
    "4. **Data Variables**: Actual measurements (vagueness, funding_success, etc.)\n",
    "5. **Attributes**: Metadata (git info, timestamps, data summaries)\n",
    "\n",
    "### Common Operations\n",
    "\n",
    "```python\n",
    "# Access variable\n",
    "ds.company_vagueness\n",
    "\n",
    "# Select by coordinate\n",
    "ds.company_vagueness.sel(company='500001-01')\n",
    "\n",
    "# Filter by condition\n",
    "ds.where(ds.company_vagueness > 60, drop=True)\n",
    "\n",
    "# Convert to pandas\n",
    "ds.to_dataframe()\n",
    "\n",
    "# Access values as numpy array\n",
    "ds.company_vagueness.values\n",
    "```\n",
    "\n",
    "### Pipeline Workflow\n",
    "\n",
    "1. **Process company data** → `company_*` variables\n",
    "2. **Process deal data** → `deal_*` variables  \n",
    "3. **Create panel** → `panel_*` variables (merged)\n",
    "4. **Run analysis** → regression results\n",
    "5. **Create deliverables** → tables and figures\n",
    "\n",
    "### Next Steps\n",
    "\n",
    "- Explore additional visualizations\n",
    "- Run robustness checks\n",
    "- Export results for paper\n",
    "- Share checkpoint file for reproducibility"
   ]
  }
 ],
 "metadata": {
  "kernelspec": {
   "display_name": "Python 3",
   "language": "python",
   "name": "python3"
  },
  "language_info": {
   "codemirror_mode": {
    "name": "ipython",
    "version": 3
   },
   "file_extension": ".py",
   "mimetype": "text/x-python",
   "name": "python",
   "nbconvert_exporter": "python",
   "pygments_lexer": "ipython3",
   "version": "3.9.6"
  }
 },
 "nbformat": 4,
 "nbformat_minor": 4
}
