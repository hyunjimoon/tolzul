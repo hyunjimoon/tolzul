{
 "cells": [
  {
   "cell_type": "code",
   "execution_count": 15,
   "metadata": {},
   "outputs": [],
   "source": [
    "# using Pkg\n",
    "# Pkg.add(\"JuMP\")\n",
    "# Pkg.add(\"Gurobi\")\n",
    "# Pkg.add(\"Distances\")\n",
    "# Pkg.add(\"Distributions\")\n",
    "# Pkg.add(\"DataFrames\")"
   ]
  },
  {
   "cell_type": "code",
   "execution_count": 16,
   "metadata": {},
   "outputs": [
    {
     "name": "stdout",
     "output_type": "stream",
     "text": [
      "Set parameter Username\n",
      "Academic license - for non-commercial use only - expires 2024-04-18\n"
     ]
    },
    {
     "name": "stderr",
     "output_type": "stream",
     "text": [
      "WARNING: redefinition of constant GRB_ENV. This may fail, cause incorrect answers, or produce other errors.\n"
     ]
    },
    {
     "data": {
      "text/plain": [
       "Gurobi.Env(Ptr{Nothing} @0x000000047bf08a00, false, 0)"
      ]
     },
     "metadata": {},
     "output_type": "display_data"
    }
   ],
   "source": [
    "using JuMP, Gurobi, Graphs, Plots, StatsPlots, DataFrames, Random, Printf, LinearAlgebra, Distributions, Distances, Suppressor, CSV #, PlotlyJS,\n",
    "const GRB_ENV = Gurobi.Env()"
   ]
  },
  {
   "attachments": {},
   "cell_type": "markdown",
   "metadata": {},
   "source": [
    "# Generate Data"
   ]
  },
  {
   "attachments": {},
   "cell_type": "markdown",
   "metadata": {},
   "source": [
    "## Constants"
   ]
  },
  {
   "cell_type": "code",
   "execution_count": 17,
   "metadata": {},
   "outputs": [
    {
     "data": {
      "text/plain": [
       "WarehouseData (generic function with 1 method)"
      ]
     },
     "metadata": {},
     "output_type": "display_data"
    }
   ],
   "source": [
    "struct Warehouse #supply\n",
    "    num_loc::Int\n",
    "    time_horizon::Int\n",
    "    distance_to_arrival::Vector{Float64}\n",
    "    distance_to_departure::Vector{Float64}\n",
    "    capacity::Vector{Float64}\n",
    "end\n",
    "\n",
    "struct Shipment #demand\n",
    "    num_shipment::Int\n",
    "    arrival_time::Vector\n",
    "    departure_time::Vector\n",
    "    shipment_size::Vector \n",
    "end\n",
    "\n",
    "function ShipmentData(time_horizon, num_shipment, max_shipment_size)\n",
    "    rand_shipment_time = sort(rand(1:time_horizon, (num_shipment, 2)), dims = 2)\n",
    "    rand_sizes = rand(1:max_shipment_size, num_shipment)\n",
    "\n",
    "    return Shipment(num_shipment, rand_shipment_time[:, 1], rand_shipment_time[:, 2], rand_sizes)\n",
    "end\n",
    "\n",
    "function WarehouseData(grid_size, time_horizon, warehouse_row, warehouse_col, max_shipment_size, cap_tightness)\n",
    "    arrival_location = (0, 0)\n",
    "    departure_location = (warehouse_row, 0)\n",
    "    \n",
    "    location = [(i*grid_size,j*grid_size) for i =1:warehouse_row, j = 1:warehouse_col]\n",
    "    num_loc = warehouse_row * warehouse_col\n",
    "    distance_to_arrival = [norm(arrival_location .- location[l]) for l in 1:num_loc]\n",
    "    distance_to_departure = [norm(arrival_location .- location[l]) for l in 1:num_loc]\n",
    "    #cap_tightness \\in [0,1]: 1 is loose tight (uniform), 0 is null size capacity (previous it was reverse - but re-reversed!)\n",
    "    capacity = rand(floor(max_shipment_size * (1-cap_tightness)):max_shipment_size, warehouse_row * warehouse_col) \n",
    "    return Warehouse(num_loc, time_horizon, distance_to_arrival, distance_to_departure, capacity)\n",
    "end"
   ]
  },
  {
   "attachments": {},
   "cell_type": "markdown",
   "metadata": {},
   "source": [
    "# Build Model"
   ]
  },
  {
   "attachments": {},
   "cell_type": "markdown",
   "metadata": {},
   "source": [
    "demand packs one supply (occupancy) and size of demand packs supply size (size) \n",
    "\n",
    "\\begin{align}\n",
    "\\sum_{i \\in 1:I} x_{ilt} \\leq 1 \\quad \\text{occupancy (shipment1, shipment2, location)}\\\\\n",
    "\\sum_{i \\in 1:I} d_i x_i \\leq s \\quad (\\text{vs} d_i x_i \\leq s \\forall i )\\quad\\text{size (shipment1, location)}\\\\ \n",
    "\n",
    "\\\\\n",
    "\\sum_{i \\in 1:I} x_{ij} \\leq 1 \\forall j \\quad\\text{occupancy}\\\\\n",
    "\\sum_{i \\in 1:I} d_i x_{ij} \\leq s_j \\forall j \\quad\\text{size}\\\\\n",
    "\\end{align}"
   ]
  },
  {
   "cell_type": "code",
   "execution_count": 18,
   "metadata": {},
   "outputs": [
    {
     "data": {
      "text/plain": [
       "three_slt_extended_time_space (generic function with 1 method)"
      ]
     },
     "metadata": {},
     "output_type": "display_data"
    }
   ],
   "source": [
    "function three_slt_extended_time_space(\n",
    "    warehouse_data::Warehouse,\n",
    "    shipment_data::Shipment\n",
    ")\n",
    "    L = warehouse_data.num_loc\n",
    "    S = shipment_data.num_shipment\n",
    "    T = warehouse_data.time_horizon\n",
    "\n",
    "    model = Model(Gurobi.Optimizer)\n",
    "    set_optimizer_attribute(model, \"TimeLimit\", 60);\n",
    "\n",
    "    @variable(model, r[1:S,1:L,1:T] >= 0, Bin);\n",
    "    @variable(model, z[1:S,1:L] >= 0, Bin);\n",
    "\n",
    "    # supply side: \n",
    "    # can't store more than one shipment at each location and time\n",
    "    @constraint(model, occupancy_pack[l in 1:L, t in 1:T],\n",
    "        sum(r[s,l,t] for s in 1:S) <=1)\n",
    "    \n",
    "    # Each location can only hold items up to max size of the location\n",
    "    @constraint(model, size_pack[l in 1:L, t in 1:T],\n",
    "        sum(r[s,l,t] * shipment_data.shipment_size[s] for s in 1:S) <= warehouse_data.capacity[l] ## TODO sum over shipment or not\n",
    "    );\n",
    "\n",
    "    # Force z[s,l] to capture the location we're storing s in\n",
    "    @constraint(model, no_bumping[s in 1:S, l in 1:L, t in shipment_data.arrival_time[s]:shipment_data.departure_time[s]], \n",
    "        r[s,l,t] == z[s,l])\n",
    "\n",
    "    # Each shipment must be assigned to exactly one location during its time window:\n",
    "    @constraint(model, demand_pack_supply_once[s in 1:S, t in shipment_data.arrival_time[s]:shipment_data.departure_time[s]],\n",
    "        sum(r[s,l,t] for l in 1:L) == 1)\n",
    "\n",
    "    # Each shipment must be assigned to exactly zero locations outside its time window:\n",
    "    @constraint(model, mute_before_timewindow[s in 1:S, t in 1:shipment_data.arrival_time[s]-1],\n",
    "        sum(r[s,l,t] for l in 1:L) == 0)\n",
    "\n",
    "    @constraint(model, mute_after_timewindow[s in 1:S, t in shipment_data.departure_time[s]+1:T],\n",
    "        sum(r[s,l,t] for l in 1:L) == 0)\n",
    "\n",
    "    @objective(model, Min, \n",
    "        sum((warehouse_data.distance_to_arrival[l] + warehouse_data.distance_to_departure[l]) / (shipment_data.departure_time[s] - shipment_data.arrival_time[s] + 1) * r[s,l,t] \n",
    "        for s in 1:S, l in 1:L,t in 1:T));\n",
    "\n",
    "    return model, r, z\n",
    "end\n"
   ]
  },
  {
   "cell_type": "code",
   "execution_count": 19,
   "metadata": {},
   "outputs": [
    {
     "data": {
      "text/plain": [
       "two_sl_so (generic function with 1 method)"
      ]
     },
     "metadata": {},
     "output_type": "display_data"
    }
   ],
   "source": [
    "function two_sl_so(\n",
    "    warehouse_data::Warehouse,\n",
    "    shipment_data::Shipment\n",
    ")\n",
    "    L = warehouse_data.num_loc\n",
    "    S = shipment_data.num_shipment\n",
    "    T = warehouse_data.time_horizon\n",
    "\n",
    "    model = Model(Gurobi.Optimizer)\n",
    "    set_optimizer_attribute(model, \"TimeLimit\", 60);\n",
    "    @variable(model, z[1:S,1:L] >= 0, Bin);\n",
    "\n",
    "    @objective(model, Min, \n",
    "        sum((warehouse_data.distance_to_arrival[l] + warehouse_data.distance_to_departure[l]) * z[s,l] for s in 1:S, l in 1:L))\n",
    "\n",
    "\n",
    "    # Each product must be assigned to exactly one location:\n",
    "    @constraint(model, location_assignment[s in 1:S],\n",
    "        sum(\n",
    "            z[s,l]\n",
    "            for l in 1:L\n",
    "        ) == 1\n",
    "    );\n",
    "\n",
    "    # Each location can only hold items up to max size of the location\n",
    "    @constraint(model, max_size[l in 1:L, s in 1:S],\n",
    "        z[s,l] * shipment_data.shipment_size[s] <= warehouse_data.capacity[l]\n",
    "    );\n",
    "\n",
    "    # Each location can hold at most one product at any specific time:\n",
    "    overlap_dict = Dict{Int64,Vector{Int64}}()\n",
    "    for s1 in 1:S\n",
    "        s = []\n",
    "        for s2 in s1+1:S\n",
    "            if shipment_data.arrival_time[s1] <= shipment_data.departure_time[s2] && shipment_data.arrival_time[s2] <= shipment_data.departure_time[s1]\n",
    "                append!(s, s2)\n",
    "            end\n",
    "        end\n",
    "        overlap_dict[s1] = s\n",
    "    end\n",
    "\n",
    "    # # Each location can hold at most one product at any specific time:\n",
    "    # function find_overlap(s1)\n",
    "    #     s = []\n",
    "    #     for s2 in s1+1:S\n",
    "    #         if s1 == s2\n",
    "    #             continue\n",
    "    #         end\n",
    "\n",
    "    #         if shipment_data.arrival_time[s1] <= shipment_data.departure_time[s2] && shipment_data.arrival_time[s2] <= shipment_data.departure_time[s1]\n",
    "    #             append!(s, s2)\n",
    "    #         end\n",
    "    #     end\n",
    "    #     return s\n",
    "    # end\n",
    "\n",
    "    # @constraint(model, no_overlap[s1 in 1:S, s2 in find_overlap(s1), l in 1:L],\n",
    "    #     z[s1,l] + z[s2,l] <= 1\n",
    "    # );\n",
    "    @constraint(model, no_overlap[s1 in 1:S, s2 in overlap_dict[s1], l in 1:L],\n",
    "        z[s1,l] + z[s2,l] <= 1\n",
    "    );\n",
    "\n",
    "    return model, z\n",
    "end\n"
   ]
  },
  {
   "cell_type": "code",
   "execution_count": 20,
   "metadata": {},
   "outputs": [
    {
     "data": {
      "text/plain": [
       "two_sl_cso (generic function with 1 method)"
      ]
     },
     "metadata": {},
     "output_type": "display_data"
    }
   ],
   "source": [
    "function two_sl_cso(\n",
    "    warehouse_data::Warehouse,\n",
    "    shipment_data::Shipment\n",
    ")\n",
    "    L = warehouse_data.num_loc\n",
    "    S = shipment_data.num_shipment\n",
    "    T = warehouse_data.time_horizon\n",
    "    \n",
    "    model = Model(Gurobi.Optimizer)\n",
    "    set_optimizer_attribute(model, \"TimeLimit\", 60);\n",
    "\n",
    "    @variable(model, z[1:S,1:L] >= 0, Bin);\n",
    "\n",
    "    @variable(\n",
    "        model,\n",
    "        1 <= r[1:S] <= L, Int\n",
    "    ) ;\n",
    "\n",
    "    @variable(\n",
    "        model,\n",
    "        y[1:S, 1:S], Bin\n",
    "    ) ;\n",
    "\n",
    "    @objective(model, Min, \n",
    "        sum((warehouse_data.distance_to_arrival[l] + warehouse_data.distance_to_departure[l]) * z[s,l] for s in 1:S, l in 1:L))\n",
    "\n",
    "    # Make r[s] equal to the index of the location we're storing s in\n",
    "    @constraint(model, assign_location_index[s in 1:S],\n",
    "        sum(\n",
    "            l * z[s,l]\n",
    "            for l in 1:L\n",
    "        ) == r[s]\n",
    "    );\n",
    "\n",
    "    # Each product must be assigned to exactly one location:\n",
    "    @constraint(model, location_assignment[s in 1:S],\n",
    "        sum(\n",
    "            z[s,l]\n",
    "            for l in 1:L\n",
    "        ) == 1\n",
    "    );\n",
    "\n",
    "    # Each location can only hold items up to max size of the location\n",
    "    @constraint(model, max_size[l in 1:L, s in 1:S],\n",
    "        z[s,l] * shipment_data.shipment_size[s] <= warehouse_data.capacity[l] ## TODO sum over shipment or not\n",
    "    );\n",
    "\n",
    "    # Each location can hold at most one product at any specific time:\n",
    "    overlap_dict = Dict{Int64,Vector{Int64}}()\n",
    "    for s1 in 1:S\n",
    "        s = []\n",
    "        for s2 in s1+1:S\n",
    "            if shipment_data.arrival_time[s1] <= shipment_data.departure_time[s2] && shipment_data.arrival_time[s2] <= shipment_data.departure_time[s1]\n",
    "                append!(s, s2)\n",
    "            end\n",
    "        end\n",
    "        overlap_dict[s1] = s\n",
    "    end\n",
    "\n",
    "    # function find_overlap(s1)\n",
    "    #     s = []\n",
    "    #     for s2 in s1:S\n",
    "    #         if shipment_data.arrival_time[s1] <= shipment_data.departure_time[s2] && shipment_data.arrival_time[s2] <= shipment_data.departure_time[s1]\n",
    "    #             append!(s, s2)\n",
    "    #         end\n",
    "    #     end\n",
    "    #     return s\n",
    "    # end\n",
    "\n",
    "    # @constraint(model, no_overlap_1[s1 in 1:S, s2 in find_overlap(s1)],\n",
    "    #     r[s1] - r[s2] <= -.01 + (L+5) * y[s1,s2]\n",
    "    # );\n",
    "    # @constraint(model, no_overlap_2[s1 in 1:S, s2 in find_overlap(s1)],\n",
    "    #     r[s1] - r[s2] >= .01 - (1-y[s1,s2]) * (L+5)\n",
    "    # );\n",
    "    @constraint(model, no_overlap_1[s1 in 1:S, s2 in overlap_dict[s1]],\n",
    "        r[s1] - r[s2] <= -.01 + (L+5) * y[s1,s2]\n",
    "    );\n",
    "    @constraint(model, no_overlap_2[s1 in 1:S, s2 in overlap_dict[s1]],\n",
    "        r[s1] - r[s2] >= .01 - (1-y[s1,s2]) * (L+5)\n",
    "    );\n",
    "\n",
    "    return model, z\n",
    "end\n"
   ]
  },
  {
   "cell_type": "code",
   "execution_count": 21,
   "metadata": {},
   "outputs": [
    {
     "name": "stdout",
     "output_type": "stream",
     "text": [
      "Starting 1\n",
      "Set parameter Username\n",
      "Academic license - for non-commercial use only - expires 2024-04-18\n",
      "Set parameter TimeLimit to value 60\n"
     ]
    },
    {
     "name": "stdout",
     "output_type": "stream",
     "text": [
      "Starting 2\n",
      "Set parameter Username\n",
      "Academic license - for non-commercial use only - expires 2024-04-18\n",
      "Set parameter TimeLimit to value 60\n"
     ]
    },
    {
     "name": "stdout",
     "output_type": "stream",
     "text": [
      "Starting 1\n",
      "Set parameter Username\n",
      "Academic license - for non-commercial use only - expires 2024-04-18\n",
      "Set parameter TimeLimit to value 60\n"
     ]
    },
    {
     "name": "stdout",
     "output_type": "stream",
     "text": [
      "Starting 2\n",
      "Set parameter Username\n",
      "Academic license - for non-commercial use only - expires 2024-04-18\n",
      "Set parameter TimeLimit to value 60\n"
     ]
    },
    {
     "name": "stdout",
     "output_type": "stream",
     "text": [
      "Starting 1\n",
      "Set parameter Username\n",
      "Academic license - for non-commercial use only - expires 2024-04-18\n",
      "Set parameter TimeLimit to value 60\n"
     ]
    },
    {
     "name": "stdout",
     "output_type": "stream",
     "text": [
      "Starting 2\n",
      "Set parameter Username\n",
      "Academic license - for non-commercial use only - expires 2024-04-18\n",
      "Set parameter TimeLimit to value 60\n"
     ]
    },
    {
     "name": "stdout",
     "output_type": "stream",
     "text": [
      "Starting 1\n",
      "Set parameter Username\n",
      "Academic license - for non-commercial use only - expires 2024-04-18\n",
      "Set parameter TimeLimit to value 60\n"
     ]
    },
    {
     "name": "stdout",
     "output_type": "stream",
     "text": [
      "Starting 2\n",
      "Set parameter Username\n",
      "Academic license - for non-commercial use only - expires 2024-04-18\n",
      "Set parameter TimeLimit to value 60\n"
     ]
    },
    {
     "name": "stdout",
     "output_type": "stream",
     "text": [
      "Starting 1\n",
      "Set parameter Username\n",
      "Academic license - for non-commercial use only - expires 2024-04-18\n",
      "Set parameter TimeLimit to value 60\n"
     ]
    },
    {
     "name": "stdout",
     "output_type": "stream",
     "text": [
      "Starting 2\n",
      "Set parameter Username\n",
      "Academic license - for non-commercial use only - expires 2024-04-18\n",
      "Set parameter TimeLimit to value 60\n"
     ]
    },
    {
     "name": "stdout",
     "output_type": "stream",
     "text": [
      "Starting 1\n",
      "Set parameter Username\n",
      "Academic license - for non-commercial use only - expires 2024-04-18\n",
      "Set parameter TimeLimit to value 60\n"
     ]
    },
    {
     "name": "stdout",
     "output_type": "stream",
     "text": [
      "Starting 2\n",
      "Set parameter Username\n",
      "Academic license - for non-commercial use only - expires 2024-04-18\n",
      "Set parameter TimeLimit to value 60\n"
     ]
    },
    {
     "name": "stdout",
     "output_type": "stream",
     "text": [
      "Starting 1\n",
      "Set parameter Username\n",
      "Academic license - for non-commercial use only - expires 2024-04-18\n",
      "Set parameter TimeLimit to value 60\n"
     ]
    },
    {
     "name": "stdout",
     "output_type": "stream",
     "text": [
      "Starting 2\n",
      "Set parameter Username\n",
      "Academic license - for non-commercial use only - expires 2024-04-18\n",
      "Set parameter TimeLimit to value 60\n"
     ]
    },
    {
     "name": "stdout",
     "output_type": "stream",
     "text": [
      "Starting 1\n",
      "Set parameter Username\n",
      "Academic license - for non-commercial use only - expires 2024-04-18\n",
      "Set parameter TimeLimit to value 60\n"
     ]
    },
    {
     "name": "stdout",
     "output_type": "stream",
     "text": [
      "Starting 2\n",
      "Set parameter Username\n",
      "Academic license - for non-commercial use only - expires 2024-04-18\n",
      "Set parameter TimeLimit to value 60\n"
     ]
    },
    {
     "name": "stdout",
     "output_type": "stream",
     "text": [
      "Starting 1\n",
      "Set parameter Username\n",
      "Academic license - for non-commercial use only - expires 2024-04-18\n",
      "Set parameter TimeLimit to value 60\n"
     ]
    },
    {
     "name": "stdout",
     "output_type": "stream",
     "text": [
      "Starting 2\n",
      "Set parameter Username\n",
      "Academic license - for non-commercial use only - expires 2024-04-18\n",
      "Set parameter TimeLimit to value 60\n"
     ]
    },
    {
     "name": "stdout",
     "output_type": "stream",
     "text": [
      "Starting 1\n",
      "Set parameter Username\n",
      "Academic license - for non-commercial use only - expires 2024-04-18\n",
      "Set parameter TimeLimit to value 60\n"
     ]
    },
    {
     "name": "stdout",
     "output_type": "stream",
     "text": [
      "Starting 2\n",
      "Set parameter Username\n",
      "Academic license - for non-commercial use only - expires 2024-04-18\n",
      "Set parameter TimeLimit to value 60\n"
     ]
    },
    {
     "name": "stdout",
     "output_type": "stream",
     "text": [
      "Starting 1\n",
      "Set parameter Username\n",
      "Academic license - for non-commercial use only - expires 2024-04-18\n",
      "Set parameter TimeLimit to value 60\n"
     ]
    },
    {
     "name": "stdout",
     "output_type": "stream",
     "text": [
      "Starting 2\n",
      "Set parameter Username\n",
      "Academic license - for non-commercial use only - expires 2024-04-18\n",
      "Set parameter TimeLimit to value 60\n"
     ]
    },
    {
     "name": "stdout",
     "output_type": "stream",
     "text": [
      "Starting 1\n",
      "Set parameter Username\n",
      "Academic license - for non-commercial use only - expires 2024-04-18\n",
      "Set parameter TimeLimit to value 60\n"
     ]
    },
    {
     "name": "stdout",
     "output_type": "stream",
     "text": [
      "Starting 2\n",
      "Set parameter Username\n",
      "Academic license - for non-commercial use only - expires 2024-04-18\n",
      "Set parameter TimeLimit to value 60\n"
     ]
    },
    {
     "name": "stdout",
     "output_type": "stream",
     "text": [
      "Starting 1\n",
      "Set parameter Username\n",
      "Academic license - for non-commercial use only - expires 2024-04-18\n",
      "Set parameter TimeLimit to value 60\n"
     ]
    },
    {
     "name": "stdout",
     "output_type": "stream",
     "text": [
      "Starting 2\n",
      "Set parameter Username\n",
      "Academic license - for non-commercial use only - expires 2024-04-18\n",
      "Set parameter TimeLimit to value 60\n"
     ]
    },
    {
     "name": "stdout",
     "output_type": "stream",
     "text": [
      "Starting 1\n",
      "Set parameter Username\n",
      "Academic license - for non-commercial use only - expires 2024-04-18\n",
      "Set parameter TimeLimit to value 60\n"
     ]
    },
    {
     "name": "stdout",
     "output_type": "stream",
     "text": [
      "Starting 2\n",
      "Set parameter Username\n",
      "Academic license - for non-commercial use only - expires 2024-04-18\n",
      "Set parameter TimeLimit to value 60\n"
     ]
    },
    {
     "name": "stdout",
     "output_type": "stream",
     "text": [
      "Starting 1\n",
      "Set parameter Username\n",
      "Academic license - for non-commercial use only - expires 2024-04-18\n",
      "Set parameter TimeLimit to value 60\n"
     ]
    },
    {
     "name": "stdout",
     "output_type": "stream",
     "text": [
      "Starting 2\n",
      "Set parameter Username\n",
      "Academic license - for non-commercial use only - expires 2024-04-18\n",
      "Set parameter TimeLimit to value 60\n"
     ]
    },
    {
     "name": "stdout",
     "output_type": "stream",
     "text": [
      "Starting 1\n",
      "Set parameter Username\n",
      "Academic license - for non-commercial use only - expires 2024-04-18\n",
      "Set parameter TimeLimit to value 60\n"
     ]
    },
    {
     "name": "stdout",
     "output_type": "stream",
     "text": [
      "Starting 2\n",
      "Set parameter Username\n",
      "Academic license - for non-commercial use only - expires 2024-04-18\n",
      "Set parameter TimeLimit to value 60\n"
     ]
    },
    {
     "name": "stdout",
     "output_type": "stream",
     "text": [
      "Starting 1\n",
      "Set parameter Username\n",
      "Academic license - for non-commercial use only - expires 2024-04-18\n",
      "Set parameter TimeLimit to value 60\n"
     ]
    },
    {
     "name": "stdout",
     "output_type": "stream",
     "text": [
      "Starting 2\n",
      "Set parameter Username\n",
      "Academic license - for non-commercial use only - expires 2024-04-18\n",
      "Set parameter TimeLimit to value 60\n"
     ]
    },
    {
     "name": "stdout",
     "output_type": "stream",
     "text": [
      "Starting 1\n",
      "Set parameter Username\n",
      "Academic license - for non-commercial use only - expires 2024-04-18\n",
      "Set parameter TimeLimit to value 60\n"
     ]
    },
    {
     "name": "stdout",
     "output_type": "stream",
     "text": [
      "Starting 2\n",
      "Set parameter Username\n",
      "Academic license - for non-commercial use only - expires 2024-04-18\n",
      "Set parameter TimeLimit to value 60\n"
     ]
    },
    {
     "name": "stdout",
     "output_type": "stream",
     "text": [
      "Starting 1\n",
      "Set parameter Username\n",
      "Academic license - for non-commercial use only - expires 2024-04-18\n",
      "Set parameter TimeLimit to value 60\n"
     ]
    },
    {
     "name": "stdout",
     "output_type": "stream",
     "text": [
      "Starting 2\n",
      "Set parameter Username\n",
      "Academic license - for non-commercial use only - expires 2024-04-18\n",
      "Set parameter TimeLimit to value 60\n"
     ]
    },
    {
     "name": "stdout",
     "output_type": "stream",
     "text": [
      "Starting 1\n",
      "Set parameter Username\n",
      "Academic license - for non-commercial use only - expires 2024-04-18\n",
      "Set parameter TimeLimit to value 60\n"
     ]
    },
    {
     "name": "stdout",
     "output_type": "stream",
     "text": [
      "Starting 2\n",
      "Set parameter Username\n",
      "Academic license - for non-commercial use only - expires 2024-04-18\n",
      "Set parameter TimeLimit to value 60\n"
     ]
    },
    {
     "name": "stdout",
     "output_type": "stream",
     "text": [
      "Starting 1\n",
      "Set parameter Username\n",
      "Academic license - for non-commercial use only - expires 2024-04-18\n",
      "Set parameter TimeLimit to value 60\n"
     ]
    },
    {
     "name": "stdout",
     "output_type": "stream",
     "text": [
      "Starting 2\n",
      "Set parameter Username\n",
      "Academic license - for non-commercial use only - expires 2024-04-18\n",
      "Set parameter TimeLimit to value 60\n"
     ]
    },
    {
     "name": "stdout",
     "output_type": "stream",
     "text": [
      "Starting 1\n",
      "Set parameter Username\n",
      "Academic license - for non-commercial use only - expires 2024-04-18\n",
      "Set parameter TimeLimit to value 60\n"
     ]
    },
    {
     "name": "stdout",
     "output_type": "stream",
     "text": [
      "Starting 2\n",
      "Set parameter Username\n",
      "Academic license - for non-commercial use only - expires 2024-04-18\n",
      "Set parameter TimeLimit to value 60\n"
     ]
    },
    {
     "name": "stdout",
     "output_type": "stream",
     "text": [
      "Starting 1\n",
      "Set parameter Username\n",
      "Academic license - for non-commercial use only - expires 2024-04-18\n",
      "Set parameter TimeLimit to value 60\n"
     ]
    },
    {
     "name": "stdout",
     "output_type": "stream",
     "text": [
      "Starting 2\n",
      "Set parameter Username\n",
      "Academic license - for non-commercial use only - expires 2024-04-18\n",
      "Set parameter TimeLimit to value 60\n"
     ]
    },
    {
     "name": "stdout",
     "output_type": "stream",
     "text": [
      "Starting 1\n",
      "Set parameter Username\n",
      "Academic license - for non-commercial use only - expires 2024-04-18\n",
      "Set parameter TimeLimit to value 60\n"
     ]
    },
    {
     "name": "stdout",
     "output_type": "stream",
     "text": [
      "Starting 2\n",
      "Set parameter Username\n",
      "Academic license - for non-commercial use only - expires 2024-04-18\n",
      "Set parameter TimeLimit to value 60\n"
     ]
    },
    {
     "name": "stdout",
     "output_type": "stream",
     "text": [
      "Starting 1\n",
      "Set parameter Username\n",
      "Academic license - for non-commercial use only - expires 2024-04-18\n",
      "Set parameter TimeLimit to value 60\n"
     ]
    },
    {
     "name": "stdout",
     "output_type": "stream",
     "text": [
      "Starting 2\n",
      "Set parameter Username\n",
      "Academic license - for non-commercial use only - expires 2024-04-18\n",
      "Set parameter TimeLimit to value 60\n"
     ]
    },
    {
     "name": "stdout",
     "output_type": "stream",
     "text": [
      "Starting 1\n",
      "Set parameter Username\n",
      "Academic license - for non-commercial use only - expires 2024-04-18\n",
      "Set parameter TimeLimit to value 60\n"
     ]
    },
    {
     "name": "stdout",
     "output_type": "stream",
     "text": [
      "Starting 2\n",
      "Set parameter Username\n",
      "Academic license - for non-commercial use only - expires 2024-04-18\n",
      "Set parameter TimeLimit to value 60\n"
     ]
    },
    {
     "name": "stdout",
     "output_type": "stream",
     "text": [
      "Starting 1\n",
      "Set parameter Username\n",
      "Academic license - for non-commercial use only - expires 2024-04-18\n",
      "Set parameter TimeLimit to value 60\n"
     ]
    },
    {
     "name": "stdout",
     "output_type": "stream",
     "text": [
      "Starting 2\n",
      "Set parameter Username\n",
      "Academic license - for non-commercial use only - expires 2024-04-18\n",
      "Set parameter TimeLimit to value 60\n"
     ]
    },
    {
     "name": "stdout",
     "output_type": "stream",
     "text": [
      "Starting 1\n",
      "Set parameter Username\n",
      "Academic license - for non-commercial use only - expires 2024-04-18\n",
      "Set parameter TimeLimit to value 60\n"
     ]
    },
    {
     "name": "stdout",
     "output_type": "stream",
     "text": [
      "Starting 2\n",
      "Set parameter Username\n",
      "Academic license - for non-commercial use only - expires 2024-04-18\n",
      "Set parameter TimeLimit to value 60\n"
     ]
    },
    {
     "name": "stdout",
     "output_type": "stream",
     "text": [
      "Starting 1\n",
      "Set parameter Username\n",
      "Academic license - for non-commercial use only - expires 2024-04-18\n",
      "Set parameter TimeLimit to value 60\n"
     ]
    },
    {
     "name": "stdout",
     "output_type": "stream",
     "text": [
      "Starting 2\n",
      "Set parameter Username\n",
      "Academic license - for non-commercial use only - expires 2024-04-18\n",
      "Set parameter TimeLimit to value 60\n"
     ]
    },
    {
     "name": "stdout",
     "output_type": "stream",
     "text": [
      "Starting 1\n",
      "Set parameter Username\n",
      "Academic license - for non-commercial use only - expires 2024-04-18\n",
      "Set parameter TimeLimit to value 60\n"
     ]
    },
    {
     "name": "stdout",
     "output_type": "stream",
     "text": [
      "Starting 2\n",
      "Set parameter Username\n",
      "Academic license - for non-commercial use only - expires 2024-04-18\n",
      "Set parameter TimeLimit to value 60\n"
     ]
    },
    {
     "name": "stdout",
     "output_type": "stream",
     "text": [
      "Starting 1\n",
      "Set parameter Username\n",
      "Academic license - for non-commercial use only - expires 2024-04-18\n",
      "Set parameter TimeLimit to value 60\n"
     ]
    },
    {
     "name": "stdout",
     "output_type": "stream",
     "text": [
      "Starting 2\n",
      "Set parameter Username\n",
      "Academic license - for non-commercial use only - expires 2024-04-18\n",
      "Set parameter TimeLimit to value 60\n"
     ]
    },
    {
     "name": "stdout",
     "output_type": "stream",
     "text": [
      "Starting 1\n",
      "Set parameter Username\n",
      "Academic license - for non-commercial use only - expires 2024-04-18\n",
      "Set parameter TimeLimit to value 60\n"
     ]
    },
    {
     "name": "stdout",
     "output_type": "stream",
     "text": [
      "Starting 2\n",
      "Set parameter Username\n",
      "Academic license - for non-commercial use only - expires 2024-04-18\n",
      "Set parameter TimeLimit to value 60\n"
     ]
    },
    {
     "name": "stdout",
     "output_type": "stream",
     "text": [
      "Starting 1\n",
      "Set parameter Username\n",
      "Academic license - for non-commercial use only - expires 2024-04-18\n",
      "Set parameter TimeLimit to value 60\n"
     ]
    },
    {
     "name": "stdout",
     "output_type": "stream",
     "text": [
      "Starting 2\n",
      "Set parameter Username\n",
      "Academic license - for non-commercial use only - expires 2024-04-18\n",
      "Set parameter TimeLimit to value 60\n"
     ]
    },
    {
     "name": "stdout",
     "output_type": "stream",
     "text": [
      "Starting 1\n",
      "Set parameter Username\n",
      "Academic license - for non-commercial use only - expires 2024-04-18\n",
      "Set parameter TimeLimit to value 60\n"
     ]
    },
    {
     "name": "stdout",
     "output_type": "stream",
     "text": [
      "Starting 2\n",
      "Set parameter Username\n",
      "Academic license - for non-commercial use only - expires 2024-04-18\n",
      "Set parameter TimeLimit to value 60\n"
     ]
    },
    {
     "name": "stdout",
     "output_type": "stream",
     "text": [
      "Starting 1\n",
      "Set parameter Username\n",
      "Academic license - for non-commercial use only - expires 2024-04-18\n",
      "Set parameter TimeLimit to value 60\n"
     ]
    },
    {
     "name": "stdout",
     "output_type": "stream",
     "text": [
      "Starting 2\n",
      "Set parameter Username\n",
      "Academic license - for non-commercial use only - expires 2024-04-18\n",
      "Set parameter TimeLimit to value 60\n"
     ]
    },
    {
     "name": "stdout",
     "output_type": "stream",
     "text": [
      "Starting 1\n",
      "Set parameter Username\n",
      "Academic license - for non-commercial use only - expires 2024-04-18\n",
      "Set parameter TimeLimit to value 60\n"
     ]
    },
    {
     "name": "stdout",
     "output_type": "stream",
     "text": [
      "Starting 2\n",
      "Set parameter Username\n",
      "Academic license - for non-commercial use only - expires 2024-04-18\n",
      "Set parameter TimeLimit to value 60\n"
     ]
    },
    {
     "name": "stdout",
     "output_type": "stream",
     "text": [
      "df = 36×10 DataFrame\n",
      " Row │ L      S      T      cap_tightness  buildtime1  solvetime1  objective1     buildtime2   solvetime2   objective2\n",
      "     │ Int64  Int64  Int64  Float64        Float64     Float64     Float64        Float64      Float64      Float64\n",
      "─────┼─────────────────────────────────────────────────────────────────────────────────────────────────────────────────\n",
      "   1 │   400     10     20            0.1    0.883548    0.264797     89.3596       0.270399     0.0574515     89.3596\n",
      "   2 │   900     10     20            0.1    2.55467     0.606599    100.315        0.0482839    0.117666     100.315\n",
      "   3 │   400    100     20            0.1    1.23822     4.67916    1979.04         4.53246      5.41804     1979.04\n",
      "   4 │   900    100     20            0.1    4.35539     9.77591    1917.82         7.24719     22.1681      1917.82\n",
      "   5 │   400    300     20            0.1    5.11191    12.5828     9314.33        30.5363      89.7277     19146.3\n",
      "   6 │   900    300     20            0.1   20.4086     27.0847     9138.17       168.795      151.786      28607.1\n",
      "   7 │   400     10     30            0.1    0.427624    0.416238     98.1249       0.0446169    0.0616525     98.1249\n",
      "   8 │   900     10     30            0.1    0.79797     0.975861     89.3596       0.0832507    0.122163      89.3596\n",
      "   9 │   400    100     30            0.1   17.2176      4.58799    1928.24         2.16845      5.848       1928.24\n",
      "  10 │   900    100     30            0.1    6.26543    14.5683     1894.18         6.64631     13.4419      1894.18\n",
      "  11 │   400    300     30            0.1    9.74888    18.3979     9143.02        33.9765      90.8989     19042.0\n",
      "  12 │   900    300     30            0.1   27.6431     42.1157     9628.44       141.42       155.333      28916.3\n",
      "  13 │   400     10    100            0.1   30.8714      1.24228     103.603        0.080686     0.0669052    103.603\n",
      "  14 │   900     10    100            0.1    2.37619     3.1492       95.0164       0.0877026    0.395911      95.0164\n",
      "  15 │   400    100    100            0.1    9.36847    37.3631     1744.68         1.80705     11.094       1744.68\n",
      "  16 │   900    100    100            0.1   24.9737     44.9697     1780.69         9.323       12.8767      1780.69\n",
      "  17 │   400    300    100            0.1   34.7813     68.626      8863.26        43.5169      92.1389     19294.6\n",
      "  18 │   900    300    100            0.1  125.947     187.25          2.14748e9  207.34       183.512      28922.1\n",
      "  19 │   400     10     20            1.0    0.437421    0.390538    108.543        0.0994537    0.0480602    108.543\n",
      "  20 │   900     10     20            1.0    0.795101    0.753641     99.4603       0.181014     0.126646      99.4603\n",
      "  21 │   400    100     20            1.0    3.24984     3.44626    2373.34        30.8618       3.97964     2373.34\n",
      "  22 │   900    100     20            1.0    3.96891     7.5627     2297.15        11.0694       9.26333     2297.15\n",
      "  23 │   400    300     20            1.0    8.30222     9.22911   10035.1         33.6284      81.1707     19996.8\n",
      "  24 │   900    300     20            1.0   22.4541     25.8993     9980.01       155.254      158.37       28630.4\n",
      "  25 │   400     10     30            1.0    0.6198      0.538904    112.248        0.0671057    0.0494411    112.248\n",
      "  26 │   900     10     30            1.0    0.8421      1.03721     119.474        0.0958102    0.143672     119.474\n",
      "  27 │   400    100     30            1.0   18.412       3.99652    2241.1          2.12228      3.68342     2241.1\n",
      "  28 │   900    100     30            1.0    7.01246    12.0946     2047.74         7.68931     11.9613      2047.74\n",
      "  29 │   400    300     30            1.0    7.05112    17.1661    10030.9         33.8775      91.7235     18715.5\n",
      "  30 │   900    300     30            1.0   29.4067     40.9853     9938.74       155.42       172.657      27734.8\n",
      "  31 │   400     10    100            1.0    2.06388     1.67838     101.229        0.0849445    0.0627025    101.229\n",
      "  32 │   900     10    100            1.0   21.7713      2.42768      92.2296       0.0355518    0.0726878     92.2296\n",
      "  33 │   400    100    100            1.0    9.39401    16.9943     2211.63         2.16526      4.69033     2211.63\n",
      "  34 │   900    100    100            1.0   23.6425     36.881      1880.71         8.48005     11.3387      1880.71\n",
      "  35 │   400    300    100            1.0   36.7192     57.6843     9187.31        43.1171      79.9316     19038.4\n",
      "  36 │   900    300    100            1.0  137.865     175.634         2.14748e9  247.349      216.581      28821.8\n"
     ]
    },
    {
     "data": {
      "text/html": [
       "<div><div style = \"float: left;\"><span>36×10 DataFrame</span></div><div style = \"float: right;\"><span style = \"font-style: italic;\">11 rows omitted</span></div><div style = \"clear: both;\"></div></div><div class = \"data-frame\" style = \"overflow-x: scroll;\"><table class = \"data-frame\" style = \"margin-bottom: 6px;\"><thead><tr class = \"header\"><th class = \"rowNumber\" style = \"font-weight: bold; text-align: right;\">Row</th><th style = \"text-align: left;\">L</th><th style = \"text-align: left;\">S</th><th style = \"text-align: left;\">T</th><th style = \"text-align: left;\">cap_tightness</th><th style = \"text-align: left;\">buildtime1</th><th style = \"text-align: left;\">solvetime1</th><th style = \"text-align: left;\">objective1</th><th style = \"text-align: left;\">buildtime2</th><th style = \"text-align: left;\">solvetime2</th><th style = \"text-align: left;\">objective2</th></tr><tr class = \"subheader headerLastRow\"><th class = \"rowNumber\" style = \"font-weight: bold; text-align: right;\"></th><th title = \"Int64\" style = \"text-align: left;\">Int64</th><th title = \"Int64\" style = \"text-align: left;\">Int64</th><th title = \"Int64\" style = \"text-align: left;\">Int64</th><th title = \"Float64\" style = \"text-align: left;\">Float64</th><th title = \"Float64\" style = \"text-align: left;\">Float64</th><th title = \"Float64\" style = \"text-align: left;\">Float64</th><th title = \"Float64\" style = \"text-align: left;\">Float64</th><th title = \"Float64\" style = \"text-align: left;\">Float64</th><th title = \"Float64\" style = \"text-align: left;\">Float64</th><th title = \"Float64\" style = \"text-align: left;\">Float64</th></tr></thead><tbody><tr><td class = \"rowNumber\" style = \"font-weight: bold; text-align: right;\">1</td><td style = \"text-align: right;\">400</td><td style = \"text-align: right;\">10</td><td style = \"text-align: right;\">20</td><td style = \"text-align: right;\">0.1</td><td style = \"text-align: right;\">0.883548</td><td style = \"text-align: right;\">0.264797</td><td style = \"text-align: right;\">89.3596</td><td style = \"text-align: right;\">0.270399</td><td style = \"text-align: right;\">0.0574515</td><td style = \"text-align: right;\">89.3596</td></tr><tr><td class = \"rowNumber\" style = \"font-weight: bold; text-align: right;\">2</td><td style = \"text-align: right;\">900</td><td style = \"text-align: right;\">10</td><td style = \"text-align: right;\">20</td><td style = \"text-align: right;\">0.1</td><td style = \"text-align: right;\">2.55467</td><td style = \"text-align: right;\">0.606599</td><td style = \"text-align: right;\">100.315</td><td style = \"text-align: right;\">0.0482839</td><td style = \"text-align: right;\">0.117666</td><td style = \"text-align: right;\">100.315</td></tr><tr><td class = \"rowNumber\" style = \"font-weight: bold; text-align: right;\">3</td><td style = \"text-align: right;\">400</td><td style = \"text-align: right;\">100</td><td style = \"text-align: right;\">20</td><td style = \"text-align: right;\">0.1</td><td style = \"text-align: right;\">1.23822</td><td style = \"text-align: right;\">4.67916</td><td style = \"text-align: right;\">1979.04</td><td style = \"text-align: right;\">4.53246</td><td style = \"text-align: right;\">5.41804</td><td style = \"text-align: right;\">1979.04</td></tr><tr><td class = \"rowNumber\" style = \"font-weight: bold; text-align: right;\">4</td><td style = \"text-align: right;\">900</td><td style = \"text-align: right;\">100</td><td style = \"text-align: right;\">20</td><td style = \"text-align: right;\">0.1</td><td style = \"text-align: right;\">4.35539</td><td style = \"text-align: right;\">9.77591</td><td style = \"text-align: right;\">1917.82</td><td style = \"text-align: right;\">7.24719</td><td style = \"text-align: right;\">22.1681</td><td style = \"text-align: right;\">1917.82</td></tr><tr><td class = \"rowNumber\" style = \"font-weight: bold; text-align: right;\">5</td><td style = \"text-align: right;\">400</td><td style = \"text-align: right;\">300</td><td style = \"text-align: right;\">20</td><td style = \"text-align: right;\">0.1</td><td style = \"text-align: right;\">5.11191</td><td style = \"text-align: right;\">12.5828</td><td style = \"text-align: right;\">9314.33</td><td style = \"text-align: right;\">30.5363</td><td style = \"text-align: right;\">89.7277</td><td style = \"text-align: right;\">19146.3</td></tr><tr><td class = \"rowNumber\" style = \"font-weight: bold; text-align: right;\">6</td><td style = \"text-align: right;\">900</td><td style = \"text-align: right;\">300</td><td style = \"text-align: right;\">20</td><td style = \"text-align: right;\">0.1</td><td style = \"text-align: right;\">20.4086</td><td style = \"text-align: right;\">27.0847</td><td style = \"text-align: right;\">9138.17</td><td style = \"text-align: right;\">168.795</td><td style = \"text-align: right;\">151.786</td><td style = \"text-align: right;\">28607.1</td></tr><tr><td class = \"rowNumber\" style = \"font-weight: bold; text-align: right;\">7</td><td style = \"text-align: right;\">400</td><td style = \"text-align: right;\">10</td><td style = \"text-align: right;\">30</td><td style = \"text-align: right;\">0.1</td><td style = \"text-align: right;\">0.427624</td><td style = \"text-align: right;\">0.416238</td><td style = \"text-align: right;\">98.1249</td><td style = \"text-align: right;\">0.0446169</td><td style = \"text-align: right;\">0.0616525</td><td style = \"text-align: right;\">98.1249</td></tr><tr><td class = \"rowNumber\" style = \"font-weight: bold; text-align: right;\">8</td><td style = \"text-align: right;\">900</td><td style = \"text-align: right;\">10</td><td style = \"text-align: right;\">30</td><td style = \"text-align: right;\">0.1</td><td style = \"text-align: right;\">0.79797</td><td style = \"text-align: right;\">0.975861</td><td style = \"text-align: right;\">89.3596</td><td style = \"text-align: right;\">0.0832507</td><td style = \"text-align: right;\">0.122163</td><td style = \"text-align: right;\">89.3596</td></tr><tr><td class = \"rowNumber\" style = \"font-weight: bold; text-align: right;\">9</td><td style = \"text-align: right;\">400</td><td style = \"text-align: right;\">100</td><td style = \"text-align: right;\">30</td><td style = \"text-align: right;\">0.1</td><td style = \"text-align: right;\">17.2176</td><td style = \"text-align: right;\">4.58799</td><td style = \"text-align: right;\">1928.24</td><td style = \"text-align: right;\">2.16845</td><td style = \"text-align: right;\">5.848</td><td style = \"text-align: right;\">1928.24</td></tr><tr><td class = \"rowNumber\" style = \"font-weight: bold; text-align: right;\">10</td><td style = \"text-align: right;\">900</td><td style = \"text-align: right;\">100</td><td style = \"text-align: right;\">30</td><td style = \"text-align: right;\">0.1</td><td style = \"text-align: right;\">6.26543</td><td style = \"text-align: right;\">14.5683</td><td style = \"text-align: right;\">1894.18</td><td style = \"text-align: right;\">6.64631</td><td style = \"text-align: right;\">13.4419</td><td style = \"text-align: right;\">1894.18</td></tr><tr><td class = \"rowNumber\" style = \"font-weight: bold; text-align: right;\">11</td><td style = \"text-align: right;\">400</td><td style = \"text-align: right;\">300</td><td style = \"text-align: right;\">30</td><td style = \"text-align: right;\">0.1</td><td style = \"text-align: right;\">9.74888</td><td style = \"text-align: right;\">18.3979</td><td style = \"text-align: right;\">9143.02</td><td style = \"text-align: right;\">33.9765</td><td style = \"text-align: right;\">90.8989</td><td style = \"text-align: right;\">19042.0</td></tr><tr><td class = \"rowNumber\" style = \"font-weight: bold; text-align: right;\">12</td><td style = \"text-align: right;\">900</td><td style = \"text-align: right;\">300</td><td style = \"text-align: right;\">30</td><td style = \"text-align: right;\">0.1</td><td style = \"text-align: right;\">27.6431</td><td style = \"text-align: right;\">42.1157</td><td style = \"text-align: right;\">9628.44</td><td style = \"text-align: right;\">141.42</td><td style = \"text-align: right;\">155.333</td><td style = \"text-align: right;\">28916.3</td></tr><tr><td class = \"rowNumber\" style = \"font-weight: bold; text-align: right;\">13</td><td style = \"text-align: right;\">400</td><td style = \"text-align: right;\">10</td><td style = \"text-align: right;\">100</td><td style = \"text-align: right;\">0.1</td><td style = \"text-align: right;\">30.8714</td><td style = \"text-align: right;\">1.24228</td><td style = \"text-align: right;\">103.603</td><td style = \"text-align: right;\">0.080686</td><td style = \"text-align: right;\">0.0669052</td><td style = \"text-align: right;\">103.603</td></tr><tr><td style = \"text-align: right;\">&vellip;</td><td style = \"text-align: right;\">&vellip;</td><td style = \"text-align: right;\">&vellip;</td><td style = \"text-align: right;\">&vellip;</td><td style = \"text-align: right;\">&vellip;</td><td style = \"text-align: right;\">&vellip;</td><td style = \"text-align: right;\">&vellip;</td><td style = \"text-align: right;\">&vellip;</td><td style = \"text-align: right;\">&vellip;</td><td style = \"text-align: right;\">&vellip;</td><td style = \"text-align: right;\">&vellip;</td></tr><tr><td class = \"rowNumber\" style = \"font-weight: bold; text-align: right;\">25</td><td style = \"text-align: right;\">400</td><td style = \"text-align: right;\">10</td><td style = \"text-align: right;\">30</td><td style = \"text-align: right;\">1.0</td><td style = \"text-align: right;\">0.6198</td><td style = \"text-align: right;\">0.538904</td><td style = \"text-align: right;\">112.248</td><td style = \"text-align: right;\">0.0671057</td><td style = \"text-align: right;\">0.0494411</td><td style = \"text-align: right;\">112.248</td></tr><tr><td class = \"rowNumber\" style = \"font-weight: bold; text-align: right;\">26</td><td style = \"text-align: right;\">900</td><td style = \"text-align: right;\">10</td><td style = \"text-align: right;\">30</td><td style = \"text-align: right;\">1.0</td><td style = \"text-align: right;\">0.8421</td><td style = \"text-align: right;\">1.03721</td><td style = \"text-align: right;\">119.474</td><td style = \"text-align: right;\">0.0958102</td><td style = \"text-align: right;\">0.143672</td><td style = \"text-align: right;\">119.474</td></tr><tr><td class = \"rowNumber\" style = \"font-weight: bold; text-align: right;\">27</td><td style = \"text-align: right;\">400</td><td style = \"text-align: right;\">100</td><td style = \"text-align: right;\">30</td><td style = \"text-align: right;\">1.0</td><td style = \"text-align: right;\">18.412</td><td style = \"text-align: right;\">3.99652</td><td style = \"text-align: right;\">2241.1</td><td style = \"text-align: right;\">2.12228</td><td style = \"text-align: right;\">3.68342</td><td style = \"text-align: right;\">2241.1</td></tr><tr><td class = \"rowNumber\" style = \"font-weight: bold; text-align: right;\">28</td><td style = \"text-align: right;\">900</td><td style = \"text-align: right;\">100</td><td style = \"text-align: right;\">30</td><td style = \"text-align: right;\">1.0</td><td style = \"text-align: right;\">7.01246</td><td style = \"text-align: right;\">12.0946</td><td style = \"text-align: right;\">2047.74</td><td style = \"text-align: right;\">7.68931</td><td style = \"text-align: right;\">11.9613</td><td style = \"text-align: right;\">2047.74</td></tr><tr><td class = \"rowNumber\" style = \"font-weight: bold; text-align: right;\">29</td><td style = \"text-align: right;\">400</td><td style = \"text-align: right;\">300</td><td style = \"text-align: right;\">30</td><td style = \"text-align: right;\">1.0</td><td style = \"text-align: right;\">7.05112</td><td style = \"text-align: right;\">17.1661</td><td style = \"text-align: right;\">10030.9</td><td style = \"text-align: right;\">33.8775</td><td style = \"text-align: right;\">91.7235</td><td style = \"text-align: right;\">18715.5</td></tr><tr><td class = \"rowNumber\" style = \"font-weight: bold; text-align: right;\">30</td><td style = \"text-align: right;\">900</td><td style = \"text-align: right;\">300</td><td style = \"text-align: right;\">30</td><td style = \"text-align: right;\">1.0</td><td style = \"text-align: right;\">29.4067</td><td style = \"text-align: right;\">40.9853</td><td style = \"text-align: right;\">9938.74</td><td style = \"text-align: right;\">155.42</td><td style = \"text-align: right;\">172.657</td><td style = \"text-align: right;\">27734.8</td></tr><tr><td class = \"rowNumber\" style = \"font-weight: bold; text-align: right;\">31</td><td style = \"text-align: right;\">400</td><td style = \"text-align: right;\">10</td><td style = \"text-align: right;\">100</td><td style = \"text-align: right;\">1.0</td><td style = \"text-align: right;\">2.06388</td><td style = \"text-align: right;\">1.67838</td><td style = \"text-align: right;\">101.229</td><td style = \"text-align: right;\">0.0849445</td><td style = \"text-align: right;\">0.0627025</td><td style = \"text-align: right;\">101.229</td></tr><tr><td class = \"rowNumber\" style = \"font-weight: bold; text-align: right;\">32</td><td style = \"text-align: right;\">900</td><td style = \"text-align: right;\">10</td><td style = \"text-align: right;\">100</td><td style = \"text-align: right;\">1.0</td><td style = \"text-align: right;\">21.7713</td><td style = \"text-align: right;\">2.42768</td><td style = \"text-align: right;\">92.2296</td><td style = \"text-align: right;\">0.0355518</td><td style = \"text-align: right;\">0.0726878</td><td style = \"text-align: right;\">92.2296</td></tr><tr><td class = \"rowNumber\" style = \"font-weight: bold; text-align: right;\">33</td><td style = \"text-align: right;\">400</td><td style = \"text-align: right;\">100</td><td style = \"text-align: right;\">100</td><td style = \"text-align: right;\">1.0</td><td style = \"text-align: right;\">9.39401</td><td style = \"text-align: right;\">16.9943</td><td style = \"text-align: right;\">2211.63</td><td style = \"text-align: right;\">2.16526</td><td style = \"text-align: right;\">4.69033</td><td style = \"text-align: right;\">2211.63</td></tr><tr><td class = \"rowNumber\" style = \"font-weight: bold; text-align: right;\">34</td><td style = \"text-align: right;\">900</td><td style = \"text-align: right;\">100</td><td style = \"text-align: right;\">100</td><td style = \"text-align: right;\">1.0</td><td style = \"text-align: right;\">23.6425</td><td style = \"text-align: right;\">36.881</td><td style = \"text-align: right;\">1880.71</td><td style = \"text-align: right;\">8.48005</td><td style = \"text-align: right;\">11.3387</td><td style = \"text-align: right;\">1880.71</td></tr><tr><td class = \"rowNumber\" style = \"font-weight: bold; text-align: right;\">35</td><td style = \"text-align: right;\">400</td><td style = \"text-align: right;\">300</td><td style = \"text-align: right;\">100</td><td style = \"text-align: right;\">1.0</td><td style = \"text-align: right;\">36.7192</td><td style = \"text-align: right;\">57.6843</td><td style = \"text-align: right;\">9187.31</td><td style = \"text-align: right;\">43.1171</td><td style = \"text-align: right;\">79.9316</td><td style = \"text-align: right;\">19038.4</td></tr><tr><td class = \"rowNumber\" style = \"font-weight: bold; text-align: right;\">36</td><td style = \"text-align: right;\">900</td><td style = \"text-align: right;\">300</td><td style = \"text-align: right;\">100</td><td style = \"text-align: right;\">1.0</td><td style = \"text-align: right;\">137.865</td><td style = \"text-align: right;\">175.634</td><td style = \"text-align: right;\">2.14748e9</td><td style = \"text-align: right;\">247.349</td><td style = \"text-align: right;\">216.581</td><td style = \"text-align: right;\">28821.8</td></tr></tbody></table></div>"
      ],
      "text/latex": [
       "\\begin{tabular}{r|ccccccccc}\n",
       "\t& L & S & T & cap\\_tightness & buildtime1 & solvetime1 & objective1 & buildtime2 & \\\\\n",
       "\t\\hline\n",
       "\t& Int64 & Int64 & Int64 & Float64 & Float64 & Float64 & Float64 & Float64 & \\\\\n",
       "\t\\hline\n",
       "\t1 & 400 & 10 & 20 & 0.1 & 0.883548 & 0.264797 & 89.3596 & 0.270399 & $\\dots$ \\\\\n",
       "\t2 & 900 & 10 & 20 & 0.1 & 2.55467 & 0.606599 & 100.315 & 0.0482839 & $\\dots$ \\\\\n",
       "\t3 & 400 & 100 & 20 & 0.1 & 1.23822 & 4.67916 & 1979.04 & 4.53246 & $\\dots$ \\\\\n",
       "\t4 & 900 & 100 & 20 & 0.1 & 4.35539 & 9.77591 & 1917.82 & 7.24719 & $\\dots$ \\\\\n",
       "\t5 & 400 & 300 & 20 & 0.1 & 5.11191 & 12.5828 & 9314.33 & 30.5363 & $\\dots$ \\\\\n",
       "\t6 & 900 & 300 & 20 & 0.1 & 20.4086 & 27.0847 & 9138.17 & 168.795 & $\\dots$ \\\\\n",
       "\t7 & 400 & 10 & 30 & 0.1 & 0.427624 & 0.416238 & 98.1249 & 0.0446169 & $\\dots$ \\\\\n",
       "\t8 & 900 & 10 & 30 & 0.1 & 0.79797 & 0.975861 & 89.3596 & 0.0832507 & $\\dots$ \\\\\n",
       "\t9 & 400 & 100 & 30 & 0.1 & 17.2176 & 4.58799 & 1928.24 & 2.16845 & $\\dots$ \\\\\n",
       "\t10 & 900 & 100 & 30 & 0.1 & 6.26543 & 14.5683 & 1894.18 & 6.64631 & $\\dots$ \\\\\n",
       "\t11 & 400 & 300 & 30 & 0.1 & 9.74888 & 18.3979 & 9143.02 & 33.9765 & $\\dots$ \\\\\n",
       "\t12 & 900 & 300 & 30 & 0.1 & 27.6431 & 42.1157 & 9628.44 & 141.42 & $\\dots$ \\\\\n",
       "\t13 & 400 & 10 & 100 & 0.1 & 30.8714 & 1.24228 & 103.603 & 0.080686 & $\\dots$ \\\\\n",
       "\t14 & 900 & 10 & 100 & 0.1 & 2.37619 & 3.1492 & 95.0164 & 0.0877026 & $\\dots$ \\\\\n",
       "\t15 & 400 & 100 & 100 & 0.1 & 9.36847 & 37.3631 & 1744.68 & 1.80705 & $\\dots$ \\\\\n",
       "\t16 & 900 & 100 & 100 & 0.1 & 24.9737 & 44.9697 & 1780.69 & 9.323 & $\\dots$ \\\\\n",
       "\t17 & 400 & 300 & 100 & 0.1 & 34.7813 & 68.626 & 8863.26 & 43.5169 & $\\dots$ \\\\\n",
       "\t18 & 900 & 300 & 100 & 0.1 & 125.947 & 187.25 & 2.14748e9 & 207.34 & $\\dots$ \\\\\n",
       "\t19 & 400 & 10 & 20 & 1.0 & 0.437421 & 0.390538 & 108.543 & 0.0994537 & $\\dots$ \\\\\n",
       "\t20 & 900 & 10 & 20 & 1.0 & 0.795101 & 0.753641 & 99.4603 & 0.181014 & $\\dots$ \\\\\n",
       "\t21 & 400 & 100 & 20 & 1.0 & 3.24984 & 3.44626 & 2373.34 & 30.8618 & $\\dots$ \\\\\n",
       "\t22 & 900 & 100 & 20 & 1.0 & 3.96891 & 7.5627 & 2297.15 & 11.0694 & $\\dots$ \\\\\n",
       "\t23 & 400 & 300 & 20 & 1.0 & 8.30222 & 9.22911 & 10035.1 & 33.6284 & $\\dots$ \\\\\n",
       "\t24 & 900 & 300 & 20 & 1.0 & 22.4541 & 25.8993 & 9980.01 & 155.254 & $\\dots$ \\\\\n",
       "\t$\\dots$ & $\\dots$ & $\\dots$ & $\\dots$ & $\\dots$ & $\\dots$ & $\\dots$ & $\\dots$ & $\\dots$ &  \\\\\n",
       "\\end{tabular}\n"
      ],
      "text/plain": [
       "\u001b[1m36×10 DataFrame\u001b[0m\n",
       "\u001b[1m Row \u001b[0m│\u001b[1m L     \u001b[0m\u001b[1m S     \u001b[0m\u001b[1m T     \u001b[0m\u001b[1m cap_tightness \u001b[0m\u001b[1m buildtime1 \u001b[0m\u001b[1m solvetime1 \u001b[0m\u001b[1m objective1 \u001b[0m ⋯\n",
       "     │\u001b[90m Int64 \u001b[0m\u001b[90m Int64 \u001b[0m\u001b[90m Int64 \u001b[0m\u001b[90m Float64       \u001b[0m\u001b[90m Float64    \u001b[0m\u001b[90m Float64    \u001b[0m\u001b[90m Float64    \u001b[0m ⋯\n",
       "─────┼──────────────────────────────────────────────────────────────────────────\n",
       "   1 │   400     10     20            0.1    0.883548    0.264797     89.3596  ⋯\n",
       "   2 │   900     10     20            0.1    2.55467     0.606599    100.315\n",
       "   3 │   400    100     20            0.1    1.23822     4.67916    1979.04\n",
       "   4 │   900    100     20            0.1    4.35539     9.77591    1917.82\n",
       "   5 │   400    300     20            0.1    5.11191    12.5828     9314.33    ⋯\n",
       "   6 │   900    300     20            0.1   20.4086     27.0847     9138.17\n",
       "   7 │   400     10     30            0.1    0.427624    0.416238     98.1249\n",
       "   8 │   900     10     30            0.1    0.79797     0.975861     89.3596\n",
       "  ⋮  │   ⋮      ⋮      ⋮          ⋮            ⋮           ⋮             ⋮     ⋱\n",
       "  30 │   900    300     30            1.0   29.4067     40.9853     9938.74    ⋯\n",
       "  31 │   400     10    100            1.0    2.06388     1.67838     101.229\n",
       "  32 │   900     10    100            1.0   21.7713      2.42768      92.2296\n",
       "  33 │   400    100    100            1.0    9.39401    16.9943     2211.63\n",
       "  34 │   900    100    100            1.0   23.6425     36.881      1880.71    ⋯\n",
       "  35 │   400    300    100            1.0   36.7192     57.6843     9187.31\n",
       "  36 │   900    300    100            1.0  137.865     175.634         2.14748\n",
       "\u001b[36m                                                   4 columns and 21 rows omitted\u001b[0m"
      ]
     },
     "metadata": {},
     "output_type": "display_data"
    }
   ],
   "source": [
    "Random.seed!(3000)\n",
    "\n",
    "plotdata = []\n",
    "# packing S paths in LT space\n",
    "L_range = [(20, 20), (30, 30)] #, (30, 75)]\n",
    "S_range = [10, 100, 300] #, 100, 250]\n",
    "T_range = [20, 30, 100]\n",
    "cap_tightness_range = [.1, 1]\n",
    "for ((r, c), s, t, cap_tightness) in Iterators.product(\n",
    "    L_range,\n",
    "    S_range,\n",
    "    T_range,\n",
    "    cap_tightness_range\n",
    ")\n",
    "    G = 2\n",
    "    R = r\n",
    "    C = c\n",
    "    L = R*C\n",
    "    T = t\n",
    "    max_shipment_size = 10\n",
    "    S = s\n",
    "    #function WarehouseData(grid_size, warehouse_row, warehouse_col, max_shipment_size, time_horizon, cap_tightness)\n",
    "    warehouse_data = WarehouseData(G, T, R, C, max_shipment_size, cap_tightness)\n",
    "    shipment_data = ShipmentData(T, S, max_shipment_size)\n",
    "\n",
    "    @printf \"Starting 1\\n\"\n",
    "    buildtime1 = @elapsed model1, _, _ = three_slt_extended_time_space(warehouse_data, shipment_data) #\n",
    "    # optimize!(model1)\n",
    "    solvetime1 = @elapsed @suppress optimize!(model1)\n",
    "    objective1 = typemax(Int32)\n",
    "    try\n",
    "        objective1 = objective_value(model1)\n",
    "    catch\n",
    "    end\n",
    "\n",
    "    @printf \"Starting 2\\n\"\n",
    "    buildtime2 = @elapsed model2, _ = two_sl_so(warehouse_data, shipment_data)#\n",
    "    # optimize!(model2)\n",
    "    solvetime2 = @elapsed @suppress optimize!(model2)\n",
    "    objective2 = typemax(Int32)\n",
    "    try\n",
    "        objective2 = objective_value(model2)\n",
    "    catch\n",
    "    end\n",
    "    \n",
    "\n",
    "    push!(plotdata, (\n",
    "        L = L,\n",
    "        S = S,\n",
    "        T = T,\n",
    "        cap_tightness = cap_tightness,\n",
    "        buildtime1 = buildtime1, \n",
    "        solvetime1 = solvetime1, \n",
    "        objective1 = objective1,\n",
    "        buildtime2 = buildtime2, \n",
    "        solvetime2 = solvetime2, \n",
    "        objective2 = objective2,\n",
    "\n",
    "    ))\n",
    "end\n",
    "df = DataFrame(plotdata)\n",
    "\n",
    "@show df"
   ]
  },
  {
   "cell_type": "code",
   "execution_count": 22,
   "metadata": {},
   "outputs": [
    {
     "name": "stdout",
     "output_type": "stream",
     "text": [
      "combine(groupby(df, [:T, :S]), [:solvetime1, :solvetime2] .=> mean) = 9×4 DataFrame\n",
      " Row │ T      S      solvetime1_mean  solvetime2_mean\n",
      "     │ Int64  Int64  Float64          Float64\n",
      "─────┼────────────────────────────────────────────────\n",
      "   1 │    20     10         0.503894        0.0874558\n",
      "   2 │    20    100         6.36601        10.2073\n",
      "   3 │    20    300        18.699         120.264\n",
      "   4 │    30     10         0.742053        0.0942323\n",
      "   5 │    30    100         8.81185         8.73367\n",
      "   6 │    30    300        29.6663        127.653\n",
      "   7 │   100     10         2.12439         0.149552\n",
      "   8 │   100    100        34.052           9.99992\n",
      "   9 │   100    300       122.299         143.041\n",
      "combine(groupby(df, [:cap_tightness]), [:solvetime1, :solvetime2] .=> mean) = 2×3 DataFrame\n",
      " Row │ cap_tightness  solvetime1_mean  solvetime2_mean\n",
      "     │ Float64        Float64          Float64\n",
      "─────┼─────────────────────────────────────────────────\n",
      "   1 │           0.1          26.592           46.3925\n",
      "   2 │           1.0          23.0222          46.9919\n"
     ]
    }
   ],
   "source": [
    "@show combine(groupby(df, [:T, :S]), [:solvetime1, :solvetime2].=> mean)\n",
    "@show combine(groupby(df, [:cap_tightness]), [:solvetime1, :solvetime2].=> mean);"
   ]
  },
  {
   "cell_type": "code",
   "execution_count": 6,
   "metadata": {},
   "outputs": [
    {
     "name": "stdout",
     "output_type": "stream",
     "text": [
      "Starting 1\n",
      "Set parameter Username\n",
      "Academic license - for non-commercial use only - expires 2024-04-18\n",
      "Set parameter TimeLimit to value 60\n"
     ]
    },
    {
     "name": "stdout",
     "output_type": "stream",
     "text": [
      "Starting 2\n",
      "Set parameter Username\n",
      "Academic license - for non-commercial use only - expires 2024-04-18\n",
      "Set parameter TimeLimit to value 60\n"
     ]
    },
    {
     "name": "stdout",
     "output_type": "stream",
     "text": [
      "Starting 3\n",
      "Set parameter Username\n",
      "Academic license - for non-commercial use only - expires 2024-04-18\n",
      "Set parameter TimeLimit to value 60\n"
     ]
    },
    {
     "name": "stdout",
     "output_type": "stream",
     "text": [
      "Starting 1\n",
      "Set parameter Username\n",
      "Academic license - for non-commercial use only - expires 2024-04-18\n",
      "Set parameter TimeLimit to value 60\n"
     ]
    },
    {
     "name": "stdout",
     "output_type": "stream",
     "text": [
      "Starting 2\n",
      "Set parameter Username\n",
      "Academic license - for non-commercial use only - expires 2024-04-18\n",
      "Set parameter TimeLimit to value 60\n"
     ]
    },
    {
     "name": "stdout",
     "output_type": "stream",
     "text": [
      "Starting 3\n",
      "Set parameter Username\n",
      "Academic license - for non-commercial use only - expires 2024-04-18\n",
      "Set parameter TimeLimit to value 60\n"
     ]
    },
    {
     "name": "stdout",
     "output_type": "stream",
     "text": [
      "combine(groupby(df_l2500, [:T, :S]), [:solvetime1, :solvetime2] .=> mean) = 1×4 DataFrame\n",
      " Row │ T      S      solvetime1_mean  solvetime2_mean\n",
      "     │ Int64  Int64  Float64          Float64\n",
      "─────┼────────────────────────────────────────────────\n",
      "   1 │    10     30          4.22692           3.1088\n"
     ]
    },
    {
     "name": "stdout",
     "output_type": "stream",
     "text": [
      "combine(groupby(df_l2500, [:cap_tightness]), [:solvetime1, :solvetime2] .=> mean) = 2×3 DataFrame\n",
      " Row │ cap_tightness  solvetime1_mean  solvetime2_mean\n",
      "     │ Float64        Float64          Float64\n",
      "─────┼─────────────────────────────────────────────────\n",
      "   1 │           0.5          5.12253          2.91358\n",
      "   2 │           1.0          3.33131          3.30401\n"
     ]
    }
   ],
   "source": [
    "Random.seed!(3000)\n",
    "\n",
    "plotdata = []\n",
    "# packing S paths in LT space\n",
    "L_range = [(50, 50)] #, (30, 75)]\n",
    "S_range = [30]#[30, 100, 200]\n",
    "T_range = [10] #[10, 50, 100]\n",
    "cap_tightness_range = [0.5, 1]\n",
    "for ((r, c), s, t, cap_tightness) in Iterators.product(\n",
    "    L_range,\n",
    "    S_range,\n",
    "    T_range,\n",
    "    cap_tightness_range\n",
    ")\n",
    "    G = 2\n",
    "    R = r\n",
    "    C = c\n",
    "    L = R*C\n",
    "    T = t\n",
    "    max_shipment_size = 10\n",
    "    S = s\n",
    "    #function WarehouseData(grid_size, warehouse_row, warehouse_col, max_shipment_size, time_horizon, cap_tightness)\n",
    "    warehouse_data = WarehouseData(G, T, R, C, max_shipment_size, cap_tightness)\n",
    "    shipment_data = ShipmentData(T, S, max_shipment_size)\n",
    "\n",
    "    @printf \"Starting 1\\n\"\n",
    "    buildtime1 = @elapsed model1, _, _ = three_slt_extended_time_space(warehouse_data, shipment_data) #\n",
    "    # optimize!(model1)\n",
    "    solvetime1 = @elapsed @suppress optimize!(model1)\n",
    "    objective1 = typemax(Int32)\n",
    "    try\n",
    "        objective1 = objective_value(model1)\n",
    "    catch\n",
    "    end\n",
    "\n",
    "    @printf \"Starting 2\\n\"\n",
    "    buildtime2 = @elapsed model2, _ = two_sl_so(warehouse_data, shipment_data)#\n",
    "    # optimize!(model2)\n",
    "    solvetime2 = @elapsed @suppress optimize!(model2)\n",
    "    objective2 = typemax(Int32)\n",
    "    try\n",
    "        objective2 = objective_value(model2)\n",
    "    catch\n",
    "    end\n",
    "    \n",
    "    @printf \"Starting 3\\n\"\n",
    "    buildtime3 = @elapsed model3, _ = two_sl_cso(warehouse_data, shipment_data)\n",
    "    # optimize!(model3)\n",
    "    solvetime3 = @elapsed @suppress optimize!(model3)\n",
    "    objective3 = typemax(Int32)\n",
    "    try\n",
    "        objective3 = objective_value(model3)\n",
    "    catch\n",
    "    end\n",
    "\n",
    "    push!(plotdata, (\n",
    "        L = L,\n",
    "        S = S,\n",
    "        T = T,\n",
    "        cap_tightness = cap_tightness,\n",
    "        buildtime1 = buildtime1, \n",
    "        solvetime1 = solvetime1, \n",
    "        objective1 = objective1,\n",
    "        buildtime2 = buildtime2, \n",
    "        solvetime2 = solvetime2, \n",
    "        objective2 = objective2,\n",
    "        buildtime3 = buildtime3, \n",
    "        solvetime3 = solvetime3,\n",
    "        objective3 = objective3,\n",
    "\n",
    "    ))\n",
    "end\n",
    "df_l2500 = DataFrame(plotdata)\n",
    "\n",
    "@show combine(groupby(df_l2500, [:T, :S]), [:solvetime1, :solvetime2].=> mean)\n",
    "@show combine(groupby(df_l2500, [:cap_tightness]), [:solvetime1, :solvetime2].=> mean);"
   ]
  },
  {
   "cell_type": "code",
   "execution_count": 7,
   "metadata": {},
   "outputs": [
    {
     "data": {
      "text/html": [
       "<div><div style = \"float: left;\"><span>2×13 DataFrame</span></div><div style = \"clear: both;\"></div></div><div class = \"data-frame\" style = \"overflow-x: scroll;\"><table class = \"data-frame\" style = \"margin-bottom: 6px;\"><thead><tr class = \"header\"><th class = \"rowNumber\" style = \"font-weight: bold; text-align: right;\">Row</th><th style = \"text-align: left;\">L</th><th style = \"text-align: left;\">S</th><th style = \"text-align: left;\">T</th><th style = \"text-align: left;\">cap_tightness</th><th style = \"text-align: left;\">buildtime1</th><th style = \"text-align: left;\">solvetime1</th><th style = \"text-align: left;\">objective1</th><th style = \"text-align: left;\">buildtime2</th><th style = \"text-align: left;\">solvetime2</th><th style = \"text-align: left;\">objective2</th><th style = \"text-align: left;\">buildtime3</th><th style = \"text-align: left;\">solvetime3</th><th style = \"text-align: left;\">objective3</th></tr><tr class = \"subheader headerLastRow\"><th class = \"rowNumber\" style = \"font-weight: bold; text-align: right;\"></th><th title = \"Int64\" style = \"text-align: left;\">Int64</th><th title = \"Int64\" style = \"text-align: left;\">Int64</th><th title = \"Int64\" style = \"text-align: left;\">Int64</th><th title = \"Float64\" style = \"text-align: left;\">Float64</th><th title = \"Float64\" style = \"text-align: left;\">Float64</th><th title = \"Float64\" style = \"text-align: left;\">Float64</th><th title = \"Float64\" style = \"text-align: left;\">Float64</th><th title = \"Float64\" style = \"text-align: left;\">Float64</th><th title = \"Float64\" style = \"text-align: left;\">Float64</th><th title = \"Float64\" style = \"text-align: left;\">Float64</th><th title = \"Float64\" style = \"text-align: left;\">Float64</th><th title = \"Float64\" style = \"text-align: left;\">Float64</th><th title = \"Float64\" style = \"text-align: left;\">Float64</th></tr></thead><tbody><tr><td class = \"rowNumber\" style = \"font-weight: bold; text-align: right;\">1</td><td style = \"text-align: right;\">2500</td><td style = \"text-align: right;\">30</td><td style = \"text-align: right;\">10</td><td style = \"text-align: right;\">0.5</td><td style = \"text-align: right;\">5.50148</td><td style = \"text-align: right;\">5.12253</td><td style = \"text-align: right;\">401.993</td><td style = \"text-align: right;\">2.07887</td><td style = \"text-align: right;\">2.91358</td><td style = \"text-align: right;\">401.993</td><td style = \"text-align: right;\">1.05394</td><td style = \"text-align: right;\">60.3568</td><td style = \"text-align: right;\">401.993</td></tr><tr><td class = \"rowNumber\" style = \"font-weight: bold; text-align: right;\">2</td><td style = \"text-align: right;\">2500</td><td style = \"text-align: right;\">30</td><td style = \"text-align: right;\">10</td><td style = \"text-align: right;\">1.0</td><td style = \"text-align: right;\">2.16724</td><td style = \"text-align: right;\">3.33131</td><td style = \"text-align: right;\">477.754</td><td style = \"text-align: right;\">1.3556</td><td style = \"text-align: right;\">3.30401</td><td style = \"text-align: right;\">477.754</td><td style = \"text-align: right;\">0.0985846</td><td style = \"text-align: right;\">60.5859</td><td style = \"text-align: right;\">490.543</td></tr></tbody></table></div>"
      ],
      "text/latex": [
       "\\begin{tabular}{r|ccccccccc}\n",
       "\t& L & S & T & cap\\_tightness & buildtime1 & solvetime1 & objective1 & buildtime2 & \\\\\n",
       "\t\\hline\n",
       "\t& Int64 & Int64 & Int64 & Float64 & Float64 & Float64 & Float64 & Float64 & \\\\\n",
       "\t\\hline\n",
       "\t1 & 2500 & 30 & 10 & 0.5 & 5.50148 & 5.12253 & 401.993 & 2.07887 & $\\dots$ \\\\\n",
       "\t2 & 2500 & 30 & 10 & 1.0 & 2.16724 & 3.33131 & 477.754 & 1.3556 & $\\dots$ \\\\\n",
       "\\end{tabular}\n"
      ],
      "text/plain": [
       "\u001b[1m2×13 DataFrame\u001b[0m\n",
       "\u001b[1m Row \u001b[0m│\u001b[1m L     \u001b[0m\u001b[1m S     \u001b[0m\u001b[1m T     \u001b[0m\u001b[1m cap_tightness \u001b[0m\u001b[1m buildtime1 \u001b[0m\u001b[1m solvetime1 \u001b[0m\u001b[1m objective1 \u001b[0m\u001b[1m\u001b[0m ⋯\n",
       "     │\u001b[90m Int64 \u001b[0m\u001b[90m Int64 \u001b[0m\u001b[90m Int64 \u001b[0m\u001b[90m Float64       \u001b[0m\u001b[90m Float64    \u001b[0m\u001b[90m Float64    \u001b[0m\u001b[90m Float64    \u001b[0m\u001b[90m\u001b[0m ⋯\n",
       "─────┼──────────────────────────────────────────────────────────────────────────\n",
       "   1 │  2500     30     10            0.5     5.50148     5.12253     401.993  ⋯\n",
       "   2 │  2500     30     10            1.0     2.16724     3.33131     477.754\n",
       "\u001b[36m                                                               6 columns omitted\u001b[0m"
      ]
     },
     "metadata": {},
     "output_type": "display_data"
    }
   ],
   "source": [
    "df_l2500"
   ]
  },
  {
   "cell_type": "code",
   "execution_count": 8,
   "metadata": {},
   "outputs": [
    {
     "name": "stdout",
     "output_type": "stream",
     "text": [
      "Starting 1\n",
      "Set parameter Username\n",
      "Academic license - for non-commercial use only - expires 2024-04-18\n",
      "Set parameter TimeLimit to value 60\n"
     ]
    },
    {
     "name": "stdout",
     "output_type": "stream",
     "text": [
      "Starting 2\n",
      "Set parameter Username\n",
      "Academic license - for non-commercial use only - expires 2024-04-18\n",
      "Set parameter TimeLimit to value 60\n"
     ]
    },
    {
     "name": "stdout",
     "output_type": "stream",
     "text": [
      "Starting 1\n",
      "Set parameter Username\n",
      "Academic license - for non-commercial use only - expires 2024-04-18\n",
      "Set parameter TimeLimit to value 60\n"
     ]
    },
    {
     "name": "stdout",
     "output_type": "stream",
     "text": [
      "Starting 2\n",
      "Set parameter Username\n",
      "Academic license - for non-commercial use only - expires 2024-04-18\n",
      "Set parameter TimeLimit to value 60\n"
     ]
    },
    {
     "name": "stdout",
     "output_type": "stream",
     "text": [
      "Starting 1\n",
      "Set parameter Username\n",
      "Academic license - for non-commercial use only - expires 2024-04-18\n",
      "Set parameter TimeLimit to value 60\n"
     ]
    },
    {
     "name": "stdout",
     "output_type": "stream",
     "text": [
      "Starting 2\n",
      "Set parameter Username\n",
      "Academic license - for non-commercial use only - expires 2024-04-18\n",
      "Set parameter TimeLimit to value 60\n"
     ]
    },
    {
     "name": "stdout",
     "output_type": "stream",
     "text": [
      "Starting 1\n",
      "Set parameter Username\n",
      "Academic license - for non-commercial use only - expires 2024-04-18\n",
      "Set parameter TimeLimit to value 60\n"
     ]
    },
    {
     "name": "stdout",
     "output_type": "stream",
     "text": [
      "Starting 2\n",
      "Set parameter Username\n",
      "Academic license - for non-commercial use only - expires 2024-04-18\n",
      "Set parameter TimeLimit to value 60\n"
     ]
    },
    {
     "name": "stdout",
     "output_type": "stream",
     "text": [
      "Starting 1\n",
      "Set parameter Username\n",
      "Academic license - for non-commercial use only - expires 2024-04-18\n",
      "Set parameter TimeLimit to value 60\n"
     ]
    },
    {
     "name": "stdout",
     "output_type": "stream",
     "text": [
      "Starting 2\n",
      "Set parameter Username\n",
      "Academic license - for non-commercial use only - expires 2024-04-18\n",
      "Set parameter TimeLimit to value 60\n"
     ]
    },
    {
     "name": "stdout",
     "output_type": "stream",
     "text": [
      "Starting 1\n",
      "Set parameter Username\n",
      "Academic license - for non-commercial use only - expires 2024-04-18\n",
      "Set parameter TimeLimit to value 60\n"
     ]
    },
    {
     "name": "stdout",
     "output_type": "stream",
     "text": [
      "Starting 2\n",
      "Set parameter Username\n",
      "Academic license - for non-commercial use only - expires 2024-04-18\n",
      "Set parameter TimeLimit to value 60\n"
     ]
    },
    {
     "ename": "UndefVarError",
     "evalue": "UndefVarError: df2 not defined",
     "output_type": "error",
     "traceback": [
      "UndefVarError: df2 not defined\n",
      "\n",
      "Stacktrace:\n",
      " [1] top-level scope\n",
      "   @ ~/Dropbox (MIT)/tolzul/BayesSD/code/pipeline/prescriptive/IP/15083pj/term_project.ipynb:63"
     ]
    }
   ],
   "source": [
    "Random.seed!(3000)\n",
    "\n",
    "plotdata = []\n",
    "# packing S paths in LT space\n",
    "L_range = [(10, 10), (20, 20), (30, 30)] #, (30, 75)]\n",
    "S_range = [100]\n",
    "T_range = [50]\n",
    "cap_tightness_range = [0.5, 1]\n",
    "for ((r, c), s, t, cap_tightness) in Iterators.product(\n",
    "    L_range,\n",
    "    S_range,\n",
    "    T_range,\n",
    "    cap_tightness_range\n",
    ")\n",
    "    G = 2\n",
    "    R = r\n",
    "    C = c\n",
    "    L = R*C\n",
    "    T = t\n",
    "    max_shipment_size = 10\n",
    "    S = s\n",
    "    #function WarehouseData(grid_size, warehouse_row, warehouse_col, max_shipment_size, time_horizon, cap_tightness)\n",
    "    warehouse_data = WarehouseData(G, T, R, C, max_shipment_size, cap_tightness)\n",
    "    shipment_data = ShipmentData(T, S, max_shipment_size)\n",
    "\n",
    "    @printf \"Starting 1\\n\"\n",
    "    buildtime1 = @elapsed model1, _, _ = three_slt_extended_time_space(warehouse_data, shipment_data) #\n",
    "    # optimize!(model1)\n",
    "    solvetime1 = @elapsed @suppress optimize!(model1)\n",
    "    objective1 = typemax(Int32)\n",
    "    try\n",
    "        objective1 = objective_value(model1)\n",
    "    catch\n",
    "    end\n",
    "\n",
    "    @printf \"Starting 2\\n\"\n",
    "    buildtime2 = @elapsed model2, _ = two_sl_so(warehouse_data, shipment_data)#\n",
    "    # optimize!(model2)\n",
    "    solvetime2 = @elapsed @suppress optimize!(model2)\n",
    "    objective2 = typemax(Int32)\n",
    "    try\n",
    "        objective2 = objective_value(model2)\n",
    "    catch\n",
    "    end\n",
    "    \n",
    "\n",
    "    push!(plotdata, (\n",
    "        L = L,\n",
    "        S = S,\n",
    "        T = T,\n",
    "        cap_tightness = cap_tightness,\n",
    "        buildtime1 = buildtime1, \n",
    "        solvetime1 = solvetime1, \n",
    "        objective1 = objective1,\n",
    "        buildtime2 = buildtime2, \n",
    "        solvetime2 = solvetime2, \n",
    "        objective2 = objective2,\n",
    "\n",
    "    ))\n",
    "end\n",
    "df_l_149 = DataFrame(plotdata)"
   ]
  },
  {
   "cell_type": "code",
   "execution_count": 9,
   "metadata": {},
   "outputs": [
    {
     "name": "stdout",
     "output_type": "stream",
     "text": [
      "combine(groupby(df_l_149, [:T, :S]), [:solvetime1, :solvetime2] .=> mean) = 1×4 DataFrame\n",
      " Row │ T      S      solvetime1_mean  solvetime2_mean\n",
      "     │ Int64  Int64  Float64          Float64\n",
      "─────┼────────────────────────────────────────────────\n",
      "   1 │    50    100          9.37563          6.03148\n",
      "combine(groupby(df_l_149, [:cap_tightness]), [:solvetime1, :solvetime2] .=> mean) = 2×3 DataFrame\n",
      " Row │ cap_tightness  solvetime1_mean  solvetime2_mean\n",
      "     │ Float64        Float64          Float64\n",
      "─────┼─────────────────────────────────────────────────\n",
      "   1 │           0.5         10.0288           6.80013\n",
      "   2 │           1.0          8.72246          5.26284\n"
     ]
    }
   ],
   "source": [
    "@show combine(groupby(df_l_149, [:T, :S]), [:solvetime1, :solvetime2].=> mean)\n",
    "@show combine(groupby(df_l_149, [:cap_tightness]), [:solvetime1, :solvetime2].=> mean);"
   ]
  },
  {
   "cell_type": "code",
   "execution_count": 98,
   "metadata": {},
   "outputs": [
    {
     "data": {
      "text/plain": [
       "\"lst2.csv\""
      ]
     },
     "metadata": {},
     "output_type": "display_data"
    }
   ],
   "source": [
    "\n",
    "CSV.write(\"lst2.csv\", df3)\n"
   ]
  },
  {
   "cell_type": "code",
   "execution_count": 96,
   "metadata": {},
   "outputs": [
    {
     "data": {
      "text/html": [
       "<div><div style = \"float: left;\"><span>18×10 DataFrame</span></div><div style = \"clear: both;\"></div></div><div class = \"data-frame\" style = \"overflow-x: scroll;\"><table class = \"data-frame\" style = \"margin-bottom: 6px;\"><thead><tr class = \"header\"><th class = \"rowNumber\" style = \"font-weight: bold; text-align: right;\">Row</th><th style = \"text-align: left;\">L</th><th style = \"text-align: left;\">S</th><th style = \"text-align: left;\">T</th><th style = \"text-align: left;\">cap_tightness</th><th style = \"text-align: left;\">buildtime1</th><th style = \"text-align: left;\">solvetime1</th><th style = \"text-align: left;\">objective1</th><th style = \"text-align: left;\">buildtime2</th><th style = \"text-align: left;\">solvetime2</th><th style = \"text-align: left;\">objective2</th></tr><tr class = \"subheader headerLastRow\"><th class = \"rowNumber\" style = \"font-weight: bold; text-align: right;\"></th><th title = \"Int64\" style = \"text-align: left;\">Int64</th><th title = \"Int64\" style = \"text-align: left;\">Int64</th><th title = \"Int64\" style = \"text-align: left;\">Int64</th><th title = \"Int64\" style = \"text-align: left;\">Int64</th><th title = \"Float64\" style = \"text-align: left;\">Float64</th><th title = \"Float64\" style = \"text-align: left;\">Float64</th><th title = \"Float64\" style = \"text-align: left;\">Float64</th><th title = \"Float64\" style = \"text-align: left;\">Float64</th><th title = \"Float64\" style = \"text-align: left;\">Float64</th><th title = \"Float64\" style = \"text-align: left;\">Float64</th></tr></thead><tbody><tr><td class = \"rowNumber\" style = \"font-weight: bold; text-align: right;\">1</td><td style = \"text-align: right;\">400</td><td style = \"text-align: right;\">30</td><td style = \"text-align: right;\">10</td><td style = \"text-align: right;\">0</td><td style = \"text-align: right;\">0.206036</td><td style = \"text-align: right;\">0.507014</td><td style = \"text-align: right;\">379.692</td><td style = \"text-align: right;\">0.205769</td><td style = \"text-align: right;\">0.339468</td><td style = \"text-align: right;\">379.692</td></tr><tr><td class = \"rowNumber\" style = \"font-weight: bold; text-align: right;\">2</td><td style = \"text-align: right;\">400</td><td style = \"text-align: right;\">100</td><td style = \"text-align: right;\">10</td><td style = \"text-align: right;\">0</td><td style = \"text-align: right;\">1.05795</td><td style = \"text-align: right;\">1.4089</td><td style = \"text-align: right;\">1981.06</td><td style = \"text-align: right;\">2.84948</td><td style = \"text-align: right;\">8.49821</td><td style = \"text-align: right;\">1981.06</td></tr><tr><td class = \"rowNumber\" style = \"font-weight: bold; text-align: right;\">3</td><td style = \"text-align: right;\">400</td><td style = \"text-align: right;\">200</td><td style = \"text-align: right;\">10</td><td style = \"text-align: right;\">0</td><td style = \"text-align: right;\">1.73826</td><td style = \"text-align: right;\">3.11368</td><td style = \"text-align: right;\">5493.57</td><td style = \"text-align: right;\">13.0571</td><td style = \"text-align: right;\">18.5378</td><td style = \"text-align: right;\">5493.57</td></tr><tr><td class = \"rowNumber\" style = \"font-weight: bold; text-align: right;\">4</td><td style = \"text-align: right;\">400</td><td style = \"text-align: right;\">30</td><td style = \"text-align: right;\">50</td><td style = \"text-align: right;\">0</td><td style = \"text-align: right;\">4.40339</td><td style = \"text-align: right;\">1.91571</td><td style = \"text-align: right;\">418.703</td><td style = \"text-align: right;\">0.205869</td><td style = \"text-align: right;\">0.349075</td><td style = \"text-align: right;\">418.703</td></tr><tr><td class = \"rowNumber\" style = \"font-weight: bold; text-align: right;\">5</td><td style = \"text-align: right;\">400</td><td style = \"text-align: right;\">100</td><td style = \"text-align: right;\">50</td><td style = \"text-align: right;\">0</td><td style = \"text-align: right;\">3.50574</td><td style = \"text-align: right;\">8.29585</td><td style = \"text-align: right;\">1936.26</td><td style = \"text-align: right;\">5.6396</td><td style = \"text-align: right;\">11.4683</td><td style = \"text-align: right;\">1936.26</td></tr><tr><td class = \"rowNumber\" style = \"font-weight: bold; text-align: right;\">6</td><td style = \"text-align: right;\">400</td><td style = \"text-align: right;\">200</td><td style = \"text-align: right;\">50</td><td style = \"text-align: right;\">0</td><td style = \"text-align: right;\">8.6485</td><td style = \"text-align: right;\">18.9859</td><td style = \"text-align: right;\">4942.76</td><td style = \"text-align: right;\">12.865</td><td style = \"text-align: right;\">69.6494</td><td style = \"text-align: right;\">5036.77</td></tr><tr><td class = \"rowNumber\" style = \"font-weight: bold; text-align: right;\">7</td><td style = \"text-align: right;\">400</td><td style = \"text-align: right;\">30</td><td style = \"text-align: right;\">100</td><td style = \"text-align: right;\">0</td><td style = \"text-align: right;\">1.95565</td><td style = \"text-align: right;\">3.61797</td><td style = \"text-align: right;\">352.774</td><td style = \"text-align: right;\">0.186615</td><td style = \"text-align: right;\">0.299297</td><td style = \"text-align: right;\">352.774</td></tr><tr><td class = \"rowNumber\" style = \"font-weight: bold; text-align: right;\">8</td><td style = \"text-align: right;\">400</td><td style = \"text-align: right;\">100</td><td style = \"text-align: right;\">100</td><td style = \"text-align: right;\">0</td><td style = \"text-align: right;\">11.1902</td><td style = \"text-align: right;\">18.6552</td><td style = \"text-align: right;\">1783.61</td><td style = \"text-align: right;\">2.2423</td><td style = \"text-align: right;\">8.80467</td><td style = \"text-align: right;\">1783.61</td></tr><tr><td class = \"rowNumber\" style = \"font-weight: bold; text-align: right;\">9</td><td style = \"text-align: right;\">400</td><td style = \"text-align: right;\">200</td><td style = \"text-align: right;\">100</td><td style = \"text-align: right;\">0</td><td style = \"text-align: right;\">16.827</td><td style = \"text-align: right;\">41.495</td><td style = \"text-align: right;\">4667.13</td><td style = \"text-align: right;\">13.2471</td><td style = \"text-align: right;\">68.6979</td><td style = \"text-align: right;\">4722.24</td></tr><tr><td class = \"rowNumber\" style = \"font-weight: bold; text-align: right;\">10</td><td style = \"text-align: right;\">400</td><td style = \"text-align: right;\">30</td><td style = \"text-align: right;\">10</td><td style = \"text-align: right;\">1</td><td style = \"text-align: right;\">0.224243</td><td style = \"text-align: right;\">0.301694</td><td style = \"text-align: right;\">526.249</td><td style = \"text-align: right;\">0.265194</td><td style = \"text-align: right;\">0.284383</td><td style = \"text-align: right;\">526.249</td></tr><tr><td class = \"rowNumber\" style = \"font-weight: bold; text-align: right;\">11</td><td style = \"text-align: right;\">400</td><td style = \"text-align: right;\">100</td><td style = \"text-align: right;\">10</td><td style = \"text-align: right;\">1</td><td style = \"text-align: right;\">0.854291</td><td style = \"text-align: right;\">1.3573</td><td style = \"text-align: right;\">2307.0</td><td style = \"text-align: right;\">7.02659</td><td style = \"text-align: right;\">3.61511</td><td style = \"text-align: right;\">2307.0</td></tr><tr><td class = \"rowNumber\" style = \"font-weight: bold; text-align: right;\">12</td><td style = \"text-align: right;\">400</td><td style = \"text-align: right;\">200</td><td style = \"text-align: right;\">10</td><td style = \"text-align: right;\">1</td><td style = \"text-align: right;\">2.06896</td><td style = \"text-align: right;\">3.27999</td><td style = \"text-align: right;\">5785.56</td><td style = \"text-align: right;\">13.2702</td><td style = \"text-align: right;\">24.1286</td><td style = \"text-align: right;\">5785.56</td></tr><tr><td class = \"rowNumber\" style = \"font-weight: bold; text-align: right;\">13</td><td style = \"text-align: right;\">400</td><td style = \"text-align: right;\">30</td><td style = \"text-align: right;\">50</td><td style = \"text-align: right;\">1</td><td style = \"text-align: right;\">0.916799</td><td style = \"text-align: right;\">1.46021</td><td style = \"text-align: right;\">472.068</td><td style = \"text-align: right;\">0.164356</td><td style = \"text-align: right;\">0.224842</td><td style = \"text-align: right;\">472.068</td></tr><tr><td class = \"rowNumber\" style = \"font-weight: bold; text-align: right;\">14</td><td style = \"text-align: right;\">400</td><td style = \"text-align: right;\">100</td><td style = \"text-align: right;\">50</td><td style = \"text-align: right;\">1</td><td style = \"text-align: right;\">3.42472</td><td style = \"text-align: right;\">6.96434</td><td style = \"text-align: right;\">1921.54</td><td style = \"text-align: right;\">1.9462</td><td style = \"text-align: right;\">3.68001</td><td style = \"text-align: right;\">1921.54</td></tr><tr><td class = \"rowNumber\" style = \"font-weight: bold; text-align: right;\">15</td><td style = \"text-align: right;\">400</td><td style = \"text-align: right;\">200</td><td style = \"text-align: right;\">50</td><td style = \"text-align: right;\">1</td><td style = \"text-align: right;\">13.0262</td><td style = \"text-align: right;\">15.1941</td><td style = \"text-align: right;\">5814.83</td><td style = \"text-align: right;\">14.7639</td><td style = \"text-align: right;\">27.7176</td><td style = \"text-align: right;\">5814.83</td></tr><tr><td class = \"rowNumber\" style = \"font-weight: bold; text-align: right;\">16</td><td style = \"text-align: right;\">400</td><td style = \"text-align: right;\">30</td><td style = \"text-align: right;\">100</td><td style = \"text-align: right;\">1</td><td style = \"text-align: right;\">2.12914</td><td style = \"text-align: right;\">3.43939</td><td style = \"text-align: right;\">383.746</td><td style = \"text-align: right;\">0.179964</td><td style = \"text-align: right;\">0.230886</td><td style = \"text-align: right;\">383.746</td></tr><tr><td class = \"rowNumber\" style = \"font-weight: bold; text-align: right;\">17</td><td style = \"text-align: right;\">400</td><td style = \"text-align: right;\">100</td><td style = \"text-align: right;\">100</td><td style = \"text-align: right;\">1</td><td style = \"text-align: right;\">12.6005</td><td style = \"text-align: right;\">15.4804</td><td style = \"text-align: right;\">2160.17</td><td style = \"text-align: right;\">2.25398</td><td style = \"text-align: right;\">5.36684</td><td style = \"text-align: right;\">2160.17</td></tr><tr><td class = \"rowNumber\" style = \"font-weight: bold; text-align: right;\">18</td><td style = \"text-align: right;\">400</td><td style = \"text-align: right;\">200</td><td style = \"text-align: right;\">100</td><td style = \"text-align: right;\">1</td><td style = \"text-align: right;\">22.6393</td><td style = \"text-align: right;\">36.8948</td><td style = \"text-align: right;\">5210.32</td><td style = \"text-align: right;\">14.8721</td><td style = \"text-align: right;\">54.5087</td><td style = \"text-align: right;\">5210.32</td></tr></tbody></table></div>"
      ],
      "text/latex": [
       "\\begin{tabular}{r|ccccccccc}\n",
       "\t& L & S & T & cap\\_tightness & buildtime1 & solvetime1 & objective1 & buildtime2 & \\\\\n",
       "\t\\hline\n",
       "\t& Int64 & Int64 & Int64 & Int64 & Float64 & Float64 & Float64 & Float64 & \\\\\n",
       "\t\\hline\n",
       "\t1 & 400 & 30 & 10 & 0 & 0.206036 & 0.507014 & 379.692 & 0.205769 & $\\dots$ \\\\\n",
       "\t2 & 400 & 100 & 10 & 0 & 1.05795 & 1.4089 & 1981.06 & 2.84948 & $\\dots$ \\\\\n",
       "\t3 & 400 & 200 & 10 & 0 & 1.73826 & 3.11368 & 5493.57 & 13.0571 & $\\dots$ \\\\\n",
       "\t4 & 400 & 30 & 50 & 0 & 4.40339 & 1.91571 & 418.703 & 0.205869 & $\\dots$ \\\\\n",
       "\t5 & 400 & 100 & 50 & 0 & 3.50574 & 8.29585 & 1936.26 & 5.6396 & $\\dots$ \\\\\n",
       "\t6 & 400 & 200 & 50 & 0 & 8.6485 & 18.9859 & 4942.76 & 12.865 & $\\dots$ \\\\\n",
       "\t7 & 400 & 30 & 100 & 0 & 1.95565 & 3.61797 & 352.774 & 0.186615 & $\\dots$ \\\\\n",
       "\t8 & 400 & 100 & 100 & 0 & 11.1902 & 18.6552 & 1783.61 & 2.2423 & $\\dots$ \\\\\n",
       "\t9 & 400 & 200 & 100 & 0 & 16.827 & 41.495 & 4667.13 & 13.2471 & $\\dots$ \\\\\n",
       "\t10 & 400 & 30 & 10 & 1 & 0.224243 & 0.301694 & 526.249 & 0.265194 & $\\dots$ \\\\\n",
       "\t11 & 400 & 100 & 10 & 1 & 0.854291 & 1.3573 & 2307.0 & 7.02659 & $\\dots$ \\\\\n",
       "\t12 & 400 & 200 & 10 & 1 & 2.06896 & 3.27999 & 5785.56 & 13.2702 & $\\dots$ \\\\\n",
       "\t13 & 400 & 30 & 50 & 1 & 0.916799 & 1.46021 & 472.068 & 0.164356 & $\\dots$ \\\\\n",
       "\t14 & 400 & 100 & 50 & 1 & 3.42472 & 6.96434 & 1921.54 & 1.9462 & $\\dots$ \\\\\n",
       "\t15 & 400 & 200 & 50 & 1 & 13.0262 & 15.1941 & 5814.83 & 14.7639 & $\\dots$ \\\\\n",
       "\t16 & 400 & 30 & 100 & 1 & 2.12914 & 3.43939 & 383.746 & 0.179964 & $\\dots$ \\\\\n",
       "\t17 & 400 & 100 & 100 & 1 & 12.6005 & 15.4804 & 2160.17 & 2.25398 & $\\dots$ \\\\\n",
       "\t18 & 400 & 200 & 100 & 1 & 22.6393 & 36.8948 & 5210.32 & 14.8721 & $\\dots$ \\\\\n",
       "\\end{tabular}\n"
      ],
      "text/plain": [
       "\u001b[1m18×10 DataFrame\u001b[0m\n",
       "\u001b[1m Row \u001b[0m│\u001b[1m L     \u001b[0m\u001b[1m S     \u001b[0m\u001b[1m T     \u001b[0m\u001b[1m cap_tightness \u001b[0m\u001b[1m buildtime1 \u001b[0m\u001b[1m solvetime1 \u001b[0m\u001b[1m objective1 \u001b[0m\u001b[1m\u001b[0m ⋯\n",
       "     │\u001b[90m Int64 \u001b[0m\u001b[90m Int64 \u001b[0m\u001b[90m Int64 \u001b[0m\u001b[90m Int64         \u001b[0m\u001b[90m Float64    \u001b[0m\u001b[90m Float64    \u001b[0m\u001b[90m Float64    \u001b[0m\u001b[90m\u001b[0m ⋯\n",
       "─────┼──────────────────────────────────────────────────────────────────────────\n",
       "   1 │   400     30     10              0    0.206036    0.507014     379.692  ⋯\n",
       "   2 │   400    100     10              0    1.05795     1.4089      1981.06\n",
       "   3 │   400    200     10              0    1.73826     3.11368     5493.57\n",
       "   4 │   400     30     50              0    4.40339     1.91571      418.703\n",
       "   5 │   400    100     50              0    3.50574     8.29585     1936.26   ⋯\n",
       "   6 │   400    200     50              0    8.6485     18.9859      4942.76\n",
       "   7 │   400     30    100              0    1.95565     3.61797      352.774\n",
       "   8 │   400    100    100              0   11.1902     18.6552      1783.61\n",
       "  ⋮  │   ⋮      ⋮      ⋮          ⋮            ⋮           ⋮           ⋮       ⋱\n",
       "  12 │   400    200     10              1    2.06896     3.27999     5785.56   ⋯\n",
       "  13 │   400     30     50              1    0.916799    1.46021      472.068\n",
       "  14 │   400    100     50              1    3.42472     6.96434     1921.54\n",
       "  15 │   400    200     50              1   13.0262     15.1941      5814.83\n",
       "  16 │   400     30    100              1    2.12914     3.43939      383.746  ⋯\n",
       "  17 │   400    100    100              1   12.6005     15.4804      2160.17\n",
       "  18 │   400    200    100              1   22.6393     36.8948      5210.32\n",
       "\u001b[36m                                                    3 columns and 3 rows omitted\u001b[0m"
      ]
     },
     "metadata": {},
     "output_type": "display_data"
    }
   ],
   "source": [
    "df2"
   ]
  },
  {
   "cell_type": "code",
   "execution_count": null,
   "metadata": {},
   "outputs": [],
   "source": [
    "a = combine(groupby(df2, [:T, :S]), [:solvetime1, :solvetime2].=> mean)\n",
    "\n",
    "# ctg = repeat([\"Category 1\", \"Category 2\"], inner = 5)\n",
    "nam = repeat(\"S\" .* string.(1:3), outer = 3)"
   ]
  },
  {
   "cell_type": "code",
   "execution_count": 97,
   "metadata": {},
   "outputs": [
    {
     "name": "stdout",
     "output_type": "stream",
     "text": [
      "Starting 1\n",
      "Set parameter Username\n",
      "Academic license - for non-commercial use only - expires 2024-04-18\n",
      "Set parameter TimeLimit to value 60\n"
     ]
    },
    {
     "name": "stdout",
     "output_type": "stream",
     "text": [
      "Starting 2\n",
      "Set parameter Username\n",
      "Academic license - for non-commercial use only - expires 2024-04-18\n",
      "Set parameter TimeLimit to value 60\n"
     ]
    },
    {
     "name": "stdout",
     "output_type": "stream",
     "text": [
      "Starting 1\n",
      "Set parameter Username\n",
      "Academic license - for non-commercial use only - expires 2024-04-18\n",
      "Set parameter TimeLimit to value 60\n"
     ]
    },
    {
     "name": "stdout",
     "output_type": "stream",
     "text": [
      "Starting 2\n",
      "Set parameter Username\n",
      "Academic license - for non-commercial use only - expires 2024-04-18\n",
      "Set parameter TimeLimit to value 60\n"
     ]
    },
    {
     "name": "stdout",
     "output_type": "stream",
     "text": [
      "Starting 1\n",
      "Set parameter Username\n",
      "Academic license - for non-commercial use only - expires 2024-04-18\n",
      "Set parameter TimeLimit to value 60\n"
     ]
    },
    {
     "name": "stdout",
     "output_type": "stream",
     "text": [
      "Starting 2\n",
      "Set parameter Username\n",
      "Academic license - for non-commercial use only - expires 2024-04-18\n",
      "Set parameter TimeLimit to value 60\n"
     ]
    },
    {
     "name": "stdout",
     "output_type": "stream",
     "text": [
      "Starting 1\n",
      "Set parameter Username\n",
      "Academic license - for non-commercial use only - expires 2024-04-18\n",
      "Set parameter TimeLimit to value 60\n"
     ]
    },
    {
     "name": "stdout",
     "output_type": "stream",
     "text": [
      "Starting 2\n",
      "Set parameter Username\n",
      "Academic license - for non-commercial use only - expires 2024-04-18\n",
      "Set parameter TimeLimit to value 60\n"
     ]
    },
    {
     "name": "stdout",
     "output_type": "stream",
     "text": [
      "Starting 1\n",
      "Set parameter Username\n",
      "Academic license - for non-commercial use only - expires 2024-04-18\n",
      "Set parameter TimeLimit to value 60\n"
     ]
    },
    {
     "name": "stdout",
     "output_type": "stream",
     "text": [
      "Starting 2\n",
      "Set parameter Username\n",
      "Academic license - for non-commercial use only - expires 2024-04-18\n",
      "Set parameter TimeLimit to value 60\n"
     ]
    },
    {
     "name": "stdout",
     "output_type": "stream",
     "text": [
      "Starting 1\n",
      "Set parameter Username\n",
      "Academic license - for non-commercial use only - expires 2024-04-18\n",
      "Set parameter TimeLimit to value 60\n"
     ]
    },
    {
     "name": "stdout",
     "output_type": "stream",
     "text": [
      "Starting 2\n",
      "Set parameter Username\n",
      "Academic license - for non-commercial use only - expires 2024-04-18\n",
      "Set parameter TimeLimit to value 60\n"
     ]
    },
    {
     "name": "stdout",
     "output_type": "stream",
     "text": [
      "Starting 1\n",
      "Set parameter Username\n",
      "Academic license - for non-commercial use only - expires 2024-04-18\n",
      "Set parameter TimeLimit to value 60\n"
     ]
    },
    {
     "name": "stdout",
     "output_type": "stream",
     "text": [
      "Starting 2\n",
      "Set parameter Username\n",
      "Academic license - for non-commercial use only - expires 2024-04-18\n",
      "Set parameter TimeLimit to value 60\n"
     ]
    },
    {
     "name": "stdout",
     "output_type": "stream",
     "text": [
      "Starting 1\n",
      "Set parameter Username\n",
      "Academic license - for non-commercial use only - expires 2024-04-18\n",
      "Set parameter TimeLimit to value 60\n"
     ]
    },
    {
     "name": "stdout",
     "output_type": "stream",
     "text": [
      "Starting 2\n",
      "Set parameter Username\n",
      "Academic license - for non-commercial use only - expires 2024-04-18\n",
      "Set parameter TimeLimit to value 60\n"
     ]
    },
    {
     "name": "stdout",
     "output_type": "stream",
     "text": [
      "Starting 1\n",
      "Set parameter Username\n",
      "Academic license - for non-commercial use only - expires 2024-04-18\n",
      "Set parameter TimeLimit to value 60\n"
     ]
    },
    {
     "name": "stdout",
     "output_type": "stream",
     "text": [
      "Starting 2\n",
      "Set parameter Username\n",
      "Academic license - for non-commercial use only - expires 2024-04-18\n",
      "Set parameter TimeLimit to value 60\n"
     ]
    },
    {
     "name": "stdout",
     "output_type": "stream",
     "text": [
      "Starting 1\n",
      "Set parameter Username\n",
      "Academic license - for non-commercial use only - expires 2024-04-18\n",
      "Set parameter TimeLimit to value 60\n"
     ]
    },
    {
     "name": "stdout",
     "output_type": "stream",
     "text": [
      "Starting 2\n",
      "Set parameter Username\n",
      "Academic license - for non-commercial use only - expires 2024-04-18\n",
      "Set parameter TimeLimit to value 60\n"
     ]
    },
    {
     "name": "stdout",
     "output_type": "stream",
     "text": [
      "Starting 1\n",
      "Set parameter Username\n",
      "Academic license - for non-commercial use only - expires 2024-04-18\n",
      "Set parameter TimeLimit to value 60\n"
     ]
    },
    {
     "name": "stdout",
     "output_type": "stream",
     "text": [
      "Starting 2\n",
      "Set parameter Username\n",
      "Academic license - for non-commercial use only - expires 2024-04-18\n",
      "Set parameter TimeLimit to value 60\n"
     ]
    },
    {
     "name": "stdout",
     "output_type": "stream",
     "text": [
      "Starting 1\n",
      "Set parameter Username\n",
      "Academic license - for non-commercial use only - expires 2024-04-18\n",
      "Set parameter TimeLimit to value 60\n"
     ]
    },
    {
     "name": "stdout",
     "output_type": "stream",
     "text": [
      "Starting 2\n",
      "Set parameter Username\n",
      "Academic license - for non-commercial use only - expires 2024-04-18\n",
      "Set parameter TimeLimit to value 60\n"
     ]
    },
    {
     "name": "stdout",
     "output_type": "stream",
     "text": [
      "Starting 1\n",
      "Set parameter Username\n",
      "Academic license - for non-commercial use only - expires 2024-04-18\n",
      "Set parameter TimeLimit to value 60\n"
     ]
    },
    {
     "name": "stdout",
     "output_type": "stream",
     "text": [
      "Starting 2\n",
      "Set parameter Username\n",
      "Academic license - for non-commercial use only - expires 2024-04-18\n",
      "Set parameter TimeLimit to value 60\n"
     ]
    },
    {
     "name": "stdout",
     "output_type": "stream",
     "text": [
      "Starting 1\n",
      "Set parameter Username\n",
      "Academic license - for non-commercial use only - expires 2024-04-18\n",
      "Set parameter TimeLimit to value 60\n"
     ]
    },
    {
     "name": "stdout",
     "output_type": "stream",
     "text": [
      "Starting 2\n",
      "Set parameter Username\n",
      "Academic license - for non-commercial use only - expires 2024-04-18\n",
      "Set parameter TimeLimit to value 60\n"
     ]
    },
    {
     "name": "stdout",
     "output_type": "stream",
     "text": [
      "Starting 1\n",
      "Set parameter Username\n",
      "Academic license - for non-commercial use only - expires 2024-04-18\n",
      "Set parameter TimeLimit to value 60\n"
     ]
    },
    {
     "name": "stdout",
     "output_type": "stream",
     "text": [
      "Starting 2\n",
      "Set parameter Username\n",
      "Academic license - for non-commercial use only - expires 2024-04-18\n",
      "Set parameter TimeLimit to value 60\n"
     ]
    },
    {
     "name": "stdout",
     "output_type": "stream",
     "text": [
      "Starting 1\n",
      "Set parameter Username\n",
      "Academic license - for non-commercial use only - expires 2024-04-18\n",
      "Set parameter TimeLimit to value 60\n"
     ]
    },
    {
     "name": "stdout",
     "output_type": "stream",
     "text": [
      "Starting 2\n",
      "Set parameter Username\n",
      "Academic license - for non-commercial use only - expires 2024-04-18\n",
      "Set parameter TimeLimit to value 60\n"
     ]
    },
    {
     "name": "stdout",
     "output_type": "stream",
     "text": [
      "combine(groupby(df2, [:T, :S]), [:solvetime1, :solvetime2] .=> mean) = 9×4 DataFrame\n",
      " Row │ T      S      solvetime1_mean  solvetime2_mean\n",
      "     │ Int64  Int64  Float64          Float64\n",
      "─────┼────────────────────────────────────────────────\n",
      "   1 │    10     30         0.404354         0.311926\n",
      "   2 │    10    100         1.3831           6.05666\n",
      "   3 │    10    200         3.19683         21.3332\n",
      "   4 │    50     30         1.68796          0.286959\n",
      "   5 │    50    100         7.6301           7.57418\n",
      "   6 │    50    200        17.09            48.6835\n",
      "   7 │   100     30         3.52868          0.265092\n",
      "   8 │   100    100        17.0678           7.08576\n",
      "   9 │   100    200        39.1949          61.6033\n"
     ]
    },
    {
     "name": "stdout",
     "output_type": "stream",
     "text": [
      "combine(groupby(df2, [:cap_tightness]), [:solvetime1, :solvetime2] .=> mean) = 2×3 DataFrame\n",
      " Row │ cap_tightness  solvetime1_mean  solvetime2_mean\n",
      "     │ Int64          Float64          Float64\n",
      "─────┼─────────────────────────────────────────────────\n",
      "   1 │             0          10.8884          20.7382\n",
      "   2 │             1           9.3747          13.3063\n"
     ]
    }
   ],
   "source": [
    "Random.seed!(3000)\n",
    "\n",
    "plotdata = []\n",
    "# packing S paths in LT space\n",
    "L_range = [(20, 20), (30, 30)] #, (30, 75)]\n",
    "S_range = [30, 100]\n",
    "T_range = [10, 100]\n",
    "cap_tightness_range = [0.5, 1]\n",
    "for ((r, c), s, t, cap_tightness) in Iterators.product(\n",
    "    L_range,\n",
    "    S_range,\n",
    "    T_range,\n",
    "    cap_tightness_range\n",
    ")\n",
    "    G = 2\n",
    "    R = r\n",
    "    C = c\n",
    "    L = R*C\n",
    "    T = t\n",
    "    max_shipment_size = 10\n",
    "    S = s\n",
    "    #function WarehouseData(grid_size, warehouse_row, warehouse_col, max_shipment_size, time_horizon, cap_tightness)\n",
    "    warehouse_data = WarehouseData(G, T, R, C, max_shipment_size, cap_tightness)\n",
    "    shipment_data = ShipmentData(T, S, max_shipment_size)\n",
    "\n",
    "    @printf \"Starting 1\\n\"\n",
    "    buildtime1 = @elapsed model1, _, _ = three_slt_extended_time_space(warehouse_data, shipment_data) #\n",
    "    # optimize!(model1)\n",
    "    solvetime1 = @elapsed @suppress optimize!(model1)\n",
    "    objective1 = typemax(Int32)\n",
    "    try\n",
    "        objective1 = objective_value(model1)\n",
    "    catch\n",
    "    end\n",
    "\n",
    "    @printf \"Starting 2\\n\"\n",
    "    buildtime2 = @elapsed model2, _ = two_sl_so(warehouse_data, shipment_data)#\n",
    "    # optimize!(model2)\n",
    "    solvetime2 = @elapsed @suppress optimize!(model2)\n",
    "    objective2 = typemax(Int32)\n",
    "    try\n",
    "        objective2 = objective_value(model2)\n",
    "    catch\n",
    "    end\n",
    "    \n",
    "\n",
    "    push!(plotdata, (\n",
    "        L = L,\n",
    "        S = S,\n",
    "        T = T,\n",
    "        cap_tightness = cap_tightness,\n",
    "        buildtime1 = buildtime1, \n",
    "        solvetime1 = solvetime1, \n",
    "        objective1 = objective1,\n",
    "        buildtime2 = buildtime2, \n",
    "        solvetime2 = solvetime2, \n",
    "        objective2 = objective2,\n",
    "\n",
    "    ))\n",
    "end\n",
    "df3 = DataFrame(plotdata)\n",
    "@show combine(groupby(df2, [:T, :S]), [:solvetime1, :solvetime2].=> mean)\n",
    "@show combine(groupby(df2, [:cap_tightness]), [:solvetime1, :solvetime2].=> mean);"
   ]
  },
  {
   "cell_type": "code",
   "execution_count": 14,
   "metadata": {},
   "outputs": [
    {
     "ename": "UndefVarError",
     "evalue": "UndefVarError: df not defined",
     "output_type": "error",
     "traceback": [
      "UndefVarError: df not defined\n",
      "\n",
      "Stacktrace:\n",
      " [1] top-level scope\n",
      "   @ show.jl:1047"
     ]
    }
   ],
   "source": [
    "@show combine(groupby(df, [:cap_tightness]), [:solvetime1, :solvetime2].=> mean);\n",
    "#@show combine(groupby(df2, [:cap_tightness]), [:solvetime1, :solvetime2].=> mean);\n",
    "@show combine(groupby(df_l2500, [:cap_tightness]), [:solvetime1, :solvetime2].=> mean);"
   ]
  },
  {
   "cell_type": "code",
   "execution_count": 11,
   "metadata": {},
   "outputs": [
    {
     "ename": "ArgumentError",
     "evalue": "ArgumentError: column name \"solvetime3\" not found in the data frame; existing most similar names are: \"solvetime1\" and \"solvetime2\"",
     "output_type": "error",
     "traceback": [
      "ArgumentError: column name \"solvetime3\" not found in the data frame; existing most similar names are: \"solvetime1\" and \"solvetime2\"\n",
      "\n",
      "Stacktrace:\n",
      " [1] lookupname\n",
      "   @ ~/.julia/packages/DataFrames/dgZn3/src/other/index.jl:399 [inlined]\n",
      " [2] getindex\n",
      "   @ ~/.julia/packages/DataFrames/dgZn3/src/other/index.jl:405 [inlined]\n",
      " [3] getindex(df::DataFrame, #unused#::typeof(!), col_ind::Symbol)\n",
      "   @ DataFrames ~/.julia/packages/DataFrames/dgZn3/src/dataframe/dataframe.jl:551\n",
      " [4] top-level scope\n",
      "   @ ~/Dropbox (MIT)/tolzul/BayesSD/code/pipeline/prescriptive/IP/15083pj/term_project.ipynb:1"
     ]
    }
   ],
   "source": [
    "groupedbar(\n",
    "    repeat(lpad.(string.(L_range), 4), outer = 3), \n",
    "    vcat(df[!, :solvetime1], df[!, :solvetime2], df[!, :solvetime3]),\n",
    "    group = repeat([\"Model 1\", \"Model 2\", \"Model 3\"], inner = 3),\n",
    "    ylabel = \"Solve time (s)\",\n",
    "    # yscale = :log10,\n",
    "    title = \"Solve times of both formulations with # of customers\",\n",
    "    legend = :topleft,\n",
    ")"
   ]
  }
 ],
 "metadata": {
  "kernelspec": {
   "display_name": "Julia 1.8.5",
   "language": "julia",
   "name": "julia-1.8"
  },
  "language_info": {
   "file_extension": ".jl",
   "mimetype": "application/julia",
   "name": "julia",
   "version": "1.8.5"
  },
  "orig_nbformat": 4
 },
 "nbformat": 4,
 "nbformat_minor": 2
}
