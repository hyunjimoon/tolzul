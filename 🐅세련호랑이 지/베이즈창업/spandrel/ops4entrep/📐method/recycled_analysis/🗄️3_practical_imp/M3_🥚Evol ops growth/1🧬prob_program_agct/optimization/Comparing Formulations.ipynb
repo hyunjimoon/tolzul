{
 "cells": [
  {
   "attachments": {},
   "cell_type": "markdown",
   "metadata": {},
   "source": [
    "# Recitation 2 - Comparing Formulations\n",
    "\n",
    "In today's recitation, we will build different formulations of the same problem, and explore the computational implications.\n",
    "\n",
    "## Learning objectives\n",
    "By the end of today's recitation, students will be able to:\n",
    "- Compare the linear relaxation of two formulations of the same problem and test the computational times of both formulations using JuMP with Gurobi\n",
    "- Implement a row generation algorithm in JuMP using lazy constraints for solving the traveling salesman problem\n",
    "\n",
    "## amoon summary\n",
    "- facility location\n",
    "buildtime is smaller for AFL but opttime is much longer \n",
    "\n",
    "- lot sizing\n",
    "min cost (setup $c_t x_t$ + production $p_t y_t$+ holding $h_t s_t$ 성필홍) and its two formulations one with additional explicit structure $q_st$ (~ x_iq, y_q from hw1.3, ) is tighter. But before, we need tight bound for $M_s = \\sigma_{t=s}^{T}d_t, N_t = d_t$ which are needed to prove second formulation is tighter. expected as auxiliary variable (higher dimension) can be used to construct lower dim polytope\n",
    "\n",
    "better heuristic sol with presolve (999 to 878)\n",
    "```\n",
    "Optimize a model with 25500 rows, 25050 columns and 75000 nonzeros\n",
    "Model fingerprint: 0x83c02238\n",
    "Variable types: 0 continuous, 25050 integer (25050 binary)\n",
    "Coefficient statistics:\n",
    "  Matrix range     [1e+00, 1e+00]\n",
    "  Objective range  [2e-03, 2e+01]\n",
    "  Bounds range     [0e+00, 0e+00]\n",
    "  RHS range        [1e+00, 1e+00]\n",
    "Found heuristic solution: objective 999.3253001\n",
    "Presolve time: 0.05s\n",
    "Presolved: 25500 rows, 25050 columns, 75000 nonzeros\n",
    "Variable types: 0 continuous, 25050 integer (25050 binary)\n",
    "Found heuristic solution: objective 878.6356621\n",
    "\n",
    "Root relaxation: objective 1.558382e+02, 5559 iterations, 0.03 seconds (0.06 work units)\n",
    "...\n",
    "Optimal solution found (tolerance 1.00e-04)\n",
    "Best objective 1.558381904905e+02, best bound 1.558381904905e+02, gap 0.0000%\n",
    "```\n",
    "\n",
    "the first can be easily constructe\n",
    "\n",
    "\n",
    "- TSP\n",
    "-- MTZ < CUTSET = SUB\n",
    "-- MTZ: u_i - u_j -1 < (n-2)(1-x_ij) - futile if x_ij = 1 find permutation (order of the node) instead of eliminate subtour\n",
    "-- implement cutset only when we need\n",
    "-- lazy constraints in callback function"
   ]
  },
  {
   "cell_type": "markdown",
   "metadata": {},
   "source": [
    "First, we load packages."
   ]
  },
  {
   "cell_type": "code",
   "execution_count": 1,
   "metadata": {},
   "outputs": [],
   "source": [
    "using JuMP, Gurobi\n",
    "using DataFrames, CSV, Combinatorics\n",
    "using Random\n",
    "using LinearAlgebra\n",
    "using Distances\n",
    "using Plots, StatsPlots\n",
    "using Suppressor"
   ]
  },
  {
   "cell_type": "markdown",
   "metadata": {},
   "source": [
    "If there are any packages you have not used before, add them using the Pkg module."
   ]
  },
  {
   "cell_type": "code",
   "execution_count": 2,
   "metadata": {},
   "outputs": [
    {
     "name": "stderr",
     "output_type": "stream",
     "text": [
      "\u001b[32m\u001b[1m    Updating\u001b[22m\u001b[39m registry at `~/.julia/registries/General.toml`\n"
     ]
    },
    {
     "name": "stderr",
     "output_type": "stream",
     "text": [
      "\u001b[32m\u001b[1m   Resolving\u001b[22m\u001b[39m package versions...\n"
     ]
    },
    {
     "name": "stderr",
     "output_type": "stream",
     "text": [
      "\u001b[32m\u001b[1m  No Changes\u001b[22m\u001b[39m to `~/.julia/environments/v1.8/Project.toml`\n",
      "\u001b[32m\u001b[1m  No Changes\u001b[22m\u001b[39m to `~/.julia/environments/v1.8/Manifest.toml`\n"
     ]
    },
    {
     "name": "stderr",
     "output_type": "stream",
     "text": [
      "\u001b[32m\u001b[1m   Resolving\u001b[22m\u001b[39m package versions...\n"
     ]
    },
    {
     "name": "stderr",
     "output_type": "stream",
     "text": [
      "\u001b[32m\u001b[1m  No Changes\u001b[22m\u001b[39m to `~/.julia/environments/v1.8/Project.toml`\n",
      "\u001b[32m\u001b[1m  No Changes\u001b[22m\u001b[39m to `~/.julia/environments/v1.8/Manifest.toml`\n"
     ]
    },
    {
     "name": "stderr",
     "output_type": "stream",
     "text": [
      "\u001b[32m\u001b[1m   Resolving\u001b[22m\u001b[39m package versions...\n"
     ]
    },
    {
     "name": "stderr",
     "output_type": "stream",
     "text": [
      "\u001b[32m\u001b[1m  No Changes\u001b[22m\u001b[39m to `~/.julia/environments/v1.8/Project.toml`\n",
      "\u001b[32m\u001b[1m  No Changes\u001b[22m\u001b[39m to `~/.julia/environments/v1.8/Manifest.toml`\n"
     ]
    },
    {
     "name": "stderr",
     "output_type": "stream",
     "text": [
      "\u001b[32m\u001b[1m   Resolving\u001b[22m\u001b[39m package versions...\n"
     ]
    },
    {
     "name": "stderr",
     "output_type": "stream",
     "text": [
      "\u001b[32m\u001b[1m  No Changes\u001b[22m\u001b[39m to `~/.julia/environments/v1.8/Project.toml`\n",
      "\u001b[32m\u001b[1m  No Changes\u001b[22m\u001b[39m to `~/.julia/environments/v1.8/Manifest.toml`\n"
     ]
    },
    {
     "name": "stderr",
     "output_type": "stream",
     "text": [
      "\u001b[32m\u001b[1m   Resolving\u001b[22m\u001b[39m package versions...\n"
     ]
    },
    {
     "name": "stderr",
     "output_type": "stream",
     "text": [
      "\u001b[32m\u001b[1m  No Changes\u001b[22m\u001b[39m to `~/.julia/environments/v1.8/Project.toml`\n",
      "\u001b[32m\u001b[1m  No Changes\u001b[22m\u001b[39m to `~/.julia/environments/v1.8/Manifest.toml`\n"
     ]
    }
   ],
   "source": [
    "using Pkg\n",
    "Pkg.add(\"StatsPlots\")\n",
    "Pkg.add(\"Random\")\n",
    "Pkg.add(\"Combinatorics\")\n",
    "Pkg.add(\"Distances\")\n",
    "Pkg.add(\"Suppressor\")"
   ]
  },
  {
   "cell_type": "markdown",
   "metadata": {},
   "source": [
    "## Part 1: Facility location\n",
    "\n",
    "### 1.1 Problem setup\n",
    "\n",
    "We are now ready to formulate our first integer optimization problem. The facility location problem takes as inputs two sets and two parameters:\n",
    "- Sets:\n",
    "    - facilities $j\\in \\mathcal{J}=\\{1,\\ldots,n\\}$\n",
    "    - customers $i\\in \\mathcal{I}=\\{1, \\ldots, m\\}$\n",
    "- Parameters:\n",
    "    - $d_{ij}$: distance from customer $i$ to facility $j$\n",
    "    - $c_j$: cost of facility $j$   \n",
    "\n",
    "<img src=\"extra/facilitylocation.png\" style=\"width:700px\"/>\n",
    "    \n",
    "Let's define the size of the problem."
   ]
  },
  {
   "cell_type": "code",
   "execution_count": 3,
   "metadata": {},
   "outputs": [
    {
     "data": {
      "text/plain": [
       "500"
      ]
     },
     "metadata": {},
     "output_type": "display_data"
    }
   ],
   "source": [
    "n = 50      #facilities\n",
    "m = 500     #customers"
   ]
  },
  {
   "cell_type": "markdown",
   "metadata": {},
   "source": [
    "In real-life, we would have data on the location of facilities and customers. For simplicity, we assume that the facilities and customers are uniformly sampled over the unit square $[0,1]^2$. The first column of the following arrays denotes the x coordinate, and the second column denotes the y coordinate."
   ]
  },
  {
   "cell_type": "code",
   "execution_count": 4,
   "metadata": {},
   "outputs": [],
   "source": [
    "facilities = rand(MersenneTwister(0), n, 2);\n",
    "customers = rand(MersenneTwister(0), m, 2); # notice we add a semicolon to suppress Jupyter output"
   ]
  },
  {
   "cell_type": "markdown",
   "metadata": {},
   "source": [
    "We can now define the distance matrix:"
   ]
  },
  {
   "cell_type": "code",
   "execution_count": 5,
   "metadata": {},
   "outputs": [
    {
     "name": "stdout",
     "output_type": "stream",
     "text": [
      "size(dist) = (500, 50)\n"
     ]
    }
   ],
   "source": [
    "dist = Distances.pairwise(Euclidean(), customers, facilities, dims = 1)\n",
    "@show size(dist);"
   ]
  },
  {
   "cell_type": "markdown",
   "metadata": {},
   "source": [
    "Finally, we sample a vector of facility costs uniformly between 10 and 20:"
   ]
  },
  {
   "cell_type": "code",
   "execution_count": 6,
   "metadata": {},
   "outputs": [],
   "source": [
    "c = rand(MersenneTwister(0), n) * 10 .+ 10;"
   ]
  },
  {
   "cell_type": "markdown",
   "metadata": {},
   "source": [
    "### 1.2 Formulations\n",
    "\n",
    "We covered two formulations of the problem in class, one with many constraints but a tight formulation, the other with fewer constraints but a less tight formulation. \n",
    "\n",
    "#### Formulation 1 - Less tight formulation, fewer constraints (Aggregate Facility Location)\n",
    "\n",
    "\\begin{align*}\n",
    "        \\min        &   \\quad\\sum_{j=1}^nc_jy_j+\\sum_{i=1}^m\\sum_{j=1}^nd_{ij}x_{ij}  \\\\\n",
    "        \\text{s.t.} &   \\quad\\sum_{j=1}^nx_{ij}=1,\\ \\forall i \\\\\n",
    "                    &   \\quad{\\color{Veronared}\\sum_{i=1}^mx_{ij}\\leq my_j,\\ \\forall j} \\\\\n",
    "                    &   \\quad x_{ij}\\in\\{0,1\\},\\ y_j\\in\\{0,1\\}\n",
    "\\end{align*}\n",
    "\n",
    "#### Formulation 2 - Tight formulation, more constraints\n",
    "\n",
    "\\begin{align*}\n",
    "        \\min        &   \\quad\\sum_{j=1}^nc_jy_j+\\sum_{i=1}^m\\sum_{j=1}^nd_{ij}x_{ij}  \\\\\n",
    "        \\text{s.t.} &   \\quad\\sum_{j=1}^nx_{ij}=1,\\ \\forall i \\\\\n",
    "                    &   \\quad {\\color{Veronared}x_{ij}\\leq y_j,\\ \\forall i,j} \\\\\n",
    "                    &   \\quad x_{ij}\\in\\{0,1\\},\\ y_j\\in\\{0,1\\}\n",
    "    \\end{align*}\n",
    "    \n",
    "On the left is a projection of the feasible region of the LP relaxation of formulation 1 (aggregated facility location problem). While on the right is a projection of the feasible region of the LP relaxation of the formulation 2.\n",
    "\n",
    "<img src=\"extra/flpolyhedra.png\" style=\"width:800px\"/>\n",
    "\n",
    "Time to implement!"
   ]
  },
  {
   "cell_type": "code",
   "execution_count": 7,
   "metadata": {},
   "outputs": [
    {
     "data": {
      "text/plain": [
       "facility_model_1"
      ]
     },
     "metadata": {},
     "output_type": "display_data"
    }
   ],
   "source": [
    "\"Build facility location model 1\"\n",
    "function facility_model_1(distance::Matrix, cost::Vector)\n",
    "    # extract problem dimensions from distance matrix and verify coherence of input data\n",
    "    m, n = size(distance)\n",
    "    @assert length(cost) == n\n",
    "    \n",
    "    model = Model(Gurobi.Optimizer)\n",
    "    set_time_limit_sec(model, 1800)\n",
    "    \n",
    "    # VARIABLES\n",
    "    @variable(model, y[1:n], Bin) # setup decision variables\n",
    "    @variable(model, x[1:m, 1:n], Bin) # assignment decision variables\n",
    "\n",
    "    # CONSTRAINTS\n",
    "    @constraint(\n",
    "        model, \n",
    "        serve_every_customer[i = 1:m], \n",
    "        sum(x[i, j] for j = 1:n) == 1\n",
    "    )\n",
    "    @constraint(\n",
    "        model, \n",
    "        only_serve_from_open_facility[j=1:n], \n",
    "        sum(x[i, j] for i=1:m) <= m * y[j]\n",
    "    )\n",
    "    \n",
    "    # OBJECTIVE\n",
    "    @objective(\n",
    "        model, \n",
    "        Min, \n",
    "        sum(cost[j] * y[j] for j = 1:n) # setup costs\n",
    "        + sum(distance[i, j] * x[i, j] for i=1:m, j=1:n) # assignment costs\n",
    "    )\n",
    "    \n",
    "    return model, x, y\n",
    "end"
   ]
  },
  {
   "cell_type": "code",
   "execution_count": 8,
   "metadata": {},
   "outputs": [
    {
     "data": {
      "text/plain": [
       "facility_model_2 (generic function with 1 method)"
      ]
     },
     "metadata": {},
     "output_type": "display_data"
    }
   ],
   "source": [
    "\"Build facility location model 2\"\n",
    "\n",
    "function facility_model_2(distance::Matrix, cost::Vector)\n",
    "    # extract problem dimensions from distance matrix and verify coherence of input data\n",
    "    m, n = size(distance)\n",
    "    @assert length(cost) == n\n",
    "    \n",
    "    model = Model(Gurobi.Optimizer)\n",
    "    set_time_limit_sec(model, 1800)\n",
    "    \n",
    "    # VARIABLES\n",
    "    @variable(model, y[1:n], Bin) # setup decision variables\n",
    "    @variable(model, x[1:m, 1:n], Bin) # assignment decision variables\n",
    "\n",
    "    # CONSTRAINTS\n",
    "    @constraint(\n",
    "        model, \n",
    "        serve_every_customer[i = 1:m], \n",
    "        sum(x[i, j] for j = 1:n) == 1\n",
    "    )\n",
    "    @constraint(\n",
    "        model, \n",
    "        only_serve_from_open_facility[i = 1:m, j=1:n], \n",
    "        x[i, j] <= y[j]\n",
    "    )\n",
    "    \n",
    "    # OBJECTIVE\n",
    "    @objective(\n",
    "        model, \n",
    "        Min, \n",
    "        sum(cost[j] * y[j] for j = 1:n) # setup costs\n",
    "        + sum(distance[i, j] * x[i, j] for i=1:m, j=1:n) # assignment costs\n",
    "    )\n",
    "    \n",
    "    return model, x, y\n",
    "end"
   ]
  },
  {
   "cell_type": "markdown",
   "metadata": {},
   "source": [
    "Now we can call our function to build the models with our sampled data, then solve and report the elapsed time."
   ]
  },
  {
   "cell_type": "code",
   "execution_count": 9,
   "metadata": {},
   "outputs": [
    {
     "name": "stdout",
     "output_type": "stream",
     "text": [
      "Set parameter Username\n",
      "Academic license - for non-commercial use only - expires 2024-04-18\n",
      "Set parameter TimeLimit to value 1800\n",
      "Set parameter TimeLimit to value 1800\n",
      "Gurobi Optimizer version 10.0.1 build v10.0.1rc0 (mac64[arm])\n",
      "\n",
      "CPU model: Apple M2 Pro\n",
      "Thread count: 10 physical cores, 10 logical processors, using up to 10 threads\n",
      "\n",
      "Optimize a model with 550 rows, 25050 columns and 50050 nonzeros\n",
      "Model fingerprint: 0xd80d1ad7\n",
      "Variable types: 0 continuous, 25050 integer (25050 binary)\n",
      "Coefficient statistics:\n",
      "  Matrix range     [1e+00, 5e+02]\n",
      "  Objective range  [2e-03, 2e+01]\n",
      "  Bounds range     [0e+00, 0e+00]\n",
      "  RHS range        [1e+00, 1e+00]\n",
      "Found heuristic solution: objective 999.3253001\n",
      "Presolve time: 0.03s\n",
      "Presolved: 550 rows, 25050 columns, 50050 nonzeros\n",
      "Variable types: 0 continuous, 25050 integer (25050 binary)\n",
      "Found heuristic solution: objective 878.6356621\n",
      "\n",
      "Root relaxation: objective 5.155704e+01, 616 iterations, 0.00 seconds (0.00 work units)\n",
      "\n",
      "    Nodes    |    Current Node    |     Objective Bounds      |     Work\n",
      " Expl Unexpl |  Obj  Depth IntInf | Incumbent    BestBd   Gap | It/Node Time\n",
      "\n",
      "     0     0   51.55704    0   50  878.63566   51.55704  94.1%     -    0s\n",
      "H    0     0                     770.5679658   51.55704  93.3%     -    0s\n",
      "H    0     0                     177.4947421   51.55704  71.0%     -    0s\n",
      "     0     0   75.97866    0 1032  177.49474   75.97866  57.2%     -    0s\n",
      "     0     0   78.20693    0 1044  177.49474   78.20693  55.9%     -    0s\n",
      "     0     0   91.27392    0 1520  177.49474   91.27392  48.6%     -    0s\n",
      "     0     0   91.47927    0 1520  177.49474   91.47927  48.5%     -    0s\n",
      "     0     2   91.47927    0 1520  177.49474   91.47927  48.5%     -    0s\n",
      "*  487   436              60     171.4875392   91.47927  46.7%  31.6    1s\n",
      "*  596   560              51     171.4647220   91.47927  46.6%  31.8    1s\n",
      "*  603   560              51     170.2582934   91.47927  46.3%  31.9    1s\n",
      "*  644   547              49     163.3186433   91.66912  43.9%  32.4    1s\n",
      "H 1043   716                     161.1750551   97.44307  39.5%  38.0    2s\n",
      "* 1668  1095              15     155.8381905  155.83819  0.00%  39.7    3s\n",
      "\n",
      "Explored 1668 nodes (74583 simplex iterations) in 3.64 seconds (8.02 work units)\n",
      "Thread count was 10 (of 10 available processors)\n",
      "\n",
      "Solution count 10: 155.838 161.175 163.319 ... 999.325\n",
      "\n",
      "Optimal solution found (tolerance 1.00e-04)\n",
      "Best objective 1.558381904905e+02, best bound 1.558381904905e+02, gap 0.0000%\n",
      "\n",
      "User-callback calls 4095, time in user-callback 0.00 sec\n"
     ]
    }
   ],
   "source": [
    "buildtime1 = @elapsed model1, x1, y1 = facility_model_1(dist, c);\n",
    "solvetime1 = @elapsed optimize!(model1);"
   ]
  },
  {
   "cell_type": "code",
   "execution_count": 10,
   "metadata": {
    "scrolled": true
   },
   "outputs": [
    {
     "name": "stdout",
     "output_type": "stream",
     "text": [
      "Set parameter Username\n",
      "Academic license - for non-commercial use only - expires 2024-04-18\n",
      "Set parameter TimeLimit to value 1800\n",
      "Set parameter TimeLimit to value 1800\n",
      "Gurobi Optimizer version 10.0.1 build v10.0.1rc0 (mac64[arm])\n",
      "\n",
      "CPU model: Apple M2 Pro\n",
      "Thread count: 10 physical cores, 10 logical processors, using up to 10 threads\n",
      "\n",
      "Optimize a model with 25500 rows, 25050 columns and 75000 nonzeros\n",
      "Model fingerprint: 0x83c02238\n",
      "Variable types: 0 continuous, 25050 integer (25050 binary)\n",
      "Coefficient statistics:\n",
      "  Matrix range     [1e+00, 1e+00]\n",
      "  Objective range  [2e-03, 2e+01]\n",
      "  Bounds range     [0e+00, 0e+00]\n",
      "  RHS range        [1e+00, 1e+00]\n",
      "Found heuristic solution: objective 999.3253001\n",
      "Presolve time: 0.05s\n",
      "Presolved: 25500 rows, 25050 columns, 75000 nonzeros\n",
      "Variable types: 0 continuous, 25050 integer (25050 binary)\n",
      "Found heuristic solution: objective 878.6356621\n",
      "\n",
      "Root relaxation: objective 1.558382e+02, 5559 iterations, 0.03 seconds (0.06 work units)\n",
      "\n",
      "    Nodes    |    Current Node    |     Objective Bounds      |     Work\n",
      " Expl Unexpl |  Obj  Depth IntInf | Incumbent    BestBd   Gap | It/Node Time\n",
      "\n",
      "*    0     0               0     155.8381905  155.83819  0.00%     -    0s\n",
      "\n",
      "Explored 1 nodes (5559 simplex iterations) in 0.10 seconds (0.15 work units)\n",
      "Thread count was 10 (of 10 available processors)\n",
      "\n",
      "Solution count 3: 155.838 878.636 999.325 \n",
      "\n",
      "Optimal solution found (tolerance 1.00e-04)\n",
      "Best objective 1.558381904905e+02, best bound 1.558381904905e+02, gap 0.0000%\n",
      "\n",
      "User-callback calls 159, time in user-callback 0.00 sec\n"
     ]
    }
   ],
   "source": [
    "buildtime2 = @elapsed model2, x2, y2 = facility_model_2(dist, c);\n",
    "solvetime2 = @elapsed optimize!(model2);"
   ]
  },
  {
   "attachments": {},
   "cell_type": "markdown",
   "metadata": {},
   "source": [
    "We can confirm that the two formulations arrive at the same objective and build the same facilities:"
   ]
  },
  {
   "cell_type": "code",
   "execution_count": 11,
   "metadata": {},
   "outputs": [
    {
     "name": "stdout",
     "output_type": "stream",
     "text": [
      "Formulation 1 objective: \t\t155.83819049048648\n"
     ]
    },
    {
     "name": "stdout",
     "output_type": "stream",
     "text": [
      "Formulation 1 facilities built: \t[15, 17, 20, 30]\n",
      "Formulation 2 objective: \t\t155.83819049048648\n",
      "Formulation 2 facilities built: \t[15, 17, 20, 30]\n"
     ]
    }
   ],
   "source": [
    "println(\"Formulation 1 objective: \\t\\t$(objective_value(model1))\")\n",
    "println(\"Formulation 1 facilities built: \\t$(findall(x -> (x > 0.5), value.(model1[:y])))\")\n",
    "\n",
    "println(\"Formulation 2 objective: \\t\\t$(objective_value(model2))\")\n",
    "println(\"Formulation 2 facilities built: \\t$(findall(x -> (x > 0.5), value.(model1[:y])))\")\n"
   ]
  },
  {
   "attachments": {},
   "cell_type": "markdown",
   "metadata": {},
   "source": [
    "However, it takes far longer to solve the model in the first formulation compared to the second formulation:"
   ]
  },
  {
   "cell_type": "code",
   "execution_count": 12,
   "metadata": {},
   "outputs": [
    {
     "name": "stdout",
     "output_type": "stream",
     "text": [
      "Time taken for formulation 1 (model building):\t2.208773125\n",
      "Time taken for formulation 1 (model solving):\t4.7978245\n",
      "Time taken for formulation 2 (model building):\t0.113066584\n",
      "Time taken for formulation 2 (model solving):\t0.131882417\n"
     ]
    }
   ],
   "source": [
    "println(\"Time taken for formulation 1 (model building):\\t$(buildtime1)\")\n",
    "println(\"Time taken for formulation 1 (model solving):\\t$(solvetime1)\")\n",
    "println(\"Time taken for formulation 2 (model building):\\t$(buildtime2)\")\n",
    "println(\"Time taken for formulation 2 (model solving):\\t$(solvetime2)\")"
   ]
  },
  {
   "attachments": {},
   "cell_type": "markdown",
   "metadata": {},
   "source": [
    "In fact, this gap increases with larger $n$, as we can observe below:"
   ]
  },
  {
   "cell_type": "code",
   "execution_count": 13,
   "metadata": {},
   "outputs": [
    {
     "name": "stdout",
     "output_type": "stream",
     "text": [
      "Set parameter Username\n",
      "Academic license - for non-commercial use only - expires 2024-04-18\n",
      "Set parameter TimeLimit to value 1800\n"
     ]
    },
    {
     "name": "stdout",
     "output_type": "stream",
     "text": [
      "Set parameter Username\n",
      "Academic license - for non-commercial use only - expires 2024-04-18\n",
      "Set parameter TimeLimit to value 1800\n"
     ]
    },
    {
     "data": {
      "image/png": "[encoded data removed]",
      "image/svg+xml": [
       "<?xml version=\"1.0\" encoding=\"utf-8\"?>\n",
       "<svg xmlns=\"http://www.w3.org/2000/svg\" xmlns:xlink=\"http://www.w3.org/1999/xlink\" width=\"600\" height=\"400\" viewBox=\"0 0 2400 1600\">\n",
       "<defs>\n",
       "  <clipPath id=\"clip030\">\n",
       "    <rect x=\"0\" y=\"0\" width=\"2400\" height=\"1600\"/>\n",
       "  </clipPath>\n",
       "</defs>\n",
       "<path clip-path=\"url(#clip030)\" d=\"M0 1600 L2400 1600 L2400 0 L0 0  Z\" fill=\"#ffffff\" fill-rule=\"evenodd\" fill-opacity=\"1\"/>\n",
       "<defs>\n",
       "  <clipPath id=\"clip031\">\n",
       "    <rect x=\"480\" y=\"0\" width=\"1681\" height=\"1600\"/>\n",
       "  </clipPath>\n",
       "</defs>\n",
       "<path clip-path=\"url(#clip030)\" d=\"M174.149 1486.45 L2352.76 1486.45 L2352.76 123.472 L174.149 123.472  Z\" fill=\"#ffffff\" fill-rule=\"evenodd\" fill-opacity=\"1\"/>\n",
       "<defs>\n",
       "  <clipPath id=\"clip032\">\n",
       "    <rect x=\"174\" y=\"123\" width=\"2180\" height=\"1364\"/>\n",
       "  </clipPath>\n",
       "</defs>\n",
       "<polyline clip-path=\"url(#clip032)\" style=\"stroke:#000000; stroke-linecap:round; stroke-linejoin:round; stroke-width:2; stroke-opacity:0.1; fill:none\" points=\"1263.45,1486.45 1263.45,123.472 \"/>\n",
       "<polyline clip-path=\"url(#clip030)\" style=\"stroke:#000000; stroke-linecap:round; stroke-linejoin:round; stroke-width:4; stroke-opacity:1; fill:none\" points=\"174.149,1486.45 2352.76,1486.45 \"/>\n",
       "<polyline clip-path=\"url(#clip030)\" style=\"stroke:#000000; stroke-linecap:round; stroke-linejoin:round; stroke-width:4; stroke-opacity:1; fill:none\" points=\"1263.45,1486.45 1263.45,1467.55 \"/>\n",
       "<path clip-path=\"url(#clip030)\" d=\"M1232.43 1514.29 L1250.79 1514.29 L1250.79 1518.22 L1236.72 1518.22 L1236.72 1526.7 Q1237.73 1526.35 1238.75 1526.19 Q1239.77 1526 1240.79 1526 Q1246.58 1526 1249.96 1529.17 Q1253.34 1532.34 1253.34 1537.76 Q1253.34 1543.34 1249.86 1546.44 Q1246.39 1549.52 1240.07 1549.52 Q1237.9 1549.52 1235.63 1549.15 Q1233.38 1548.78 1230.98 1548.04 L1230.98 1543.34 Q1233.06 1544.47 1235.28 1545.03 Q1237.5 1545.58 1239.98 1545.58 Q1243.98 1545.58 1246.32 1543.48 Q1248.66 1541.37 1248.66 1537.76 Q1248.66 1534.15 1246.32 1532.04 Q1243.98 1529.94 1239.98 1529.94 Q1238.11 1529.94 1236.23 1530.35 Q1234.38 1530.77 1232.43 1531.65 L1232.43 1514.29 Z\" fill=\"#000000\" fill-rule=\"nonzero\" fill-opacity=\"1\" /><path clip-path=\"url(#clip030)\" d=\"M1272.55 1517.37 Q1268.94 1517.37 1267.11 1520.93 Q1265.3 1524.47 1265.3 1531.6 Q1265.3 1538.71 1267.11 1542.27 Q1268.94 1545.82 1272.55 1545.82 Q1276.18 1545.82 1277.99 1542.27 Q1279.82 1538.71 1279.82 1531.6 Q1279.82 1524.47 1277.99 1520.93 Q1276.18 1517.37 1272.55 1517.37 M1272.55 1513.66 Q1278.36 1513.66 1281.42 1518.27 Q1284.49 1522.85 1284.49 1531.6 Q1284.49 1540.33 1281.42 1544.94 Q1278.36 1549.52 1272.55 1549.52 Q1266.74 1549.52 1263.66 1544.94 Q1260.61 1540.33 1260.61 1531.6 Q1260.61 1522.85 1263.66 1518.27 Q1266.74 1513.66 1272.55 1513.66 Z\" fill=\"#000000\" fill-rule=\"nonzero\" fill-opacity=\"1\" /><path clip-path=\"url(#clip030)\" d=\"M1302.71 1517.37 Q1299.1 1517.37 1297.27 1520.93 Q1295.47 1524.47 1295.47 1531.6 Q1295.47 1538.71 1297.27 1542.27 Q1299.1 1545.82 1302.71 1545.82 Q1306.35 1545.82 1308.15 1542.27 Q1309.98 1538.71 1309.98 1531.6 Q1309.98 1524.47 1308.15 1520.93 Q1306.35 1517.37 1302.71 1517.37 M1302.71 1513.66 Q1308.52 1513.66 1311.58 1518.27 Q1314.66 1522.85 1314.66 1531.6 Q1314.66 1540.33 1311.58 1544.94 Q1308.52 1549.52 1302.71 1549.52 Q1296.9 1549.52 1293.82 1544.94 Q1290.77 1540.33 1290.77 1531.6 Q1290.77 1522.85 1293.82 1518.27 Q1296.9 1513.66 1302.71 1513.66 Z\" fill=\"#000000\" fill-rule=\"nonzero\" fill-opacity=\"1\" /><polyline clip-path=\"url(#clip032)\" style=\"stroke:#000000; stroke-linecap:round; stroke-linejoin:round; stroke-width:2; stroke-opacity:0.1; fill:none\" points=\"174.149,1447.87 2352.76,1447.87 \"/>\n",
       "<polyline clip-path=\"url(#clip032)\" style=\"stroke:#000000; stroke-linecap:round; stroke-linejoin:round; stroke-width:2; stroke-opacity:0.1; fill:none\" points=\"174.149,1102.14 2352.76,1102.14 \"/>\n",
       "<polyline clip-path=\"url(#clip032)\" style=\"stroke:#000000; stroke-linecap:round; stroke-linejoin:round; stroke-width:2; stroke-opacity:0.1; fill:none\" points=\"174.149,756.407 2352.76,756.407 \"/>\n",
       "<polyline clip-path=\"url(#clip032)\" style=\"stroke:#000000; stroke-linecap:round; stroke-linejoin:round; stroke-width:2; stroke-opacity:0.1; fill:none\" points=\"174.149,410.674 2352.76,410.674 \"/>\n",
       "<polyline clip-path=\"url(#clip030)\" style=\"stroke:#000000; stroke-linecap:round; stroke-linejoin:round; stroke-width:4; stroke-opacity:1; fill:none\" points=\"174.149,1486.45 174.149,123.472 \"/>\n",
       "<polyline clip-path=\"url(#clip030)\" style=\"stroke:#000000; stroke-linecap:round; stroke-linejoin:round; stroke-width:4; stroke-opacity:1; fill:none\" points=\"174.149,1447.87 193.047,1447.87 \"/>\n",
       "<polyline clip-path=\"url(#clip030)\" style=\"stroke:#000000; stroke-linecap:round; stroke-linejoin:round; stroke-width:4; stroke-opacity:1; fill:none\" points=\"174.149,1102.14 193.047,1102.14 \"/>\n",
       "<polyline clip-path=\"url(#clip030)\" style=\"stroke:#000000; stroke-linecap:round; stroke-linejoin:round; stroke-width:4; stroke-opacity:1; fill:none\" points=\"174.149,756.407 193.047,756.407 \"/>\n",
       "<polyline clip-path=\"url(#clip030)\" style=\"stroke:#000000; stroke-linecap:round; stroke-linejoin:round; stroke-width:4; stroke-opacity:1; fill:none\" points=\"174.149,410.674 193.047,410.674 \"/>\n",
       "<path clip-path=\"url(#clip030)\" d=\"M126.205 1433.67 Q122.593 1433.67 120.765 1437.24 Q118.959 1440.78 118.959 1447.91 Q118.959 1455.01 120.765 1458.58 Q122.593 1462.12 126.205 1462.12 Q129.839 1462.12 131.644 1458.58 Q133.473 1455.01 133.473 1447.91 Q133.473 1440.78 131.644 1437.24 Q129.839 1433.67 126.205 1433.67 M126.205 1429.97 Q132.015 1429.97 135.07 1434.57 Q138.149 1439.16 138.149 1447.91 Q138.149 1456.63 135.07 1461.24 Q132.015 1465.82 126.205 1465.82 Q120.394 1465.82 117.316 1461.24 Q114.26 1456.63 114.26 1447.91 Q114.26 1439.16 117.316 1434.57 Q120.394 1429.97 126.205 1429.97 Z\" fill=\"#000000\" fill-rule=\"nonzero\" fill-opacity=\"1\" /><path clip-path=\"url(#clip030)\" d=\"M118.242 1115.49 L125.88 1115.49 L125.88 1089.12 L117.57 1090.79 L117.57 1086.53 L125.834 1084.86 L130.51 1084.86 L130.51 1115.49 L138.149 1115.49 L138.149 1119.42 L118.242 1119.42 L118.242 1115.49 Z\" fill=\"#000000\" fill-rule=\"nonzero\" fill-opacity=\"1\" /><path clip-path=\"url(#clip030)\" d=\"M121.83 769.752 L138.149 769.752 L138.149 773.687 L116.205 773.687 L116.205 769.752 Q118.867 766.997 123.45 762.368 Q128.056 757.715 129.237 756.373 Q131.482 753.849 132.362 752.113 Q133.265 750.354 133.265 748.664 Q133.265 745.91 131.32 744.174 Q129.399 742.437 126.297 742.437 Q124.098 742.437 121.644 743.201 Q119.214 743.965 116.436 745.516 L116.436 740.794 Q119.26 739.66 121.714 739.081 Q124.168 738.502 126.205 738.502 Q131.575 738.502 134.769 741.187 Q137.964 743.873 137.964 748.363 Q137.964 750.493 137.154 752.414 Q136.367 754.312 134.26 756.905 Q133.681 757.576 130.58 760.794 Q127.478 763.988 121.83 769.752 Z\" fill=\"#000000\" fill-rule=\"nonzero\" fill-opacity=\"1\" /><path clip-path=\"url(#clip030)\" d=\"M131.019 409.32 Q134.376 410.038 136.251 412.306 Q138.149 414.575 138.149 417.908 Q138.149 423.024 134.63 425.825 Q131.112 428.626 124.63 428.626 Q122.455 428.626 120.14 428.186 Q117.848 427.769 115.394 426.913 L115.394 422.399 Q117.339 423.533 119.654 424.112 Q121.968 424.69 124.492 424.69 Q128.89 424.69 131.181 422.954 Q133.496 421.218 133.496 417.908 Q133.496 414.853 131.343 413.14 Q129.214 411.404 125.394 411.404 L121.367 411.404 L121.367 407.561 L125.58 407.561 Q129.029 407.561 130.857 406.195 Q132.686 404.806 132.686 402.214 Q132.686 399.552 130.788 398.14 Q128.913 396.705 125.394 396.705 Q123.473 396.705 121.274 397.121 Q119.075 397.538 116.436 398.417 L116.436 394.251 Q119.098 393.51 121.413 393.14 Q123.751 392.769 125.811 392.769 Q131.135 392.769 134.237 395.2 Q137.339 397.607 137.339 401.728 Q137.339 404.598 135.695 406.589 Q134.052 408.556 131.019 409.32 Z\" fill=\"#000000\" fill-rule=\"nonzero\" fill-opacity=\"1\" /><path clip-path=\"url(#clip030)\" d=\"M18.0438 995.215 L24.314 995.215 Q22.5634 998.875 21.704 1002.12 Q20.8447 1005.37 20.8447 1008.39 Q20.8447 1013.64 22.8817 1016.51 Q24.9187 1019.34 28.6745 1019.34 Q31.8255 1019.34 33.4488 1017.46 Q35.0402 1015.55 36.0269 1010.27 L36.8226 1006.39 Q38.1912 999.194 41.6605 995.788 Q45.098 992.35 50.8908 992.35 Q57.7976 992.35 61.3624 996.997 Q64.9272 1001.61 64.9272 1010.56 Q64.9272 1013.93 64.1633 1017.75 Q63.3994 1021.54 61.9035 1025.61 L55.2831 1025.61 Q57.4793 1021.7 58.5933 1017.94 Q59.7073 1014.18 59.7073 1010.56 Q59.7073 1005.05 57.543 1002.06 Q55.3786 999.066 51.3682 999.066 Q47.8671 999.066 45.8937 1001.23 Q43.9204 1003.36 42.9337 1008.26 L42.1698 1012.18 Q40.7375 1019.37 37.682 1022.59 Q34.6264 1025.8 29.1837 1025.8 Q22.8817 1025.8 19.2532 1021.38 Q15.6248 1016.92 15.6248 1009.12 Q15.6248 1005.78 16.2295 1002.31 Q16.8343 998.844 18.0438 995.215 Z\" fill=\"#000000\" fill-rule=\"nonzero\" fill-opacity=\"1\" /><path clip-path=\"url(#clip030)\" d=\"M32.4621 968.766 Q32.4621 973.476 36.1542 976.213 Q39.8145 978.951 46.212 978.951 Q52.6095 978.951 56.3017 976.245 Q59.9619 973.508 59.9619 968.766 Q59.9619 964.087 56.2698 961.349 Q52.5777 958.612 46.212 958.612 Q39.8781 958.612 36.186 961.349 Q32.4621 964.087 32.4621 968.766 M27.4968 968.766 Q27.4968 961.127 32.4621 956.766 Q37.4273 952.406 46.212 952.406 Q54.9649 952.406 59.9619 956.766 Q64.9272 961.127 64.9272 968.766 Q64.9272 976.436 59.9619 980.797 Q54.9649 985.125 46.212 985.125 Q37.4273 985.125 32.4621 980.797 Q27.4968 976.436 27.4968 968.766 Z\" fill=\"#000000\" fill-rule=\"nonzero\" fill-opacity=\"1\" /><path clip-path=\"url(#clip030)\" d=\"M14.479 942.698 L14.479 936.842 L64.0042 936.842 L64.0042 942.698 L14.479 942.698 Z\" fill=\"#000000\" fill-rule=\"nonzero\" fill-opacity=\"1\" /><path clip-path=\"url(#clip030)\" d=\"M28.3562 928.789 L28.3562 922.582 L58.275 911.442 L28.3562 900.302 L28.3562 894.096 L64.0042 907.464 L64.0042 915.421 L28.3562 928.789 Z\" fill=\"#000000\" fill-rule=\"nonzero\" fill-opacity=\"1\" /><path clip-path=\"url(#clip030)\" d=\"M44.7161 855.52 L47.5806 855.52 L47.5806 882.447 Q53.6281 882.065 56.8109 878.818 Q59.9619 875.54 59.9619 869.715 Q59.9619 866.341 59.1344 863.19 Q58.3069 860.007 56.6518 856.888 L62.1899 856.888 Q63.5267 860.039 64.227 863.349 Q64.9272 866.66 64.9272 870.065 Q64.9272 878.595 59.9619 883.592 Q54.9967 888.558 46.5303 888.558 Q37.7774 888.558 32.6531 883.847 Q27.4968 879.105 27.4968 871.084 Q27.4968 863.891 32.1438 859.721 Q36.7589 855.52 44.7161 855.52 M42.9973 861.376 Q38.1912 861.44 35.3266 864.082 Q32.4621 866.691 32.4621 871.02 Q32.4621 875.922 35.2312 878.882 Q38.0002 881.81 43.0292 882.256 L42.9973 861.376 Z\" fill=\"#000000\" fill-rule=\"nonzero\" fill-opacity=\"1\" /><path clip-path=\"url(#clip030)\" d=\"M18.2347 819.394 L28.3562 819.394 L28.3562 807.331 L32.9077 807.331 L32.9077 819.394 L52.2594 819.394 Q56.6199 819.394 57.8613 818.217 Q59.1026 817.007 59.1026 813.347 L59.1026 807.331 L64.0042 807.331 L64.0042 813.347 Q64.0042 820.126 61.4897 822.704 Q58.9434 825.283 52.2594 825.283 L32.9077 825.283 L32.9077 829.579 L28.3562 829.579 L28.3562 825.283 L18.2347 825.283 L18.2347 819.394 Z\" fill=\"#000000\" fill-rule=\"nonzero\" fill-opacity=\"1\" /><path clip-path=\"url(#clip030)\" d=\"M28.3562 799.629 L28.3562 793.772 L64.0042 793.772 L64.0042 799.629 L28.3562 799.629 M14.479 799.629 L14.479 793.772 L21.895 793.772 L21.895 799.629 L14.479 799.629 Z\" fill=\"#000000\" fill-rule=\"nonzero\" fill-opacity=\"1\" /><path clip-path=\"url(#clip030)\" d=\"M35.1993 753.764 Q31.2526 751.568 29.3747 748.512 Q27.4968 745.457 27.4968 741.319 Q27.4968 735.749 31.4117 732.725 Q35.2948 729.701 42.4881 729.701 L64.0042 729.701 L64.0042 735.59 L42.679 735.59 Q37.5546 735.59 35.072 737.404 Q32.5894 739.218 32.5894 742.942 Q32.5894 747.494 35.6131 750.135 Q38.6368 752.777 43.8567 752.777 L64.0042 752.777 L64.0042 758.665 L42.679 758.665 Q37.5228 758.665 35.072 760.48 Q32.5894 762.294 32.5894 766.081 Q32.5894 770.569 35.6449 773.211 Q38.6686 775.853 43.8567 775.853 L64.0042 775.853 L64.0042 781.741 L28.3562 781.741 L28.3562 775.853 L33.8944 775.853 Q30.616 773.848 29.0564 771.047 Q27.4968 768.246 27.4968 764.395 Q27.4968 760.511 29.4702 757.806 Q31.4436 755.069 35.1993 753.764 Z\" fill=\"#000000\" fill-rule=\"nonzero\" fill-opacity=\"1\" /><path clip-path=\"url(#clip030)\" d=\"M44.7161 687.529 L47.5806 687.529 L47.5806 714.456 Q53.6281 714.074 56.8109 710.827 Q59.9619 707.549 59.9619 701.724 Q59.9619 698.35 59.1344 695.199 Q58.3069 692.016 56.6518 688.897 L62.1899 688.897 Q63.5267 692.048 64.227 695.358 Q64.9272 698.669 64.9272 702.074 Q64.9272 710.604 59.9619 715.601 Q54.9967 720.567 46.5303 720.567 Q37.7774 720.567 32.6531 715.856 Q27.4968 711.114 27.4968 703.093 Q27.4968 695.9 32.1438 691.73 Q36.7589 687.529 44.7161 687.529 M42.9973 693.385 Q38.1912 693.449 35.3266 696.091 Q32.4621 698.7 32.4621 703.029 Q32.4621 707.931 35.2312 710.891 Q38.0002 713.819 43.0292 714.265 L42.9973 693.385 Z\" fill=\"#000000\" fill-rule=\"nonzero\" fill-opacity=\"1\" /><path clip-path=\"url(#clip030)\" d=\"M14.5426 643.128 Q21.8632 647.393 29.0246 649.462 Q36.186 651.531 43.5384 651.531 Q50.8908 651.531 58.1159 649.462 Q65.3091 647.361 72.5979 643.128 L72.5979 648.22 Q65.1182 652.995 57.8931 655.382 Q50.668 657.737 43.5384 657.737 Q36.4406 657.737 29.2474 655.382 Q22.0542 653.026 14.5426 648.22 L14.5426 643.128 Z\" fill=\"#000000\" fill-rule=\"nonzero\" fill-opacity=\"1\" /><path clip-path=\"url(#clip030)\" d=\"M29.4065 609.039 L34.9447 609.039 Q33.6716 611.522 33.035 614.196 Q32.3984 616.869 32.3984 619.734 Q32.3984 624.094 33.7352 626.291 Q35.072 628.455 37.7456 628.455 Q39.7826 628.455 40.9603 626.895 Q42.1061 625.336 43.1565 620.625 L43.6021 618.62 Q44.9389 612.381 47.3897 609.772 Q49.8086 607.13 54.1691 607.13 Q59.1344 607.13 62.0308 611.076 Q64.9272 614.991 64.9272 621.866 Q64.9272 624.731 64.3543 627.85 Q63.8132 630.937 62.6992 634.375 L56.6518 634.375 Q58.3387 631.128 59.198 627.977 Q60.0256 624.826 60.0256 621.739 Q60.0256 617.601 58.6251 615.373 Q57.1929 613.145 54.6147 613.145 Q52.2276 613.145 50.9545 614.769 Q49.6813 616.36 48.5037 621.803 L48.0262 623.84 Q46.8804 629.282 44.5251 631.701 Q42.138 634.12 38.0002 634.12 Q32.9713 634.12 30.2341 630.556 Q27.4968 626.991 27.4968 620.434 Q27.4968 617.188 27.9743 614.323 Q28.4517 611.458 29.4065 609.039 Z\" fill=\"#000000\" fill-rule=\"nonzero\" fill-opacity=\"1\" /><path clip-path=\"url(#clip030)\" d=\"M14.5426 598.727 L14.5426 593.634 Q22.0542 588.86 29.2474 586.505 Q36.4406 584.118 43.5384 584.118 Q50.668 584.118 57.8931 586.505 Q65.1182 588.86 72.5979 593.634 L72.5979 598.727 Q65.3091 594.494 58.1159 592.425 Q50.8908 590.324 43.5384 590.324 Q36.186 590.324 29.0246 592.425 Q21.8632 594.494 14.5426 598.727 Z\" fill=\"#000000\" fill-rule=\"nonzero\" fill-opacity=\"1\" /><path clip-path=\"url(#clip030)\" d=\"M198.065 14.0809 L198.065 22.0612 Q193.406 19.8332 189.274 18.7395 Q185.142 17.6457 181.294 17.6457 Q174.61 17.6457 170.964 20.2383 Q167.359 22.8309 167.359 27.611 Q167.359 31.6214 169.749 33.6873 Q172.179 35.7128 178.904 36.9686 L183.846 37.9813 Q193.001 39.7232 197.335 44.1387 Q201.71 48.5136 201.71 55.8863 Q201.71 64.6767 195.796 69.2137 Q189.922 73.7508 178.539 73.7508 Q174.245 73.7508 169.384 72.7785 Q164.564 71.8063 159.378 69.9024 L159.378 61.4765 Q164.361 64.2716 169.141 65.6895 Q173.921 67.1073 178.539 67.1073 Q185.547 67.1073 189.355 64.3527 Q193.163 61.598 193.163 56.4939 Q193.163 52.0379 190.408 49.5264 Q187.694 47.0148 181.456 45.759 L176.473 44.7868 Q167.318 42.9639 163.227 39.075 Q159.135 35.1862 159.135 28.2591 Q159.135 20.2383 164.766 15.6203 Q170.437 11.0023 180.362 11.0023 Q184.616 11.0023 189.031 11.7719 Q193.447 12.5416 198.065 14.0809 Z\" fill=\"#000000\" fill-rule=\"nonzero\" fill-opacity=\"1\" /><path clip-path=\"url(#clip030)\" d=\"M231.728 32.4315 Q225.732 32.4315 222.249 37.1306 Q218.765 41.7891 218.765 49.9314 Q218.765 58.0738 222.208 62.7728 Q225.692 67.4314 231.728 67.4314 Q237.682 67.4314 241.166 62.7323 Q244.65 58.0333 244.65 49.9314 Q244.65 41.8701 241.166 37.1711 Q237.682 32.4315 231.728 32.4315 M231.728 26.1121 Q241.45 26.1121 247 32.4315 Q252.549 38.7509 252.549 49.9314 Q252.549 61.0714 247 67.4314 Q241.45 73.7508 231.728 73.7508 Q221.965 73.7508 216.415 67.4314 Q210.906 61.0714 210.906 49.9314 Q210.906 38.7509 216.415 32.4315 Q221.965 26.1121 231.728 26.1121 Z\" fill=\"#000000\" fill-rule=\"nonzero\" fill-opacity=\"1\" /><path clip-path=\"url(#clip030)\" d=\"M264.905 9.54393 L272.358 9.54393 L272.358 72.576 L264.905 72.576 L264.905 9.54393 Z\" fill=\"#000000\" fill-rule=\"nonzero\" fill-opacity=\"1\" /><path clip-path=\"url(#clip030)\" d=\"M282.607 27.2059 L290.506 27.2059 L304.684 65.2844 L318.863 27.2059 L326.762 27.2059 L309.748 72.576 L299.621 72.576 L282.607 27.2059 Z\" fill=\"#000000\" fill-rule=\"nonzero\" fill-opacity=\"1\" /><path clip-path=\"url(#clip030)\" d=\"M375.859 48.0275 L375.859 51.6733 L341.588 51.6733 Q342.074 59.3701 346.206 63.421 Q350.379 67.4314 357.792 67.4314 Q362.086 67.4314 366.096 66.3781 Q370.147 65.3249 374.117 63.2184 L374.117 70.267 Q370.107 71.9684 365.894 72.8596 Q361.681 73.7508 357.346 73.7508 Q346.49 73.7508 340.13 67.4314 Q333.81 61.1119 333.81 50.3365 Q333.81 39.1965 339.806 32.6746 Q345.842 26.1121 356.05 26.1121 Q365.205 26.1121 370.512 32.0264 Q375.859 37.9003 375.859 48.0275 M368.405 45.84 Q368.324 39.7232 364.962 36.0774 Q361.64 32.4315 356.131 32.4315 Q349.892 32.4315 346.125 35.9558 Q342.398 39.4801 341.831 45.8805 L368.405 45.84 Z\" fill=\"#000000\" fill-rule=\"nonzero\" fill-opacity=\"1\" /><path clip-path=\"url(#clip030)\" d=\"M421.837 14.324 L421.837 27.2059 L437.189 27.2059 L437.189 32.9987 L421.837 32.9987 L421.837 57.6282 Q421.837 63.1779 423.335 64.7578 Q424.875 66.3376 429.533 66.3376 L437.189 66.3376 L437.189 72.576 L429.533 72.576 Q420.905 72.576 417.624 69.3758 Q414.342 66.1351 414.342 57.6282 L414.342 32.9987 L408.874 32.9987 L408.874 27.2059 L414.342 27.2059 L414.342 14.324 L421.837 14.324 Z\" fill=\"#000000\" fill-rule=\"nonzero\" fill-opacity=\"1\" /><path clip-path=\"url(#clip030)\" d=\"M446.993 27.2059 L454.446 27.2059 L454.446 72.576 L446.993 72.576 L446.993 27.2059 M446.993 9.54393 L454.446 9.54393 L454.446 18.9825 L446.993 18.9825 L446.993 9.54393 Z\" fill=\"#000000\" fill-rule=\"nonzero\" fill-opacity=\"1\" /><path clip-path=\"url(#clip030)\" d=\"M505.366 35.9153 Q508.161 30.8922 512.05 28.5022 Q515.939 26.1121 521.205 26.1121 Q528.294 26.1121 532.143 31.0947 Q535.991 36.0368 535.991 45.1919 L535.991 72.576 L528.497 72.576 L528.497 45.4349 Q528.497 38.913 526.188 35.7533 Q523.879 32.5936 519.139 32.5936 Q513.346 32.5936 509.984 36.4419 Q506.622 40.2903 506.622 46.9338 L506.622 72.576 L499.128 72.576 L499.128 45.4349 Q499.128 38.8725 496.819 35.7533 Q494.51 32.5936 489.689 32.5936 Q483.977 32.5936 480.615 36.4824 Q477.253 40.3308 477.253 46.9338 L477.253 72.576 L469.759 72.576 L469.759 27.2059 L477.253 27.2059 L477.253 34.2544 Q479.805 30.082 483.37 28.0971 Q486.935 26.1121 491.836 26.1121 Q496.778 26.1121 500.222 28.6237 Q503.705 31.1352 505.366 35.9153 Z\" fill=\"#000000\" fill-rule=\"nonzero\" fill-opacity=\"1\" /><path clip-path=\"url(#clip030)\" d=\"M589.666 48.0275 L589.666 51.6733 L555.395 51.6733 Q555.881 59.3701 560.013 63.421 Q564.185 67.4314 571.598 67.4314 Q575.892 67.4314 579.903 66.3781 Q583.954 65.3249 587.924 63.2184 L587.924 70.267 Q583.913 71.9684 579.7 72.8596 Q575.487 73.7508 571.153 73.7508 Q560.296 73.7508 553.937 67.4314 Q547.617 61.1119 547.617 50.3365 Q547.617 39.1965 553.612 32.6746 Q559.648 26.1121 569.857 26.1121 Q579.012 26.1121 584.318 32.0264 Q589.666 37.9003 589.666 48.0275 M582.212 45.84 Q582.131 39.7232 578.769 36.0774 Q575.447 32.4315 569.938 32.4315 Q563.699 32.4315 559.932 35.9558 Q556.205 39.4801 555.638 45.8805 L582.212 45.84 Z\" fill=\"#000000\" fill-rule=\"nonzero\" fill-opacity=\"1\" /><path clip-path=\"url(#clip030)\" d=\"M630.823 28.5427 L630.823 35.5912 Q627.663 33.9709 624.26 33.1607 Q620.857 32.3505 617.212 32.3505 Q611.662 32.3505 608.867 34.0519 Q606.112 35.7533 606.112 39.156 Q606.112 41.7486 608.097 43.2475 Q610.082 44.7058 616.077 46.0426 L618.629 46.6097 Q626.569 48.3111 629.891 51.4303 Q633.253 54.509 633.253 60.0587 Q633.253 66.3781 628.23 70.0644 Q623.248 73.7508 614.498 73.7508 Q610.852 73.7508 606.882 73.0216 Q602.952 72.3329 598.578 70.9151 L598.578 63.2184 Q602.709 65.3654 606.72 66.4591 Q610.73 67.5124 614.66 67.5124 Q619.926 67.5124 622.761 65.73 Q625.597 63.9071 625.597 60.6258 Q625.597 57.5877 623.531 55.9673 Q621.506 54.3469 614.579 52.8481 L611.986 52.2405 Q605.059 50.7821 601.98 47.7845 Q598.902 44.7463 598.902 39.4801 Q598.902 33.0797 603.439 29.5959 Q607.976 26.1121 616.32 26.1121 Q620.452 26.1121 624.098 26.7198 Q627.744 27.3274 630.823 28.5427 Z\" fill=\"#000000\" fill-rule=\"nonzero\" fill-opacity=\"1\" /><path clip-path=\"url(#clip030)\" d=\"M689.075 32.4315 Q683.079 32.4315 679.596 37.1306 Q676.112 41.7891 676.112 49.9314 Q676.112 58.0738 679.555 62.7728 Q683.039 67.4314 689.075 67.4314 Q695.03 67.4314 698.513 62.7323 Q701.997 58.0333 701.997 49.9314 Q701.997 41.8701 698.513 37.1711 Q695.03 32.4315 689.075 32.4315 M689.075 26.1121 Q698.797 26.1121 704.347 32.4315 Q709.896 38.7509 709.896 49.9314 Q709.896 61.0714 704.347 67.4314 Q698.797 73.7508 689.075 73.7508 Q679.312 73.7508 673.762 67.4314 Q668.253 61.0714 668.253 49.9314 Q668.253 38.7509 673.762 32.4315 Q679.312 26.1121 689.075 26.1121 Z\" fill=\"#000000\" fill-rule=\"nonzero\" fill-opacity=\"1\" /><path clip-path=\"url(#clip030)\" d=\"M745.22 9.54393 L745.22 15.7418 L738.091 15.7418 Q734.08 15.7418 732.5 17.3622 Q730.961 18.9825 730.961 23.1955 L730.961 27.2059 L743.235 27.2059 L743.235 32.9987 L730.961 32.9987 L730.961 72.576 L723.467 72.576 L723.467 32.9987 L716.337 32.9987 L716.337 27.2059 L723.467 27.2059 L723.467 24.0462 Q723.467 16.471 726.991 13.0277 Q730.515 9.54393 738.172 9.54393 L745.22 9.54393 Z\" fill=\"#000000\" fill-rule=\"nonzero\" fill-opacity=\"1\" /><path clip-path=\"url(#clip030)\" d=\"M810.399 49.9314 Q810.399 41.7081 806.997 37.0496 Q803.634 32.3505 797.72 32.3505 Q791.806 32.3505 788.403 37.0496 Q785.041 41.7081 785.041 49.9314 Q785.041 58.1548 788.403 62.8538 Q791.806 67.5124 797.72 67.5124 Q803.634 67.5124 806.997 62.8538 Q810.399 58.1548 810.399 49.9314 M785.041 34.0924 Q787.39 30.0415 790.955 28.0971 Q794.56 26.1121 799.543 26.1121 Q807.807 26.1121 812.951 32.6746 Q818.137 39.2371 818.137 49.9314 Q818.137 60.6258 812.951 67.1883 Q807.807 73.7508 799.543 73.7508 Q794.56 73.7508 790.955 71.8063 Q787.39 69.8214 785.041 65.7705 L785.041 72.576 L777.546 72.576 L777.546 9.54393 L785.041 9.54393 L785.041 34.0924 Z\" fill=\"#000000\" fill-rule=\"nonzero\" fill-opacity=\"1\" /><path clip-path=\"url(#clip030)\" d=\"M848.073 32.4315 Q842.077 32.4315 838.594 37.1306 Q835.11 41.7891 835.11 49.9314 Q835.11 58.0738 838.553 62.7728 Q842.037 67.4314 848.073 67.4314 Q854.028 67.4314 857.511 62.7323 Q860.995 58.0333 860.995 49.9314 Q860.995 41.8701 857.511 37.1711 Q854.028 32.4315 848.073 32.4315 M848.073 26.1121 Q857.795 26.1121 863.345 32.4315 Q868.894 38.7509 868.894 49.9314 Q868.894 61.0714 863.345 67.4314 Q857.795 73.7508 848.073 73.7508 Q838.31 73.7508 832.76 67.4314 Q827.251 61.0714 827.251 49.9314 Q827.251 38.7509 832.76 32.4315 Q838.31 26.1121 848.073 26.1121 Z\" fill=\"#000000\" fill-rule=\"nonzero\" fill-opacity=\"1\" /><path clip-path=\"url(#clip030)\" d=\"M888.622 14.324 L888.622 27.2059 L903.975 27.2059 L903.975 32.9987 L888.622 32.9987 L888.622 57.6282 Q888.622 63.1779 890.121 64.7578 Q891.66 66.3376 896.319 66.3376 L903.975 66.3376 L903.975 72.576 L896.319 72.576 Q887.691 72.576 884.409 69.3758 Q881.128 66.1351 881.128 57.6282 L881.128 32.9987 L875.659 32.9987 L875.659 27.2059 L881.128 27.2059 L881.128 14.324 L888.622 14.324 Z\" fill=\"#000000\" fill-rule=\"nonzero\" fill-opacity=\"1\" /><path clip-path=\"url(#clip030)\" d=\"M951.492 45.1919 L951.492 72.576 L944.039 72.576 L944.039 45.4349 Q944.039 38.994 941.527 35.7938 Q939.015 32.5936 933.992 32.5936 Q927.957 32.5936 924.473 36.4419 Q920.989 40.2903 920.989 46.9338 L920.989 72.576 L913.495 72.576 L913.495 9.54393 L920.989 9.54393 L920.989 34.2544 Q923.663 30.163 927.268 28.1376 Q930.914 26.1121 935.653 26.1121 Q943.471 26.1121 947.482 30.9732 Q951.492 35.7938 951.492 45.1919 Z\" fill=\"#000000\" fill-rule=\"nonzero\" fill-opacity=\"1\" /><path clip-path=\"url(#clip030)\" d=\"M1015.7 9.54393 L1015.7 15.7418 L1008.57 15.7418 Q1004.56 15.7418 1002.98 17.3622 Q1001.44 18.9825 1001.44 23.1955 L1001.44 27.2059 L1013.71 27.2059 L1013.71 32.9987 L1001.44 32.9987 L1001.44 72.576 L993.946 72.576 L993.946 32.9987 L986.816 32.9987 L986.816 27.2059 L993.946 27.2059 L993.946 24.0462 Q993.946 16.471 997.47 13.0277 Q1000.99 9.54393 1008.65 9.54393 L1015.7 9.54393 Z\" fill=\"#000000\" fill-rule=\"nonzero\" fill-opacity=\"1\" /><path clip-path=\"url(#clip030)\" d=\"M1039.52 32.4315 Q1033.52 32.4315 1030.04 37.1306 Q1026.56 41.7891 1026.56 49.9314 Q1026.56 58.0738 1030 62.7728 Q1033.48 67.4314 1039.52 67.4314 Q1045.47 67.4314 1048.96 62.7323 Q1052.44 58.0333 1052.44 49.9314 Q1052.44 41.8701 1048.96 37.1711 Q1045.47 32.4315 1039.52 32.4315 M1039.52 26.1121 Q1049.24 26.1121 1054.79 32.4315 Q1060.34 38.7509 1060.34 49.9314 Q1060.34 61.0714 1054.79 67.4314 Q1049.24 73.7508 1039.52 73.7508 Q1029.76 73.7508 1024.21 67.4314 Q1018.7 61.0714 1018.7 49.9314 Q1018.7 38.7509 1024.21 32.4315 Q1029.76 26.1121 1039.52 26.1121 Z\" fill=\"#000000\" fill-rule=\"nonzero\" fill-opacity=\"1\" /><path clip-path=\"url(#clip030)\" d=\"M1098.99 34.1734 Q1097.73 33.4443 1096.23 33.1202 Q1094.77 32.7556 1092.99 32.7556 Q1086.67 32.7556 1083.27 36.8875 Q1079.91 40.9789 1079.91 48.6757 L1079.91 72.576 L1072.41 72.576 L1072.41 27.2059 L1079.91 27.2059 L1079.91 34.2544 Q1082.26 30.1225 1086.02 28.1376 Q1089.79 26.1121 1095.18 26.1121 Q1095.95 26.1121 1096.88 26.2337 Q1097.81 26.3147 1098.95 26.5172 L1098.99 34.1734 Z\" fill=\"#000000\" fill-rule=\"nonzero\" fill-opacity=\"1\" /><path clip-path=\"url(#clip030)\" d=\"M1140.67 35.9153 Q1143.46 30.8922 1147.35 28.5022 Q1151.24 26.1121 1156.51 26.1121 Q1163.6 26.1121 1167.45 31.0947 Q1171.29 36.0368 1171.29 45.1919 L1171.29 72.576 L1163.8 72.576 L1163.8 45.4349 Q1163.8 38.913 1161.49 35.7533 Q1159.18 32.5936 1154.44 32.5936 Q1148.65 32.5936 1145.29 36.4419 Q1141.93 40.2903 1141.93 46.9338 L1141.93 72.576 L1134.43 72.576 L1134.43 45.4349 Q1134.43 38.8725 1132.12 35.7533 Q1129.81 32.5936 1124.99 32.5936 Q1119.28 32.5936 1115.92 36.4824 Q1112.56 40.3308 1112.56 46.9338 L1112.56 72.576 L1105.06 72.576 L1105.06 27.2059 L1112.56 27.2059 L1112.56 34.2544 Q1115.11 30.082 1118.67 28.0971 Q1122.24 26.1121 1127.14 26.1121 Q1132.08 26.1121 1135.52 28.6237 Q1139.01 31.1352 1140.67 35.9153 Z\" fill=\"#000000\" fill-rule=\"nonzero\" fill-opacity=\"1\" /><path clip-path=\"url(#clip030)\" d=\"M1185.39 54.671 L1185.39 27.2059 L1192.85 27.2059 L1192.85 54.3874 Q1192.85 60.8284 1195.36 64.0691 Q1197.87 67.2693 1202.89 67.2693 Q1208.93 67.2693 1212.41 63.421 Q1215.94 59.5726 1215.94 52.9291 L1215.94 27.2059 L1223.39 27.2059 L1223.39 72.576 L1215.94 72.576 L1215.94 65.6084 Q1213.22 69.7404 1209.62 71.7658 Q1206.05 73.7508 1201.31 73.7508 Q1193.49 73.7508 1189.44 68.8897 Q1185.39 64.0286 1185.39 54.671 M1204.15 26.1121 L1204.15 26.1121 Z\" fill=\"#000000\" fill-rule=\"nonzero\" fill-opacity=\"1\" /><path clip-path=\"url(#clip030)\" d=\"M1238.74 9.54393 L1246.2 9.54393 L1246.2 72.576 L1238.74 72.576 L1238.74 9.54393 Z\" fill=\"#000000\" fill-rule=\"nonzero\" fill-opacity=\"1\" /><path clip-path=\"url(#clip030)\" d=\"M1282.41 49.7694 Q1273.38 49.7694 1269.89 51.8354 Q1266.41 53.9013 1266.41 58.8839 Q1266.41 62.8538 1269 65.2034 Q1271.64 67.5124 1276.13 67.5124 Q1282.33 67.5124 1286.06 63.1374 Q1289.82 58.7219 1289.82 51.4303 L1289.82 49.7694 L1282.41 49.7694 M1297.28 46.6907 L1297.28 72.576 L1289.82 72.576 L1289.82 65.6895 Q1287.27 69.8214 1283.46 71.8063 Q1279.66 73.7508 1274.15 73.7508 Q1267.18 73.7508 1263.05 69.8619 Q1258.96 65.9325 1258.96 59.3701 Q1258.96 51.7138 1264.06 47.825 Q1269.2 43.9361 1279.37 43.9361 L1289.82 43.9361 L1289.82 43.2069 Q1289.82 38.0623 1286.42 35.2672 Q1283.06 32.4315 1276.94 32.4315 Q1273.05 32.4315 1269.37 33.3632 Q1265.68 34.295 1262.28 36.1584 L1262.28 29.2718 Q1266.37 27.692 1270.22 26.9223 Q1274.07 26.1121 1277.71 26.1121 Q1287.56 26.1121 1292.42 31.2163 Q1297.28 36.3204 1297.28 46.6907 Z\" fill=\"#000000\" fill-rule=\"nonzero\" fill-opacity=\"1\" /><path clip-path=\"url(#clip030)\" d=\"M1320 14.324 L1320 27.2059 L1335.36 27.2059 L1335.36 32.9987 L1320 32.9987 L1320 57.6282 Q1320 63.1779 1321.5 64.7578 Q1323.04 66.3376 1327.7 66.3376 L1335.36 66.3376 L1335.36 72.576 L1327.7 72.576 Q1319.07 72.576 1315.79 69.3758 Q1312.51 66.1351 1312.51 57.6282 L1312.51 32.9987 L1307.04 32.9987 L1307.04 27.2059 L1312.51 27.2059 L1312.51 14.324 L1320 14.324 Z\" fill=\"#000000\" fill-rule=\"nonzero\" fill-opacity=\"1\" /><path clip-path=\"url(#clip030)\" d=\"M1345.16 27.2059 L1352.61 27.2059 L1352.61 72.576 L1345.16 72.576 L1345.16 27.2059 M1345.16 9.54393 L1352.61 9.54393 L1352.61 18.9825 L1345.16 18.9825 L1345.16 9.54393 Z\" fill=\"#000000\" fill-rule=\"nonzero\" fill-opacity=\"1\" /><path clip-path=\"url(#clip030)\" d=\"M1385.79 32.4315 Q1379.79 32.4315 1376.31 37.1306 Q1372.83 41.7891 1372.83 49.9314 Q1372.83 58.0738 1376.27 62.7728 Q1379.75 67.4314 1385.79 67.4314 Q1391.74 67.4314 1395.23 62.7323 Q1398.71 58.0333 1398.71 49.9314 Q1398.71 41.8701 1395.23 37.1711 Q1391.74 32.4315 1385.79 32.4315 M1385.79 26.1121 Q1395.51 26.1121 1401.06 32.4315 Q1406.61 38.7509 1406.61 49.9314 Q1406.61 61.0714 1401.06 67.4314 Q1395.51 73.7508 1385.79 73.7508 Q1376.03 73.7508 1370.48 67.4314 Q1364.97 61.0714 1364.97 49.9314 Q1364.97 38.7509 1370.48 32.4315 Q1376.03 26.1121 1385.79 26.1121 Z\" fill=\"#000000\" fill-rule=\"nonzero\" fill-opacity=\"1\" /><path clip-path=\"url(#clip030)\" d=\"M1456.68 45.1919 L1456.68 72.576 L1449.23 72.576 L1449.23 45.4349 Q1449.23 38.994 1446.72 35.7938 Q1444.2 32.5936 1439.18 32.5936 Q1433.14 32.5936 1429.66 36.4419 Q1426.18 40.2903 1426.18 46.9338 L1426.18 72.576 L1418.68 72.576 L1418.68 27.2059 L1426.18 27.2059 L1426.18 34.2544 Q1428.85 30.163 1432.46 28.1376 Q1436.1 26.1121 1440.84 26.1121 Q1448.66 26.1121 1452.67 30.9732 Q1456.68 35.7938 1456.68 45.1919 Z\" fill=\"#000000\" fill-rule=\"nonzero\" fill-opacity=\"1\" /><path clip-path=\"url(#clip030)\" d=\"M1500.47 28.5427 L1500.47 35.5912 Q1497.31 33.9709 1493.91 33.1607 Q1490.51 32.3505 1486.86 32.3505 Q1481.31 32.3505 1478.51 34.0519 Q1475.76 35.7533 1475.76 39.156 Q1475.76 41.7486 1477.75 43.2475 Q1479.73 44.7058 1485.73 46.0426 L1488.28 46.6097 Q1496.22 48.3111 1499.54 51.4303 Q1502.9 54.509 1502.9 60.0587 Q1502.9 66.3781 1497.88 70.0644 Q1492.9 73.7508 1484.15 73.7508 Q1480.5 73.7508 1476.53 73.0216 Q1472.6 72.3329 1468.23 70.9151 L1468.23 63.2184 Q1472.36 65.3654 1476.37 66.4591 Q1480.38 67.5124 1484.31 67.5124 Q1489.57 67.5124 1492.41 65.73 Q1495.25 63.9071 1495.25 60.6258 Q1495.25 57.5877 1493.18 55.9673 Q1491.15 54.3469 1484.23 52.8481 L1481.63 52.2405 Q1474.71 50.7821 1471.63 47.7845 Q1468.55 44.7463 1468.55 39.4801 Q1468.55 33.0797 1473.09 29.5959 Q1477.62 26.1121 1485.97 26.1121 Q1490.1 26.1121 1493.75 26.7198 Q1497.39 27.3274 1500.47 28.5427 Z\" fill=\"#000000\" fill-rule=\"nonzero\" fill-opacity=\"1\" /><path clip-path=\"url(#clip030)\" d=\"M1536.81 27.2059 L1544.26 27.2059 L1553.58 62.6108 L1562.85 27.2059 L1571.65 27.2059 L1580.96 62.6108 L1590.24 27.2059 L1597.69 27.2059 L1585.82 72.576 L1577.03 72.576 L1567.27 35.3887 L1557.47 72.576 L1548.68 72.576 L1536.81 27.2059 Z\" fill=\"#000000\" fill-rule=\"nonzero\" fill-opacity=\"1\" /><path clip-path=\"url(#clip030)\" d=\"M1608.99 27.2059 L1616.45 27.2059 L1616.45 72.576 L1608.99 72.576 L1608.99 27.2059 M1608.99 9.54393 L1616.45 9.54393 L1616.45 18.9825 L1608.99 18.9825 L1608.99 9.54393 Z\" fill=\"#000000\" fill-rule=\"nonzero\" fill-opacity=\"1\" /><path clip-path=\"url(#clip030)\" d=\"M1639.42 14.324 L1639.42 27.2059 L1654.77 27.2059 L1654.77 32.9987 L1639.42 32.9987 L1639.42 57.6282 Q1639.42 63.1779 1640.92 64.7578 Q1642.46 66.3376 1647.11 66.3376 L1654.77 66.3376 L1654.77 72.576 L1647.11 72.576 Q1638.49 72.576 1635.2 69.3758 Q1631.92 66.1351 1631.92 57.6282 L1631.92 32.9987 L1626.45 32.9987 L1626.45 27.2059 L1631.92 27.2059 L1631.92 14.324 L1639.42 14.324 Z\" fill=\"#000000\" fill-rule=\"nonzero\" fill-opacity=\"1\" /><path clip-path=\"url(#clip030)\" d=\"M1702.29 45.1919 L1702.29 72.576 L1694.83 72.576 L1694.83 45.4349 Q1694.83 38.994 1692.32 35.7938 Q1689.81 32.5936 1684.79 32.5936 Q1678.75 32.5936 1675.27 36.4419 Q1671.78 40.2903 1671.78 46.9338 L1671.78 72.576 L1664.29 72.576 L1664.29 9.54393 L1671.78 9.54393 L1671.78 34.2544 Q1674.46 30.163 1678.06 28.1376 Q1681.71 26.1121 1686.45 26.1121 Q1694.27 26.1121 1698.28 30.9732 Q1702.29 35.7938 1702.29 45.1919 Z\" fill=\"#000000\" fill-rule=\"nonzero\" fill-opacity=\"1\" /><path clip-path=\"url(#clip030)\" d=\"M1778.12 36.0774 L1766.33 36.0774 L1762.93 49.6074 L1774.8 49.6074 L1778.12 36.0774 M1772.04 13.0277 L1767.83 29.839 L1779.66 29.839 L1783.91 13.0277 L1790.39 13.0277 L1786.22 29.839 L1798.86 29.839 L1798.86 36.0774 L1784.64 36.0774 L1781.32 49.6074 L1794.2 49.6074 L1794.2 55.8053 L1779.74 55.8053 L1775.53 72.576 L1769.05 72.576 L1773.22 55.8053 L1761.35 55.8053 L1757.18 72.576 L1750.65 72.576 L1754.87 55.8053 L1742.11 55.8053 L1742.11 49.6074 L1756.37 49.6074 L1759.77 36.0774 L1746.73 36.0774 L1746.73 29.839 L1761.35 29.839 L1765.48 13.0277 L1772.04 13.0277 Z\" fill=\"#000000\" fill-rule=\"nonzero\" fill-opacity=\"1\" /><path clip-path=\"url(#clip030)\" d=\"M1856.99 32.4315 Q1851 32.4315 1847.51 37.1306 Q1844.03 41.7891 1844.03 49.9314 Q1844.03 58.0738 1847.47 62.7728 Q1850.96 67.4314 1856.99 67.4314 Q1862.95 67.4314 1866.43 62.7323 Q1869.91 58.0333 1869.91 49.9314 Q1869.91 41.8701 1866.43 37.1711 Q1862.95 32.4315 1856.99 32.4315 M1856.99 26.1121 Q1866.71 26.1121 1872.26 32.4315 Q1877.81 38.7509 1877.81 49.9314 Q1877.81 61.0714 1872.26 67.4314 Q1866.71 73.7508 1856.99 73.7508 Q1847.23 73.7508 1841.68 67.4314 Q1836.17 61.0714 1836.17 49.9314 Q1836.17 38.7509 1841.68 32.4315 Q1847.23 26.1121 1856.99 26.1121 Z\" fill=\"#000000\" fill-rule=\"nonzero\" fill-opacity=\"1\" /><path clip-path=\"url(#clip030)\" d=\"M1913.14 9.54393 L1913.14 15.7418 L1906.01 15.7418 Q1902 15.7418 1900.42 17.3622 Q1898.88 18.9825 1898.88 23.1955 L1898.88 27.2059 L1911.15 27.2059 L1911.15 32.9987 L1898.88 32.9987 L1898.88 72.576 L1891.38 72.576 L1891.38 32.9987 L1884.25 32.9987 L1884.25 27.2059 L1891.38 27.2059 L1891.38 24.0462 Q1891.38 16.471 1894.91 13.0277 Q1898.43 9.54393 1906.09 9.54393 L1913.14 9.54393 Z\" fill=\"#000000\" fill-rule=\"nonzero\" fill-opacity=\"1\" /><path clip-path=\"url(#clip030)\" d=\"M1978.4 28.9478 L1978.4 35.9153 Q1975.24 34.1734 1972.04 33.3227 Q1968.88 32.4315 1965.64 32.4315 Q1958.39 32.4315 1954.37 37.0496 Q1950.36 41.6271 1950.36 49.9314 Q1950.36 58.2358 1954.37 62.8538 Q1958.39 67.4314 1965.64 67.4314 Q1968.88 67.4314 1972.04 66.5807 Q1975.24 65.6895 1978.4 63.9476 L1978.4 70.8341 Q1975.28 72.2924 1971.92 73.0216 Q1968.59 73.7508 1964.83 73.7508 Q1954.58 73.7508 1948.54 67.3098 Q1942.51 60.8689 1942.51 49.9314 Q1942.51 38.832 1948.58 32.472 Q1954.7 26.1121 1965.31 26.1121 Q1968.76 26.1121 1972.04 26.8413 Q1975.32 27.5299 1978.4 28.9478 Z\" fill=\"#000000\" fill-rule=\"nonzero\" fill-opacity=\"1\" /><path clip-path=\"url(#clip030)\" d=\"M1990.59 54.671 L1990.59 27.2059 L1998.04 27.2059 L1998.04 54.3874 Q1998.04 60.8284 2000.55 64.0691 Q2003.07 67.2693 2008.09 67.2693 Q2014.13 67.2693 2017.61 63.421 Q2021.13 59.5726 2021.13 52.9291 L2021.13 27.2059 L2028.59 27.2059 L2028.59 72.576 L2021.13 72.576 L2021.13 65.6084 Q2018.42 69.7404 2014.81 71.7658 Q2011.25 73.7508 2006.51 73.7508 Q1998.69 73.7508 1994.64 68.8897 Q1990.59 64.0286 1990.59 54.671 M2009.35 26.1121 L2009.35 26.1121 Z\" fill=\"#000000\" fill-rule=\"nonzero\" fill-opacity=\"1\" /><path clip-path=\"url(#clip030)\" d=\"M2072.86 28.5427 L2072.86 35.5912 Q2069.7 33.9709 2066.3 33.1607 Q2062.9 32.3505 2059.25 32.3505 Q2053.7 32.3505 2050.91 34.0519 Q2048.15 35.7533 2048.15 39.156 Q2048.15 41.7486 2050.14 43.2475 Q2052.12 44.7058 2058.12 46.0426 L2060.67 46.6097 Q2068.61 48.3111 2071.93 51.4303 Q2075.29 54.509 2075.29 60.0587 Q2075.29 66.3781 2070.27 70.0644 Q2065.29 73.7508 2056.54 73.7508 Q2052.89 73.7508 2048.92 73.0216 Q2044.99 72.3329 2040.62 70.9151 L2040.62 63.2184 Q2044.75 65.3654 2048.76 66.4591 Q2052.77 67.5124 2056.7 67.5124 Q2061.97 67.5124 2064.8 65.73 Q2067.64 63.9071 2067.64 60.6258 Q2067.64 57.5877 2065.57 55.9673 Q2063.55 54.3469 2056.62 52.8481 L2054.03 52.2405 Q2047.1 50.7821 2044.02 47.7845 Q2040.94 44.7463 2040.94 39.4801 Q2040.94 33.0797 2045.48 29.5959 Q2050.02 26.1121 2058.36 26.1121 Q2062.49 26.1121 2066.14 26.7198 Q2069.78 27.3274 2072.86 28.5427 Z\" fill=\"#000000\" fill-rule=\"nonzero\" fill-opacity=\"1\" /><path clip-path=\"url(#clip030)\" d=\"M2094.54 14.324 L2094.54 27.2059 L2109.89 27.2059 L2109.89 32.9987 L2094.54 32.9987 L2094.54 57.6282 Q2094.54 63.1779 2096.03 64.7578 Q2097.57 66.3376 2102.23 66.3376 L2109.89 66.3376 L2109.89 72.576 L2102.23 72.576 Q2093.6 72.576 2090.32 69.3758 Q2087.04 66.1351 2087.04 57.6282 L2087.04 32.9987 L2081.57 32.9987 L2081.57 27.2059 L2087.04 27.2059 L2087.04 14.324 L2094.54 14.324 Z\" fill=\"#000000\" fill-rule=\"nonzero\" fill-opacity=\"1\" /><path clip-path=\"url(#clip030)\" d=\"M2137.27 32.4315 Q2131.28 32.4315 2127.79 37.1306 Q2124.31 41.7891 2124.31 49.9314 Q2124.31 58.0738 2127.75 62.7728 Q2131.24 67.4314 2137.27 67.4314 Q2143.23 67.4314 2146.71 62.7323 Q2150.2 58.0333 2150.2 49.9314 Q2150.2 41.8701 2146.71 37.1711 Q2143.23 32.4315 2137.27 32.4315 M2137.27 26.1121 Q2147 26.1121 2152.54 32.4315 Q2158.09 38.7509 2158.09 49.9314 Q2158.09 61.0714 2152.54 67.4314 Q2147 73.7508 2137.27 73.7508 Q2127.51 73.7508 2121.96 67.4314 Q2116.45 61.0714 2116.45 49.9314 Q2116.45 38.7509 2121.96 32.4315 Q2127.51 26.1121 2137.27 26.1121 Z\" fill=\"#000000\" fill-rule=\"nonzero\" fill-opacity=\"1\" /><path clip-path=\"url(#clip030)\" d=\"M2205.77 35.9153 Q2208.57 30.8922 2212.46 28.5022 Q2216.35 26.1121 2221.61 26.1121 Q2228.7 26.1121 2232.55 31.0947 Q2236.4 36.0368 2236.4 45.1919 L2236.4 72.576 L2228.9 72.576 L2228.9 45.4349 Q2228.9 38.913 2226.6 35.7533 Q2224.29 32.5936 2219.55 32.5936 Q2213.75 32.5936 2210.39 36.4419 Q2207.03 40.2903 2207.03 46.9338 L2207.03 72.576 L2199.54 72.576 L2199.54 45.4349 Q2199.54 38.8725 2197.23 35.7533 Q2194.92 32.5936 2190.1 32.5936 Q2184.38 32.5936 2181.02 36.4824 Q2177.66 40.3308 2177.66 46.9338 L2177.66 72.576 L2170.17 72.576 L2170.17 27.2059 L2177.66 27.2059 L2177.66 34.2544 Q2180.21 30.082 2183.78 28.0971 Q2187.34 26.1121 2192.24 26.1121 Q2197.19 26.1121 2200.63 28.6237 Q2204.11 31.1352 2205.77 35.9153 Z\" fill=\"#000000\" fill-rule=\"nonzero\" fill-opacity=\"1\" /><path clip-path=\"url(#clip030)\" d=\"M2290.07 48.0275 L2290.07 51.6733 L2255.8 51.6733 Q2256.29 59.3701 2260.42 63.421 Q2264.59 67.4314 2272.01 67.4314 Q2276.3 67.4314 2280.31 66.3781 Q2284.36 65.3249 2288.33 63.2184 L2288.33 70.267 Q2284.32 71.9684 2280.11 72.8596 Q2275.89 73.7508 2271.56 73.7508 Q2260.7 73.7508 2254.34 67.4314 Q2248.02 61.1119 2248.02 50.3365 Q2248.02 39.1965 2254.02 32.6746 Q2260.06 26.1121 2270.26 26.1121 Q2279.42 26.1121 2284.73 32.0264 Q2290.07 37.9003 2290.07 48.0275 M2282.62 45.84 Q2282.54 39.7232 2279.18 36.0774 Q2275.85 32.4315 2270.35 32.4315 Q2264.11 32.4315 2260.34 35.9558 Q2256.61 39.4801 2256.05 45.8805 L2282.62 45.84 Z\" fill=\"#000000\" fill-rule=\"nonzero\" fill-opacity=\"1\" /><path clip-path=\"url(#clip030)\" d=\"M2328.6 34.1734 Q2327.34 33.4443 2325.84 33.1202 Q2324.38 32.7556 2322.6 32.7556 Q2316.28 32.7556 2312.88 36.8875 Q2309.52 40.9789 2309.52 48.6757 L2309.52 72.576 L2302.02 72.576 L2302.02 27.2059 L2309.52 27.2059 L2309.52 34.2544 Q2311.87 30.1225 2315.63 28.1376 Q2319.4 26.1121 2324.79 26.1121 Q2325.56 26.1121 2326.49 26.2337 Q2327.42 26.3147 2328.56 26.5172 L2328.6 34.1734 Z\" fill=\"#000000\" fill-rule=\"nonzero\" fill-opacity=\"1\" /><path clip-path=\"url(#clip030)\" d=\"M2365.34 28.5427 L2365.34 35.5912 Q2362.18 33.9709 2358.78 33.1607 Q2355.37 32.3505 2351.73 32.3505 Q2346.18 32.3505 2343.38 34.0519 Q2340.63 35.7533 2340.63 39.156 Q2340.63 41.7486 2342.61 43.2475 Q2344.6 44.7058 2350.59 46.0426 L2353.15 46.6097 Q2361.09 48.3111 2364.41 51.4303 Q2367.77 54.509 2367.77 60.0587 Q2367.77 66.3781 2362.75 70.0644 Q2357.76 73.7508 2349.01 73.7508 Q2345.37 73.7508 2341.4 73.0216 Q2337.47 72.3329 2333.09 70.9151 L2333.09 63.2184 Q2337.23 65.3654 2341.24 66.4591 Q2345.25 67.5124 2349.18 67.5124 Q2354.44 67.5124 2357.28 65.73 Q2360.11 63.9071 2360.11 60.6258 Q2360.11 57.5877 2358.05 55.9673 Q2356.02 54.3469 2349.09 52.8481 L2346.5 52.2405 Q2339.58 50.7821 2336.5 47.7845 Q2333.42 44.7463 2333.42 39.4801 Q2333.42 33.0797 2337.95 29.5959 Q2342.49 26.1121 2350.84 26.1121 Q2354.97 26.1121 2358.61 26.7198 Q2362.26 27.3274 2365.34 28.5427 Z\" fill=\"#000000\" fill-rule=\"nonzero\" fill-opacity=\"1\" /><path clip-path=\"url(#clip032)\" d=\"M265.739 162.047 L265.739 1447.87 L1263.45 1447.87 L1263.45 162.047 L265.739 162.047 L265.739 162.047  Z\" fill=\"#009af9\" fill-rule=\"evenodd\" fill-opacity=\"1\"/>\n",
       "<polyline clip-path=\"url(#clip032)\" style=\"stroke:#000000; stroke-linecap:round; stroke-linejoin:round; stroke-width:4; stroke-opacity:1; fill:none\" points=\"265.739,162.047 265.739,1447.87 1263.45,1447.87 1263.45,162.047 265.739,162.047 \"/>\n",
       "<circle clip-path=\"url(#clip032)\" style=\"fill:#009af9; stroke:none; fill-opacity:0\" cx=\"764.596\" cy=\"162.047\" r=\"2\"/>\n",
       "<path clip-path=\"url(#clip032)\" d=\"M1263.45 1403.78 L1263.45 1447.87 L2261.17 1447.87 L2261.17 1403.78 L1263.45 1403.78 L1263.45 1403.78  Z\" fill=\"#e26f46\" fill-rule=\"evenodd\" fill-opacity=\"1\"/>\n",
       "<polyline clip-path=\"url(#clip032)\" style=\"stroke:#000000; stroke-linecap:round; stroke-linejoin:round; stroke-width:4; stroke-opacity:1; fill:none\" points=\"1263.45,1403.78 1263.45,1447.87 2261.17,1447.87 2261.17,1403.78 1263.45,1403.78 \"/>\n",
       "<circle clip-path=\"url(#clip032)\" style=\"fill:#e26f46; stroke:none; fill-opacity:0\" cx=\"1762.31\" cy=\"1403.78\" r=\"2\"/>\n",
       "<path clip-path=\"url(#clip030)\" d=\"M246.769 324.425 L643.171 324.425 L643.171 168.905 L246.769 168.905  Z\" fill=\"#ffffff\" fill-rule=\"evenodd\" fill-opacity=\"1\"/>\n",
       "<polyline clip-path=\"url(#clip030)\" style=\"stroke:#000000; stroke-linecap:round; stroke-linejoin:round; stroke-width:4; stroke-opacity:1; fill:none\" points=\"246.769,324.425 643.171,324.425 643.171,168.905 246.769,168.905 246.769,324.425 \"/>\n",
       "<path clip-path=\"url(#clip030)\" d=\"M270.976 241.481 L416.216 241.481 L416.216 200.009 L270.976 200.009 L270.976 241.481  Z\" fill=\"#009af9\" fill-rule=\"evenodd\" fill-opacity=\"1\"/>\n",
       "<polyline clip-path=\"url(#clip030)\" style=\"stroke:#000000; stroke-linecap:round; stroke-linejoin:round; stroke-width:4; stroke-opacity:1; fill:none\" points=\"270.976,241.481 416.216,241.481 416.216,200.009 270.976,200.009 270.976,241.481 \"/>\n",
       "<path clip-path=\"url(#clip030)\" d=\"M440.423 203.465 L447.391 203.465 L456.21 226.983 L465.076 203.465 L472.043 203.465 L472.043 238.025 L467.483 238.025 L467.483 207.678 L458.571 231.381 L453.872 231.381 L444.96 207.678 L444.96 238.025 L440.423 238.025 L440.423 203.465 Z\" fill=\"#000000\" fill-rule=\"nonzero\" fill-opacity=\"1\" /><path clip-path=\"url(#clip030)\" d=\"M491.187 215.085 Q487.761 215.085 485.77 217.77 Q483.779 220.432 483.779 225.085 Q483.779 229.738 485.747 232.423 Q487.738 235.085 491.187 235.085 Q494.589 235.085 496.58 232.4 Q498.571 229.715 498.571 225.085 Q498.571 220.478 496.58 217.793 Q494.589 215.085 491.187 215.085 M491.187 211.474 Q496.742 211.474 499.914 215.085 Q503.085 218.696 503.085 225.085 Q503.085 231.451 499.914 235.085 Q496.742 238.696 491.187 238.696 Q485.608 238.696 482.437 235.085 Q479.289 231.451 479.289 225.085 Q479.289 218.696 482.437 215.085 Q485.608 211.474 491.187 211.474 Z\" fill=\"#000000\" fill-rule=\"nonzero\" fill-opacity=\"1\" /><path clip-path=\"url(#clip030)\" d=\"M527.205 216.034 L527.205 202.006 L531.464 202.006 L531.464 238.025 L527.205 238.025 L527.205 234.136 Q525.862 236.451 523.802 237.585 Q521.765 238.696 518.895 238.696 Q514.196 238.696 511.233 234.946 Q508.293 231.196 508.293 225.085 Q508.293 218.974 511.233 215.224 Q514.196 211.474 518.895 211.474 Q521.765 211.474 523.802 212.608 Q525.862 213.719 527.205 216.034 M512.691 225.085 Q512.691 229.784 514.613 232.469 Q516.557 235.131 519.937 235.131 Q523.316 235.131 525.261 232.469 Q527.205 229.784 527.205 225.085 Q527.205 220.386 525.261 217.724 Q523.316 215.039 519.937 215.039 Q516.557 215.039 514.613 217.724 Q512.691 220.386 512.691 225.085 Z\" fill=\"#000000\" fill-rule=\"nonzero\" fill-opacity=\"1\" /><path clip-path=\"url(#clip030)\" d=\"M562.413 223.997 L562.413 226.08 L542.83 226.08 Q543.108 230.478 545.469 232.793 Q547.853 235.085 552.089 235.085 Q554.543 235.085 556.835 234.483 Q559.149 233.881 561.418 232.677 L561.418 236.705 Q559.126 237.677 556.719 238.187 Q554.311 238.696 551.835 238.696 Q545.631 238.696 541.997 235.085 Q538.386 231.474 538.386 225.316 Q538.386 218.951 541.811 215.224 Q545.261 211.474 551.094 211.474 Q556.325 211.474 559.358 214.853 Q562.413 218.21 562.413 223.997 M558.154 222.747 Q558.108 219.252 556.186 217.168 Q554.288 215.085 551.14 215.085 Q547.575 215.085 545.423 217.099 Q543.293 219.113 542.969 222.77 L558.154 222.747 Z\" fill=\"#000000\" fill-rule=\"nonzero\" fill-opacity=\"1\" /><path clip-path=\"url(#clip030)\" d=\"M569.404 202.006 L573.663 202.006 L573.663 238.025 L569.404 238.025 L569.404 202.006 Z\" fill=\"#000000\" fill-rule=\"nonzero\" fill-opacity=\"1\" /><path clip-path=\"url(#clip030)\" d=\"M599.057 234.089 L606.695 234.089 L606.695 207.724 L598.385 209.391 L598.385 205.131 L606.649 203.465 L611.325 203.465 L611.325 234.089 L618.964 234.089 L618.964 238.025 L599.057 238.025 L599.057 234.089 Z\" fill=\"#000000\" fill-rule=\"nonzero\" fill-opacity=\"1\" /><path clip-path=\"url(#clip030)\" d=\"M270.976 293.321 L416.216 293.321 L416.216 251.849 L270.976 251.849 L270.976 293.321  Z\" fill=\"#e26f46\" fill-rule=\"evenodd\" fill-opacity=\"1\"/>\n",
       "<polyline clip-path=\"url(#clip030)\" style=\"stroke:#000000; stroke-linecap:round; stroke-linejoin:round; stroke-width:4; stroke-opacity:1; fill:none\" points=\"270.976,293.321 416.216,293.321 416.216,251.849 270.976,251.849 270.976,293.321 \"/>\n",
       "<path clip-path=\"url(#clip030)\" d=\"M440.423 255.305 L447.391 255.305 L456.21 278.823 L465.076 255.305 L472.043 255.305 L472.043 289.865 L467.483 289.865 L467.483 259.518 L458.571 283.221 L453.872 283.221 L444.96 259.518 L444.96 289.865 L440.423 289.865 L440.423 255.305 Z\" fill=\"#000000\" fill-rule=\"nonzero\" fill-opacity=\"1\" /><path clip-path=\"url(#clip030)\" d=\"M491.187 266.925 Q487.761 266.925 485.77 269.61 Q483.779 272.272 483.779 276.925 Q483.779 281.578 485.747 284.263 Q487.738 286.925 491.187 286.925 Q494.589 286.925 496.58 284.24 Q498.571 281.555 498.571 276.925 Q498.571 272.318 496.58 269.633 Q494.589 266.925 491.187 266.925 M491.187 263.314 Q496.742 263.314 499.914 266.925 Q503.085 270.536 503.085 276.925 Q503.085 283.291 499.914 286.925 Q496.742 290.536 491.187 290.536 Q485.608 290.536 482.437 286.925 Q479.289 283.291 479.289 276.925 Q479.289 270.536 482.437 266.925 Q485.608 263.314 491.187 263.314 Z\" fill=\"#000000\" fill-rule=\"nonzero\" fill-opacity=\"1\" /><path clip-path=\"url(#clip030)\" d=\"M527.205 267.874 L527.205 253.846 L531.464 253.846 L531.464 289.865 L527.205 289.865 L527.205 285.976 Q525.862 288.291 523.802 289.425 Q521.765 290.536 518.895 290.536 Q514.196 290.536 511.233 286.786 Q508.293 283.036 508.293 276.925 Q508.293 270.814 511.233 267.064 Q514.196 263.314 518.895 263.314 Q521.765 263.314 523.802 264.448 Q525.862 265.559 527.205 267.874 M512.691 276.925 Q512.691 281.624 514.613 284.309 Q516.557 286.971 519.937 286.971 Q523.316 286.971 525.261 284.309 Q527.205 281.624 527.205 276.925 Q527.205 272.226 525.261 269.564 Q523.316 266.879 519.937 266.879 Q516.557 266.879 514.613 269.564 Q512.691 272.226 512.691 276.925 Z\" fill=\"#000000\" fill-rule=\"nonzero\" fill-opacity=\"1\" /><path clip-path=\"url(#clip030)\" d=\"M562.413 275.837 L562.413 277.92 L542.83 277.92 Q543.108 282.318 545.469 284.633 Q547.853 286.925 552.089 286.925 Q554.543 286.925 556.835 286.323 Q559.149 285.721 561.418 284.517 L561.418 288.545 Q559.126 289.517 556.719 290.027 Q554.311 290.536 551.835 290.536 Q545.631 290.536 541.997 286.925 Q538.386 283.314 538.386 277.156 Q538.386 270.791 541.811 267.064 Q545.261 263.314 551.094 263.314 Q556.325 263.314 559.358 266.693 Q562.413 270.05 562.413 275.837 M558.154 274.587 Q558.108 271.092 556.186 269.008 Q554.288 266.925 551.14 266.925 Q547.575 266.925 545.423 268.939 Q543.293 270.953 542.969 274.61 L558.154 274.587 Z\" fill=\"#000000\" fill-rule=\"nonzero\" fill-opacity=\"1\" /><path clip-path=\"url(#clip030)\" d=\"M569.404 253.846 L573.663 253.846 L573.663 289.865 L569.404 289.865 L569.404 253.846 Z\" fill=\"#000000\" fill-rule=\"nonzero\" fill-opacity=\"1\" /><path clip-path=\"url(#clip030)\" d=\"M602.274 285.929 L618.593 285.929 L618.593 289.865 L596.649 289.865 L596.649 285.929 Q599.311 283.175 603.894 278.545 Q608.501 273.893 609.681 272.55 Q611.927 270.027 612.806 268.291 Q613.709 266.531 613.709 264.842 Q613.709 262.087 611.765 260.351 Q609.843 258.615 606.742 258.615 Q604.543 258.615 602.089 259.379 Q599.658 260.143 596.881 261.694 L596.881 256.971 Q599.705 255.837 602.158 255.258 Q604.612 254.68 606.649 254.68 Q612.019 254.68 615.214 257.365 Q618.408 260.05 618.408 264.541 Q618.408 266.67 617.598 268.592 Q616.811 270.49 614.705 273.082 Q614.126 273.754 611.024 276.971 Q607.922 280.166 602.274 285.929 Z\" fill=\"#000000\" fill-rule=\"nonzero\" fill-opacity=\"1\" /></svg>\n"
      ],
      "text/html": [
       "<?xml version=\"1.0\" encoding=\"utf-8\"?>\n",
       "<svg xmlns=\"http://www.w3.org/2000/svg\" xmlns:xlink=\"http://www.w3.org/1999/xlink\" width=\"600\" height=\"400\" viewBox=\"0 0 2400 1600\">\n",
       "<defs>\n",
       "  <clipPath id=\"clip080\">\n",
       "    <rect x=\"0\" y=\"0\" width=\"2400\" height=\"1600\"/>\n",
       "  </clipPath>\n",
       "</defs>\n",
       "<path clip-path=\"url(#clip080)\" d=\"M0 1600 L2400 1600 L2400 0 L0 0  Z\" fill=\"#ffffff\" fill-rule=\"evenodd\" fill-opacity=\"1\"/>\n",
       "<defs>\n",
       "  <clipPath id=\"clip081\">\n",
       "    <rect x=\"480\" y=\"0\" width=\"1681\" height=\"1600\"/>\n",
       "  </clipPath>\n",
       "</defs>\n",
       "<path clip-path=\"url(#clip080)\" d=\"M174.149 1486.45 L2352.76 1486.45 L2352.76 123.472 L174.149 123.472  Z\" fill=\"#ffffff\" fill-rule=\"evenodd\" fill-opacity=\"1\"/>\n",
       "<defs>\n",
       "  <clipPath id=\"clip082\">\n",
       "    <rect x=\"174\" y=\"123\" width=\"2180\" height=\"1364\"/>\n",
       "  </clipPath>\n",
       "</defs>\n",
       "<polyline clip-path=\"url(#clip082)\" style=\"stroke:#000000; stroke-linecap:round; stroke-linejoin:round; stroke-width:2; stroke-opacity:0.1; fill:none\" points=\"1263.45,1486.45 1263.45,123.472 \"/>\n",
       "<polyline clip-path=\"url(#clip080)\" style=\"stroke:#000000; stroke-linecap:round; stroke-linejoin:round; stroke-width:4; stroke-opacity:1; fill:none\" points=\"174.149,1486.45 2352.76,1486.45 \"/>\n",
       "<polyline clip-path=\"url(#clip080)\" style=\"stroke:#000000; stroke-linecap:round; stroke-linejoin:round; stroke-width:4; stroke-opacity:1; fill:none\" points=\"1263.45,1486.45 1263.45,1467.55 \"/>\n",
       "<path clip-path=\"url(#clip080)\" d=\"M1232.43 1514.29 L1250.79 1514.29 L1250.79 1518.22 L1236.72 1518.22 L1236.72 1526.7 Q1237.73 1526.35 1238.75 1526.19 Q1239.77 1526 1240.79 1526 Q1246.58 1526 1249.96 1529.17 Q1253.34 1532.34 1253.34 1537.76 Q1253.34 1543.34 1249.86 1546.44 Q1246.39 1549.52 1240.07 1549.52 Q1237.9 1549.52 1235.63 1549.15 Q1233.38 1548.78 1230.98 1548.04 L1230.98 1543.34 Q1233.06 1544.47 1235.28 1545.03 Q1237.5 1545.58 1239.98 1545.58 Q1243.98 1545.58 1246.32 1543.48 Q1248.66 1541.37 1248.66 1537.76 Q1248.66 1534.15 1246.32 1532.04 Q1243.98 1529.94 1239.98 1529.94 Q1238.11 1529.94 1236.23 1530.35 Q1234.38 1530.77 1232.43 1531.65 L1232.43 1514.29 Z\" fill=\"#000000\" fill-rule=\"nonzero\" fill-opacity=\"1\" /><path clip-path=\"url(#clip080)\" d=\"M1272.55 1517.37 Q1268.94 1517.37 1267.11 1520.93 Q1265.3 1524.47 1265.3 1531.6 Q1265.3 1538.71 1267.11 1542.27 Q1268.94 1545.82 1272.55 1545.82 Q1276.18 1545.82 1277.99 1542.27 Q1279.82 1538.71 1279.82 1531.6 Q1279.82 1524.47 1277.99 1520.93 Q1276.18 1517.37 1272.55 1517.37 M1272.55 1513.66 Q1278.36 1513.66 1281.42 1518.27 Q1284.49 1522.85 1284.49 1531.6 Q1284.49 1540.33 1281.42 1544.94 Q1278.36 1549.52 1272.55 1549.52 Q1266.74 1549.52 1263.66 1544.94 Q1260.61 1540.33 1260.61 1531.6 Q1260.61 1522.85 1263.66 1518.27 Q1266.74 1513.66 1272.55 1513.66 Z\" fill=\"#000000\" fill-rule=\"nonzero\" fill-opacity=\"1\" /><path clip-path=\"url(#clip080)\" d=\"M1302.71 1517.37 Q1299.1 1517.37 1297.27 1520.93 Q1295.47 1524.47 1295.47 1531.6 Q1295.47 1538.71 1297.27 1542.27 Q1299.1 1545.82 1302.71 1545.82 Q1306.35 1545.82 1308.15 1542.27 Q1309.98 1538.71 1309.98 1531.6 Q1309.98 1524.47 1308.15 1520.93 Q1306.35 1517.37 1302.71 1517.37 M1302.71 1513.66 Q1308.52 1513.66 1311.58 1518.27 Q1314.66 1522.85 1314.66 1531.6 Q1314.66 1540.33 1311.58 1544.94 Q1308.52 1549.52 1302.71 1549.52 Q1296.9 1549.52 1293.82 1544.94 Q1290.77 1540.33 1290.77 1531.6 Q1290.77 1522.85 1293.82 1518.27 Q1296.9 1513.66 1302.71 1513.66 Z\" fill=\"#000000\" fill-rule=\"nonzero\" fill-opacity=\"1\" /><polyline clip-path=\"url(#clip082)\" style=\"stroke:#000000; stroke-linecap:round; stroke-linejoin:round; stroke-width:2; stroke-opacity:0.1; fill:none\" points=\"174.149,1447.87 2352.76,1447.87 \"/>\n",
       "<polyline clip-path=\"url(#clip082)\" style=\"stroke:#000000; stroke-linecap:round; stroke-linejoin:round; stroke-width:2; stroke-opacity:0.1; fill:none\" points=\"174.149,1102.14 2352.76,1102.14 \"/>\n",
       "<polyline clip-path=\"url(#clip082)\" style=\"stroke:#000000; stroke-linecap:round; stroke-linejoin:round; stroke-width:2; stroke-opacity:0.1; fill:none\" points=\"174.149,756.407 2352.76,756.407 \"/>\n",
       "<polyline clip-path=\"url(#clip082)\" style=\"stroke:#000000; stroke-linecap:round; stroke-linejoin:round; stroke-width:2; stroke-opacity:0.1; fill:none\" points=\"174.149,410.674 2352.76,410.674 \"/>\n",
       "<polyline clip-path=\"url(#clip080)\" style=\"stroke:#000000; stroke-linecap:round; stroke-linejoin:round; stroke-width:4; stroke-opacity:1; fill:none\" points=\"174.149,1486.45 174.149,123.472 \"/>\n",
       "<polyline clip-path=\"url(#clip080)\" style=\"stroke:#000000; stroke-linecap:round; stroke-linejoin:round; stroke-width:4; stroke-opacity:1; fill:none\" points=\"174.149,1447.87 193.047,1447.87 \"/>\n",
       "<polyline clip-path=\"url(#clip080)\" style=\"stroke:#000000; stroke-linecap:round; stroke-linejoin:round; stroke-width:4; stroke-opacity:1; fill:none\" points=\"174.149,1102.14 193.047,1102.14 \"/>\n",
       "<polyline clip-path=\"url(#clip080)\" style=\"stroke:#000000; stroke-linecap:round; stroke-linejoin:round; stroke-width:4; stroke-opacity:1; fill:none\" points=\"174.149,756.407 193.047,756.407 \"/>\n",
       "<polyline clip-path=\"url(#clip080)\" style=\"stroke:#000000; stroke-linecap:round; stroke-linejoin:round; stroke-width:4; stroke-opacity:1; fill:none\" points=\"174.149,410.674 193.047,410.674 \"/>\n",
       "<path clip-path=\"url(#clip080)\" d=\"M126.205 1433.67 Q122.593 1433.67 120.765 1437.24 Q118.959 1440.78 118.959 1447.91 Q118.959 1455.01 120.765 1458.58 Q122.593 1462.12 126.205 1462.12 Q129.839 1462.12 131.644 1458.58 Q133.473 1455.01 133.473 1447.91 Q133.473 1440.78 131.644 1437.24 Q129.839 1433.67 126.205 1433.67 M126.205 1429.97 Q132.015 1429.97 135.07 1434.57 Q138.149 1439.16 138.149 1447.91 Q138.149 1456.63 135.07 1461.24 Q132.015 1465.82 126.205 1465.82 Q120.394 1465.82 117.316 1461.24 Q114.26 1456.63 114.26 1447.91 Q114.26 1439.16 117.316 1434.57 Q120.394 1429.97 126.205 1429.97 Z\" fill=\"#000000\" fill-rule=\"nonzero\" fill-opacity=\"1\" /><path clip-path=\"url(#clip080)\" d=\"M118.242 1115.49 L125.88 1115.49 L125.88 1089.12 L117.57 1090.79 L117.57 1086.53 L125.834 1084.86 L130.51 1084.86 L130.51 1115.49 L138.149 1115.49 L138.149 1119.42 L118.242 1119.42 L118.242 1115.49 Z\" fill=\"#000000\" fill-rule=\"nonzero\" fill-opacity=\"1\" /><path clip-path=\"url(#clip080)\" d=\"M121.83 769.752 L138.149 769.752 L138.149 773.687 L116.205 773.687 L116.205 769.752 Q118.867 766.997 123.45 762.368 Q128.056 757.715 129.237 756.373 Q131.482 753.849 132.362 752.113 Q133.265 750.354 133.265 748.664 Q133.265 745.91 131.32 744.174 Q129.399 742.437 126.297 742.437 Q124.098 742.437 121.644 743.201 Q119.214 743.965 116.436 745.516 L116.436 740.794 Q119.26 739.66 121.714 739.081 Q124.168 738.502 126.205 738.502 Q131.575 738.502 134.769 741.187 Q137.964 743.873 137.964 748.363 Q137.964 750.493 137.154 752.414 Q136.367 754.312 134.26 756.905 Q133.681 757.576 130.58 760.794 Q127.478 763.988 121.83 769.752 Z\" fill=\"#000000\" fill-rule=\"nonzero\" fill-opacity=\"1\" /><path clip-path=\"url(#clip080)\" d=\"M131.019 409.32 Q134.376 410.038 136.251 412.306 Q138.149 414.575 138.149 417.908 Q138.149 423.024 134.63 425.825 Q131.112 428.626 124.63 428.626 Q122.455 428.626 120.14 428.186 Q117.848 427.769 115.394 426.913 L115.394 422.399 Q117.339 423.533 119.654 424.112 Q121.968 424.69 124.492 424.69 Q128.89 424.69 131.181 422.954 Q133.496 421.218 133.496 417.908 Q133.496 414.853 131.343 413.14 Q129.214 411.404 125.394 411.404 L121.367 411.404 L121.367 407.561 L125.58 407.561 Q129.029 407.561 130.857 406.195 Q132.686 404.806 132.686 402.214 Q132.686 399.552 130.788 398.14 Q128.913 396.705 125.394 396.705 Q123.473 396.705 121.274 397.121 Q119.075 397.538 116.436 398.417 L116.436 394.251 Q119.098 393.51 121.413 393.14 Q123.751 392.769 125.811 392.769 Q131.135 392.769 134.237 395.2 Q137.339 397.607 137.339 401.728 Q137.339 404.598 135.695 406.589 Q134.052 408.556 131.019 409.32 Z\" fill=\"#000000\" fill-rule=\"nonzero\" fill-opacity=\"1\" /><path clip-path=\"url(#clip080)\" d=\"M18.0438 995.215 L24.314 995.215 Q22.5634 998.875 21.704 1002.12 Q20.8447 1005.37 20.8447 1008.39 Q20.8447 1013.64 22.8817 1016.51 Q24.9187 1019.34 28.6745 1019.34 Q31.8255 1019.34 33.4488 1017.46 Q35.0402 1015.55 36.0269 1010.27 L36.8226 1006.39 Q38.1912 999.194 41.6605 995.788 Q45.098 992.35 50.8908 992.35 Q57.7976 992.35 61.3624 996.997 Q64.9272 1001.61 64.9272 1010.56 Q64.9272 1013.93 64.1633 1017.75 Q63.3994 1021.54 61.9035 1025.61 L55.2831 1025.61 Q57.4793 1021.7 58.5933 1017.94 Q59.7073 1014.18 59.7073 1010.56 Q59.7073 1005.05 57.543 1002.06 Q55.3786 999.066 51.3682 999.066 Q47.8671 999.066 45.8937 1001.23 Q43.9204 1003.36 42.9337 1008.26 L42.1698 1012.18 Q40.7375 1019.37 37.682 1022.59 Q34.6264 1025.8 29.1837 1025.8 Q22.8817 1025.8 19.2532 1021.38 Q15.6248 1016.92 15.6248 1009.12 Q15.6248 1005.78 16.2295 1002.31 Q16.8343 998.844 18.0438 995.215 Z\" fill=\"#000000\" fill-rule=\"nonzero\" fill-opacity=\"1\" /><path clip-path=\"url(#clip080)\" d=\"M32.4621 968.766 Q32.4621 973.476 36.1542 976.213 Q39.8145 978.951 46.212 978.951 Q52.6095 978.951 56.3017 976.245 Q59.9619 973.508 59.9619 968.766 Q59.9619 964.087 56.2698 961.349 Q52.5777 958.612 46.212 958.612 Q39.8781 958.612 36.186 961.349 Q32.4621 964.087 32.4621 968.766 M27.4968 968.766 Q27.4968 961.127 32.4621 956.766 Q37.4273 952.406 46.212 952.406 Q54.9649 952.406 59.9619 956.766 Q64.9272 961.127 64.9272 968.766 Q64.9272 976.436 59.9619 980.797 Q54.9649 985.125 46.212 985.125 Q37.4273 985.125 32.4621 980.797 Q27.4968 976.436 27.4968 968.766 Z\" fill=\"#000000\" fill-rule=\"nonzero\" fill-opacity=\"1\" /><path clip-path=\"url(#clip080)\" d=\"M14.479 942.698 L14.479 936.842 L64.0042 936.842 L64.0042 942.698 L14.479 942.698 Z\" fill=\"#000000\" fill-rule=\"nonzero\" fill-opacity=\"1\" /><path clip-path=\"url(#clip080)\" d=\"M28.3562 928.789 L28.3562 922.582 L58.275 911.442 L28.3562 900.302 L28.3562 894.096 L64.0042 907.464 L64.0042 915.421 L28.3562 928.789 Z\" fill=\"#000000\" fill-rule=\"nonzero\" fill-opacity=\"1\" /><path clip-path=\"url(#clip080)\" d=\"M44.7161 855.52 L47.5806 855.52 L47.5806 882.447 Q53.6281 882.065 56.8109 878.818 Q59.9619 875.54 59.9619 869.715 Q59.9619 866.341 59.1344 863.19 Q58.3069 860.007 56.6518 856.888 L62.1899 856.888 Q63.5267 860.039 64.227 863.349 Q64.9272 866.66 64.9272 870.065 Q64.9272 878.595 59.9619 883.592 Q54.9967 888.558 46.5303 888.558 Q37.7774 888.558 32.6531 883.847 Q27.4968 879.105 27.4968 871.084 Q27.4968 863.891 32.1438 859.721 Q36.7589 855.52 44.7161 855.52 M42.9973 861.376 Q38.1912 861.44 35.3266 864.082 Q32.4621 866.691 32.4621 871.02 Q32.4621 875.922 35.2312 878.882 Q38.0002 881.81 43.0292 882.256 L42.9973 861.376 Z\" fill=\"#000000\" fill-rule=\"nonzero\" fill-opacity=\"1\" /><path clip-path=\"url(#clip080)\" d=\"M18.2347 819.394 L28.3562 819.394 L28.3562 807.331 L32.9077 807.331 L32.9077 819.394 L52.2594 819.394 Q56.6199 819.394 57.8613 818.217 Q59.1026 817.007 59.1026 813.347 L59.1026 807.331 L64.0042 807.331 L64.0042 813.347 Q64.0042 820.126 61.4897 822.704 Q58.9434 825.283 52.2594 825.283 L32.9077 825.283 L32.9077 829.579 L28.3562 829.579 L28.3562 825.283 L18.2347 825.283 L18.2347 819.394 Z\" fill=\"#000000\" fill-rule=\"nonzero\" fill-opacity=\"1\" /><path clip-path=\"url(#clip080)\" d=\"M28.3562 799.629 L28.3562 793.772 L64.0042 793.772 L64.0042 799.629 L28.3562 799.629 M14.479 799.629 L14.479 793.772 L21.895 793.772 L21.895 799.629 L14.479 799.629 Z\" fill=\"#000000\" fill-rule=\"nonzero\" fill-opacity=\"1\" /><path clip-path=\"url(#clip080)\" d=\"M35.1993 753.764 Q31.2526 751.568 29.3747 748.512 Q27.4968 745.457 27.4968 741.319 Q27.4968 735.749 31.4117 732.725 Q35.2948 729.701 42.4881 729.701 L64.0042 729.701 L64.0042 735.59 L42.679 735.59 Q37.5546 735.59 35.072 737.404 Q32.5894 739.218 32.5894 742.942 Q32.5894 747.494 35.6131 750.135 Q38.6368 752.777 43.8567 752.777 L64.0042 752.777 L64.0042 758.665 L42.679 758.665 Q37.5228 758.665 35.072 760.48 Q32.5894 762.294 32.5894 766.081 Q32.5894 770.569 35.6449 773.211 Q38.6686 775.853 43.8567 775.853 L64.0042 775.853 L64.0042 781.741 L28.3562 781.741 L28.3562 775.853 L33.8944 775.853 Q30.616 773.848 29.0564 771.047 Q27.4968 768.246 27.4968 764.395 Q27.4968 760.511 29.4702 757.806 Q31.4436 755.069 35.1993 753.764 Z\" fill=\"#000000\" fill-rule=\"nonzero\" fill-opacity=\"1\" /><path clip-path=\"url(#clip080)\" d=\"M44.7161 687.529 L47.5806 687.529 L47.5806 714.456 Q53.6281 714.074 56.8109 710.827 Q59.9619 707.549 59.9619 701.724 Q59.9619 698.35 59.1344 695.199 Q58.3069 692.016 56.6518 688.897 L62.1899 688.897 Q63.5267 692.048 64.227 695.358 Q64.9272 698.669 64.9272 702.074 Q64.9272 710.604 59.9619 715.601 Q54.9967 720.567 46.5303 720.567 Q37.7774 720.567 32.6531 715.856 Q27.4968 711.114 27.4968 703.093 Q27.4968 695.9 32.1438 691.73 Q36.7589 687.529 44.7161 687.529 M42.9973 693.385 Q38.1912 693.449 35.3266 696.091 Q32.4621 698.7 32.4621 703.029 Q32.4621 707.931 35.2312 710.891 Q38.0002 713.819 43.0292 714.265 L42.9973 693.385 Z\" fill=\"#000000\" fill-rule=\"nonzero\" fill-opacity=\"1\" /><path clip-path=\"url(#clip080)\" d=\"M14.5426 643.128 Q21.8632 647.393 29.0246 649.462 Q36.186 651.531 43.5384 651.531 Q50.8908 651.531 58.1159 649.462 Q65.3091 647.361 72.5979 643.128 L72.5979 648.22 Q65.1182 652.995 57.8931 655.382 Q50.668 657.737 43.5384 657.737 Q36.4406 657.737 29.2474 655.382 Q22.0542 653.026 14.5426 648.22 L14.5426 643.128 Z\" fill=\"#000000\" fill-rule=\"nonzero\" fill-opacity=\"1\" /><path clip-path=\"url(#clip080)\" d=\"M29.4065 609.039 L34.9447 609.039 Q33.6716 611.522 33.035 614.196 Q32.3984 616.869 32.3984 619.734 Q32.3984 624.094 33.7352 626.291 Q35.072 628.455 37.7456 628.455 Q39.7826 628.455 40.9603 626.895 Q42.1061 625.336 43.1565 620.625 L43.6021 618.62 Q44.9389 612.381 47.3897 609.772 Q49.8086 607.13 54.1691 607.13 Q59.1344 607.13 62.0308 611.076 Q64.9272 614.991 64.9272 621.866 Q64.9272 624.731 64.3543 627.85 Q63.8132 630.937 62.6992 634.375 L56.6518 634.375 Q58.3387 631.128 59.198 627.977 Q60.0256 624.826 60.0256 621.739 Q60.0256 617.601 58.6251 615.373 Q57.1929 613.145 54.6147 613.145 Q52.2276 613.145 50.9545 614.769 Q49.6813 616.36 48.5037 621.803 L48.0262 623.84 Q46.8804 629.282 44.5251 631.701 Q42.138 634.12 38.0002 634.12 Q32.9713 634.12 30.2341 630.556 Q27.4968 626.991 27.4968 620.434 Q27.4968 617.188 27.9743 614.323 Q28.4517 611.458 29.4065 609.039 Z\" fill=\"#000000\" fill-rule=\"nonzero\" fill-opacity=\"1\" /><path clip-path=\"url(#clip080)\" d=\"M14.5426 598.727 L14.5426 593.634 Q22.0542 588.86 29.2474 586.505 Q36.4406 584.118 43.5384 584.118 Q50.668 584.118 57.8931 586.505 Q65.1182 588.86 72.5979 593.634 L72.5979 598.727 Q65.3091 594.494 58.1159 592.425 Q50.8908 590.324 43.5384 590.324 Q36.186 590.324 29.0246 592.425 Q21.8632 594.494 14.5426 598.727 Z\" fill=\"#000000\" fill-rule=\"nonzero\" fill-opacity=\"1\" /><path clip-path=\"url(#clip080)\" d=\"M198.065 14.0809 L198.065 22.0612 Q193.406 19.8332 189.274 18.7395 Q185.142 17.6457 181.294 17.6457 Q174.61 17.6457 170.964 20.2383 Q167.359 22.8309 167.359 27.611 Q167.359 31.6214 169.749 33.6873 Q172.179 35.7128 178.904 36.9686 L183.846 37.9813 Q193.001 39.7232 197.335 44.1387 Q201.71 48.5136 201.71 55.8863 Q201.71 64.6767 195.796 69.2137 Q189.922 73.7508 178.539 73.7508 Q174.245 73.7508 169.384 72.7785 Q164.564 71.8063 159.378 69.9024 L159.378 61.4765 Q164.361 64.2716 169.141 65.6895 Q173.921 67.1073 178.539 67.1073 Q185.547 67.1073 189.355 64.3527 Q193.163 61.598 193.163 56.4939 Q193.163 52.0379 190.408 49.5264 Q187.694 47.0148 181.456 45.759 L176.473 44.7868 Q167.318 42.9639 163.227 39.075 Q159.135 35.1862 159.135 28.2591 Q159.135 20.2383 164.766 15.6203 Q170.437 11.0023 180.362 11.0023 Q184.616 11.0023 189.031 11.7719 Q193.447 12.5416 198.065 14.0809 Z\" fill=\"#000000\" fill-rule=\"nonzero\" fill-opacity=\"1\" /><path clip-path=\"url(#clip080)\" d=\"M231.728 32.4315 Q225.732 32.4315 222.249 37.1306 Q218.765 41.7891 218.765 49.9314 Q218.765 58.0738 222.208 62.7728 Q225.692 67.4314 231.728 67.4314 Q237.682 67.4314 241.166 62.7323 Q244.65 58.0333 244.65 49.9314 Q244.65 41.8701 241.166 37.1711 Q237.682 32.4315 231.728 32.4315 M231.728 26.1121 Q241.45 26.1121 247 32.4315 Q252.549 38.7509 252.549 49.9314 Q252.549 61.0714 247 67.4314 Q241.45 73.7508 231.728 73.7508 Q221.965 73.7508 216.415 67.4314 Q210.906 61.0714 210.906 49.9314 Q210.906 38.7509 216.415 32.4315 Q221.965 26.1121 231.728 26.1121 Z\" fill=\"#000000\" fill-rule=\"nonzero\" fill-opacity=\"1\" /><path clip-path=\"url(#clip080)\" d=\"M264.905 9.54393 L272.358 9.54393 L272.358 72.576 L264.905 72.576 L264.905 9.54393 Z\" fill=\"#000000\" fill-rule=\"nonzero\" fill-opacity=\"1\" /><path clip-path=\"url(#clip080)\" d=\"M282.607 27.2059 L290.506 27.2059 L304.684 65.2844 L318.863 27.2059 L326.762 27.2059 L309.748 72.576 L299.621 72.576 L282.607 27.2059 Z\" fill=\"#000000\" fill-rule=\"nonzero\" fill-opacity=\"1\" /><path clip-path=\"url(#clip080)\" d=\"M375.859 48.0275 L375.859 51.6733 L341.588 51.6733 Q342.074 59.3701 346.206 63.421 Q350.379 67.4314 357.792 67.4314 Q362.086 67.4314 366.096 66.3781 Q370.147 65.3249 374.117 63.2184 L374.117 70.267 Q370.107 71.9684 365.894 72.8596 Q361.681 73.7508 357.346 73.7508 Q346.49 73.7508 340.13 67.4314 Q333.81 61.1119 333.81 50.3365 Q333.81 39.1965 339.806 32.6746 Q345.842 26.1121 356.05 26.1121 Q365.205 26.1121 370.512 32.0264 Q375.859 37.9003 375.859 48.0275 M368.405 45.84 Q368.324 39.7232 364.962 36.0774 Q361.64 32.4315 356.131 32.4315 Q349.892 32.4315 346.125 35.9558 Q342.398 39.4801 341.831 45.8805 L368.405 45.84 Z\" fill=\"#000000\" fill-rule=\"nonzero\" fill-opacity=\"1\" /><path clip-path=\"url(#clip080)\" d=\"M421.837 14.324 L421.837 27.2059 L437.189 27.2059 L437.189 32.9987 L421.837 32.9987 L421.837 57.6282 Q421.837 63.1779 423.335 64.7578 Q424.875 66.3376 429.533 66.3376 L437.189 66.3376 L437.189 72.576 L429.533 72.576 Q420.905 72.576 417.624 69.3758 Q414.342 66.1351 414.342 57.6282 L414.342 32.9987 L408.874 32.9987 L408.874 27.2059 L414.342 27.2059 L414.342 14.324 L421.837 14.324 Z\" fill=\"#000000\" fill-rule=\"nonzero\" fill-opacity=\"1\" /><path clip-path=\"url(#clip080)\" d=\"M446.993 27.2059 L454.446 27.2059 L454.446 72.576 L446.993 72.576 L446.993 27.2059 M446.993 9.54393 L454.446 9.54393 L454.446 18.9825 L446.993 18.9825 L446.993 9.54393 Z\" fill=\"#000000\" fill-rule=\"nonzero\" fill-opacity=\"1\" /><path clip-path=\"url(#clip080)\" d=\"M505.366 35.9153 Q508.161 30.8922 512.05 28.5022 Q515.939 26.1121 521.205 26.1121 Q528.294 26.1121 532.143 31.0947 Q535.991 36.0368 535.991 45.1919 L535.991 72.576 L528.497 72.576 L528.497 45.4349 Q528.497 38.913 526.188 35.7533 Q523.879 32.5936 519.139 32.5936 Q513.346 32.5936 509.984 36.4419 Q506.622 40.2903 506.622 46.9338 L506.622 72.576 L499.128 72.576 L499.128 45.4349 Q499.128 38.8725 496.819 35.7533 Q494.51 32.5936 489.689 32.5936 Q483.977 32.5936 480.615 36.4824 Q477.253 40.3308 477.253 46.9338 L477.253 72.576 L469.759 72.576 L469.759 27.2059 L477.253 27.2059 L477.253 34.2544 Q479.805 30.082 483.37 28.0971 Q486.935 26.1121 491.836 26.1121 Q496.778 26.1121 500.222 28.6237 Q503.705 31.1352 505.366 35.9153 Z\" fill=\"#000000\" fill-rule=\"nonzero\" fill-opacity=\"1\" /><path clip-path=\"url(#clip080)\" d=\"M589.666 48.0275 L589.666 51.6733 L555.395 51.6733 Q555.881 59.3701 560.013 63.421 Q564.185 67.4314 571.598 67.4314 Q575.892 67.4314 579.903 66.3781 Q583.954 65.3249 587.924 63.2184 L587.924 70.267 Q583.913 71.9684 579.7 72.8596 Q575.487 73.7508 571.153 73.7508 Q560.296 73.7508 553.937 67.4314 Q547.617 61.1119 547.617 50.3365 Q547.617 39.1965 553.612 32.6746 Q559.648 26.1121 569.857 26.1121 Q579.012 26.1121 584.318 32.0264 Q589.666 37.9003 589.666 48.0275 M582.212 45.84 Q582.131 39.7232 578.769 36.0774 Q575.447 32.4315 569.938 32.4315 Q563.699 32.4315 559.932 35.9558 Q556.205 39.4801 555.638 45.8805 L582.212 45.84 Z\" fill=\"#000000\" fill-rule=\"nonzero\" fill-opacity=\"1\" /><path clip-path=\"url(#clip080)\" d=\"M630.823 28.5427 L630.823 35.5912 Q627.663 33.9709 624.26 33.1607 Q620.857 32.3505 617.212 32.3505 Q611.662 32.3505 608.867 34.0519 Q606.112 35.7533 606.112 39.156 Q606.112 41.7486 608.097 43.2475 Q610.082 44.7058 616.077 46.0426 L618.629 46.6097 Q626.569 48.3111 629.891 51.4303 Q633.253 54.509 633.253 60.0587 Q633.253 66.3781 628.23 70.0644 Q623.248 73.7508 614.498 73.7508 Q610.852 73.7508 606.882 73.0216 Q602.952 72.3329 598.578 70.9151 L598.578 63.2184 Q602.709 65.3654 606.72 66.4591 Q610.73 67.5124 614.66 67.5124 Q619.926 67.5124 622.761 65.73 Q625.597 63.9071 625.597 60.6258 Q625.597 57.5877 623.531 55.9673 Q621.506 54.3469 614.579 52.8481 L611.986 52.2405 Q605.059 50.7821 601.98 47.7845 Q598.902 44.7463 598.902 39.4801 Q598.902 33.0797 603.439 29.5959 Q607.976 26.1121 616.32 26.1121 Q620.452 26.1121 624.098 26.7198 Q627.744 27.3274 630.823 28.5427 Z\" fill=\"#000000\" fill-rule=\"nonzero\" fill-opacity=\"1\" /><path clip-path=\"url(#clip080)\" d=\"M689.075 32.4315 Q683.079 32.4315 679.596 37.1306 Q676.112 41.7891 676.112 49.9314 Q676.112 58.0738 679.555 62.7728 Q683.039 67.4314 689.075 67.4314 Q695.03 67.4314 698.513 62.7323 Q701.997 58.0333 701.997 49.9314 Q701.997 41.8701 698.513 37.1711 Q695.03 32.4315 689.075 32.4315 M689.075 26.1121 Q698.797 26.1121 704.347 32.4315 Q709.896 38.7509 709.896 49.9314 Q709.896 61.0714 704.347 67.4314 Q698.797 73.7508 689.075 73.7508 Q679.312 73.7508 673.762 67.4314 Q668.253 61.0714 668.253 49.9314 Q668.253 38.7509 673.762 32.4315 Q679.312 26.1121 689.075 26.1121 Z\" fill=\"#000000\" fill-rule=\"nonzero\" fill-opacity=\"1\" /><path clip-path=\"url(#clip080)\" d=\"M745.22 9.54393 L745.22 15.7418 L738.091 15.7418 Q734.08 15.7418 732.5 17.3622 Q730.961 18.9825 730.961 23.1955 L730.961 27.2059 L743.235 27.2059 L743.235 32.9987 L730.961 32.9987 L730.961 72.576 L723.467 72.576 L723.467 32.9987 L716.337 32.9987 L716.337 27.2059 L723.467 27.2059 L723.467 24.0462 Q723.467 16.471 726.991 13.0277 Q730.515 9.54393 738.172 9.54393 L745.22 9.54393 Z\" fill=\"#000000\" fill-rule=\"nonzero\" fill-opacity=\"1\" /><path clip-path=\"url(#clip080)\" d=\"M810.399 49.9314 Q810.399 41.7081 806.997 37.0496 Q803.634 32.3505 797.72 32.3505 Q791.806 32.3505 788.403 37.0496 Q785.041 41.7081 785.041 49.9314 Q785.041 58.1548 788.403 62.8538 Q791.806 67.5124 797.72 67.5124 Q803.634 67.5124 806.997 62.8538 Q810.399 58.1548 810.399 49.9314 M785.041 34.0924 Q787.39 30.0415 790.955 28.0971 Q794.56 26.1121 799.543 26.1121 Q807.807 26.1121 812.951 32.6746 Q818.137 39.2371 818.137 49.9314 Q818.137 60.6258 812.951 67.1883 Q807.807 73.7508 799.543 73.7508 Q794.56 73.7508 790.955 71.8063 Q787.39 69.8214 785.041 65.7705 L785.041 72.576 L777.546 72.576 L777.546 9.54393 L785.041 9.54393 L785.041 34.0924 Z\" fill=\"#000000\" fill-rule=\"nonzero\" fill-opacity=\"1\" /><path clip-path=\"url(#clip080)\" d=\"M848.073 32.4315 Q842.077 32.4315 838.594 37.1306 Q835.11 41.7891 835.11 49.9314 Q835.11 58.0738 838.553 62.7728 Q842.037 67.4314 848.073 67.4314 Q854.028 67.4314 857.511 62.7323 Q860.995 58.0333 860.995 49.9314 Q860.995 41.8701 857.511 37.1711 Q854.028 32.4315 848.073 32.4315 M848.073 26.1121 Q857.795 26.1121 863.345 32.4315 Q868.894 38.7509 868.894 49.9314 Q868.894 61.0714 863.345 67.4314 Q857.795 73.7508 848.073 73.7508 Q838.31 73.7508 832.76 67.4314 Q827.251 61.0714 827.251 49.9314 Q827.251 38.7509 832.76 32.4315 Q838.31 26.1121 848.073 26.1121 Z\" fill=\"#000000\" fill-rule=\"nonzero\" fill-opacity=\"1\" /><path clip-path=\"url(#clip080)\" d=\"M888.622 14.324 L888.622 27.2059 L903.975 27.2059 L903.975 32.9987 L888.622 32.9987 L888.622 57.6282 Q888.622 63.1779 890.121 64.7578 Q891.66 66.3376 896.319 66.3376 L903.975 66.3376 L903.975 72.576 L896.319 72.576 Q887.691 72.576 884.409 69.3758 Q881.128 66.1351 881.128 57.6282 L881.128 32.9987 L875.659 32.9987 L875.659 27.2059 L881.128 27.2059 L881.128 14.324 L888.622 14.324 Z\" fill=\"#000000\" fill-rule=\"nonzero\" fill-opacity=\"1\" /><path clip-path=\"url(#clip080)\" d=\"M951.492 45.1919 L951.492 72.576 L944.039 72.576 L944.039 45.4349 Q944.039 38.994 941.527 35.7938 Q939.015 32.5936 933.992 32.5936 Q927.957 32.5936 924.473 36.4419 Q920.989 40.2903 920.989 46.9338 L920.989 72.576 L913.495 72.576 L913.495 9.54393 L920.989 9.54393 L920.989 34.2544 Q923.663 30.163 927.268 28.1376 Q930.914 26.1121 935.653 26.1121 Q943.471 26.1121 947.482 30.9732 Q951.492 35.7938 951.492 45.1919 Z\" fill=\"#000000\" fill-rule=\"nonzero\" fill-opacity=\"1\" /><path clip-path=\"url(#clip080)\" d=\"M1015.7 9.54393 L1015.7 15.7418 L1008.57 15.7418 Q1004.56 15.7418 1002.98 17.3622 Q1001.44 18.9825 1001.44 23.1955 L1001.44 27.2059 L1013.71 27.2059 L1013.71 32.9987 L1001.44 32.9987 L1001.44 72.576 L993.946 72.576 L993.946 32.9987 L986.816 32.9987 L986.816 27.2059 L993.946 27.2059 L993.946 24.0462 Q993.946 16.471 997.47 13.0277 Q1000.99 9.54393 1008.65 9.54393 L1015.7 9.54393 Z\" fill=\"#000000\" fill-rule=\"nonzero\" fill-opacity=\"1\" /><path clip-path=\"url(#clip080)\" d=\"M1039.52 32.4315 Q1033.52 32.4315 1030.04 37.1306 Q1026.56 41.7891 1026.56 49.9314 Q1026.56 58.0738 1030 62.7728 Q1033.48 67.4314 1039.52 67.4314 Q1045.47 67.4314 1048.96 62.7323 Q1052.44 58.0333 1052.44 49.9314 Q1052.44 41.8701 1048.96 37.1711 Q1045.47 32.4315 1039.52 32.4315 M1039.52 26.1121 Q1049.24 26.1121 1054.79 32.4315 Q1060.34 38.7509 1060.34 49.9314 Q1060.34 61.0714 1054.79 67.4314 Q1049.24 73.7508 1039.52 73.7508 Q1029.76 73.7508 1024.21 67.4314 Q1018.7 61.0714 1018.7 49.9314 Q1018.7 38.7509 1024.21 32.4315 Q1029.76 26.1121 1039.52 26.1121 Z\" fill=\"#000000\" fill-rule=\"nonzero\" fill-opacity=\"1\" /><path clip-path=\"url(#clip080)\" d=\"M1098.99 34.1734 Q1097.73 33.4443 1096.23 33.1202 Q1094.77 32.7556 1092.99 32.7556 Q1086.67 32.7556 1083.27 36.8875 Q1079.91 40.9789 1079.91 48.6757 L1079.91 72.576 L1072.41 72.576 L1072.41 27.2059 L1079.91 27.2059 L1079.91 34.2544 Q1082.26 30.1225 1086.02 28.1376 Q1089.79 26.1121 1095.18 26.1121 Q1095.95 26.1121 1096.88 26.2337 Q1097.81 26.3147 1098.95 26.5172 L1098.99 34.1734 Z\" fill=\"#000000\" fill-rule=\"nonzero\" fill-opacity=\"1\" /><path clip-path=\"url(#clip080)\" d=\"M1140.67 35.9153 Q1143.46 30.8922 1147.35 28.5022 Q1151.24 26.1121 1156.51 26.1121 Q1163.6 26.1121 1167.45 31.0947 Q1171.29 36.0368 1171.29 45.1919 L1171.29 72.576 L1163.8 72.576 L1163.8 45.4349 Q1163.8 38.913 1161.49 35.7533 Q1159.18 32.5936 1154.44 32.5936 Q1148.65 32.5936 1145.29 36.4419 Q1141.93 40.2903 1141.93 46.9338 L1141.93 72.576 L1134.43 72.576 L1134.43 45.4349 Q1134.43 38.8725 1132.12 35.7533 Q1129.81 32.5936 1124.99 32.5936 Q1119.28 32.5936 1115.92 36.4824 Q1112.56 40.3308 1112.56 46.9338 L1112.56 72.576 L1105.06 72.576 L1105.06 27.2059 L1112.56 27.2059 L1112.56 34.2544 Q1115.11 30.082 1118.67 28.0971 Q1122.24 26.1121 1127.14 26.1121 Q1132.08 26.1121 1135.52 28.6237 Q1139.01 31.1352 1140.67 35.9153 Z\" fill=\"#000000\" fill-rule=\"nonzero\" fill-opacity=\"1\" /><path clip-path=\"url(#clip080)\" d=\"M1185.39 54.671 L1185.39 27.2059 L1192.85 27.2059 L1192.85 54.3874 Q1192.85 60.8284 1195.36 64.0691 Q1197.87 67.2693 1202.89 67.2693 Q1208.93 67.2693 1212.41 63.421 Q1215.94 59.5726 1215.94 52.9291 L1215.94 27.2059 L1223.39 27.2059 L1223.39 72.576 L1215.94 72.576 L1215.94 65.6084 Q1213.22 69.7404 1209.62 71.7658 Q1206.05 73.7508 1201.31 73.7508 Q1193.49 73.7508 1189.44 68.8897 Q1185.39 64.0286 1185.39 54.671 M1204.15 26.1121 L1204.15 26.1121 Z\" fill=\"#000000\" fill-rule=\"nonzero\" fill-opacity=\"1\" /><path clip-path=\"url(#clip080)\" d=\"M1238.74 9.54393 L1246.2 9.54393 L1246.2 72.576 L1238.74 72.576 L1238.74 9.54393 Z\" fill=\"#000000\" fill-rule=\"nonzero\" fill-opacity=\"1\" /><path clip-path=\"url(#clip080)\" d=\"M1282.41 49.7694 Q1273.38 49.7694 1269.89 51.8354 Q1266.41 53.9013 1266.41 58.8839 Q1266.41 62.8538 1269 65.2034 Q1271.64 67.5124 1276.13 67.5124 Q1282.33 67.5124 1286.06 63.1374 Q1289.82 58.7219 1289.82 51.4303 L1289.82 49.7694 L1282.41 49.7694 M1297.28 46.6907 L1297.28 72.576 L1289.82 72.576 L1289.82 65.6895 Q1287.27 69.8214 1283.46 71.8063 Q1279.66 73.7508 1274.15 73.7508 Q1267.18 73.7508 1263.05 69.8619 Q1258.96 65.9325 1258.96 59.3701 Q1258.96 51.7138 1264.06 47.825 Q1269.2 43.9361 1279.37 43.9361 L1289.82 43.9361 L1289.82 43.2069 Q1289.82 38.0623 1286.42 35.2672 Q1283.06 32.4315 1276.94 32.4315 Q1273.05 32.4315 1269.37 33.3632 Q1265.68 34.295 1262.28 36.1584 L1262.28 29.2718 Q1266.37 27.692 1270.22 26.9223 Q1274.07 26.1121 1277.71 26.1121 Q1287.56 26.1121 1292.42 31.2163 Q1297.28 36.3204 1297.28 46.6907 Z\" fill=\"#000000\" fill-rule=\"nonzero\" fill-opacity=\"1\" /><path clip-path=\"url(#clip080)\" d=\"M1320 14.324 L1320 27.2059 L1335.36 27.2059 L1335.36 32.9987 L1320 32.9987 L1320 57.6282 Q1320 63.1779 1321.5 64.7578 Q1323.04 66.3376 1327.7 66.3376 L1335.36 66.3376 L1335.36 72.576 L1327.7 72.576 Q1319.07 72.576 1315.79 69.3758 Q1312.51 66.1351 1312.51 57.6282 L1312.51 32.9987 L1307.04 32.9987 L1307.04 27.2059 L1312.51 27.2059 L1312.51 14.324 L1320 14.324 Z\" fill=\"#000000\" fill-rule=\"nonzero\" fill-opacity=\"1\" /><path clip-path=\"url(#clip080)\" d=\"M1345.16 27.2059 L1352.61 27.2059 L1352.61 72.576 L1345.16 72.576 L1345.16 27.2059 M1345.16 9.54393 L1352.61 9.54393 L1352.61 18.9825 L1345.16 18.9825 L1345.16 9.54393 Z\" fill=\"#000000\" fill-rule=\"nonzero\" fill-opacity=\"1\" /><path clip-path=\"url(#clip080)\" d=\"M1385.79 32.4315 Q1379.79 32.4315 1376.31 37.1306 Q1372.83 41.7891 1372.83 49.9314 Q1372.83 58.0738 1376.27 62.7728 Q1379.75 67.4314 1385.79 67.4314 Q1391.74 67.4314 1395.23 62.7323 Q1398.71 58.0333 1398.71 49.9314 Q1398.71 41.8701 1395.23 37.1711 Q1391.74 32.4315 1385.79 32.4315 M1385.79 26.1121 Q1395.51 26.1121 1401.06 32.4315 Q1406.61 38.7509 1406.61 49.9314 Q1406.61 61.0714 1401.06 67.4314 Q1395.51 73.7508 1385.79 73.7508 Q1376.03 73.7508 1370.48 67.4314 Q1364.97 61.0714 1364.97 49.9314 Q1364.97 38.7509 1370.48 32.4315 Q1376.03 26.1121 1385.79 26.1121 Z\" fill=\"#000000\" fill-rule=\"nonzero\" fill-opacity=\"1\" /><path clip-path=\"url(#clip080)\" d=\"M1456.68 45.1919 L1456.68 72.576 L1449.23 72.576 L1449.23 45.4349 Q1449.23 38.994 1446.72 35.7938 Q1444.2 32.5936 1439.18 32.5936 Q1433.14 32.5936 1429.66 36.4419 Q1426.18 40.2903 1426.18 46.9338 L1426.18 72.576 L1418.68 72.576 L1418.68 27.2059 L1426.18 27.2059 L1426.18 34.2544 Q1428.85 30.163 1432.46 28.1376 Q1436.1 26.1121 1440.84 26.1121 Q1448.66 26.1121 1452.67 30.9732 Q1456.68 35.7938 1456.68 45.1919 Z\" fill=\"#000000\" fill-rule=\"nonzero\" fill-opacity=\"1\" /><path clip-path=\"url(#clip080)\" d=\"M1500.47 28.5427 L1500.47 35.5912 Q1497.31 33.9709 1493.91 33.1607 Q1490.51 32.3505 1486.86 32.3505 Q1481.31 32.3505 1478.51 34.0519 Q1475.76 35.7533 1475.76 39.156 Q1475.76 41.7486 1477.75 43.2475 Q1479.73 44.7058 1485.73 46.0426 L1488.28 46.6097 Q1496.22 48.3111 1499.54 51.4303 Q1502.9 54.509 1502.9 60.0587 Q1502.9 66.3781 1497.88 70.0644 Q1492.9 73.7508 1484.15 73.7508 Q1480.5 73.7508 1476.53 73.0216 Q1472.6 72.3329 1468.23 70.9151 L1468.23 63.2184 Q1472.36 65.3654 1476.37 66.4591 Q1480.38 67.5124 1484.31 67.5124 Q1489.57 67.5124 1492.41 65.73 Q1495.25 63.9071 1495.25 60.6258 Q1495.25 57.5877 1493.18 55.9673 Q1491.15 54.3469 1484.23 52.8481 L1481.63 52.2405 Q1474.71 50.7821 1471.63 47.7845 Q1468.55 44.7463 1468.55 39.4801 Q1468.55 33.0797 1473.09 29.5959 Q1477.62 26.1121 1485.97 26.1121 Q1490.1 26.1121 1493.75 26.7198 Q1497.39 27.3274 1500.47 28.5427 Z\" fill=\"#000000\" fill-rule=\"nonzero\" fill-opacity=\"1\" /><path clip-path=\"url(#clip080)\" d=\"M1536.81 27.2059 L1544.26 27.2059 L1553.58 62.6108 L1562.85 27.2059 L1571.65 27.2059 L1580.96 62.6108 L1590.24 27.2059 L1597.69 27.2059 L1585.82 72.576 L1577.03 72.576 L1567.27 35.3887 L1557.47 72.576 L1548.68 72.576 L1536.81 27.2059 Z\" fill=\"#000000\" fill-rule=\"nonzero\" fill-opacity=\"1\" /><path clip-path=\"url(#clip080)\" d=\"M1608.99 27.2059 L1616.45 27.2059 L1616.45 72.576 L1608.99 72.576 L1608.99 27.2059 M1608.99 9.54393 L1616.45 9.54393 L1616.45 18.9825 L1608.99 18.9825 L1608.99 9.54393 Z\" fill=\"#000000\" fill-rule=\"nonzero\" fill-opacity=\"1\" /><path clip-path=\"url(#clip080)\" d=\"M1639.42 14.324 L1639.42 27.2059 L1654.77 27.2059 L1654.77 32.9987 L1639.42 32.9987 L1639.42 57.6282 Q1639.42 63.1779 1640.92 64.7578 Q1642.46 66.3376 1647.11 66.3376 L1654.77 66.3376 L1654.77 72.576 L1647.11 72.576 Q1638.49 72.576 1635.2 69.3758 Q1631.92 66.1351 1631.92 57.6282 L1631.92 32.9987 L1626.45 32.9987 L1626.45 27.2059 L1631.92 27.2059 L1631.92 14.324 L1639.42 14.324 Z\" fill=\"#000000\" fill-rule=\"nonzero\" fill-opacity=\"1\" /><path clip-path=\"url(#clip080)\" d=\"M1702.29 45.1919 L1702.29 72.576 L1694.83 72.576 L1694.83 45.4349 Q1694.83 38.994 1692.32 35.7938 Q1689.81 32.5936 1684.79 32.5936 Q1678.75 32.5936 1675.27 36.4419 Q1671.78 40.2903 1671.78 46.9338 L1671.78 72.576 L1664.29 72.576 L1664.29 9.54393 L1671.78 9.54393 L1671.78 34.2544 Q1674.46 30.163 1678.06 28.1376 Q1681.71 26.1121 1686.45 26.1121 Q1694.27 26.1121 1698.28 30.9732 Q1702.29 35.7938 1702.29 45.1919 Z\" fill=\"#000000\" fill-rule=\"nonzero\" fill-opacity=\"1\" /><path clip-path=\"url(#clip080)\" d=\"M1778.12 36.0774 L1766.33 36.0774 L1762.93 49.6074 L1774.8 49.6074 L1778.12 36.0774 M1772.04 13.0277 L1767.83 29.839 L1779.66 29.839 L1783.91 13.0277 L1790.39 13.0277 L1786.22 29.839 L1798.86 29.839 L1798.86 36.0774 L1784.64 36.0774 L1781.32 49.6074 L1794.2 49.6074 L1794.2 55.8053 L1779.74 55.8053 L1775.53 72.576 L1769.05 72.576 L1773.22 55.8053 L1761.35 55.8053 L1757.18 72.576 L1750.65 72.576 L1754.87 55.8053 L1742.11 55.8053 L1742.11 49.6074 L1756.37 49.6074 L1759.77 36.0774 L1746.73 36.0774 L1746.73 29.839 L1761.35 29.839 L1765.48 13.0277 L1772.04 13.0277 Z\" fill=\"#000000\" fill-rule=\"nonzero\" fill-opacity=\"1\" /><path clip-path=\"url(#clip080)\" d=\"M1856.99 32.4315 Q1851 32.4315 1847.51 37.1306 Q1844.03 41.7891 1844.03 49.9314 Q1844.03 58.0738 1847.47 62.7728 Q1850.96 67.4314 1856.99 67.4314 Q1862.95 67.4314 1866.43 62.7323 Q1869.91 58.0333 1869.91 49.9314 Q1869.91 41.8701 1866.43 37.1711 Q1862.95 32.4315 1856.99 32.4315 M1856.99 26.1121 Q1866.71 26.1121 1872.26 32.4315 Q1877.81 38.7509 1877.81 49.9314 Q1877.81 61.0714 1872.26 67.4314 Q1866.71 73.7508 1856.99 73.7508 Q1847.23 73.7508 1841.68 67.4314 Q1836.17 61.0714 1836.17 49.9314 Q1836.17 38.7509 1841.68 32.4315 Q1847.23 26.1121 1856.99 26.1121 Z\" fill=\"#000000\" fill-rule=\"nonzero\" fill-opacity=\"1\" /><path clip-path=\"url(#clip080)\" d=\"M1913.14 9.54393 L1913.14 15.7418 L1906.01 15.7418 Q1902 15.7418 1900.42 17.3622 Q1898.88 18.9825 1898.88 23.1955 L1898.88 27.2059 L1911.15 27.2059 L1911.15 32.9987 L1898.88 32.9987 L1898.88 72.576 L1891.38 72.576 L1891.38 32.9987 L1884.25 32.9987 L1884.25 27.2059 L1891.38 27.2059 L1891.38 24.0462 Q1891.38 16.471 1894.91 13.0277 Q1898.43 9.54393 1906.09 9.54393 L1913.14 9.54393 Z\" fill=\"#000000\" fill-rule=\"nonzero\" fill-opacity=\"1\" /><path clip-path=\"url(#clip080)\" d=\"M1978.4 28.9478 L1978.4 35.9153 Q1975.24 34.1734 1972.04 33.3227 Q1968.88 32.4315 1965.64 32.4315 Q1958.39 32.4315 1954.37 37.0496 Q1950.36 41.6271 1950.36 49.9314 Q1950.36 58.2358 1954.37 62.8538 Q1958.39 67.4314 1965.64 67.4314 Q1968.88 67.4314 1972.04 66.5807 Q1975.24 65.6895 1978.4 63.9476 L1978.4 70.8341 Q1975.28 72.2924 1971.92 73.0216 Q1968.59 73.7508 1964.83 73.7508 Q1954.58 73.7508 1948.54 67.3098 Q1942.51 60.8689 1942.51 49.9314 Q1942.51 38.832 1948.58 32.472 Q1954.7 26.1121 1965.31 26.1121 Q1968.76 26.1121 1972.04 26.8413 Q1975.32 27.5299 1978.4 28.9478 Z\" fill=\"#000000\" fill-rule=\"nonzero\" fill-opacity=\"1\" /><path clip-path=\"url(#clip080)\" d=\"M1990.59 54.671 L1990.59 27.2059 L1998.04 27.2059 L1998.04 54.3874 Q1998.04 60.8284 2000.55 64.0691 Q2003.07 67.2693 2008.09 67.2693 Q2014.13 67.2693 2017.61 63.421 Q2021.13 59.5726 2021.13 52.9291 L2021.13 27.2059 L2028.59 27.2059 L2028.59 72.576 L2021.13 72.576 L2021.13 65.6084 Q2018.42 69.7404 2014.81 71.7658 Q2011.25 73.7508 2006.51 73.7508 Q1998.69 73.7508 1994.64 68.8897 Q1990.59 64.0286 1990.59 54.671 M2009.35 26.1121 L2009.35 26.1121 Z\" fill=\"#000000\" fill-rule=\"nonzero\" fill-opacity=\"1\" /><path clip-path=\"url(#clip080)\" d=\"M2072.86 28.5427 L2072.86 35.5912 Q2069.7 33.9709 2066.3 33.1607 Q2062.9 32.3505 2059.25 32.3505 Q2053.7 32.3505 2050.91 34.0519 Q2048.15 35.7533 2048.15 39.156 Q2048.15 41.7486 2050.14 43.2475 Q2052.12 44.7058 2058.12 46.0426 L2060.67 46.6097 Q2068.61 48.3111 2071.93 51.4303 Q2075.29 54.509 2075.29 60.0587 Q2075.29 66.3781 2070.27 70.0644 Q2065.29 73.7508 2056.54 73.7508 Q2052.89 73.7508 2048.92 73.0216 Q2044.99 72.3329 2040.62 70.9151 L2040.62 63.2184 Q2044.75 65.3654 2048.76 66.4591 Q2052.77 67.5124 2056.7 67.5124 Q2061.97 67.5124 2064.8 65.73 Q2067.64 63.9071 2067.64 60.6258 Q2067.64 57.5877 2065.57 55.9673 Q2063.55 54.3469 2056.62 52.8481 L2054.03 52.2405 Q2047.1 50.7821 2044.02 47.7845 Q2040.94 44.7463 2040.94 39.4801 Q2040.94 33.0797 2045.48 29.5959 Q2050.02 26.1121 2058.36 26.1121 Q2062.49 26.1121 2066.14 26.7198 Q2069.78 27.3274 2072.86 28.5427 Z\" fill=\"#000000\" fill-rule=\"nonzero\" fill-opacity=\"1\" /><path clip-path=\"url(#clip080)\" d=\"M2094.54 14.324 L2094.54 27.2059 L2109.89 27.2059 L2109.89 32.9987 L2094.54 32.9987 L2094.54 57.6282 Q2094.54 63.1779 2096.03 64.7578 Q2097.57 66.3376 2102.23 66.3376 L2109.89 66.3376 L2109.89 72.576 L2102.23 72.576 Q2093.6 72.576 2090.32 69.3758 Q2087.04 66.1351 2087.04 57.6282 L2087.04 32.9987 L2081.57 32.9987 L2081.57 27.2059 L2087.04 27.2059 L2087.04 14.324 L2094.54 14.324 Z\" fill=\"#000000\" fill-rule=\"nonzero\" fill-opacity=\"1\" /><path clip-path=\"url(#clip080)\" d=\"M2137.27 32.4315 Q2131.28 32.4315 2127.79 37.1306 Q2124.31 41.7891 2124.31 49.9314 Q2124.31 58.0738 2127.75 62.7728 Q2131.24 67.4314 2137.27 67.4314 Q2143.23 67.4314 2146.71 62.7323 Q2150.2 58.0333 2150.2 49.9314 Q2150.2 41.8701 2146.71 37.1711 Q2143.23 32.4315 2137.27 32.4315 M2137.27 26.1121 Q2147 26.1121 2152.54 32.4315 Q2158.09 38.7509 2158.09 49.9314 Q2158.09 61.0714 2152.54 67.4314 Q2147 73.7508 2137.27 73.7508 Q2127.51 73.7508 2121.96 67.4314 Q2116.45 61.0714 2116.45 49.9314 Q2116.45 38.7509 2121.96 32.4315 Q2127.51 26.1121 2137.27 26.1121 Z\" fill=\"#000000\" fill-rule=\"nonzero\" fill-opacity=\"1\" /><path clip-path=\"url(#clip080)\" d=\"M2205.77 35.9153 Q2208.57 30.8922 2212.46 28.5022 Q2216.35 26.1121 2221.61 26.1121 Q2228.7 26.1121 2232.55 31.0947 Q2236.4 36.0368 2236.4 45.1919 L2236.4 72.576 L2228.9 72.576 L2228.9 45.4349 Q2228.9 38.913 2226.6 35.7533 Q2224.29 32.5936 2219.55 32.5936 Q2213.75 32.5936 2210.39 36.4419 Q2207.03 40.2903 2207.03 46.9338 L2207.03 72.576 L2199.54 72.576 L2199.54 45.4349 Q2199.54 38.8725 2197.23 35.7533 Q2194.92 32.5936 2190.1 32.5936 Q2184.38 32.5936 2181.02 36.4824 Q2177.66 40.3308 2177.66 46.9338 L2177.66 72.576 L2170.17 72.576 L2170.17 27.2059 L2177.66 27.2059 L2177.66 34.2544 Q2180.21 30.082 2183.78 28.0971 Q2187.34 26.1121 2192.24 26.1121 Q2197.19 26.1121 2200.63 28.6237 Q2204.11 31.1352 2205.77 35.9153 Z\" fill=\"#000000\" fill-rule=\"nonzero\" fill-opacity=\"1\" /><path clip-path=\"url(#clip080)\" d=\"M2290.07 48.0275 L2290.07 51.6733 L2255.8 51.6733 Q2256.29 59.3701 2260.42 63.421 Q2264.59 67.4314 2272.01 67.4314 Q2276.3 67.4314 2280.31 66.3781 Q2284.36 65.3249 2288.33 63.2184 L2288.33 70.267 Q2284.32 71.9684 2280.11 72.8596 Q2275.89 73.7508 2271.56 73.7508 Q2260.7 73.7508 2254.34 67.4314 Q2248.02 61.1119 2248.02 50.3365 Q2248.02 39.1965 2254.02 32.6746 Q2260.06 26.1121 2270.26 26.1121 Q2279.42 26.1121 2284.73 32.0264 Q2290.07 37.9003 2290.07 48.0275 M2282.62 45.84 Q2282.54 39.7232 2279.18 36.0774 Q2275.85 32.4315 2270.35 32.4315 Q2264.11 32.4315 2260.34 35.9558 Q2256.61 39.4801 2256.05 45.8805 L2282.62 45.84 Z\" fill=\"#000000\" fill-rule=\"nonzero\" fill-opacity=\"1\" /><path clip-path=\"url(#clip080)\" d=\"M2328.6 34.1734 Q2327.34 33.4443 2325.84 33.1202 Q2324.38 32.7556 2322.6 32.7556 Q2316.28 32.7556 2312.88 36.8875 Q2309.52 40.9789 2309.52 48.6757 L2309.52 72.576 L2302.02 72.576 L2302.02 27.2059 L2309.52 27.2059 L2309.52 34.2544 Q2311.87 30.1225 2315.63 28.1376 Q2319.4 26.1121 2324.79 26.1121 Q2325.56 26.1121 2326.49 26.2337 Q2327.42 26.3147 2328.56 26.5172 L2328.6 34.1734 Z\" fill=\"#000000\" fill-rule=\"nonzero\" fill-opacity=\"1\" /><path clip-path=\"url(#clip080)\" d=\"M2365.34 28.5427 L2365.34 35.5912 Q2362.18 33.9709 2358.78 33.1607 Q2355.37 32.3505 2351.73 32.3505 Q2346.18 32.3505 2343.38 34.0519 Q2340.63 35.7533 2340.63 39.156 Q2340.63 41.7486 2342.61 43.2475 Q2344.6 44.7058 2350.59 46.0426 L2353.15 46.6097 Q2361.09 48.3111 2364.41 51.4303 Q2367.77 54.509 2367.77 60.0587 Q2367.77 66.3781 2362.75 70.0644 Q2357.76 73.7508 2349.01 73.7508 Q2345.37 73.7508 2341.4 73.0216 Q2337.47 72.3329 2333.09 70.9151 L2333.09 63.2184 Q2337.23 65.3654 2341.24 66.4591 Q2345.25 67.5124 2349.18 67.5124 Q2354.44 67.5124 2357.28 65.73 Q2360.11 63.9071 2360.11 60.6258 Q2360.11 57.5877 2358.05 55.9673 Q2356.02 54.3469 2349.09 52.8481 L2346.5 52.2405 Q2339.58 50.7821 2336.5 47.7845 Q2333.42 44.7463 2333.42 39.4801 Q2333.42 33.0797 2337.95 29.5959 Q2342.49 26.1121 2350.84 26.1121 Q2354.97 26.1121 2358.61 26.7198 Q2362.26 27.3274 2365.34 28.5427 Z\" fill=\"#000000\" fill-rule=\"nonzero\" fill-opacity=\"1\" /><path clip-path=\"url(#clip082)\" d=\"M265.739 162.047 L265.739 1447.87 L1263.45 1447.87 L1263.45 162.047 L265.739 162.047 L265.739 162.047  Z\" fill=\"#009af9\" fill-rule=\"evenodd\" fill-opacity=\"1\"/>\n",
       "<polyline clip-path=\"url(#clip082)\" style=\"stroke:#000000; stroke-linecap:round; stroke-linejoin:round; stroke-width:4; stroke-opacity:1; fill:none\" points=\"265.739,162.047 265.739,1447.87 1263.45,1447.87 1263.45,162.047 265.739,162.047 \"/>\n",
       "<circle clip-path=\"url(#clip082)\" style=\"fill:#009af9; stroke:none; fill-opacity:0\" cx=\"764.596\" cy=\"162.047\" r=\"2\"/>\n",
       "<path clip-path=\"url(#clip082)\" d=\"M1263.45 1403.78 L1263.45 1447.87 L2261.17 1447.87 L2261.17 1403.78 L1263.45 1403.78 L1263.45 1403.78  Z\" fill=\"#e26f46\" fill-rule=\"evenodd\" fill-opacity=\"1\"/>\n",
       "<polyline clip-path=\"url(#clip082)\" style=\"stroke:#000000; stroke-linecap:round; stroke-linejoin:round; stroke-width:4; stroke-opacity:1; fill:none\" points=\"1263.45,1403.78 1263.45,1447.87 2261.17,1447.87 2261.17,1403.78 1263.45,1403.78 \"/>\n",
       "<circle clip-path=\"url(#clip082)\" style=\"fill:#e26f46; stroke:none; fill-opacity:0\" cx=\"1762.31\" cy=\"1403.78\" r=\"2\"/>\n",
       "<path clip-path=\"url(#clip080)\" d=\"M246.769 324.425 L643.171 324.425 L643.171 168.905 L246.769 168.905  Z\" fill=\"#ffffff\" fill-rule=\"evenodd\" fill-opacity=\"1\"/>\n",
       "<polyline clip-path=\"url(#clip080)\" style=\"stroke:#000000; stroke-linecap:round; stroke-linejoin:round; stroke-width:4; stroke-opacity:1; fill:none\" points=\"246.769,324.425 643.171,324.425 643.171,168.905 246.769,168.905 246.769,324.425 \"/>\n",
       "<path clip-path=\"url(#clip080)\" d=\"M270.976 241.481 L416.216 241.481 L416.216 200.009 L270.976 200.009 L270.976 241.481  Z\" fill=\"#009af9\" fill-rule=\"evenodd\" fill-opacity=\"1\"/>\n",
       "<polyline clip-path=\"url(#clip080)\" style=\"stroke:#000000; stroke-linecap:round; stroke-linejoin:round; stroke-width:4; stroke-opacity:1; fill:none\" points=\"270.976,241.481 416.216,241.481 416.216,200.009 270.976,200.009 270.976,241.481 \"/>\n",
       "<path clip-path=\"url(#clip080)\" d=\"M440.423 203.465 L447.391 203.465 L456.21 226.983 L465.076 203.465 L472.043 203.465 L472.043 238.025 L467.483 238.025 L467.483 207.678 L458.571 231.381 L453.872 231.381 L444.96 207.678 L444.96 238.025 L440.423 238.025 L440.423 203.465 Z\" fill=\"#000000\" fill-rule=\"nonzero\" fill-opacity=\"1\" /><path clip-path=\"url(#clip080)\" d=\"M491.187 215.085 Q487.761 215.085 485.77 217.77 Q483.779 220.432 483.779 225.085 Q483.779 229.738 485.747 232.423 Q487.738 235.085 491.187 235.085 Q494.589 235.085 496.58 232.4 Q498.571 229.715 498.571 225.085 Q498.571 220.478 496.58 217.793 Q494.589 215.085 491.187 215.085 M491.187 211.474 Q496.742 211.474 499.914 215.085 Q503.085 218.696 503.085 225.085 Q503.085 231.451 499.914 235.085 Q496.742 238.696 491.187 238.696 Q485.608 238.696 482.437 235.085 Q479.289 231.451 479.289 225.085 Q479.289 218.696 482.437 215.085 Q485.608 211.474 491.187 211.474 Z\" fill=\"#000000\" fill-rule=\"nonzero\" fill-opacity=\"1\" /><path clip-path=\"url(#clip080)\" d=\"M527.205 216.034 L527.205 202.006 L531.464 202.006 L531.464 238.025 L527.205 238.025 L527.205 234.136 Q525.862 236.451 523.802 237.585 Q521.765 238.696 518.895 238.696 Q514.196 238.696 511.233 234.946 Q508.293 231.196 508.293 225.085 Q508.293 218.974 511.233 215.224 Q514.196 211.474 518.895 211.474 Q521.765 211.474 523.802 212.608 Q525.862 213.719 527.205 216.034 M512.691 225.085 Q512.691 229.784 514.613 232.469 Q516.557 235.131 519.937 235.131 Q523.316 235.131 525.261 232.469 Q527.205 229.784 527.205 225.085 Q527.205 220.386 525.261 217.724 Q523.316 215.039 519.937 215.039 Q516.557 215.039 514.613 217.724 Q512.691 220.386 512.691 225.085 Z\" fill=\"#000000\" fill-rule=\"nonzero\" fill-opacity=\"1\" /><path clip-path=\"url(#clip080)\" d=\"M562.413 223.997 L562.413 226.08 L542.83 226.08 Q543.108 230.478 545.469 232.793 Q547.853 235.085 552.089 235.085 Q554.543 235.085 556.835 234.483 Q559.149 233.881 561.418 232.677 L561.418 236.705 Q559.126 237.677 556.719 238.187 Q554.311 238.696 551.835 238.696 Q545.631 238.696 541.997 235.085 Q538.386 231.474 538.386 225.316 Q538.386 218.951 541.811 215.224 Q545.261 211.474 551.094 211.474 Q556.325 211.474 559.358 214.853 Q562.413 218.21 562.413 223.997 M558.154 222.747 Q558.108 219.252 556.186 217.168 Q554.288 215.085 551.14 215.085 Q547.575 215.085 545.423 217.099 Q543.293 219.113 542.969 222.77 L558.154 222.747 Z\" fill=\"#000000\" fill-rule=\"nonzero\" fill-opacity=\"1\" /><path clip-path=\"url(#clip080)\" d=\"M569.404 202.006 L573.663 202.006 L573.663 238.025 L569.404 238.025 L569.404 202.006 Z\" fill=\"#000000\" fill-rule=\"nonzero\" fill-opacity=\"1\" /><path clip-path=\"url(#clip080)\" d=\"M599.057 234.089 L606.695 234.089 L606.695 207.724 L598.385 209.391 L598.385 205.131 L606.649 203.465 L611.325 203.465 L611.325 234.089 L618.964 234.089 L618.964 238.025 L599.057 238.025 L599.057 234.089 Z\" fill=\"#000000\" fill-rule=\"nonzero\" fill-opacity=\"1\" /><path clip-path=\"url(#clip080)\" d=\"M270.976 293.321 L416.216 293.321 L416.216 251.849 L270.976 251.849 L270.976 293.321  Z\" fill=\"#e26f46\" fill-rule=\"evenodd\" fill-opacity=\"1\"/>\n",
       "<polyline clip-path=\"url(#clip080)\" style=\"stroke:#000000; stroke-linecap:round; stroke-linejoin:round; stroke-width:4; stroke-opacity:1; fill:none\" points=\"270.976,293.321 416.216,293.321 416.216,251.849 270.976,251.849 270.976,293.321 \"/>\n",
       "<path clip-path=\"url(#clip080)\" d=\"M440.423 255.305 L447.391 255.305 L456.21 278.823 L465.076 255.305 L472.043 255.305 L472.043 289.865 L467.483 289.865 L467.483 259.518 L458.571 283.221 L453.872 283.221 L444.96 259.518 L444.96 289.865 L440.423 289.865 L440.423 255.305 Z\" fill=\"#000000\" fill-rule=\"nonzero\" fill-opacity=\"1\" /><path clip-path=\"url(#clip080)\" d=\"M491.187 266.925 Q487.761 266.925 485.77 269.61 Q483.779 272.272 483.779 276.925 Q483.779 281.578 485.747 284.263 Q487.738 286.925 491.187 286.925 Q494.589 286.925 496.58 284.24 Q498.571 281.555 498.571 276.925 Q498.571 272.318 496.58 269.633 Q494.589 266.925 491.187 266.925 M491.187 263.314 Q496.742 263.314 499.914 266.925 Q503.085 270.536 503.085 276.925 Q503.085 283.291 499.914 286.925 Q496.742 290.536 491.187 290.536 Q485.608 290.536 482.437 286.925 Q479.289 283.291 479.289 276.925 Q479.289 270.536 482.437 266.925 Q485.608 263.314 491.187 263.314 Z\" fill=\"#000000\" fill-rule=\"nonzero\" fill-opacity=\"1\" /><path clip-path=\"url(#clip080)\" d=\"M527.205 267.874 L527.205 253.846 L531.464 253.846 L531.464 289.865 L527.205 289.865 L527.205 285.976 Q525.862 288.291 523.802 289.425 Q521.765 290.536 518.895 290.536 Q514.196 290.536 511.233 286.786 Q508.293 283.036 508.293 276.925 Q508.293 270.814 511.233 267.064 Q514.196 263.314 518.895 263.314 Q521.765 263.314 523.802 264.448 Q525.862 265.559 527.205 267.874 M512.691 276.925 Q512.691 281.624 514.613 284.309 Q516.557 286.971 519.937 286.971 Q523.316 286.971 525.261 284.309 Q527.205 281.624 527.205 276.925 Q527.205 272.226 525.261 269.564 Q523.316 266.879 519.937 266.879 Q516.557 266.879 514.613 269.564 Q512.691 272.226 512.691 276.925 Z\" fill=\"#000000\" fill-rule=\"nonzero\" fill-opacity=\"1\" /><path clip-path=\"url(#clip080)\" d=\"M562.413 275.837 L562.413 277.92 L542.83 277.92 Q543.108 282.318 545.469 284.633 Q547.853 286.925 552.089 286.925 Q554.543 286.925 556.835 286.323 Q559.149 285.721 561.418 284.517 L561.418 288.545 Q559.126 289.517 556.719 290.027 Q554.311 290.536 551.835 290.536 Q545.631 290.536 541.997 286.925 Q538.386 283.314 538.386 277.156 Q538.386 270.791 541.811 267.064 Q545.261 263.314 551.094 263.314 Q556.325 263.314 559.358 266.693 Q562.413 270.05 562.413 275.837 M558.154 274.587 Q558.108 271.092 556.186 269.008 Q554.288 266.925 551.14 266.925 Q547.575 266.925 545.423 268.939 Q543.293 270.953 542.969 274.61 L558.154 274.587 Z\" fill=\"#000000\" fill-rule=\"nonzero\" fill-opacity=\"1\" /><path clip-path=\"url(#clip080)\" d=\"M569.404 253.846 L573.663 253.846 L573.663 289.865 L569.404 289.865 L569.404 253.846 Z\" fill=\"#000000\" fill-rule=\"nonzero\" fill-opacity=\"1\" /><path clip-path=\"url(#clip080)\" d=\"M602.274 285.929 L618.593 285.929 L618.593 289.865 L596.649 289.865 L596.649 285.929 Q599.311 283.175 603.894 278.545 Q608.501 273.893 609.681 272.55 Q611.927 270.027 612.806 268.291 Q613.709 266.531 613.709 264.842 Q613.709 262.087 611.765 260.351 Q609.843 258.615 606.742 258.615 Q604.543 258.615 602.089 259.379 Q599.658 260.143 596.881 261.694 L596.881 256.971 Q599.705 255.837 602.158 255.258 Q604.612 254.68 606.649 254.68 Q612.019 254.68 615.214 257.365 Q618.408 260.05 618.408 264.541 Q618.408 266.67 617.598 268.592 Q616.811 270.49 614.705 273.082 Q614.126 273.754 611.024 276.971 Q607.922 280.166 602.274 285.929 Z\" fill=\"#000000\" fill-rule=\"nonzero\" fill-opacity=\"1\" /></svg>\n"
      ]
     },
     "metadata": {},
     "output_type": "display_data"
    }
   ],
   "source": [
    "plotdata = []\n",
    "m_range = [500] #, 1000, 2000]\n",
    "for (n, m) in Iterators.product(\n",
    "    [50], \n",
    "    m_range,\n",
    ")\n",
    "    facilities = rand(MersenneTwister(0), n, 2)\n",
    "    customers = rand(MersenneTwister(0), m, 2)\n",
    "    dist = Distances.pairwise(Euclidean(), customers, facilities, dims = 1)\n",
    "    c = rand(MersenneTwister(0), n) * 10 .+ 10\n",
    "    buildtime1 = @elapsed model1, _, _ = facility_model_1(dist, c)\n",
    "    solvetime1 = @elapsed @suppress optimize!(model1)\n",
    "    buildtime2 = @elapsed model2, _, _ = facility_model_2(dist, c)\n",
    "    solvetime2 = @elapsed @suppress optimize!(model2)\n",
    "    push!(plotdata, (\n",
    "        buildtime1 = buildtime1, \n",
    "        solvetime1 = solvetime1, \n",
    "        buildtime2 = buildtime2, \n",
    "        solvetime2 = solvetime2, \n",
    "    ))\n",
    "end\n",
    "df = DataFrame(plotdata)\n",
    "groupedbar(\n",
    "    repeat(lpad.(string.(m_range), 4), outer = 2), \n",
    "    vcat(df[!, :solvetime1], df[!, :solvetime2]),\n",
    "    group = repeat([\"Model 1\", \"Model 2\"], inner = length(m_range)),\n",
    "    ylabel = \"Solve time (s)\",\n",
    "    # yscale = :log10,\n",
    "    title = \"Solve times of both formulations with # of customers\",\n",
    "    legend = :topleft,\n",
    ")\n",
    "\n"
   ]
  },
  {
   "cell_type": "code",
   "execution_count": 14,
   "metadata": {},
   "outputs": [
    {
     "name": "stdout",
     "output_type": "stream",
     "text": [
      "Gurobi Optimizer version 10.0.1 build v10.0.1rc0 (mac64[arm])\n",
      "\n",
      "CPU model: Apple M2 Pro\n",
      "Thread count: 10 physical cores, 10 logical processors, using up to 10 threads\n",
      "\n",
      "Optimize a model with 550 rows, 25050 columns and 50050 nonzeros\n",
      "Model fingerprint: 0xd80d1ad7\n",
      "Variable types: 0 continuous, 25050 integer (25050 binary)\n",
      "Coefficient statistics:\n",
      "  Matrix range     [1e+00, 5e+02]\n",
      "  Objective range  [2e-03, 2e+01]\n",
      "  Bounds range     [0e+00, 0e+00]\n",
      "  RHS range        [1e+00, 1e+00]\n",
      "Presolved: 550 rows, 25050 columns, 50050 nonzeros\n",
      "\n",
      "Continuing optimization...\n",
      "\n",
      "\n",
      "Explored 1668 nodes (74583 simplex iterations) in 0.00 seconds (0.00 work units)\n",
      "Thread count was 10 (of 10 available processors)\n",
      "\n",
      "Solution count 10: 155.838 161.175 163.319 ... 999.325\n",
      "\n",
      "Optimal solution found (tolerance 1.00e-04)\n",
      "Best objective 1.558381904905e+02, best bound 1.558381904905e+02, gap 0.0000%\n",
      "\n",
      "User-callback calls 26, time in user-callback 0.00 sec\n"
     ]
    },
    {
     "ename": "LoadError",
     "evalue": "LoadError: parsing command `Optimize a model with 550 rows, 25050 columns and 50050 nonzeros\nVariable types: 0 continuous, 25050 integer (25050 binary)\nCoefficient statistics:\n  Matrix range     [1e+00, 5e+02]\n  Objective range  [2e-03, 2e+01]\n  Bounds range     [0e+00, 0e+00]\n  RHS range        [1e+00, 1e+00]\nFound heuristic solution: objective 999.3253001\nPresolve time: 0.03s\nPresolved: 550 rows, 25050 columns, 50050 nonzeros\nFound heuristic solution: objective 878.6356621 (after presolve)\nRoot relaxation: objective 5.155704e+01, 616 iterations, 0.00 seconds (0.00 work units)\nOptimal solution found (tolerance 1.00e-04)\nBest objective 1.558381904905e+02, best bound 1.558381904905e+02, gap 0.0000%\nUser-callback calls 4148, time in user-callback 0.00 sec\n`: special characters \"#{}()[]<>|&*?~;\" must be quoted in commands\nin expression starting at /Users/hyunjimoon/Dropbox (MIT)/tolzul/BayesSD/code/pipeline/prescriptive/IP/recitation/Recitation 2/Recitation-2-Complete.ipynb:2",
     "output_type": "error",
     "traceback": [
      "LoadError: parsing command `Optimize a model with 550 rows, 25050 columns and 50050 nonzeros\n",
      "Variable types: 0 continuous, 25050 integer (25050 binary)\n",
      "Coefficient statistics:\n",
      "  Matrix range     [1e+00, 5e+02]\n",
      "  Objective range  [2e-03, 2e+01]\n",
      "  Bounds range     [0e+00, 0e+00]\n",
      "  RHS range        [1e+00, 1e+00]\n",
      "Found heuristic solution: objective 999.3253001\n",
      "Presolve time: 0.03s\n",
      "Presolved: 550 rows, 25050 columns, 50050 nonzeros\n",
      "Found heuristic solution: objective 878.6356621 (after presolve)\n",
      "Root relaxation: objective 5.155704e+01, 616 iterations, 0.00 seconds (0.00 work units)\n",
      "Optimal solution found (tolerance 1.00e-04)\n",
      "Best objective 1.558381904905e+02, best bound 1.558381904905e+02, gap 0.0000%\n",
      "User-callback calls 4148, time in user-callback 0.00 sec\n",
      "`: special characters \"#{}()[]<>|&*?~;\" must be quoted in commands\n",
      "in expression starting at /Users/hyunjimoon/Dropbox (MIT)/tolzul/BayesSD/code/pipeline/prescriptive/IP/recitation/Recitation 2/Recitation-2-Complete.ipynb:2\n",
      "\n",
      "Stacktrace:\n",
      "  [1] error(s::String)\n",
      "    @ Base ./error.jl:35\n",
      "  [2] shell_parse(str::String, interpolate::Bool; special::String, filename::String)\n",
      "    @ Base ./shell.jl:116\n",
      "  [3] var\"@cmd\"(__source__::LineNumberNode, __module__::Module, str::Any)\n",
      "    @ Base ./cmd.jl:493\n",
      "  [4] eval\n",
      "    @ ./boot.jl:368 [inlined]\n",
      "  [5] include_string(mapexpr::typeof(REPL.softscope), mod::Module, code::String, filename::String)\n",
      "    @ Base ./loading.jl:1428\n",
      "  [6] #invokelatest#2\n",
      "    @ ./essentials.jl:729 [inlined]\n",
      "  [7] invokelatest\n",
      "    @ ./essentials.jl:726 [inlined]\n",
      "  [8] (::VSCodeServer.var\"#198#199\"{VSCodeServer.NotebookRunCellArguments, String})()\n",
      "    @ VSCodeServer ~/.vscode/extensions/julialang.language-julia-1.38.2/scripts/packages/VSCodeServer/src/serve_notebook.jl:19\n",
      "  [9] withpath(f::VSCodeServer.var\"#198#199\"{VSCodeServer.NotebookRunCellArguments, String}, path::String)\n",
      "    @ VSCodeServer ~/.vscode/extensions/julialang.language-julia-1.38.2/scripts/packages/VSCodeServer/src/repl.jl:249\n",
      " [10] notebook_runcell_request(conn::VSCodeServer.JSONRPC.JSONRPCEndpoint{Base.PipeEndpoint, Base.PipeEndpoint}, params::VSCodeServer.NotebookRunCellArguments)\n",
      "    @ VSCodeServer ~/.vscode/extensions/julialang.language-julia-1.38.2/scripts/packages/VSCodeServer/src/serve_notebook.jl:13\n",
      " [11] dispatch_msg(x::VSCodeServer.JSONRPC.JSONRPCEndpoint{Base.PipeEndpoint, Base.PipeEndpoint}, dispatcher::VSCodeServer.JSONRPC.MsgDispatcher, msg::Dict{String, Any})\n",
      "    @ VSCodeServer.JSONRPC ~/.vscode/extensions/julialang.language-julia-1.38.2/scripts/packages/JSONRPC/src/typed.jl:67\n",
      " [12] serve_notebook(pipename::String, outputchannel_logger::Base.CoreLogging.SimpleLogger; crashreporting_pipename::String)\n",
      "    @ VSCodeServer ~/.vscode/extensions/julialang.language-julia-1.38.2/scripts/packages/VSCodeServer/src/serve_notebook.jl:139\n",
      " [13] top-level scope\n",
      "    @ ~/.vscode/extensions/julialang.language-julia-1.38.2/scripts/notebook/notebook.jl:32"
     ]
    }
   ],
   "source": [
    "solvetime1 = @elapsed optimize!(model1);\n",
    "```\n",
    "Optimize a model with 550 rows, 25050 columns and 50050 nonzeros\n",
    "Variable types: 0 continuous, 25050 integer (25050 binary)\n",
    "Coefficient statistics:\n",
    "  Matrix range     [1e+00, 5e+02]\n",
    "  Objective range  [2e-03, 2e+01]\n",
    "  Bounds range     [0e+00, 0e+00]\n",
    "  RHS range        [1e+00, 1e+00]\n",
    "Found heuristic solution: objective 999.3253001\n",
    "Presolve time: 0.03s\n",
    "Presolved: 550 rows, 25050 columns, 50050 nonzeros\n",
    "Found heuristic solution: objective 878.6356621 (after presolve)\n",
    "Root relaxation: objective 5.155704e+01, 616 iterations, 0.00 seconds (0.00 work units)\n",
    "Optimal solution found (tolerance 1.00e-04)\n",
    "Best objective 1.558381904905e+02, best bound 1.558381904905e+02, gap 0.0000%\n",
    "User-callback calls 4148, time in user-callback 0.00 sec\n",
    "```\n",
    "solvetime2 = @elapsed optimize!(model2);\n",
    "```\n",
    "Optimize a model with 25500 rows, 25050 columns and 75000 nonzeros\n",
    "Variable types: 0 continuous, 25050 integer (25050 binary)\n",
    "Coefficient statistics:\n",
    "  Matrix range     [1e+00, 1e+00]\n",
    "  ...(same)...\n",
    "Presolve time: 0.05s\n",
    "Presolved: 25500 rows, 25050 columns, 75000 nonzeros\n",
    "Found heuristic solution: objective 878.6356621 (after presolve)\n",
    "Root relaxation: objective 1.558382e+02, 5559 iterations, 0.03 seconds (0.06 work units)\n",
    "...(same)...\n",
    "User-callback calls 161, time in user-callback 0.00 sec\n",
    "```"
   ]
  },
  {
   "cell_type": "markdown",
   "metadata": {},
   "source": [
    "## Part 2: TSP\n",
    "\n",
    "In the traveling salesman problem, we have $n$ locations, or \"cities\", indexed by $[n]=\\{1,\\ldots,n\\}$ with $d_{ij}$ denoting the distance between location $i$ and location $j$.\n",
    "\n",
    "The goal is to find a tour that visits each location exactly once, while minimizing total distance traveled.\n",
    "\n",
    "### 2.1 Problem setup\n",
    "\n",
    "We have a few TSP instances saved in the `tsp` directory. The data are stored as ASCII text files, which we can read as follows."
   ]
  },
  {
   "cell_type": "code",
   "execution_count": 15,
   "metadata": {},
   "outputs": [
    {
     "data": {
      "text/plain": [
       "10-element Vector{String}:\n",
       " \"NAME: berlin52\"\n",
       " \"TYPE: TSP\"\n",
       " \"COMMENT: 52 locations in Berlin (Groetschel)\"\n",
       " \"DIMENSION: 52\"\n",
       " \"EDGE_WEIGHT_TYPE: EUC_2D\"\n",
       " \"NODE_COORD_SECTION\"\n",
       " \"1 565.0 575.0\"\n",
       " \"2 25.0 185.0\"\n",
       " \"3 345.0 750.0\"\n",
       " \"4 945.0 685.0\""
      ]
     },
     "metadata": {},
     "output_type": "display_data"
    }
   ],
   "source": [
    "file = open(\"tsp/berlin52.tsp\");\n",
    "data = readlines(file)\n",
    "data[1:10]"
   ]
  },
  {
   "attachments": {},
   "cell_type": "markdown",
   "metadata": {},
   "source": [
    "The first few lines describe the file and the problem type, and the following lines list the `(x,y)` coordinates of each point in a grid. We want to extract the coordinates and define a distance matrix. The function below is one way to do this, but there are many others."
   ]
  },
  {
   "cell_type": "code",
   "execution_count": 16,
   "metadata": {},
   "outputs": [
    {
     "data": {
      "text/plain": [
       "get_distances (generic function with 1 method)"
      ]
     },
     "metadata": {},
     "output_type": "display_data"
    }
   ],
   "source": [
    "function get_distances(filename)\n",
    "    file = open(filename)\n",
    "    data = readlines(file)\n",
    "    close(file)\n",
    "    \n",
    "    # get useful lines\n",
    "    dimension_line = findfirst(x -> occursin(\"DIMENSION\", x), data)\n",
    "    metric_line = findfirst(x -> occursin(\"EDGE_WEIGHT_TYPE\", x), data)\n",
    "    first_data_line = findfirst(x -> occursin(\"NODE_COORD_SECTION\", x), data) + 1\n",
    "    last_data_line = findfirst(x -> occursin(r\"EOF\", x), data) - 1\n",
    "    \n",
    "    # extract dimension\n",
    "    n = parse(Int64, match(r\"[0-9]+\", data[dimension_line]).match)\n",
    "    \n",
    "    # check metric is Euclidean 2D\n",
    "    occursin(\"EUC_2D\", data[metric_line]) || error(\"Unsupported metric type\")\n",
    "    \n",
    "    # Create coordinates\n",
    "    coords = zeros(n, 2)\n",
    "    for line in data[first_data_line:last_data_line]\n",
    "        temp = split(line)\n",
    "        coords[parse(Int64,temp[1]),:] = [parse(Float64,temp[2]) parse(Float64,temp[3])]\n",
    "    end\n",
    "    \n",
    "    # Create distance matrix\n",
    "    distances = Distances.pairwise(Euclidean(), coords, dims = 1)\n",
    "    \n",
    "    return distances\n",
    "end"
   ]
  },
  {
   "cell_type": "markdown",
   "metadata": {},
   "source": [
    "We can now use our shiny new `get_distances` function to convert a TSP text file to a distance matrix. We can visually check the matrix is 52x52, is symmetric, has nonnegative values, and zeros on the diagonal."
   ]
  },
  {
   "cell_type": "code",
   "execution_count": 17,
   "metadata": {},
   "outputs": [
    {
     "data": {
      "text/plain": [
       "52×52 Matrix{Float64}:\n",
       "    0.0      666.108   281.114   395.601   …   217.083   789.383  1220.46\n",
       "  666.108      0.0     649.327  1047.09        596.259  1421.56   1716.05\n",
       "  281.114    649.327     0.0     603.511       463.249   995.314  1483.59\n",
       "  395.601   1047.09    603.511     0.0         477.624   397.02    908.639\n",
       "  291.204    945.145   508.945   104.403       386.685   499.925   984.441\n",
       "  326.267    978.085   542.517    69.6419  …   413.793   464.57    954.895\n",
       "  640.8       45.0     610.574  1026.36        584.637  1405.08   1715.07\n",
       "  426.878    956.151   308.058   525.0         643.817   860.145  1430.47\n",
       "  600.187   1134.96    485.644   611.003       815.138   883.233  1486.78\n",
       "  561.471   1132.98    487.263   533.901       771.962   800.078  1404.04\n",
       "    ⋮                                      ⋱               ⋮      \n",
       "  154.434    744.883   434.195   307.002       175.0     678.399  1070.81\n",
       "  240.208    823.286   219.829   411.096       456.755   790.142  1314.96\n",
       "  279.866    859.084   552.675   230.705   …   266.177   563.649   941.116\n",
       "  791.281   1151.27   1072.31    659.564       646.258   681.542   597.746\n",
       "  267.301    910.302   504.802   137.295       343.111   522.805   980.472\n",
       "   64.0312   728.011   288.487   345.254       265.189   741.772  1196.92\n",
       "  217.083    596.259   463.249   477.624         0.0     829.608  1150.76\n",
       "  789.383   1421.56    995.314   397.02    …   829.608     0.0     624.82\n",
       " 1220.46    1716.05   1483.59    908.639      1150.76    624.82      0.0"
      ]
     },
     "metadata": {},
     "output_type": "display_data"
    }
   ],
   "source": [
    "get_distances(\"tsp/berlin52.tsp\")"
   ]
  },
  {
   "cell_type": "markdown",
   "metadata": {},
   "source": [
    "### 2.2 Formulations\n",
    "\n",
    "#### Base formulation\n",
    "\n",
    "$$\\begin{align}\n",
    "\\min\\quad & \\sum_{i=1}^n\\sum_{j=1}^n d_{ij}x_{ij}\\\\\n",
    "\\text{s.t.}\\quad & \\sum_{i=1}^n x_{ij}=1 & \\forall j\\in[n]\\\\\n",
    "&\\sum_{j=1}^nx_{ij} =1 & \\forall i\\in[n]\\\\\n",
    "&x_{ii}=0 & \\forall i\\in[n]\\\\\n",
    "& x_{ij}\\in\\{0,1\\}&\\forall i, j \\in [n]\n",
    "\\end{align}$$\n",
    "\n",
    "_Note: even though our distance matrix is symmetric, it is slightly easier to implement a more general formulation where we do not assume this property. If we know our distance matrix is symmetric, we can cut the number of variables in half by only defining $x_{ij}$ for $i < j$ (i.e. not defining both $x_{12}$ and $x_{21}$), but this is beyond the scope of this recitation._"
   ]
  },
  {
   "cell_type": "code",
   "execution_count": 18,
   "metadata": {},
   "outputs": [
    {
     "data": {
      "text/plain": [
       "prebuild_tsp"
      ]
     },
     "metadata": {},
     "output_type": "display_data"
    }
   ],
   "source": [
    "\"Construct TSP pre-model, without cycle elimination mechanism\"\n",
    "function prebuild_tsp(dist::Matrix{Float64}, time_limit_seconds)\n",
    "    \n",
    "    n = size(dist, 1)\n",
    "    \n",
    "    # Definition of model\n",
    "    model = Model(Gurobi.Optimizer)\n",
    "    set_time_limit_sec(model, time_limit_seconds)\n",
    "    \n",
    "    # Main variable: x_ij=1 if the tour visits i and j in that order, 0 otherwise\n",
    "    @variable(model, x[1:n, 1:n], Bin)\n",
    "    \n",
    "    # Objective: minimizing the total cost (distance) of the tour\n",
    "    @objective(\n",
    "        model, \n",
    "        Min, \n",
    "        sum(dist[i, j] * x[i, j] for i = 1:n, j = 1:n)\n",
    "    )\n",
    "    \n",
    "    # SHARED CONSTRAINTS\n",
    "    @constraint(\n",
    "        model, \n",
    "        no_self_edges[i = 1:n], \n",
    "        x[i,i] == 0\n",
    "    )\n",
    "    @constraint(\n",
    "        model, \n",
    "        exactly_one_successor[i = 1:n], \n",
    "        sum(x[i, j] for j = 1:n) == 1\n",
    "    )\n",
    "    @constraint(\n",
    "        model, \n",
    "        exactly_one_predecessor[j = 1:n], \n",
    "        sum(x[i, j] for i = 1:n) == 1\n",
    "    )\n",
    "    \n",
    "    return model, x\n",
    "end"
   ]
  },
  {
   "cell_type": "markdown",
   "metadata": {},
   "source": [
    "### What is the issue with this formulation?\n",
    "\n",
    "Consider the two solutions below. Are each of them feasible?\n",
    "\n",
    "<img src=\"extra/basetspsolutions.png\" style=\"width:800px\"/>"
   ]
  },
  {
   "cell_type": "markdown",
   "metadata": {},
   "source": [
    "#### Issues with the formulation\n",
    "\n",
    "The formulation we've built so far is nice, but it has one big flaw! It doesn't ensure that every city must be part of the same tour.\n",
    "\n",
    "For instance, the second example above involves two tours that are not connected.\n",
    "\n",
    "We need to somehow **eliminate these \"subtours\"**."
   ]
  },
  {
   "cell_type": "markdown",
   "metadata": {},
   "source": [
    "## Attempt 1: MTZ formulation (compact)\n",
    "\n",
    "This formulation eliminates subtours using a $u_i$ variable for each node $i$, which defines the \"order\" of the visit starting from node 1 ($u_1=1$). More precisely, we impose the following constraints:\n",
    "\n",
    "$u_1=1$\n",
    "\n",
    "$2\\le u_i \\le n \\quad\\forall i=2, \\ldots, n$\n",
    "\n",
    "$u_j \\ge u_i + 1 - (n-1)(1-x_{ij}) \\quad \\forall i, j \\in \\{2,\\ldots,n\\}$\n",
    "\n",
    "The first two are straightforward. What does the third one mean?\n",
    "\n",
    "<img src=\"extra/mtz.png\" style=\"width:800px\"/>\n",
    "\n",
    "- If $x_{ij}=1$, then we impose that $u_j\\ge u_i +1$ (the order of $j$ is at least 1 + the order of $i$). Since all $u_i$ are upper-bounded by $n$, this leads to the order of $j$ being exactly 1 + the order of $i$).\n",
    "- If $x_{ij}=0$, then we impose that $u_j\\ge u_i + 2 - n$. Since $u_i$ is at most $n$, in the worst case we impose $u_j\\ge 2$ which holds as long as $j>1$ (recall our convention that $u_1=1$). So $x_{ij}=0$ effectively \"turns off\" the constraint.\n",
    "\n",
    "We implement the MTZ formulation by appending these constraints to the core assignment model."
   ]
  },
  {
   "cell_type": "code",
   "execution_count": 19,
   "metadata": {},
   "outputs": [
    {
     "data": {
      "text/plain": [
       "solveMTZ"
      ]
     },
     "metadata": {},
     "output_type": "display_data"
    }
   ],
   "source": [
    "\"Solve TSP using MTZ formulation, return runtime and objective\"\n",
    "function solveMTZ(dist::Matrix; time_limit_seconds::Real=1800)\n",
    "    \n",
    "    model, x = prebuild_tsp(dist, time_limit_seconds)\n",
    "    set_time_limit_sec(model, time_limit_seconds)\n",
    "    \n",
    "    n = size(dist, 1)\n",
    "    \n",
    "    # Lower bound: 1 for node 1, 2 for all other nodes\n",
    "    lb = [1; 2 * ones(n-1)]\n",
    "    # Upper bound: 1 for node 1, n for all other nodes\n",
    "    ub = [1; n * ones(n-1)]\n",
    "    \n",
    "    # We define the u variable with lower and upper bounds, ensuring in particular that u_1=1\n",
    "    @variable(\n",
    "        model, \n",
    "        lb[i] <= u[i = 1:n] <= ub[i]\n",
    "    )\n",
    "    \n",
    "    # Constraint\n",
    "    @constraint(\n",
    "        model, \n",
    "        [i = 2:n, j = 2:n], \n",
    "        u[i] - u[j] + 1 <= (n-1) * (1 - x[i, j])\n",
    "    )\n",
    "   \n",
    "    # We then solve the model and store the runtime\n",
    "    start = time()\n",
    "    optimize!(model)\n",
    "    solvetime = time() - start\n",
    "    return solvetime, objective_value(model)\n",
    "end"
   ]
  },
  {
   "cell_type": "markdown",
   "metadata": {},
   "source": [
    "Let's try it!"
   ]
  },
  {
   "cell_type": "code",
   "execution_count": 20,
   "metadata": {},
   "outputs": [
    {
     "name": "stdout",
     "output_type": "stream",
     "text": [
      "Set parameter Username\n",
      "Academic license - for non-commercial use only - expires 2024-04-18\n",
      "Set parameter TimeLimit to value 1800\n",
      "Set parameter TimeLimit to value 1800\n",
      "Gurobi Optimizer version 10.0.1 build v10.0.1rc0 (mac64[arm])\n",
      "\n",
      "CPU model: Apple M2 Pro\n",
      "Thread count: 10 physical cores, 10 logical processors, using up to 10 threads\n",
      "\n",
      "Optimize a model with 2757 rows, 2756 columns and 13161 nonzeros\n",
      "Model fingerprint: 0xabecf421\n",
      "Variable types: 52 continuous, 2704 integer (2704 binary)\n",
      "Coefficient statistics:\n",
      "  Matrix range     [1e+00, 5e+01]\n",
      "  Objective range  [2e+01, 2e+03]\n",
      "  Bounds range     [1e+00, 5e+01]\n",
      "  RHS range        [1e+00, 5e+01]\n",
      "Presolve removed 103 rows and 53 columns\n",
      "Presolve time: 0.01s\n",
      "Presolved: 2654 rows, 2703 columns, 12954 nonzeros\n",
      "Variable types: 51 continuous, 2652 integer (2652 binary)\n",
      "Found heuristic solution: objective 30198.641923\n",
      "Found heuristic solution: objective 27757.818031\n",
      "\n",
      "Root relaxation: objective 6.318826e+03, 195 iterations, 0.00 seconds (0.00 work units)\n",
      "\n",
      "    Nodes    |    Current Node    |     Objective Bounds      |     Work\n",
      " Expl Unexpl |  Obj  Depth IntInf | Incumbent    BestBd   Gap | It/Node Time\n",
      "\n",
      "     0     0 6318.82598    0   95 27757.8180 6318.82598  77.2%     -    0s\n",
      "H    0     0                    8616.8487092 6318.82598  26.7%     -    0s\n",
      "     0     0 7136.93961    0  109 8616.84871 7136.93961  17.2%     -    0s\n",
      "H    0     0                    7979.2119882 7136.93961  10.6%     -    0s\n",
      "     0     0 7137.00356    0  110 7979.21199 7137.00356  10.6%     -    0s\n",
      "     0     0 7282.79511    0   99 7979.21199 7282.79511  8.73%     -    0s\n",
      "     0     0 7282.79511    0  107 7979.21199 7282.79511  8.73%     -    0s\n",
      "     0     0 7316.23050    0  101 7979.21199 7316.23050  8.31%     -    0s\n",
      "     0     0 7316.23050    0  101 7979.21199 7316.23050  8.31%     -    0s\n",
      "H    0     0                    7972.0089697 7316.23050  8.23%     -    0s\n",
      "     0     0 7391.96159    0  109 7972.00897 7391.96159  7.28%     -    0s\n",
      "H    0     0                    7673.7754892 7402.73915  3.53%     -    0s\n",
      "     0     0 7402.73915    0  112 7673.77549 7402.73915  3.53%     -    0s\n",
      "     0     0 7408.30710    0  112 7673.77549 7408.30710  3.46%     -    0s\n",
      "     0     0 7408.89462    0  113 7673.77549 7408.89462  3.45%     -    0s\n",
      "     0     0 7503.51076    0  108 7673.77549 7503.51076  2.22%     -    0s\n",
      "     0     0 7503.51076    0  100 7673.77549 7503.51076  2.22%     -    0s\n",
      "     0     0 7503.51076    0  110 7673.77549 7503.51076  2.22%     -    0s\n",
      "     0     0 7503.51076    0  108 7673.77549 7503.51076  2.22%     -    0s\n",
      "     0     0 7503.51076    0  108 7673.77549 7503.51076  2.22%     -    0s\n",
      "     0     0 7505.78150    0  104 7673.77549 7505.78150  2.19%     -    0s\n",
      "H    0     0                    7567.3279882 7505.78150  0.81%     -    0s\n",
      "     0     0 7505.78150    0  104 7567.32799 7505.78150  0.81%     -    0s\n",
      "     0     0 7505.78150    0  104 7567.32799 7505.78150  0.81%     -    0s\n",
      "     0     0 7505.78150    0  107 7567.32799 7505.78150  0.81%     -    0s\n",
      "     0     0 7505.78150    0  100 7567.32799 7505.78150  0.81%     -    0s\n",
      "     0     0 7505.78150    0   96 7567.32799 7505.78150  0.81%     -    0s\n",
      "     0     0 7505.78150    0   96 7567.32799 7505.78150  0.81%     -    0s\n",
      "     0     0 7505.78150    0   96 7567.32799 7505.78150  0.81%     -    0s\n",
      "     0     0 7505.78150    0   96 7567.32799 7505.78150  0.81%     -    0s\n",
      "H    0     0                    7565.8702639 7505.78150  0.79%     -    0s\n",
      "     0     0 7505.78150    0   96 7565.87026 7505.78150  0.79%     -    0s\n",
      "H    0     0                    7544.3659019 7505.78150  0.51%     -    0s\n",
      "     0     0 7505.78150    0   96 7544.36590 7505.78150  0.51%     -    0s\n",
      "     0     0 7505.78150    0   96 7544.36590 7505.78150  0.51%     -    0s\n",
      "     0     0 7505.78150    0   84 7544.36590 7505.78150  0.51%     -    0s\n",
      "     0     0 7505.78150    0   82 7544.36590 7505.78150  0.51%     -    0s\n",
      "     0     0 7505.78150    0   76 7544.36590 7505.78150  0.51%     -    0s\n",
      "     0     0 7505.78150    0   77 7544.36590 7505.78150  0.51%     -    0s\n",
      "     0     0 7505.78150    0   85 7544.36590 7505.78150  0.51%     -    0s\n",
      "     0     0 7505.78150    0   79 7544.36590 7505.78150  0.51%     -    0s\n",
      "     0     0 7505.78150    0   79 7544.36590 7505.78150  0.51%     -    0s\n",
      "     0     0 7505.78492    0   81 7544.36590 7505.78492  0.51%     -    0s\n",
      "     0     0 7505.80178    0   70 7544.36590 7505.80178  0.51%     -    0s\n",
      "     0     0 7506.62370    0   81 7544.36590 7506.62370  0.50%     -    0s\n",
      "     0     0 7507.07653    0   81 7544.36590 7507.07653  0.49%     -    0s\n",
      "     0     0 7512.04993    0   72 7544.36590 7512.04993  0.43%     -    0s\n",
      "\n",
      "Cutting planes:\n",
      "  Learned: 14\n",
      "  Gomory: 4\n",
      "  Implied bound: 10\n",
      "  MIR: 15\n",
      "  GUB cover: 1\n",
      "  Zero half: 1\n",
      "  Relax-and-lift: 4\n",
      "\n",
      "Explored 1 nodes (2196 simplex iterations) in 0.41 seconds (0.47 work units)\n",
      "Thread count was 10 (of 10 available processors)\n",
      "\n",
      "Solution count 9: 7544.37 7565.87 7567.33 ... 30198.6\n",
      "\n",
      "Optimal solution found (tolerance 1.00e-04)\n",
      "Best objective 7.544365901904e+03, best bound 7.544365901904e+03, gap 0.0000%\n",
      "\n",
      "User-callback calls 582, time in user-callback 0.00 sec\n",
      "Runtime: \t0.5603928565979004 seconds\n",
      "Objective:\t7544.365901904088\n"
     ]
    }
   ],
   "source": [
    "dist52 = get_distances(\"tsp/berlin52.tsp\");\n",
    "solvetime52_MTZ, obj52_MTZ = solveMTZ(dist52);\n",
    "println(\"Runtime: \\t$solvetime52_MTZ seconds\")\n",
    "println(\"Objective:\\t$obj52_MTZ\")"
   ]
  },
  {
   "cell_type": "markdown",
   "metadata": {},
   "source": [
    "Let's try it on a larger instance now."
   ]
  },
  {
   "cell_type": "code",
   "execution_count": 21,
   "metadata": {},
   "outputs": [
    {
     "name": "stdout",
     "output_type": "stream",
     "text": [
      "Set parameter Username\n",
      "Academic license - for non-commercial use only - expires 2024-04-18\n",
      "Set parameter TimeLimit to value 60\n",
      "Set parameter TimeLimit to value 60\n",
      "Gurobi Optimizer version 10.0.1 build v10.0.1rc0 (mac64[arm])\n",
      "\n",
      "CPU model: Apple M2 Pro\n",
      "Thread count: 10 physical cores, 10 logical processors, using up to 10 threads\n",
      "\n",
      "Optimize a model with 5853 rows, 5852 columns and 28353 nonzeros\n",
      "Model fingerprint: 0x9c0da5a0\n",
      "Variable types: 76 continuous, 5776 integer (5776 binary)\n",
      "Coefficient statistics:\n",
      "  Matrix range     [1e+00, 8e+01]\n",
      "  Objective range  [3e+02, 2e+04]\n",
      "  Bounds range     [1e+00, 8e+01]\n",
      "  RHS range        [1e+00, 7e+01]\n",
      "Presolve removed 151 rows and 77 columns\n",
      "Presolve time: 0.02s\n",
      "Presolved: 5702 rows, 5775 columns, 28050 nonzeros\n",
      "Variable types: 75 continuous, 5700 integer (5700 binary)\n",
      "\n",
      "Root relaxation: objective 7.766213e+04, 318 iterations, 0.01 seconds (0.01 work units)\n",
      "\n",
      "    Nodes    |    Current Node    |     Objective Bounds      |     Work\n",
      " Expl Unexpl |  Obj  Depth IntInf | Incumbent    BestBd   Gap | It/Node Time\n",
      "\n",
      "     0     0 77662.1299    0  125          - 77662.1299      -     -    0s\n",
      "     0     0 97321.0204    0  154          - 97321.0204      -     -    0s\n",
      "     0     0 97321.0204    0  154          - 97321.0204      -     -    0s\n",
      "     0     0 99464.3500    0  151          - 99464.3500      -     -    0s\n",
      "     0     0 99570.6447    0  145          - 99570.6447      -     -    0s\n",
      "     0     0 99570.6447    0  145          - 99570.6447      -     -    0s\n",
      "     0     0 101144.901    0  150          - 101144.901      -     -    0s\n",
      "     0     0 101173.909    0  146          - 101173.909      -     -    0s\n",
      "     0     0 101173.909    0  146          - 101173.909      -     -    0s\n",
      "     0     0 101173.909    0  146          - 101173.909      -     -    0s\n",
      "H    0     0                    130531.61979 101173.909  22.5%     -    0s\n",
      "     0     0 101173.909    0  146 130531.620 101173.909  22.5%     -    0s\n",
      "     0     0 101173.909    0  146 130531.620 101173.909  22.5%     -    0s\n",
      "H    0     0                    122337.01270 102250.250  16.4%     -    1s\n",
      "     0     2 102250.250    0  146 122337.013 102250.250  16.4%     -    1s\n",
      "H   35    46                    121421.58733 102396.739  15.7%  32.3    1s\n",
      "H   36    46                    120465.12489 102396.739  15.0%  31.8    1s\n",
      "H 1864  1575                    117227.87332 102439.474  12.6%  13.4    2s\n",
      "H 1871  1499                    117192.96788 102439.474  12.6%  13.4    3s\n",
      "H 1872  1425                    115722.88049 102439.474  11.5%  13.3    3s\n",
      "  1891  1437 105452.232   29   65 115722.880 104634.224  9.58%  13.2    5s\n",
      "H 1932  1404                    113242.79189 104943.724  7.33%  15.4    8s\n",
      "H 1933  1334                    113124.16773 104943.724  7.23%  15.4    8s\n",
      "H 1935  1268                    112415.69426 104943.724  6.65%  15.5    8s\n",
      "H 1937  1205                    111797.89438 104943.724  6.13%  15.5    8s\n",
      "H 1988  1176                    111773.90842 104943.724  6.11%  16.0    8s\n",
      "H 2034  1153                    111481.54310 104943.724  5.86%  16.3    9s\n",
      "H 2039  1098                    111304.14299 104943.724  5.71%  16.3    9s\n",
      "H 2040  1047                    110667.58579 104943.724  5.17%  16.3    9s\n",
      "  2784  1320 104943.724   16  134 110667.586 104943.724  5.17%  19.1   10s\n",
      "H 6890  2533                    109314.83163 105211.576  3.75%  25.8   14s\n",
      "  7013  2509 105319.737   18  146 109314.832 105211.576  3.75%  25.9   15s\n",
      "H 7620  2551                    109086.64669 105371.829  3.41%  28.0   19s\n",
      "  7621  2555 107922.794   44  109 109086.647 105371.829  3.41%  28.0   20s\n",
      " 16668  5631 106877.223   50   53 109086.647 106395.940  2.47%  29.1   25s\n",
      " 25113 10478 108851.294   50   77 109086.647 106590.850  2.29%  29.1   30s\n",
      " 33068 13992 107318.493   38  146 109086.647 106694.243  2.19%  29.2   39s\n",
      " 33080 14000 107884.539   58  197 109086.647 106694.243  2.19%  29.2   40s\n",
      " 33098 14012 107825.178   41  201 109086.647 106694.243  2.19%  29.2   45s\n",
      " 33111 14021 106897.492   54  228 109086.647 106694.243  2.19%  29.1   50s\n",
      " 33125 14030 106793.624   33  227 109086.647 106694.243  2.19%  29.1   55s\n",
      "\n",
      "Cutting planes:\n",
      "  Learned: 13\n",
      "  Gomory: 31\n",
      "  Cover: 4\n",
      "  Implied bound: 4\n",
      "  Projected implied bound: 1\n",
      "  MIR: 42\n",
      "  Flow cover: 98\n",
      "  Inf proof: 4\n",
      "  Zero half: 42\n",
      "  RLT: 4\n",
      "  Relax-and-lift: 10\n",
      "\n",
      "Explored 33138 nodes (973122 simplex iterations) in 60.01 seconds (136.31 work units)\n",
      "Thread count was 10 (of 10 available processors)\n",
      "\n",
      "Solution count 10: 109087 109315 110668 ... 113243\n",
      "\n",
      "Time limit reached\n",
      "Best objective 1.090866466902e+05, best bound 1.066942428065e+05, gap 2.1931%\n",
      "\n",
      "User-callback calls 96228, time in user-callback 0.02 sec\n",
      "Runtime: 60.03037905693054 seconds\n",
      "Objective: 109086.64669021673\n"
     ]
    }
   ],
   "source": [
    "dist76 = get_distances(\"tsp/pr76.tsp\");\n",
    "solvetime76_MTZ, obj76_MTZ = solveMTZ(dist76, time_limit_seconds=60)\n",
    "println(\"Runtime: $solvetime76_MTZ seconds\")\n",
    "println(\"Objective: $obj76_MTZ\")"
   ]
  },
  {
   "cell_type": "markdown",
   "metadata": {},
   "source": [
    "On 52 cities, we solve in about one second. On 76 cities, we are much slower! Even after 60 seconds, our objective gap is still not zero. Clearly this will not scale to hundreds of cities.\n",
    "\n",
    "## Attempt 2: combinatorial formulation (cutset)\n",
    "\n",
    "OK, so MTZ is a bit of a dud (no offense). Can we do better? Yes, provided we're not afraid of large numbers.\n",
    "\n",
    "*Intuition:* since we seem to dislike subtours so much, let's write a specific constraint for every possible subtour, preventing it from existing.\n",
    "\n",
    "One way to do this is the following pair of \"cutset\" constraints:\n",
    "\n",
    "$$\\sum_{i\\in S}\\sum_{j\\notin S} x_{ij}\\ge 1 \\quad\\forall S\\subset V, S\\neq\\emptyset, V$$\n",
    "\n",
    "$$\\sum_{i\\notin S}\\sum_{j\\in S} x_{ij}\\ge 1 \\quad\\forall S\\subset V, S\\neq\\emptyset, V$$\n",
    "\n",
    "_What's going on here?_ For a subset of nodes $S$, the constraints above ensure that there is at least one edge leaving the subset $S$, and at least another edge entering the subset $S$.\n",
    "\n",
    "![](extra/cut-set-diagram.png)"
   ]
  },
  {
   "cell_type": "markdown",
   "metadata": {},
   "source": [
    "Unfortunately, a direct implementation is simply impossible, even for small-scale instances. Indeed, the number of subsets of $\\{1,n\\}$ is equal to $2^n$. For $n=52$, this means $4.5\\cdot 10^{15}$ -- clearly impossible with our computer's memory.\n",
    "\n",
    "Instead, we will add constraints ***only when we need them***. \n",
    "\n",
    "<img src=\"extra/rowgeneration.png\" style=\"width:800px\"/>"
   ]
  },
  {
   "attachments": {},
   "cell_type": "markdown",
   "metadata": {},
   "source": [
    "We have two options:\n",
    "1. We will solve the model naively, without subtour elimination constraints, and add constraints that are violated by the incumbent solution.\n",
    "\n",
    "2. We can also define **lazy constraints** in a callback function. This is a bit harder, but the idea is to give the constraints to the solver, and the solver will use them as needed through the branch-and-cut process. Specifically, the solver will keep the constraints in a \"pool\". As solutions are generated (in the branching tree), the solver checks which constraints are violated and adds them to the active formulation. Hence, the name \"lazy\" constraints because we let the solver use them as needed.\n",
    "\n",
    "Either way, we need to write a function to find a subtour in a candidate solution. If we were trying to make our code as efficient as possible, our best bet would be to write this function ourselves. In this recitation, we're going to pick an easier route, using the `Graphs` package."
   ]
  },
  {
   "cell_type": "code",
   "execution_count": 22,
   "metadata": {},
   "outputs": [],
   "source": [
    "#Pkg.add(\"Graphs\")\n",
    "using Graphs"
   ]
  },
  {
   "attachments": {},
   "cell_type": "markdown",
   "metadata": {},
   "source": [
    "The `Graphs` package is a way to easily work with graphs in Julia.\n",
    "\n",
    "Given a solution $\\boldsymbol{x}^*$, we can define the _induced_ graph $G(\\boldsymbol{x}^*)$ as the graph with one node per TSP node, and an edge between each pair of nodes $(i,j)$ for which $x^*_{ij}=1$.\n",
    "\n",
    "We know that a graph induced by a feasible solution will have exactly one edge into each node, and one edge out of each node. There is therefore a one-to-one mapping between subtours in the induced TSP graph and connected components of the induced graph.\n",
    "\n",
    "### Function to find subtours"
   ]
  },
  {
   "cell_type": "code",
   "execution_count": 23,
   "metadata": {},
   "outputs": [],
   "source": []
  },
  {
   "cell_type": "code",
   "execution_count": 24,
   "metadata": {},
   "outputs": [
    {
     "data": {
      "text/plain": [
       "find_subtours"
      ]
     },
     "metadata": {},
     "output_type": "display_data"
    }
   ],
   "source": [
    "\"\"\"\n",
    "    Given the induced graph as an adjacency list (i.e., next[i] is the next node to visit after node i),\n",
    "        compute all subtours.\n",
    "    Return them as a list of lists of nodes in the same component\n",
    "\"\"\"\n",
    "function find_subtours(next::Vector{Int})\n",
    "    n = length(next)\n",
    "    g = Graphs.DiGraph(n)\n",
    "    for i = 1:n\n",
    "        Graphs.add_edge!(g, i, next[i])\n",
    "    end\n",
    "    components = Graphs.strongly_connected_components(g)\n",
    "    return sort(components, by=length)\n",
    "end"
   ]
  },
  {
   "cell_type": "markdown",
   "metadata": {},
   "source": [
    "Let's try using this function"
   ]
  },
  {
   "cell_type": "code",
   "execution_count": 25,
   "metadata": {},
   "outputs": [
    {
     "name": "stdout",
     "output_type": "stream",
     "text": [
      "Set parameter Username\n",
      "Academic license - for non-commercial use only - expires 2024-04-18\n",
      "Set parameter TimeLimit to value 60\n",
      "Set parameter TimeLimit to value 60\n",
      "Gurobi Optimizer version 10.0.1 build v10.0.1rc0 (mac64[arm])\n",
      "\n",
      "CPU model: Apple M2 Pro\n",
      "Thread count: 10 physical cores, 10 logical processors, using up to 10 threads\n",
      "\n",
      "Optimize a model with 156 rows, 2704 columns and 5460 nonzeros\n",
      "Model fingerprint: 0xf466f051\n",
      "Variable types: 0 continuous, 2704 integer (2704 binary)\n",
      "Coefficient statistics:\n",
      "  Matrix range     [1e+00, 1e+00]\n",
      "  Objective range  [2e+01, 2e+03]\n",
      "  Bounds range     [0e+00, 0e+00]\n",
      "  RHS range        [1e+00, 1e+00]\n",
      "Found heuristic solution: objective 30640.309698\n",
      "Presolve removed 52 rows and 52 columns\n",
      "Presolve time: 0.00s\n",
      "Presolved: 104 rows, 2652 columns, 5304 nonzeros\n",
      "Variable types: 0 continuous, 2652 integer (2652 binary)\n",
      "\n",
      "Root relaxation: objective 6.285960e+03, 87 iterations, 0.00 seconds (0.00 work units)\n",
      "\n",
      "    Nodes    |    Current Node    |     Objective Bounds      |     Work\n",
      " Expl Unexpl |  Obj  Depth IntInf | Incumbent    BestBd   Gap | It/Node Time\n",
      "\n",
      "*    0     0               0    6285.9600229 6285.96002  0.00%     -    0s\n",
      "\n",
      "Explored 1 nodes (87 simplex iterations) in 0.01 seconds (0.01 work units)\n",
      "Thread count was 10 (of 10 available processors)\n",
      "\n",
      "Solution count 2: 6285.96 30640.3 \n",
      "\n",
      "Optimal solution found (tolerance 1.00e-04)\n",
      "Best objective 6.285960022920e+03, best bound 6.285960022920e+03, gap 0.0000%\n",
      "\n",
      "User-callback calls 150, time in user-callback 0.00 sec\n"
     ]
    },
    {
     "data": {
      "text/plain": [
       "23-element Vector{Vector{Int64}}:\n",
       " [1, 22]\n",
       " [4, 25]\n",
       " [8, 41]\n",
       " [9, 10]\n",
       " [11, 52]\n",
       " [12, 51]\n",
       " [13, 14]\n",
       " [16, 29]\n",
       " [19, 45]\n",
       " [20, 50]\n",
       " ⋮\n",
       " [32, 49]\n",
       " [33, 43]\n",
       " [37, 38]\n",
       " [39, 40]\n",
       " [44, 46]\n",
       " [2, 7, 42]\n",
       " [5, 6, 15]\n",
       " [34, 36, 35]\n",
       " [3, 18, 31, 21, 17]"
      ]
     },
     "metadata": {},
     "output_type": "display_data"
    }
   ],
   "source": [
    "dist52 = get_distances(\"tsp/berlin52.tsp\")\n",
    "model, x = prebuild_tsp(dist52, 60)\n",
    "optimize!(model)\n",
    "next = [findfirst(x -> x > 0.5, value.(x[i, :])) for i = 1:size(x, 1)]\n",
    "subtours = find_subtours(next)"
   ]
  },
  {
   "cell_type": "markdown",
   "metadata": {},
   "source": [
    "We notice two things here:\n",
    "\n",
    "1. We have a lot of subtours of length 2 - this is due to the directed formulation, different from the undirected formulation in lecture.\n",
    "\n",
    "2. We have lost some information by using connected components, namely the order of the cycle. But it's ok, because the cutset constraints doesn't care about the order of the cycle anyway.\n",
    "\n",
    "We also notice we have quite a few subtours to eliminate. For the subtours of length 2, we could decide to eliminate all of them at once, or to eliminate them as they come up. We can even see which approach is faster!\n",
    "\n",
    "## First, an iterative approach - Gurobi solves, then we check solution and add constraints"
   ]
  },
  {
   "cell_type": "code",
   "execution_count": 26,
   "metadata": {},
   "outputs": [
    {
     "data": {
      "text/plain": [
       "solve_iterative"
      ]
     },
     "metadata": {},
     "output_type": "display_data"
    }
   ],
   "source": [
    "\"Solve the TSP using an iterative approach\"\n",
    "function solve_iterative(\n",
    "    dist::Matrix; \n",
    "    time_limit_seconds::Real = 1800,                     \n",
    "    eliminate_length_2::Bool=false,\n",
    "    verbose::Bool = true,\n",
    ")    \n",
    "    # We first solve the model without any subtour elimination consideration\n",
    "    model, x = prebuild_tsp(dist, time_limit_seconds)\n",
    "    n = size(dist, 1)\n",
    "    if eliminate_length_2\n",
    "        @constraint(model, no_length_2[i = 1:n, j = 1:n], x[i, j] + x[j, i] <= 1)\n",
    "    end\n",
    "    if !verbose\n",
    "        set_optimizer_attribute(model, \"OutputFlag\", 0)\n",
    "    end\n",
    "    \n",
    "    start = time()\n",
    "    optimize!(model)\n",
    "\n",
    "    while true\n",
    "        # We store the incumbent solution\n",
    "        next = [findfirst(x -> x > 0.5, value.(x[i, :])) for i = 1:n]\n",
    "        # Note: checking for >0.5 is conservative (x is binary!) but it avoids numerical errors\n",
    "        \n",
    "        subtours = find_subtours(next)\n",
    "        println(\"Found $(length(subtours)) subtours after $(time() - start) seconds\")\n",
    "        \n",
    "        if length(subtours) == 1 # only one cycle, the TSP solution\n",
    "            solvetime = time() - start\n",
    "            return solvetime, objective_value(model)\n",
    "        else\n",
    "            # eliminate subtours\n",
    "            for subtour in subtours\n",
    "                @constraint(model, sum(x[i, j] for i=subtour, j=setdiff(1:n, subtour)) >= 1)\n",
    "                @constraint(model, sum(x[i, j] for i=setdiff(1:n, subtour), j=subtour) >= 1)\n",
    "            end\n",
    "        end\n",
    "        \n",
    "        # Optimize\n",
    "        optimize!(model)\n",
    "        solvetime = time() - start\n",
    "        if solvetime > time_limit_seconds \n",
    "            return solvetime, objective_value(model)\n",
    "        end\n",
    "    end\n",
    "end"
   ]
  },
  {
   "cell_type": "code",
   "execution_count": 27,
   "metadata": {},
   "outputs": [
    {
     "name": "stdout",
     "output_type": "stream",
     "text": [
      "Set parameter Username\n",
      "Academic license - for non-commercial use only - expires 2024-04-18\n",
      "Set parameter TimeLimit to value 1800\n",
      "Set parameter TimeLimit to value 1800\n",
      "Found 23 subtours after 0.00897216796875 seconds\n"
     ]
    },
    {
     "name": "stdout",
     "output_type": "stream",
     "text": [
      "Found 9 subtours after 0.14890313148498535 seconds\n",
      "Found 1 subtours after 0.16391801834106445 seconds\n",
      "Runtime: 0.16407108306884766 seconds\n",
      "Objective: 7544.365901904089\n"
     ]
    }
   ],
   "source": [
    "solvetime52_iterative, obj52_iterative = solve_iterative(dist52, verbose=false, eliminate_length_2=false)\n",
    "println(\"Runtime: $solvetime52_iterative seconds\")\n",
    "println(\"Objective: $obj52_iterative\")"
   ]
  },
  {
   "cell_type": "markdown",
   "metadata": {},
   "source": [
    "Now let's try that 76-city instance. Remember it didn't solve in one minute using the MTZ formulation."
   ]
  },
  {
   "cell_type": "code",
   "execution_count": 28,
   "metadata": {},
   "outputs": [
    {
     "name": "stdout",
     "output_type": "stream",
     "text": [
      "Set parameter Username\n",
      "Academic license - for non-commercial use only - expires 2024-04-18\n",
      "Set parameter TimeLimit to value 1800\n",
      "Set parameter TimeLimit to value 1800\n",
      "Found 36 subtours after 0.018546104431152344 seconds\n"
     ]
    },
    {
     "name": "stdout",
     "output_type": "stream",
     "text": [
      "Found 11 subtours after 0.1592540740966797 seconds\n"
     ]
    },
    {
     "name": "stdout",
     "output_type": "stream",
     "text": [
      "Found 10 subtours after 0.29967212677001953 seconds\n"
     ]
    },
    {
     "name": "stdout",
     "output_type": "stream",
     "text": [
      "Found 7 subtours after 0.4589371681213379 seconds\n"
     ]
    },
    {
     "name": "stdout",
     "output_type": "stream",
     "text": [
      "Found 5 subtours after 0.6208541393280029 seconds\n"
     ]
    },
    {
     "name": "stdout",
     "output_type": "stream",
     "text": [
      "Found 4 subtours after 0.9654510021209717 seconds\n"
     ]
    },
    {
     "name": "stdout",
     "output_type": "stream",
     "text": [
      "Found 3 subtours after 1.2577540874481201 seconds\n"
     ]
    },
    {
     "name": "stdout",
     "output_type": "stream",
     "text": [
      "Found 4 subtours after 1.5931119918823242 seconds\n"
     ]
    },
    {
     "name": "stdout",
     "output_type": "stream",
     "text": [
      "Found 4 subtours after 2.026128053665161 seconds\n"
     ]
    },
    {
     "name": "stdout",
     "output_type": "stream",
     "text": [
      "Found 4 subtours after 2.6347200870513916 seconds\n"
     ]
    },
    {
     "name": "stdout",
     "output_type": "stream",
     "text": [
      "Found 3 subtours after 3.640665054321289 seconds\n"
     ]
    },
    {
     "name": "stdout",
     "output_type": "stream",
     "text": [
      "Found 5 subtours after 5.815198183059692 seconds\n"
     ]
    },
    {
     "name": "stdout",
     "output_type": "stream",
     "text": [
      "Found 1 subtours after 9.415953159332275 seconds\n",
      "Runtime: 9.416145086288452 seconds\n",
      "Objective: 108159.43827413766\n"
     ]
    }
   ],
   "source": [
    "solvetime76_iterative, obj76_iterative = solve_iterative(dist76, verbose=false, eliminate_length_2=false)\n",
    "println(\"Runtime: $solvetime76_iterative seconds\")\n",
    "println(\"Objective: $obj76_iterative\")"
   ]
  },
  {
   "cell_type": "markdown",
   "metadata": {},
   "source": [
    "Let's try to solve even larger instances! This one has 280 locations."
   ]
  },
  {
   "cell_type": "code",
   "execution_count": 29,
   "metadata": {},
   "outputs": [
    {
     "name": "stdout",
     "output_type": "stream",
     "text": [
      "Set parameter Username\n",
      "Academic license - for non-commercial use only - expires 2024-04-18\n",
      "Set parameter TimeLimit to value 1800\n",
      "Set parameter TimeLimit to value 1800\n",
      "Found 129 subtours after 0.2233750820159912 seconds\n"
     ]
    },
    {
     "name": "stdout",
     "output_type": "stream",
     "text": [
      "Found 38 subtours after 1.518462896347046 seconds\n"
     ]
    },
    {
     "name": "stdout",
     "output_type": "stream",
     "text": [
      "Found 33 subtours after 2.991386890411377 seconds\n"
     ]
    },
    {
     "name": "stdout",
     "output_type": "stream",
     "text": [
      "Found 20 subtours after 4.577351093292236 seconds\n"
     ]
    },
    {
     "name": "stdout",
     "output_type": "stream",
     "text": [
      "Found 10 subtours after 6.316915988922119 seconds\n"
     ]
    },
    {
     "name": "stdout",
     "output_type": "stream",
     "text": [
      "Found 10 subtours after 8.711941957473755 seconds\n"
     ]
    },
    {
     "name": "stdout",
     "output_type": "stream",
     "text": [
      "Found 8 subtours after 10.991229057312012 seconds\n"
     ]
    },
    {
     "name": "stdout",
     "output_type": "stream",
     "text": [
      "Found 6 subtours after 13.049967050552368 seconds\n"
     ]
    },
    {
     "name": "stdout",
     "output_type": "stream",
     "text": [
      "Found 6 subtours after 15.536488056182861 seconds\n"
     ]
    },
    {
     "name": "stdout",
     "output_type": "stream",
     "text": [
      "Found 4 subtours after 17.907273054122925 seconds\n"
     ]
    },
    {
     "name": "stdout",
     "output_type": "stream",
     "text": [
      "Found 2 subtours after 20.237480878829956 seconds\n"
     ]
    },
    {
     "name": "stdout",
     "output_type": "stream",
     "text": [
      "Found 5 subtours after 22.863322973251343 seconds\n"
     ]
    },
    {
     "name": "stdout",
     "output_type": "stream",
     "text": [
      "Found 2 subtours after 26.06670594215393 seconds\n"
     ]
    },
    {
     "name": "stdout",
     "output_type": "stream",
     "text": [
      "Found 3 subtours after 28.794981002807617 seconds\n"
     ]
    },
    {
     "name": "stdout",
     "output_type": "stream",
     "text": [
      "Found 1 subtours after 32.40335488319397 seconds\n",
      "Runtime: 32.40352702140808 seconds\n",
      "Objective: 2586.769647563161\n"
     ]
    }
   ],
   "source": [
    "dist280 = get_distances(\"tsp/a280.tsp\")\n",
    "solvetime280_iterative, obj280_iterative = solve_iterative(dist280, verbose=false);\n",
    "println(\"Runtime: $solvetime280_iterative seconds\")\n",
    "println(\"Objective: $obj280_iterative\")"
   ]
  },
  {
   "cell_type": "markdown",
   "metadata": {},
   "source": [
    "## Now, let's use lazy constraints - Gurobi uses our cuts in the branch-and-cut tree\n",
    "\n",
    "**1. Initialize our base formulation for the TSP as usual** (i.e. no subtour elimination)\n",
    "\n",
    "Also, be sure turn on the `LazyConstraints` parameter in the Gurobi optimizer!"
   ]
  },
  {
   "cell_type": "code",
   "execution_count": 30,
   "metadata": {},
   "outputs": [
    {
     "name": "stdout",
     "output_type": "stream",
     "text": [
      "Set parameter Username\n",
      "Academic license - for non-commercial use only - expires 2024-04-18\n",
      "Set parameter TimeLimit to value 60\n",
      "Set parameter LazyConstraints to value 1\n"
     ]
    }
   ],
   "source": [
    "n = size(dist52, 1)\n",
    "model, x = prebuild_tsp(dist52, 60)\n",
    "set_optimizer_attribute(model, \"LazyConstraints\", 1);"
   ]
  },
  {
   "cell_type": "markdown",
   "metadata": {},
   "source": [
    "**2. Define our \"callback\" function**\n",
    "\n",
    "Whenever Gurobi finds a new integer feasible solution in the branch-and-cut tree, it will run this callback procedure. The procedure gets the solution at the current node (`x_val`), runs our `find_subtours` function on the solution to identify existing subtours, then adds the corresponding constraints. The difference between this and our previous approach is that instead of solving the problem to optimality before adding our subtour constraints, we add them at nodes inside the branch-and-cut tree. "
   ]
  },
  {
   "cell_type": "code",
   "execution_count": 31,
   "metadata": {},
   "outputs": [
    {
     "data": {
      "text/plain": [
       "our_callback_function (generic function with 1 method)"
      ]
     },
     "metadata": {},
     "output_type": "display_data"
    }
   ],
   "source": [
    "function our_callback_function(cb_data, cb_where::Cint)\n",
    "    \n",
    "    #Run only when we have found a new integer feasible solution\n",
    "    if cb_where == GRB_CB_MIPSOL\n",
    "        Gurobi.load_callback_variable_primal(cb_data, cb_where)\n",
    "        \n",
    "        #Get the value of the x-vars at the current node and process for input to our find_subtours function\n",
    "        x_val = callback_value.(Ref(cb_data), x)\n",
    "        x_val_next = [findfirst(z -> z > 0.5, x_val[i, :]) for i = 1:n]\n",
    "        \n",
    "        #Our function to find the subtours\n",
    "        subtours = find_subtours(x_val_next)\n",
    "\n",
    "        #Add constraints for each subtour identified\n",
    "        if length(subtours) > 1.01\n",
    "            for subtour in subtours\n",
    "                con1 = @build_constraint(sum(x[i, j] for i=subtour, j=setdiff(1:n, subtour)) >= 1)\n",
    "                MOI.submit(model, MOI.LazyConstraint(cb_data), con1)\n",
    "                con2 = @build_constraint(sum(x[i, j] for i=setdiff(1:n, subtour), j=subtour) >= 1)\n",
    "                MOI.submit(model, MOI.LazyConstraint(cb_data), con2)\n",
    "            end\n",
    "        end\n",
    "    end\n",
    "end"
   ]
  },
  {
   "cell_type": "markdown",
   "metadata": {},
   "source": [
    "**3. Tell Gurobi to set the callback function to be `our_callback_function`, then optimize.**"
   ]
  },
  {
   "cell_type": "code",
   "execution_count": 32,
   "metadata": {
    "scrolled": true
   },
   "outputs": [
    {
     "name": "stdout",
     "output_type": "stream",
     "text": [
      "Set parameter LazyConstraints to value 1\n",
      "Set parameter TimeLimit to value 60\n",
      "Gurobi Optimizer version 10.0.1 build v10.0.1rc0 (mac64[arm])\n",
      "\n",
      "CPU model: Apple M2 Pro\n",
      "Thread count: 10 physical cores, 10 logical processors, using up to 10 threads\n",
      "\n",
      "Optimize a model with 156 rows, 2704 columns and 5460 nonzeros\n",
      "Model fingerprint: 0xf466f051\n",
      "Variable types: 0 continuous, 2704 integer (2704 binary)\n",
      "Coefficient statistics:\n",
      "  Matrix range     [1e+00, 1e+00]\n",
      "  Objective range  [2e+01, 2e+03]\n",
      "  Bounds range     [0e+00, 0e+00]\n",
      "  RHS range        [1e+00, 1e+00]\n",
      "Presolve removed 52 rows and 52 columns\n",
      "Presolve time: 0.00s\n",
      "Presolved: 104 rows, 2652 columns, 5304 nonzeros\n",
      "Variable types: 0 continuous, 2652 integer (2652 binary)\n",
      "\n",
      "Root relaxation: objective 7.223938e+03, 128 iterations, 0.00 seconds (0.00 work units)\n",
      "\n",
      "    Nodes    |    Current Node    |     Objective Bounds      |     Work\n",
      " Expl Unexpl |  Obj  Depth IntInf | Incumbent    BestBd   Gap | It/Node Time\n",
      "\n",
      "     0     0 7223.93776    0   44          - 7223.93776      -     -    0s\n",
      "     0     0 7505.78150    0    -          - 7505.78150      -     -    0s\n",
      "*    0     0               0    7544.3659019 7544.36590  0.00%     -    0s\n",
      "\n",
      "Cutting planes:\n",
      "  Lazy constraints: 130\n",
      "\n",
      "Explored 1 nodes (180 simplex iterations) in 0.22 seconds (0.02 work units)\n",
      "Thread count was 10 (of 10 available processors)\n",
      "\n",
      "Solution count 1: 7544.37 \n",
      "\n",
      "Optimal solution found (tolerance 1.00e-04)\n",
      "Best objective 7.544365901904e+03, best bound 7.544365901904e+03, gap 0.0000%\n",
      "\n",
      "User-callback calls 141, time in user-callback 0.28 sec\n",
      "Runtime: 0.21582603454589844\n",
      "Objective: 7544.365901904089\n"
     ]
    }
   ],
   "source": [
    "MOI.set(model, Gurobi.CallbackFunction(), our_callback_function)\n",
    "optimize!(model)\n",
    "println(\"Runtime: \", solve_time(model))\n",
    "println(\"Objective: \", objective_value(model))"
   ]
  },
  {
   "cell_type": "markdown",
   "metadata": {},
   "source": [
    "#### Wow, that sure was fast!\n",
    "Notice in the list of cutting planes at the end of the Gurobi log it shows how many of our lazy constraints were added. If we want to see specifically when and what constraints were added, we can add print statements in the callback function. "
   ]
  },
  {
   "attachments": {},
   "cell_type": "markdown",
   "metadata": {},
   "source": [
    "## Wrap up\n",
    "\n",
    "Today we solved two problems, each with two formulations. \n",
    "\n",
    "### Facility Location\n",
    "The tighter formulation that used more constraints was the winner, beating the aggregate facility location problem. \n",
    "- **Takeaway** - Having a tight formulation matters! When you're modeling in practice (and in your final projects!), always consider whether you can make your formulation tighter by using different variables, different constraints, or additional valid inequalities. It could lead to better computational performance.\n",
    "\n",
    "### Traveling Salesman Problem\n",
    "Again, the tighter formulation with exponentially constraints was more efficient to solve when we approached it in a smart way.\n",
    "- **Takeaway** - We have efficient ways to handle many problems with exponentially many constraints. Row generation (either using the iterative approach or lazy callbacks) allows us to solve large instances *exactly* without enumerating all the constraints.\n",
    "\n",
    "Solve times in seconds:\n",
    "\n",
    "| Cities      | MTZ - Direct | Combo - Iterative | Combo - Lazy |\n",
    "| ----------- | ----------- | ----------- | ----------- |\n",
    "| 52      | 1.18       | 0.19       | 0.11       |\n",
    "| 76   | 60+        | 14.09       | 8.73       |\n",
    "| 280   | -        | 124.08       | 58.43       |\n",
    "\n",
    "### Question to consider: What are the parallels between today's row generation procedure and the cutting planes  discussed in lecture last week? The differences?\n",
    "\n",
    "Big points from class discussion:\n",
    "- Both row generation and cutting planes seek to add a constraint/cut to *separate* the current solution from the optimal solution we are seeking. In this way, once the constraint/cut is added, the current solution is no longer feasible and we can find a new solution.\n",
    "- Cutting planes (as implemented in the Gurobi branch-and-cut algorithms) are cutting off non-integer solutions so we can add cuts to the linear programming relaxation until we find an integer feasible solution. Row generation cuts off *integer solutions* that are not actually feasible for our problem (e.g. a TSP solution with subtours). We are adding constraints until we get to a solution that satisfies all of the constraints of our problems.\n",
    "\n",
    "-> both cutting plane and row generation x* returns optimal solution or separating hyperplane, but the separated point is noninteger (cutting plane) and integer (row generation)"
   ]
  },
  {
   "cell_type": "markdown",
   "metadata": {},
   "source": []
  }
 ],
 "metadata": {
  "@webio": {
   "lastCommId": null,
   "lastKernelId": null
  },
  "kernelspec": {
   "display_name": "Julia 1.8.5",
   "language": "julia",
   "name": "julia-1.8"
  },
  "language_info": {
   "file_extension": ".jl",
   "mimetype": "application/julia",
   "name": "julia",
   "version": "1.8.5"
  },
  "vscode": {
   "interpreter": {
    "hash": "3dab07ed387d00bd64a0aa5b0bd70ddc5dc224fb8218d3be391a42c030a9c3ba"
   }
  }
 },
 "nbformat": 4,
 "nbformat_minor": 4
}
